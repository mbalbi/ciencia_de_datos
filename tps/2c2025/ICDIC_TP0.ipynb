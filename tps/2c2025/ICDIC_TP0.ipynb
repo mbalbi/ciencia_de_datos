{
  "cells": [
    {
      "cell_type": "markdown",
      "metadata": {
        "id": "view-in-github",
        "colab_type": "text"
      },
      "source": [
        "<a href=\"https://colab.research.google.com/github/mbalbi/ciencia_de_datos/blob/main/tps/2c2025/ICDIC_TP0.ipynb\" target=\"_parent\"><img src=\"https://colab.research.google.com/assets/colab-badge.svg\" alt=\"Open In Colab\"/></a>"
      ]
    },
    {
      "cell_type": "markdown",
      "metadata": {
        "id": "lQI1hutMlAhv"
      },
      "source": [
        "# Trabajo Práctico 0: Repaso de probabilidad e introducción a Python\n",
        "**Objetivos:** El objetivo de este trabajo es repasar algunos conceptos fundamentales de probabilidad que luego serán de uso extenso en el resto de la materia. Además, busca que los alumnos den sus primeros pasos en Python y Google Colab.\n",
        "\n",
        "**Librerías:** En este trabajo se utilizará\n",
        "\n",
        "*   Numpy: matemática básica y definición de matrices y vectores; simulación de variables aleatorias\n",
        "*   Seaborn: para graficar\n",
        "* Scipy: Librería con funciones de distribución analíticas y herramientas de simulación\n"
      ]
    },
    {
      "cell_type": "code",
      "execution_count": null,
      "metadata": {
        "id": "S19hh0GOlgc2"
      },
      "outputs": [],
      "source": [
        "# para el TP\n",
        "import numpy as np\n",
        "import matplotlib.pyplot as plt\n",
        "import seaborn as sns\n",
        "import scipy as sp\n",
        "import scipy.stats as stats\n",
        "\n",
        "# para registrar el tiempo de corrida\n",
        "import datetime"
      ]
    },
    {
      "cell_type": "code",
      "execution_count": null,
      "metadata": {
        "id": "OytCf_8SyHKL"
      },
      "outputs": [],
      "source": [
        "start_datetime = datetime.datetime.now()\n",
        "\n",
        "print('Inicio de corrida: ',start_datetime)"
      ]
    },
    {
      "cell_type": "markdown",
      "metadata": {
        "id": "4tNcV0OYoeU_"
      },
      "source": [
        "Grupo:\n",
        "\n",
        "Integrantes:\n",
        "\n",
        "*   Apellido, Nombres XXXXXX\n",
        "*   Apellido, Nombres XXXXXX\n",
        "*   Apellido, Nombres XXXXXX\n",
        "*   Apellido, Nombres XXXXXX\n",
        "*   Apellido, Nombres XXXXXX"
      ]
    },
    {
      "cell_type": "markdown",
      "metadata": {
        "id": "izxdM8fq5FjG"
      },
      "source": [
        "## Ejercicio 1: Funciones de distribución\n",
        "\n",
        "Una variable aleatoria $T$ tiene la siguiente función de distribución acumulada: $F_T (t) = 1 - e^{-10t^2},\\ t \\geq 0$. Se pide lo siguiente:"
      ]
    },
    {
      "cell_type": "markdown",
      "metadata": {
        "id": "UyyVv_PX5FjG"
      },
      "source": [
        "### Actividad 1\n",
        "\n",
        "**Actividad**: Calcular $P (T > 0.4 )$"
      ]
    },
    {
      "cell_type": "code",
      "execution_count": null,
      "metadata": {
        "colab": {
          "base_uri": "https://localhost:8080/"
        },
        "id": "PRKeb3lv5FjH",
        "outputId": "3f9add68-0f3d-4058-8a2b-8c6f178f7d81"
      },
      "outputs": [
        {
          "output_type": "stream",
          "name": "stdout",
          "text": [
            "La probabilidad de T>0.4 es 20.2 %\n"
          ]
        }
      ],
      "source": [
        "# CODIGO DEL ALUMNO ============================================================\n",
        "\n",
        "\n",
        "\n",
        "respuesta_1_1 =\n",
        "# ==============================================================================\n",
        "\n",
        "print('La probabilidad de T>0.4 es',np.round(respuesta_1_1*100,1),'%')"
      ]
    },
    {
      "cell_type": "markdown",
      "metadata": {
        "id": "Z-x0CyAO5FjI"
      },
      "source": [
        "### Actividad 2\n",
        "\n",
        "**Actividad**: Calcular $P (0.4 < T < 0.8)$"
      ]
    },
    {
      "cell_type": "code",
      "execution_count": null,
      "metadata": {
        "colab": {
          "base_uri": "https://localhost:8080/"
        },
        "id": "9kif2Xf25FjI",
        "outputId": "da4b85f8-07ca-4355-833e-a284b5b477d3"
      },
      "outputs": [
        {
          "output_type": "stream",
          "name": "stdout",
          "text": [
            "La probabilidad de 0.4<T<0.8 es 20.0 %\n"
          ]
        }
      ],
      "source": [
        "# CODIGO DEL ALUMNO ============================================================\n",
        "\n",
        "\n",
        "respuesta_1_2 =\n",
        "# ==============================================================================\n",
        "\n",
        "print('La probabilidad de 0.4<T<0.8 es',np.round(respuesta_1_2*100,1),'%')"
      ]
    },
    {
      "cell_type": "markdown",
      "metadata": {
        "id": "48bqz9H55FjJ"
      },
      "source": [
        "### Actividad 3\n",
        "\n",
        "**Actividad**: Calcular el intervalo de confianza central del 90%"
      ]
    },
    {
      "cell_type": "code",
      "execution_count": null,
      "metadata": {
        "colab": {
          "base_uri": "https://localhost:8080/"
        },
        "id": "5Mw8JUkx5FjJ",
        "outputId": "49e02b4f-4042-4231-c975-efdaff5dde4c"
      },
      "outputs": [
        {
          "output_type": "stream",
          "name": "stdout",
          "text": [
            "El intervalo de confianza de 90% es [0.07 0.55]\n"
          ]
        }
      ],
      "source": [
        "# CODIGO DEL ALUMNO ============================================================\n",
        "\n",
        "\n",
        "\n",
        "\n",
        "respuesta_1_3 =\n",
        "# ==============================================================================\n",
        "\n",
        "print('El intervalo de confianza de 90% es',np.round(respuesta_1_3,2))"
      ]
    },
    {
      "cell_type": "markdown",
      "metadata": {
        "id": "iJVmDGi65FjJ"
      },
      "source": [
        "### Actividad 4\n",
        "\n",
        "**Actividad**: Calcular y graficar la densidad de probabilidad $f_T (t)$"
      ]
    },
    {
      "cell_type": "code",
      "execution_count": null,
      "metadata": {
        "colab": {
          "base_uri": "https://localhost:8080/",
          "height": 472
        },
        "id": "t1H57MLW5FjK",
        "outputId": "61d90b01-c04f-448e-c77b-cd342ed920ec"
      },
      "outputs": [
        {
          "output_type": "display_data",
          "data": {
            "text/plain": [
              "<Figure size 640x480 with 1 Axes>"
            ],
            "image/png": "[encoded data removed]"
          },
          "metadata": {}
        }
      ],
      "source": [
        "# CODIGO DEL ALUMNO ============================================================\n",
        "\n",
        "\n",
        "\n",
        "\n",
        "\n",
        "\n",
        "\n",
        "\n",
        "\n",
        "\n",
        "\n",
        "# ==============================================================================\n",
        "plt.show()"
      ]
    },
    {
      "cell_type": "markdown",
      "metadata": {
        "id": "0nC9G3dj5FjK"
      },
      "source": [
        "### Actividad 5\n",
        "\n",
        "**Actividad**: Calcular el valor medio, la moda y la mediana"
      ]
    },
    {
      "cell_type": "code",
      "execution_count": null,
      "metadata": {
        "colab": {
          "base_uri": "https://localhost:8080/"
        },
        "id": "728ISLEo5FjL",
        "outputId": "5922890b-1beb-407f-8cd2-98c2edd85f24"
      },
      "outputs": [
        {
          "output_type": "stream",
          "name": "stdout",
          "text": [
            "El valor medio es 0.2802\n",
            "La moda es 0.2236\n",
            "La mediana es 0.2633\n"
          ]
        }
      ],
      "source": [
        "# CODIGO DEL ALUMNO ============================================================\n",
        "\n",
        "\n",
        "\n",
        "\n",
        "\n",
        "\n",
        "\n",
        "mu =\n",
        "moda =\n",
        "mediana =\n",
        "# ==============================================================================\n",
        "print('El valor medio es',np.round(mu,4))\n",
        "print('La moda es',np.round(moda,4))\n",
        "print('La mediana es',np.round(mediana,4))"
      ]
    },
    {
      "cell_type": "markdown",
      "metadata": {
        "id": "IM1M5Eg-5FjL"
      },
      "source": [
        "### Actividad 6\n",
        "\n",
        "**Actividad**: Calcular el desvío estándar y el coeficiente de variación"
      ]
    },
    {
      "cell_type": "code",
      "execution_count": null,
      "metadata": {
        "colab": {
          "base_uri": "https://localhost:8080/"
        },
        "id": "ufPyeqHC5FjL",
        "outputId": "4789c834-9a9f-4006-96fc-66ae2826985c"
      },
      "outputs": [
        {
          "output_type": "stream",
          "name": "stdout",
          "text": [
            "El desvío estandar es 0.1465\n",
            "El coeficiente de variacion es 52.27 %\n"
          ]
        }
      ],
      "source": [
        "# CODIGO DEL ALUMNO ============================================================\n",
        "\n",
        "\n",
        "\n",
        "std =\n",
        "cv =\n",
        "# ==============================================================================\n",
        "print('El desvío estandar es',np.round(std,4))\n",
        "print('El coeficiente de variacion es',np.round(cv*100,2),'%')"
      ]
    },
    {
      "cell_type": "markdown",
      "metadata": {
        "id": "3YHG_I5Y5FjL"
      },
      "source": [
        "## Ejercicio 2: Múltiples variables aleatorias y simulaciones\n",
        "\n",
        "Las variables aleatorias $X$ y $Y$ tienen una distirbución Normal conjunta, con los siguientes momentos: $\\mu_X=10$, $\\sigma_X=5$, $mu_Y=10$, $\\sigma_Y=5$, $\\rho=0.8$.\n",
        "\n",
        "Las simulaciones de $X,Y$ las vamos a generar usando la función de scipy.stats"
      ]
    },
    {
      "cell_type": "code",
      "execution_count": null,
      "metadata": {
        "id": "Fz9K45Sj5FjL"
      },
      "outputs": [],
      "source": [
        "# Parametros de la distribucion normal bivariada\n",
        "medias = [10, 10]  # vector de valores medios\n",
        "matriz_covarianza = [[5*5, 0.8*5*5], [0.8*5*5, 5*5]]  # matriz de covarianza\n",
        "\n",
        "# Generar simulaciones\n",
        "np.random.seed(seed=0)\n",
        "Nsim = 10000\n",
        "simulaciones = stats.multivariate_normal.rvs(medias, matriz_covarianza,\n",
        "                                             size=Nsim)\n",
        "\n",
        "# separar en simulaciones de X e Y\n",
        "X, Y = simulaciones.T"
      ]
    },
    {
      "cell_type": "markdown",
      "metadata": {
        "id": "hoceiki05FjM"
      },
      "source": [
        "### Actividad 1\n",
        "\n",
        "**Actividad**: Calcular $P (X>12)$ en forma analítica y a través de simulaciones."
      ]
    },
    {
      "cell_type": "code",
      "execution_count": null,
      "metadata": {
        "colab": {
          "base_uri": "https://localhost:8080/"
        },
        "id": "sdRVCUND5FjM",
        "outputId": "8c38757d-63db-4305-e844-91b165bc7d27"
      },
      "outputs": [
        {
          "output_type": "stream",
          "name": "stdout",
          "text": [
            "La probabilidad de X>12 (por simulaciones) es 35.04 %\n",
            "El resultado analítico es 34.46 %\n"
          ]
        }
      ],
      "source": [
        "# CODIGO DEL ALUMNO ============================================================\n",
        "resultado_2_1 =\n",
        "\n",
        "\n",
        "an_2_1 =\n",
        "# ==============================================================================\n",
        "print('La probabilidad de X>12 (por simulaciones) es',\n",
        "      np.round(resultado_2_1*100,2),'%')\n",
        "print('El resultado analítico es',\n",
        "      np.round(an_2_1*100,2),'%')"
      ]
    },
    {
      "cell_type": "markdown",
      "metadata": {
        "id": "0z7RSGiA5FjM"
      },
      "source": [
        "### Actividad 2\n",
        "\n",
        "**Actividad**: Calcular $P (X > 12 | Y<15)$ mediante simulaciones."
      ]
    },
    {
      "cell_type": "code",
      "execution_count": null,
      "metadata": {
        "colab": {
          "base_uri": "https://localhost:8080/"
        },
        "id": "XJnmwJFd5FjM",
        "outputId": "e39200a5-9011-4943-d2a6-aee5a7a16a7c"
      },
      "outputs": [
        {
          "output_type": "stream",
          "name": "stdout",
          "text": [
            "La probabilidad de X>12 dado Y<15 (por simulaciones) es 24.67 %\n",
            "El resultado analítico es 24.29 %\n"
          ]
        }
      ],
      "source": [
        "# CODIGO DEL ALUMNO ============================================================\n",
        "resultado_2_2 =\n",
        "# ==============================================================================\n",
        "# cambio de variables Z=-X\n",
        "zy_norm = stats.multivariate_normal(medias*np.array([-1, 1]),\n",
        "                                    matriz_covarianza*np.array([[1, -1], [-1, 1]]))\n",
        "y_norm = stats.norm(10,5)\n",
        "an_2_2 = zy_norm.cdf([-12,15])/y_norm.cdf(15)\n",
        "\n",
        "print('La probabilidad de X>12 dado Y<15 (por simulaciones) es',\n",
        "      np.round(resultado_2_2*100,2),'%')\n",
        "print('El resultado analítico es',\n",
        "      np.round(an_2_2*100,2),'%')"
      ]
    },
    {
      "cell_type": "markdown",
      "metadata": {
        "id": "psIcYk5G5FjM"
      },
      "source": [
        "### Actividad 3\n",
        "\n",
        "**Actividad**: Calcular $P (X > Y | Y<15)$ mediante simulaciones."
      ]
    },
    {
      "cell_type": "code",
      "execution_count": null,
      "metadata": {
        "colab": {
          "base_uri": "https://localhost:8080/"
        },
        "id": "5qsT138X5FjN",
        "outputId": "ce635958-5cc1-4ee2-8aaf-a46f9f8df1ba"
      },
      "outputs": [
        {
          "output_type": "stream",
          "name": "stdout",
          "text": [
            "La probabilidad de X>Y dado Y<15 (por simulaciones) es 54.08 %\n",
            "El resultado analítico es 53.63 %\n"
          ]
        }
      ],
      "source": [
        "# CODIGO DEL ALUMNO ============================================================\n",
        "resultado_2_3 =\n",
        "# ==============================================================================\n",
        "# Solucion por integracion con Scipy\n",
        "xy_norm = stats.multivariate_normal(medias,matriz_covarianza)\n",
        "\n",
        "num,num_err = sp.integrate.dblquad(lambda x,y: xy_norm.pdf([x,y]),\n",
        "                                   -np.inf, 15, lambda y: y, np.inf)\n",
        "den = y_norm.cdf(15)\n",
        "an_2_3 = num / den\n",
        "\n",
        "print('La probabilidad de X>Y dado Y<15 (por simulaciones) es',\n",
        "      np.round(resultado_2_3*100,2),'%')\n",
        "print('El resultado analítico es',\n",
        "      np.round(an_2_3*100,2),'%')"
      ]
    },
    {
      "cell_type": "markdown",
      "metadata": {
        "id": "2nWTIA2v5FjN"
      },
      "source": [
        "### Actividad 4\n",
        "\n",
        "**Actividad**: Calcular y graficar la función de densidad de probabilidad $f_X (x)$ (analíticamente, y a través de simulaciones)"
      ]
    },
    {
      "cell_type": "code",
      "execution_count": null,
      "metadata": {
        "colab": {
          "base_uri": "https://localhost:8080/",
          "height": 472
        },
        "id": "dD1111qr5FjN",
        "outputId": "c7222d5d-170e-40e0-d078-4de9a5d1a212"
      },
      "outputs": [
        {
          "output_type": "display_data",
          "data": {
            "text/plain": [
              "<Figure size 640x480 with 1 Axes>"
            ],
            "image/png": "[encoded data removed]"
          },
          "metadata": {}
        }
      ],
      "source": [
        "# CODIGO DEL ALUMNO ============================================================\n",
        "\n",
        "\n",
        "\n",
        "\n",
        "\n",
        "\n",
        "\n",
        "\n",
        "\n",
        "\n",
        "\n",
        "# ==============================================================================\n",
        "plt.show()"
      ]
    },
    {
      "cell_type": "markdown",
      "metadata": {
        "id": "gFEEyaYb5FjN"
      },
      "source": [
        "## Ejercicio 4: Teorema de Bayes\n",
        "\n",
        "En un pueblo pequeño cercano a Mendoza, un terremoto de magnitud $M=6$ sacudió las edificaciones provocando un colapso. La primera pregunta que cualquier ingeniero se hace ante esta situación es ¿por qué?\n",
        "\n",
        "Bueno, por un lado, sabemos que los edificios se diseñan aceptando cierta probabilidad de colapso. En este caso, podemos considerar que la probabilidad de colapso ($C=1$) de un edificio diseñado con el reglamento actual aprobado por el municipio es 5% ($R=1$) para un sismo de esta magnitud.\n",
        "\n",
        "Mientras tanto, edificaciones viejas de mamposteria ($R=0$) son mucho más vulnerables. De un análisis no-lineal de este tipo de estructuras, se ha visto que la probabilidad de colapso ($C=1$) ante sismos de esta magnitud es de 20%.\n",
        "\n",
        "$$P(C=1|R=0)=0.20$$\n",
        "\n",
        "Por otro lado, el pueblo útlimamente ha sido centro de un enorme crecimiento por el aumento de trabajo en la región, por lo que la mayoría de las casas han sido construidas con posterioridad de la aprobación del reglamento. En particular, de 2000 casas en el pueblo, tan solo 100 son de mampostería tradicional ($R=0$).\n",
        "\n",
        "En la radio del pueblo llaman a 3 personas discutir acerca del colapso y sus implicancias.\n",
        "\n",
        "- **Carlos**: El hijo de 17 años de un abogado constiuticionalista que vive en la zona y está arrancando su carrera periodística.\n",
        "- **Juana**: Una ingeniera estructural oriunda del pueblo que estudió en la Universidad Nacional de Cuyo.\n",
        "- **Alexandra**: Una ingeniera estructural norteamericana que estudió en Cornell.\n",
        "\n",
        "Cada uno de ellos tiene distinta información (algunos conocen el inventario de edificios del pueblo, otros tienen conocimiento respecto al comportamiento de la estructuras, etc.) pero tienen que responder la misma consulta: ¿Qué cree que pudo haber pasado con la estructura colapsada?\n",
        "\n",
        "O, dicho de otra manera, ¿la estructura que colapsó es de mampostería o moderna según su intuición?\n",
        "\n",
        "**NOTA**: Carlos, al no ser ingeniero, asigna igual probabilidad de colapso a cada tipo de estructura (solo mira qué tipo de estructura es más probable). Alexandra, al no conocer el pueblo, asigna igual probabilidad de que una estructura sea nueva o vieja (solo mira qué tipo de estructura tiene más chances de colapsar en el vacío). Juana usa toda la información disponible"
      ]
    },
    {
      "cell_type": "markdown",
      "metadata": {
        "id": "E3CLkLCO5FjN"
      },
      "source": [
        "### Actividad 1\n",
        "\n",
        "**Actividad**: Para cada una de las 3 personas, escriba su opinión en forma automática respecto a qué edificio a colapsado (con un `if` por ejemplo):\n",
        "\n",
        "- \"Carlos opina que la estructura colapsada es de mampostería\" o\n",
        "- \"Carlos opina que la estructura colapsada es reciente\"\n",
        "\n",
        "e incluya el cálculo de probabilidad realizado. ¡Este es su primer modelo de predicción de su cursada!\n",
        "\n",
        "*NOTA*: La decisión pueden hacerla comparando probabilidades en términos absolutos o relativos.\n",
        "\n",
        "*NOTA 2*: Recuerden el teorema de Bayes cuando sea aplicable."
      ]
    },
    {
      "cell_type": "code",
      "execution_count": null,
      "metadata": {
        "colab": {
          "base_uri": "https://localhost:8080/"
        },
        "id": "B8NqSjUW5FjN",
        "outputId": "51144c90-033e-4b11-9cd6-97a7928a1541"
      },
      "outputs": [
        {
          "output_type": "stream",
          "name": "stdout",
          "text": [
            "Carlos opina que la estructura colapsada es reciente, P = 0.95\n",
            "Juana opina que la estructura colapsada es reciente, P = 0.83\n",
            "Alexandra opina que la estructura colapsada es de mampostería, P = 0.8\n"
          ]
        }
      ],
      "source": [
        "# CODIGO DEL ALUMNO ============================================================\n",
        "\n",
        "\n",
        "\n",
        "\n",
        "\n",
        "\n",
        "\n",
        "\n",
        "\n",
        "\n",
        "\n",
        "\n",
        "\n",
        "\n",
        "\n",
        "\n",
        "\n",
        "\n",
        "\n",
        "\n",
        "\n",
        "\n",
        "\n",
        "\n",
        "\n",
        "\n",
        "\n",
        "\n",
        "\n",
        "\n",
        "# =============================================================================="
      ]
    },
    {
      "cell_type": "markdown",
      "metadata": {
        "id": "lS69QQL95FjO"
      },
      "source": [
        "### Actividad 2\n",
        "\n",
        "Durante la mesa de debate el conductor comenta que entre los escombros se encontraron restos de asbesto ($A=1$) y que según el último censo 3 de cada 4 edificaciones tradicionales fueron construidas con asbesto ($R=0$), mientras que solo 1 de cada 10 estructuras construidas desde la adopción reglamentaria ($R=1$) presentaban este material.\n",
        "\n",
        "¿Cómo actualiza esto las probabildades de que la estructura colapsada sea una efdicación antigua para cada panelista?\n",
        "\n",
        "**Actividad**: Actualice el ejercicio anterior con la nueva información provista, aplicando el teorema de Bayes."
      ]
    },
    {
      "cell_type": "code",
      "execution_count": null,
      "metadata": {
        "colab": {
          "base_uri": "https://localhost:8080/"
        },
        "id": "_DfXv_G_5FjO",
        "outputId": "0c20c54d-bcd1-49ac-dd31-65f94585fdd9"
      },
      "outputs": [
        {
          "output_type": "stream",
          "name": "stdout",
          "text": [
            "Carlos opina que la estructura colapsada es reciente, P = 0.72\n",
            "Juana opina que la estructura colapsada es de mampostería, P = 0.61\n",
            "Alexandra opina que la estructura colapsada es de mampostería, P = 0.97\n"
          ]
        }
      ],
      "source": [
        "# CODIGO DEL ALUMNO ============================================================\n",
        "\n",
        "\n",
        "\n",
        "\n",
        "\n",
        "\n",
        "\n",
        "\n",
        "\n",
        "\n",
        "\n",
        "\n",
        "\n",
        "\n",
        "\n",
        "\n",
        "\n",
        "\n",
        "\n",
        "\n",
        "\n",
        "\n",
        "\n",
        "\n",
        "\n",
        "# =============================================================================="
      ]
    },
    {
      "cell_type": "markdown",
      "metadata": {
        "id": "2gLLioLG5FjP"
      },
      "source": [
        "### Actividad 3\n",
        "\n",
        "**Actividad**: Repita el ejercicio para Juana pero considerando la probabilidad de que el edificio sea antiguo considerando la la presencia de asbesto primero, y luego aplicando bayes para considerar el colapso (es decir, invirtiendo el orden de llegada de la información)\n",
        "\n",
        "¿Por qué termina dando lo mismo?"
      ]
    },
    {
      "cell_type": "code",
      "execution_count": null,
      "metadata": {
        "colab": {
          "base_uri": "https://localhost:8080/"
        },
        "id": "Icf3fhR65FjP",
        "outputId": "0ff459fa-0e6f-44cb-d187-d4215bcecafd"
      },
      "outputs": [
        {
          "output_type": "stream",
          "name": "stdout",
          "text": [
            "Juana opina que la estructura colapsada es de mampostería, P = 0.61\n"
          ]
        }
      ],
      "source": [
        "# CODIGO DEL ALUMNO ============================================================\n",
        "\n",
        "\n",
        "\n",
        "\n",
        "\n",
        "\n",
        "\n",
        "# =============================================================================="
      ]
    },
    {
      "cell_type": "markdown",
      "metadata": {
        "id": "KOAr4zd25FjR"
      },
      "source": [
        "**Su respuesta**:"
      ]
    },
    {
      "cell_type": "markdown",
      "metadata": {
        "id": "5rcbhoET5FjS"
      },
      "source": [
        "## Ejercicio 5: Diversión con Variables Aleatorias"
      ]
    },
    {
      "cell_type": "markdown",
      "metadata": {
        "id": "ix4Ksba45FjS"
      },
      "source": [
        "### Actividad 1\n",
        "\n",
        "**Actividad**: Haga 10000 simulaciones de una variable aleatoria $X\\sim N\\left(\\mu=2,\\sigma=1\\right)$ y calcule la media y el desvío estándar de las simulaciones para chequear el resultado. Guarde los resultados de la simulación en una variable `X`, y la media y desvio en las variables `mu_x` y `std_x`."
      ]
    },
    {
      "cell_type": "code",
      "execution_count": null,
      "metadata": {
        "colab": {
          "base_uri": "https://localhost:8080/",
          "height": 465
        },
        "id": "8RsyMpp55FjS",
        "outputId": "64a3b3d7-9e26-49e0-d192-63b696f4b24a"
      },
      "outputs": [
        {
          "output_type": "stream",
          "name": "stdout",
          "text": [
            "Media:  1.994\n",
            "Desvio:  0.997\n"
          ]
        },
        {
          "output_type": "display_data",
          "data": {
            "text/plain": [
              "<Figure size 640x480 with 1 Axes>"
            ],
            "image/png": "[encoded data removed]"
          },
          "metadata": {}
        }
      ],
      "source": [
        "n = 10000\n",
        "\n",
        "# CODIGO DEL ALUMNO ============================================================\n",
        "X =\n",
        "mu_x =\n",
        "std_x =\n",
        "# ==============================================================================\n",
        "\n",
        "print('Media: ',np.round(mu_x,3))\n",
        "print('Desvio: ',np.round(std_x,3))\n",
        "\n",
        "sns.histplot(X,stat=\"density\")\n",
        "plt.show()"
      ]
    },
    {
      "cell_type": "markdown",
      "metadata": {
        "id": "sLTv6vlu5FjS"
      },
      "source": [
        "### Actividad 2\n",
        "\n",
        "**Actividad**: Haga 10000 simulaciones de una variable aleatoria $\\log{Y}\\sim N\\left(\\mu=1,\\sigma=0.4\\right)$ (recuerde que esto significa que $Y$ sigue una distribución lognormal). Estime la media de $Y$"
      ]
    },
    {
      "cell_type": "code",
      "execution_count": null,
      "metadata": {
        "colab": {
          "base_uri": "https://localhost:8080/",
          "height": 447
        },
        "id": "-XGtah8I5FjX",
        "outputId": "9ca29a93-8c02-4146-b0eb-21e21420956c"
      },
      "outputs": [
        {
          "output_type": "stream",
          "name": "stdout",
          "text": [
            "Media:  2.945\n"
          ]
        },
        {
          "output_type": "display_data",
          "data": {
            "text/plain": [
              "<Figure size 640x480 with 1 Axes>"
            ],
            "image/png": "[encoded data removed]"
          },
          "metadata": {}
        }
      ],
      "source": [
        "# CODIGO DEL ALUMNO ============================================================\n",
        "Y =\n",
        "mu_y =\n",
        "# ==============================================================================\n",
        "\n",
        "print('Media: ',np.round(mu_y,3))\n",
        "\n",
        "sns.histplot(Y,stat=\"density\")\n",
        "plt.show()"
      ]
    },
    {
      "cell_type": "markdown",
      "metadata": {
        "id": "myDLMPxt5FjX"
      },
      "source": [
        "### Actividad 3\n",
        "\n",
        "**Actividad**: ¿Cuál es la relación entre la media de $Y$ y los parámetros que debió incluir para simular la variable?"
      ]
    },
    {
      "cell_type": "markdown",
      "metadata": {
        "id": "v8ppcIi85FjY"
      },
      "source": [
        "**Su respuesta**:"
      ]
    },
    {
      "cell_type": "markdown",
      "metadata": {
        "id": "vw6IoChE5FjY"
      },
      "source": [
        "### Actividad 4\n",
        "\n",
        "**Actividad**: Considerando $Z = X+Y$ calcule:\n",
        "\n",
        "\n",
        "*   $P(Z>4)$ en `PZ4`\n",
        "*   $P(Z>4|Y<2)$ en `PZ4Y2`\n",
        "*   El valor medio de Z en `mu_z`"
      ]
    },
    {
      "cell_type": "code",
      "execution_count": null,
      "metadata": {
        "colab": {
          "base_uri": "https://localhost:8080/",
          "height": 482
        },
        "id": "TIbhyiSL5FjY",
        "outputId": "98d5701e-c7b4-4375-8546-fe03d4a32592"
      },
      "outputs": [
        {
          "output_type": "stream",
          "name": "stdout",
          "text": [
            "Pregunta 1: 71.61 %\n",
            "Pregunta 2: 36.07 %\n",
            "Pregunta 3: 4.939\n"
          ]
        },
        {
          "output_type": "display_data",
          "data": {
            "text/plain": [
              "<Figure size 640x480 with 1 Axes>"
            ],
            "image/png": "[encoded data removed]"
          },
          "metadata": {}
        }
      ],
      "source": [
        "# CODIGO DEL ALUMNO ============================================================\n",
        "Z =\n",
        "\n",
        "PZ4 =\n",
        "\n",
        "\n",
        "\n",
        "PZ4Y2 =\n",
        "\n",
        "mu_z =\n",
        "# ==============================================================================\n",
        "\n",
        "print('Pregunta 1:',np.round(PZ4*100,2),'%')\n",
        "print('Pregunta 2:',np.round(PZ4Y2*100,2),'%')\n",
        "print('Pregunta 3:',np.round(mu_z,3))\n",
        "\n",
        "sns.histplot(Z,stat=\"density\")\n",
        "plt.show()"
      ]
    },
    {
      "cell_type": "markdown",
      "metadata": {
        "id": "WEKyaQza5FjZ"
      },
      "source": [
        "### Actividad 5\n",
        "\n",
        "**Actividad**: ¿La variable $Z$ sigue alguna distribución en particular?"
      ]
    },
    {
      "cell_type": "markdown",
      "metadata": {
        "id": "VDn-Ip5V5FjZ"
      },
      "source": [
        "**Su respuesta**:"
      ]
    },
    {
      "cell_type": "markdown",
      "metadata": {
        "id": "rb1X5n6g5FjZ"
      },
      "source": [
        "### Actividad 6\n",
        "\n",
        "**Actividad**: Grafique función de probabilidad acumulada de $Z$ calcule $Z25$ tal que $P(Z<Z25)=0.25$ en `Z25`"
      ]
    },
    {
      "cell_type": "code",
      "execution_count": null,
      "metadata": {
        "colab": {
          "base_uri": "https://localhost:8080/",
          "height": 447
        },
        "id": "iWakOP7j5FjZ",
        "outputId": "bb7d5970-b22b-4e7a-9d6e-36350940a166"
      },
      "outputs": [
        {
          "output_type": "display_data",
          "data": {
            "text/plain": [
              "<Figure size 640x480 with 1 Axes>"
            ],
            "image/png": "[encoded data removed]"
          },
          "metadata": {}
        },
        {
          "output_type": "stream",
          "name": "stdout",
          "text": [
            "El cuantil 0.25 de Z es: 3.8749573873294842\n"
          ]
        }
      ],
      "source": [
        "# CODIGO DEL ALUMNO ============================================================\n",
        "Z25 =\n",
        "\n",
        "\n",
        "\n",
        "\n",
        "\n",
        "\n",
        "# ==============================================================================\n",
        "\n",
        "plt.show()\n",
        "print('El cuantil 0.25 de Z es:',Z25)"
      ]
    },
    {
      "cell_type": "markdown",
      "metadata": {
        "id": "dT58zs1LoUU6"
      },
      "source": [
        "# Entrega del Trabajo Práctico\n",
        "\n",
        "Para la entrega del TP0, siga los siguientes pasos:\n",
        "1. Vuelva a correr el Colab desde 0 para asegurar que no haya ningún bug y todo funcione tal como se desea (`Disconnect and delete runtime`,`run all`)\n",
        "2. Revise que todos los resultados estén presentes y como ustedes esperaban.\n",
        "3. Asegúrese haber contestado todas la preguntas que requieren prosa.\n",
        "4. Descargue el arcihvo .ipynb en su computadora\n",
        "\n",
        "Revisé que está todo como les gusta y ¡ya está listo! Ustedes son responables de que la entrega refleje sus intenciones, más allá de que nosotros podamos correr su archivo para revisar.\n",
        "\n",
        "Los datos presentados abajo intentan ser para ustedes (y para nosotros) una verificación de que efectivamente han hecho la revisión final."
      ]
    },
    {
      "cell_type": "code",
      "execution_count": null,
      "metadata": {
        "id": "iaQ5vgkazPMo"
      },
      "outputs": [],
      "source": [
        "print('Inicio de corrida: ',start_datetime)\n",
        "\n",
        "end_datetime = datetime.datetime.now()\n",
        "print('Fin de corrida: ',end_datetime)\n",
        "\n",
        "elapsed_time = end_datetime-start_datetime\n",
        "print('Tiempo de ejecución: ',round(elapsed_time.total_seconds()/60,1),'minutos')"
      ]
    }
  ],
  "metadata": {
    "colab": {
      "provenance": [],
      "toc_visible": true,
      "include_colab_link": true
    },
    "kernelspec": {
      "display_name": "Python 3",
      "name": "python3"
    },
    "language_info": {
      "codemirror_mode": {
        "name": "ipython",
        "version": 3
      },
      "file_extension": ".py",
      "mimetype": "text/x-python",
      "name": "python",
      "nbconvert_exporter": "python",
      "pygments_lexer": "ipython3",
      "version": "3.10.6"
    }
  },
  "nbformat": 4,
  "nbformat_minor": 0
}