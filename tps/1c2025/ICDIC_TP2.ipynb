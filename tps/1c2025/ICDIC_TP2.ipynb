{
  "nbformat": 4,
  "nbformat_minor": 0,
  "metadata": {
    "colab": {
      "provenance": [],
      "toc_visible": true,
      "include_colab_link": true
    },
    "kernelspec": {
      "name": "python3",
      "display_name": "Python 3"
    },
    "language_info": {
      "name": "python"
    }
  },
  "cells": [
    {
      "cell_type": "markdown",
      "metadata": {
        "id": "view-in-github",
        "colab_type": "text"
      },
      "source": [
        "<a href=\"https://colab.research.google.com/github/mbalbi/ciencia_de_datos/blob/main/tps/1c2025/ICDIC_TP2.ipynb\" target=\"_parent\"><img src=\"https://colab.research.google.com/assets/colab-badge.svg\" alt=\"Open In Colab\"/></a>"
      ]
    },
    {
      "cell_type": "markdown",
      "source": [
        "# Trabajo Práctico 2: Introducción a la Inferencia Estadística\n",
        "**Objetivos:** Con este trabajo práctico se busca que los alumnos comiencen a familiarizarse con las herramientas de inferencia estadística para la obtención de los parámetros de un modelo (en este caso, funciones de distribución de probabilidad), y generar nuevas simulaciones de la variable de interés en base a datos.\n",
        "\n",
        "**Librerías:** En este trabajo se utilizará\n",
        "\n",
        "*   Numpy: matemática básica y definición de matrices y vectores; simulación de variables aleatorias\n",
        "*   Seaborn: construcción de gráficos\n",
        "*   Bambi: Librería basada en PyMC para la inferencia estadística utilizando cadenas de Markov\n",
        "\n",
        "También necesitaremos de la librería ArviZ para ver los resultados de nuestra inferencia, al igual que Numpy.\n",
        "\n",
        "\n",
        "\n",
        "\n"
      ],
      "metadata": {
        "id": "lQI1hutMlAhv"
      }
    },
    {
      "cell_type": "code",
      "source": [
        "# Instalación e import de Bambi\n",
        "try:\n",
        "  import bambi as bmb\n",
        "except:\n",
        "  !pip install bambi\n",
        "  import bambi as bmb"
      ],
      "metadata": {
        "colab": {
          "base_uri": "https://localhost:8080/"
        },
        "id": "tSa0eirLVQB6",
        "outputId": "e97aaaef-2756-4721-9f38-18f618b228e1"
      },
      "execution_count": null,
      "outputs": [
        {
          "output_type": "stream",
          "name": "stdout",
          "text": [
            "Collecting bambi\n",
            "  Downloading bambi-0.15.0-py3-none-any.whl.metadata (8.8 kB)\n",
            "Requirement already satisfied: arviz>=0.12.0 in /usr/local/lib/python3.11/dist-packages (from bambi) (0.21.0)\n",
            "Collecting formulae>=0.5.3 (from bambi)\n",
            "  Downloading formulae-0.5.4-py3-none-any.whl.metadata (4.5 kB)\n",
            "Requirement already satisfied: graphviz in /usr/local/lib/python3.11/dist-packages (from bambi) (0.20.3)\n",
            "Requirement already satisfied: pandas>=1.0.0 in /usr/local/lib/python3.11/dist-packages (from bambi) (2.2.2)\n",
            "Requirement already satisfied: pymc>=5.18.0 in /usr/local/lib/python3.11/dist-packages (from bambi) (5.21.2)\n",
            "Requirement already satisfied: setuptools>=60.0.0 in /usr/local/lib/python3.11/dist-packages (from arviz>=0.12.0->bambi) (75.2.0)\n",
            "Requirement already satisfied: matplotlib>=3.5 in /usr/local/lib/python3.11/dist-packages (from arviz>=0.12.0->bambi) (3.10.0)\n",
            "Requirement already satisfied: numpy>=1.23.0 in /usr/local/lib/python3.11/dist-packages (from arviz>=0.12.0->bambi) (2.0.2)\n",
            "Requirement already satisfied: scipy>=1.9.0 in /usr/local/lib/python3.11/dist-packages (from arviz>=0.12.0->bambi) (1.14.1)\n",
            "Requirement already satisfied: packaging in /usr/local/lib/python3.11/dist-packages (from arviz>=0.12.0->bambi) (24.2)\n",
            "Requirement already satisfied: xarray>=2022.6.0 in /usr/local/lib/python3.11/dist-packages (from arviz>=0.12.0->bambi) (2025.1.2)\n",
            "Requirement already satisfied: h5netcdf>=1.0.2 in /usr/local/lib/python3.11/dist-packages (from arviz>=0.12.0->bambi) (1.6.1)\n",
            "Requirement already satisfied: typing-extensions>=4.1.0 in /usr/local/lib/python3.11/dist-packages (from arviz>=0.12.0->bambi) (4.13.1)\n",
            "Requirement already satisfied: xarray-einstats>=0.3 in /usr/local/lib/python3.11/dist-packages (from arviz>=0.12.0->bambi) (0.8.0)\n",
            "Requirement already satisfied: python-dateutil>=2.8.2 in /usr/local/lib/python3.11/dist-packages (from pandas>=1.0.0->bambi) (2.8.2)\n",
            "Requirement already satisfied: pytz>=2020.1 in /usr/local/lib/python3.11/dist-packages (from pandas>=1.0.0->bambi) (2025.2)\n",
            "Requirement already satisfied: tzdata>=2022.7 in /usr/local/lib/python3.11/dist-packages (from pandas>=1.0.0->bambi) (2025.2)\n",
            "Requirement already satisfied: cachetools>=4.2.1 in /usr/local/lib/python3.11/dist-packages (from pymc>=5.18.0->bambi) (5.5.2)\n",
            "Requirement already satisfied: cloudpickle in /usr/local/lib/python3.11/dist-packages (from pymc>=5.18.0->bambi) (3.1.1)\n",
            "Requirement already satisfied: pytensor<2.31,>=2.30.2 in /usr/local/lib/python3.11/dist-packages (from pymc>=5.18.0->bambi) (2.30.2)\n",
            "Requirement already satisfied: rich>=13.7.1 in /usr/local/lib/python3.11/dist-packages (from pymc>=5.18.0->bambi) (13.9.4)\n",
            "Requirement already satisfied: threadpoolctl<4.0.0,>=3.1.0 in /usr/local/lib/python3.11/dist-packages (from pymc>=5.18.0->bambi) (3.6.0)\n",
            "Requirement already satisfied: h5py in /usr/local/lib/python3.11/dist-packages (from h5netcdf>=1.0.2->arviz>=0.12.0->bambi) (3.13.0)\n",
            "Requirement already satisfied: contourpy>=1.0.1 in /usr/local/lib/python3.11/dist-packages (from matplotlib>=3.5->arviz>=0.12.0->bambi) (1.3.1)\n",
            "Requirement already satisfied: cycler>=0.10 in /usr/local/lib/python3.11/dist-packages (from matplotlib>=3.5->arviz>=0.12.0->bambi) (0.12.1)\n",
            "Requirement already satisfied: fonttools>=4.22.0 in /usr/local/lib/python3.11/dist-packages (from matplotlib>=3.5->arviz>=0.12.0->bambi) (4.57.0)\n",
            "Requirement already satisfied: kiwisolver>=1.3.1 in /usr/local/lib/python3.11/dist-packages (from matplotlib>=3.5->arviz>=0.12.0->bambi) (1.4.8)\n",
            "Requirement already satisfied: pillow>=8 in /usr/local/lib/python3.11/dist-packages (from matplotlib>=3.5->arviz>=0.12.0->bambi) (11.1.0)\n",
            "Requirement already satisfied: pyparsing>=2.3.1 in /usr/local/lib/python3.11/dist-packages (from matplotlib>=3.5->arviz>=0.12.0->bambi) (3.2.3)\n",
            "Requirement already satisfied: filelock>=3.15 in /usr/local/lib/python3.11/dist-packages (from pytensor<2.31,>=2.30.2->pymc>=5.18.0->bambi) (3.18.0)\n",
            "Requirement already satisfied: etuples in /usr/local/lib/python3.11/dist-packages (from pytensor<2.31,>=2.30.2->pymc>=5.18.0->bambi) (0.3.9)\n",
            "Requirement already satisfied: logical-unification in /usr/local/lib/python3.11/dist-packages (from pytensor<2.31,>=2.30.2->pymc>=5.18.0->bambi) (0.4.6)\n",
            "Requirement already satisfied: miniKanren in /usr/local/lib/python3.11/dist-packages (from pytensor<2.31,>=2.30.2->pymc>=5.18.0->bambi) (1.0.3)\n",
            "Requirement already satisfied: cons in /usr/local/lib/python3.11/dist-packages (from pytensor<2.31,>=2.30.2->pymc>=5.18.0->bambi) (0.4.6)\n",
            "Requirement already satisfied: six>=1.5 in /usr/local/lib/python3.11/dist-packages (from python-dateutil>=2.8.2->pandas>=1.0.0->bambi) (1.17.0)\n",
            "Requirement already satisfied: markdown-it-py>=2.2.0 in /usr/local/lib/python3.11/dist-packages (from rich>=13.7.1->pymc>=5.18.0->bambi) (3.0.0)\n",
            "Requirement already satisfied: pygments<3.0.0,>=2.13.0 in /usr/local/lib/python3.11/dist-packages (from rich>=13.7.1->pymc>=5.18.0->bambi) (2.18.0)\n",
            "Requirement already satisfied: mdurl~=0.1 in /usr/local/lib/python3.11/dist-packages (from markdown-it-py>=2.2.0->rich>=13.7.1->pymc>=5.18.0->bambi) (0.1.2)\n",
            "Requirement already satisfied: toolz in /usr/local/lib/python3.11/dist-packages (from logical-unification->pytensor<2.31,>=2.30.2->pymc>=5.18.0->bambi) (0.12.1)\n",
            "Requirement already satisfied: multipledispatch in /usr/local/lib/python3.11/dist-packages (from logical-unification->pytensor<2.31,>=2.30.2->pymc>=5.18.0->bambi) (1.0.0)\n",
            "Downloading bambi-0.15.0-py3-none-any.whl (109 kB)\n",
            "\u001b[2K   \u001b[90m━━━━━━━━━━━━━━━━━━━━━━━━━━━━━━━━━━━━━━━━\u001b[0m \u001b[32m109.2/109.2 kB\u001b[0m \u001b[31m2.8 MB/s\u001b[0m eta \u001b[36m0:00:00\u001b[0m\n",
            "\u001b[?25hDownloading formulae-0.5.4-py3-none-any.whl (53 kB)\n",
            "\u001b[2K   \u001b[90m━━━━━━━━━━━━━━━━━━━━━━━━━━━━━━━━━━━━━━━━\u001b[0m \u001b[32m53.7/53.7 kB\u001b[0m \u001b[31m1.3 MB/s\u001b[0m eta \u001b[36m0:00:00\u001b[0m\n",
            "\u001b[?25hInstalling collected packages: formulae, bambi\n",
            "Successfully installed bambi-0.15.0 formulae-0.5.4\n"
          ]
        }
      ]
    },
    {
      "cell_type": "code",
      "source": [
        "import numpy as np\n",
        "import matplotlib.pyplot as plt\n",
        "import seaborn as sns\n",
        "import arviz as az\n",
        "import pandas as pd\n",
        "import io\n",
        "\n",
        "# para registrar el tiempo de corrida\n",
        "import datetime"
      ],
      "metadata": {
        "id": "S19hh0GOlgc2"
      },
      "execution_count": null,
      "outputs": []
    },
    {
      "cell_type": "code",
      "source": [
        "start_datetime = datetime.datetime.now()\n",
        "\n",
        "print('Inicio de corrida: ',start_datetime)"
      ],
      "metadata": {
        "colab": {
          "base_uri": "https://localhost:8080/"
        },
        "id": "zdl0bdpOZRdK",
        "outputId": "c315db4e-783f-4404-f3af-806718288bf5"
      },
      "execution_count": null,
      "outputs": [
        {
          "output_type": "stream",
          "name": "stdout",
          "text": [
            "Inicio de corrida:  2025-04-11 13:00:06.067973\n"
          ]
        }
      ]
    },
    {
      "cell_type": "markdown",
      "source": [
        "Grupo:\n",
        "\n",
        "Integrantes:\n",
        "\n",
        "*   Apellido, Nombres XXXXXX\n",
        "*   Apellido, Nombres XXXXXX\n",
        "*   Apellido, Nombres XXXXXX\n",
        "*   Apellido, Nombres XXXXXX\n",
        "*   Apellido, Nombres XXXXXX"
      ],
      "metadata": {
        "id": "4tNcV0OYoeU_"
      }
    },
    {
      "cell_type": "markdown",
      "source": [
        "## Ejercicio 1: Preguntas conceptuales"
      ],
      "metadata": {
        "id": "uP5mwRTxnP-Z"
      }
    },
    {
      "cell_type": "markdown",
      "source": [
        "#### Actividad 1\n",
        "\n",
        "**Actividad**: Usted tiene dos chapas de acero, con un modelo de generación de datos Normal donde $\\sigma$ representa errores de medición (cada chapa fue medida por muchas personas distintas) y $\\mu$ es el espesor de la chapa.\n",
        "\n",
        "¿Qué haría para evaluar si las dos chapas tienen efectivamente distinto espesor?"
      ],
      "metadata": {
        "id": "LqNT8PtiN5dN"
      }
    },
    {
      "cell_type": "markdown",
      "source": [
        "**Su respuesta**:"
      ],
      "metadata": {
        "id": "gtU64VnsOrhm"
      }
    },
    {
      "cell_type": "markdown",
      "source": [
        "#### Actividad 2\n",
        "\n",
        "**Actividad**: Usted tiene dos dosificaciones de hormigón, con un modelo de generación de datos Normal donde $\\sigma$ representa la dispersión de resultados (la máquina de ensayo es perfecta, se ensayaron varias probetas) y $\\mu$ el valor medio de la resistencia\n",
        "\n",
        "¿Qué haría para evaluar si los hormigones tienen resistencias tangiblemente distintas?"
      ],
      "metadata": {
        "id": "br6_xNjyyiDF"
      }
    },
    {
      "cell_type": "markdown",
      "source": [
        "**Su respuesta**:"
      ],
      "metadata": {
        "id": "WWOHpDL_yiDG"
      }
    },
    {
      "cell_type": "markdown",
      "source": [
        "### Actividad 3\n",
        "\n",
        "**Actividad**: Se quiere ajustar una función de distribución para la cantidad de tornados en la provincia de Santa Fe. Adoptando un modelo generación de datos Poisson, $y\\sim Po(λ)$, ¿cuáles de las siguientes distribuciones podrían ser utilizadas como distribución a priori para el parámetro λ? La solución se va a obtener en forma numérica mediante MCMC\n",
        "\n",
        "1. $\\lambda \\sim N(1,0.1)$\n",
        "2. $\\lambda \\sim LN(0,0.1)$\n",
        "3. $\\lambda \\sim exp(1)$\n",
        "4. $\\lambda \\sim Unif(0,\\infty)$\n",
        "5. $\\log(\\lambda) \\sim N(0,0.1)$"
      ],
      "metadata": {
        "id": "H_5uj6v8mRDr"
      }
    },
    {
      "cell_type": "markdown",
      "source": [
        "**Su respuesta**:"
      ],
      "metadata": {
        "id": "cvsp3NqbnY-t"
      }
    },
    {
      "cell_type": "markdown",
      "source": [
        "### Actividad 4\n",
        "\n",
        "Ajustamos unos datos con un modelo lognormal $Y\\sim LN(y|\\mu,\\sigma)$. La distribución posterior de los parámetros es discreta,\n",
        "\n",
        "$$p\\left(\\mu,\\sigma|\\mathbf{y}\\right) = \\begin{cases}0.2 & si& \\mu=0.5,&\\sigma = 0.1 \\\\ 0.5 & si& \\mu=0,&\\sigma=0.04 \\\\ 0.3&si&\\mu=-0.5&\\sigma=1.0 \\end{cases}$$\n",
        "\n",
        "Prediga el valor medio de nuevas observaciones de y"
      ],
      "metadata": {
        "id": "0ySd3xRin2Ei"
      }
    },
    {
      "cell_type": "markdown",
      "source": [
        "**Su respuesta**:"
      ],
      "metadata": {
        "id": "f-31rRE-oYVd"
      }
    },
    {
      "cell_type": "code",
      "source": [
        "# Sus cuentas\n"
      ],
      "metadata": {
        "id": "KnAbkfMzoaIC"
      },
      "execution_count": null,
      "outputs": []
    },
    {
      "cell_type": "markdown",
      "source": [
        "## Ejercicio 2: Evaluación de un tratamiento para el hormigón\n",
        "\n",
        "Una empresa constructora quiere evaluar un nuevo proceso de curado y ver si tiene un efecto en la resistencia del hormigón. Para ello se tienen 7 pares de ensayos de probetas, unos con y otros sin tratamiento.\n",
        "\n",
        "La empresa tiene las siguientes preguntas:\n",
        "\n",
        "- ¿Los hormigones son distintos entre sí debido al tratamiento?\n",
        "- ¿Cuál es la resistencia característica del hormigón según el tratamiento?\n",
        "- ¿Puedo asegurar una mejora de $2MPa$ en la resistencia del hormigón en una viga por efecto del tratamiento?\n",
        "\n",
        "El objetivo del ejercicio es contestar estas preguntas."
      ],
      "metadata": {
        "id": "Sh2PWuf0WTtH"
      }
    },
    {
      "cell_type": "code",
      "source": [
        "#Abrimos un archivo local, es decir, que ha sido descargado en su computadora\n",
        "from google.colab import files\n",
        "uploaded = files.upload()"
      ],
      "metadata": {
        "colab": {
          "base_uri": "https://localhost:8080/",
          "height": 73
        },
        "id": "zexMlGB7g2DY",
        "outputId": "e1c8e744-fe97-4129-937b-fc4b4c79064f"
      },
      "execution_count": null,
      "outputs": [
        {
          "output_type": "display_data",
          "data": {
            "text/plain": [
              "<IPython.core.display.HTML object>"
            ],
            "text/html": [
              "\n",
              "     <input type=\"file\" id=\"files-c9ac40b8-bad2-4f75-9ed4-c7fff42c699a\" name=\"files[]\" multiple disabled\n",
              "        style=\"border:none\" />\n",
              "     <output id=\"result-c9ac40b8-bad2-4f75-9ed4-c7fff42c699a\">\n",
              "      Upload widget is only available when the cell has been executed in the\n",
              "      current browser session. Please rerun this cell to enable.\n",
              "      </output>\n",
              "      <script>// Copyright 2017 Google LLC\n",
              "//\n",
              "// Licensed under the Apache License, Version 2.0 (the \"License\");\n",
              "// you may not use this file except in compliance with the License.\n",
              "// You may obtain a copy of the License at\n",
              "//\n",
              "//      http://www.apache.org/licenses/LICENSE-2.0\n",
              "//\n",
              "// Unless required by applicable law or agreed to in writing, software\n",
              "// distributed under the License is distributed on an \"AS IS\" BASIS,\n",
              "// WITHOUT WARRANTIES OR CONDITIONS OF ANY KIND, either express or implied.\n",
              "// See the License for the specific language governing permissions and\n",
              "// limitations under the License.\n",
              "\n",
              "/**\n",
              " * @fileoverview Helpers for google.colab Python module.\n",
              " */\n",
              "(function(scope) {\n",
              "function span(text, styleAttributes = {}) {\n",
              "  const element = document.createElement('span');\n",
              "  element.textContent = text;\n",
              "  for (const key of Object.keys(styleAttributes)) {\n",
              "    element.style[key] = styleAttributes[key];\n",
              "  }\n",
              "  return element;\n",
              "}\n",
              "\n",
              "// Max number of bytes which will be uploaded at a time.\n",
              "const MAX_PAYLOAD_SIZE = 100 * 1024;\n",
              "\n",
              "function _uploadFiles(inputId, outputId) {\n",
              "  const steps = uploadFilesStep(inputId, outputId);\n",
              "  const outputElement = document.getElementById(outputId);\n",
              "  // Cache steps on the outputElement to make it available for the next call\n",
              "  // to uploadFilesContinue from Python.\n",
              "  outputElement.steps = steps;\n",
              "\n",
              "  return _uploadFilesContinue(outputId);\n",
              "}\n",
              "\n",
              "// This is roughly an async generator (not supported in the browser yet),\n",
              "// where there are multiple asynchronous steps and the Python side is going\n",
              "// to poll for completion of each step.\n",
              "// This uses a Promise to block the python side on completion of each step,\n",
              "// then passes the result of the previous step as the input to the next step.\n",
              "function _uploadFilesContinue(outputId) {\n",
              "  const outputElement = document.getElementById(outputId);\n",
              "  const steps = outputElement.steps;\n",
              "\n",
              "  const next = steps.next(outputElement.lastPromiseValue);\n",
              "  return Promise.resolve(next.value.promise).then((value) => {\n",
              "    // Cache the last promise value to make it available to the next\n",
              "    // step of the generator.\n",
              "    outputElement.lastPromiseValue = value;\n",
              "    return next.value.response;\n",
              "  });\n",
              "}\n",
              "\n",
              "/**\n",
              " * Generator function which is called between each async step of the upload\n",
              " * process.\n",
              " * @param {string} inputId Element ID of the input file picker element.\n",
              " * @param {string} outputId Element ID of the output display.\n",
              " * @return {!Iterable<!Object>} Iterable of next steps.\n",
              " */\n",
              "function* uploadFilesStep(inputId, outputId) {\n",
              "  const inputElement = document.getElementById(inputId);\n",
              "  inputElement.disabled = false;\n",
              "\n",
              "  const outputElement = document.getElementById(outputId);\n",
              "  outputElement.innerHTML = '';\n",
              "\n",
              "  const pickedPromise = new Promise((resolve) => {\n",
              "    inputElement.addEventListener('change', (e) => {\n",
              "      resolve(e.target.files);\n",
              "    });\n",
              "  });\n",
              "\n",
              "  const cancel = document.createElement('button');\n",
              "  inputElement.parentElement.appendChild(cancel);\n",
              "  cancel.textContent = 'Cancel upload';\n",
              "  const cancelPromise = new Promise((resolve) => {\n",
              "    cancel.onclick = () => {\n",
              "      resolve(null);\n",
              "    };\n",
              "  });\n",
              "\n",
              "  // Wait for the user to pick the files.\n",
              "  const files = yield {\n",
              "    promise: Promise.race([pickedPromise, cancelPromise]),\n",
              "    response: {\n",
              "      action: 'starting',\n",
              "    }\n",
              "  };\n",
              "\n",
              "  cancel.remove();\n",
              "\n",
              "  // Disable the input element since further picks are not allowed.\n",
              "  inputElement.disabled = true;\n",
              "\n",
              "  if (!files) {\n",
              "    return {\n",
              "      response: {\n",
              "        action: 'complete',\n",
              "      }\n",
              "    };\n",
              "  }\n",
              "\n",
              "  for (const file of files) {\n",
              "    const li = document.createElement('li');\n",
              "    li.append(span(file.name, {fontWeight: 'bold'}));\n",
              "    li.append(span(\n",
              "        `(${file.type || 'n/a'}) - ${file.size} bytes, ` +\n",
              "        `last modified: ${\n",
              "            file.lastModifiedDate ? file.lastModifiedDate.toLocaleDateString() :\n",
              "                                    'n/a'} - `));\n",
              "    const percent = span('0% done');\n",
              "    li.appendChild(percent);\n",
              "\n",
              "    outputElement.appendChild(li);\n",
              "\n",
              "    const fileDataPromise = new Promise((resolve) => {\n",
              "      const reader = new FileReader();\n",
              "      reader.onload = (e) => {\n",
              "        resolve(e.target.result);\n",
              "      };\n",
              "      reader.readAsArrayBuffer(file);\n",
              "    });\n",
              "    // Wait for the data to be ready.\n",
              "    let fileData = yield {\n",
              "      promise: fileDataPromise,\n",
              "      response: {\n",
              "        action: 'continue',\n",
              "      }\n",
              "    };\n",
              "\n",
              "    // Use a chunked sending to avoid message size limits. See b/62115660.\n",
              "    let position = 0;\n",
              "    do {\n",
              "      const length = Math.min(fileData.byteLength - position, MAX_PAYLOAD_SIZE);\n",
              "      const chunk = new Uint8Array(fileData, position, length);\n",
              "      position += length;\n",
              "\n",
              "      const base64 = btoa(String.fromCharCode.apply(null, chunk));\n",
              "      yield {\n",
              "        response: {\n",
              "          action: 'append',\n",
              "          file: file.name,\n",
              "          data: base64,\n",
              "        },\n",
              "      };\n",
              "\n",
              "      let percentDone = fileData.byteLength === 0 ?\n",
              "          100 :\n",
              "          Math.round((position / fileData.byteLength) * 100);\n",
              "      percent.textContent = `${percentDone}% done`;\n",
              "\n",
              "    } while (position < fileData.byteLength);\n",
              "  }\n",
              "\n",
              "  // All done.\n",
              "  yield {\n",
              "    response: {\n",
              "      action: 'complete',\n",
              "    }\n",
              "  };\n",
              "}\n",
              "\n",
              "scope.google = scope.google || {};\n",
              "scope.google.colab = scope.google.colab || {};\n",
              "scope.google.colab._files = {\n",
              "  _uploadFiles,\n",
              "  _uploadFilesContinue,\n",
              "};\n",
              "})(self);\n",
              "</script> "
            ]
          },
          "metadata": {}
        },
        {
          "output_type": "stream",
          "name": "stdout",
          "text": [
            "Saving hormigones_tratamiento_tp2.csv to hormigones_tratamiento_tp2.csv\n"
          ]
        }
      ]
    },
    {
      "cell_type": "code",
      "source": [
        "#Se crea un DataFrame\n",
        "df = pd.read_csv(io.BytesIO(uploaded['hormigones_tratamiento_tp2.csv']))\n",
        "df"
      ],
      "metadata": {
        "colab": {
          "base_uri": "https://localhost:8080/",
          "height": 488
        },
        "id": "3XHAbUoGg5uw",
        "outputId": "7715417f-9af3-4da1-fd9f-d8c349a11d05"
      },
      "execution_count": null,
      "outputs": [
        {
          "output_type": "execute_result",
          "data": {
            "text/plain": [
              "    Resistencia Tratamiento\n",
              "0          30.9          No\n",
              "1          33.3          No\n",
              "2          33.5          No\n",
              "3          36.2          No\n",
              "4          37.2          No\n",
              "5          37.6          No\n",
              "6          38.2          No\n",
              "7          34.2          Si\n",
              "8          37.1          Si\n",
              "9          39.6          Si\n",
              "10         40.3          Si\n",
              "11         40.5          Si\n",
              "12         42.2          Si\n",
              "13         44.0          Si"
            ],
            "text/html": [
              "\n",
              "  <div id=\"df-4e526a73-ac3f-4786-9c3c-a4550d0dd686\" class=\"colab-df-container\">\n",
              "    <div>\n",
              "<style scoped>\n",
              "    .dataframe tbody tr th:only-of-type {\n",
              "        vertical-align: middle;\n",
              "    }\n",
              "\n",
              "    .dataframe tbody tr th {\n",
              "        vertical-align: top;\n",
              "    }\n",
              "\n",
              "    .dataframe thead th {\n",
              "        text-align: right;\n",
              "    }\n",
              "</style>\n",
              "<table border=\"1\" class=\"dataframe\">\n",
              "  <thead>\n",
              "    <tr style=\"text-align: right;\">\n",
              "      <th></th>\n",
              "      <th>Resistencia</th>\n",
              "      <th>Tratamiento</th>\n",
              "    </tr>\n",
              "  </thead>\n",
              "  <tbody>\n",
              "    <tr>\n",
              "      <th>0</th>\n",
              "      <td>30.9</td>\n",
              "      <td>No</td>\n",
              "    </tr>\n",
              "    <tr>\n",
              "      <th>1</th>\n",
              "      <td>33.3</td>\n",
              "      <td>No</td>\n",
              "    </tr>\n",
              "    <tr>\n",
              "      <th>2</th>\n",
              "      <td>33.5</td>\n",
              "      <td>No</td>\n",
              "    </tr>\n",
              "    <tr>\n",
              "      <th>3</th>\n",
              "      <td>36.2</td>\n",
              "      <td>No</td>\n",
              "    </tr>\n",
              "    <tr>\n",
              "      <th>4</th>\n",
              "      <td>37.2</td>\n",
              "      <td>No</td>\n",
              "    </tr>\n",
              "    <tr>\n",
              "      <th>5</th>\n",
              "      <td>37.6</td>\n",
              "      <td>No</td>\n",
              "    </tr>\n",
              "    <tr>\n",
              "      <th>6</th>\n",
              "      <td>38.2</td>\n",
              "      <td>No</td>\n",
              "    </tr>\n",
              "    <tr>\n",
              "      <th>7</th>\n",
              "      <td>34.2</td>\n",
              "      <td>Si</td>\n",
              "    </tr>\n",
              "    <tr>\n",
              "      <th>8</th>\n",
              "      <td>37.1</td>\n",
              "      <td>Si</td>\n",
              "    </tr>\n",
              "    <tr>\n",
              "      <th>9</th>\n",
              "      <td>39.6</td>\n",
              "      <td>Si</td>\n",
              "    </tr>\n",
              "    <tr>\n",
              "      <th>10</th>\n",
              "      <td>40.3</td>\n",
              "      <td>Si</td>\n",
              "    </tr>\n",
              "    <tr>\n",
              "      <th>11</th>\n",
              "      <td>40.5</td>\n",
              "      <td>Si</td>\n",
              "    </tr>\n",
              "    <tr>\n",
              "      <th>12</th>\n",
              "      <td>42.2</td>\n",
              "      <td>Si</td>\n",
              "    </tr>\n",
              "    <tr>\n",
              "      <th>13</th>\n",
              "      <td>44.0</td>\n",
              "      <td>Si</td>\n",
              "    </tr>\n",
              "  </tbody>\n",
              "</table>\n",
              "</div>\n",
              "    <div class=\"colab-df-buttons\">\n",
              "\n",
              "  <div class=\"colab-df-container\">\n",
              "    <button class=\"colab-df-convert\" onclick=\"convertToInteractive('df-4e526a73-ac3f-4786-9c3c-a4550d0dd686')\"\n",
              "            title=\"Convert this dataframe to an interactive table.\"\n",
              "            style=\"display:none;\">\n",
              "\n",
              "  <svg xmlns=\"http://www.w3.org/2000/svg\" height=\"24px\" viewBox=\"0 -960 960 960\">\n",
              "    <path d=\"M120-120v-720h720v720H120Zm60-500h600v-160H180v160Zm220 220h160v-160H400v160Zm0 220h160v-160H400v160ZM180-400h160v-160H180v160Zm440 0h160v-160H620v160ZM180-180h160v-160H180v160Zm440 0h160v-160H620v160Z\"/>\n",
              "  </svg>\n",
              "    </button>\n",
              "\n",
              "  <style>\n",
              "    .colab-df-container {\n",
              "      display:flex;\n",
              "      gap: 12px;\n",
              "    }\n",
              "\n",
              "    .colab-df-convert {\n",
              "      background-color: #E8F0FE;\n",
              "      border: none;\n",
              "      border-radius: 50%;\n",
              "      cursor: pointer;\n",
              "      display: none;\n",
              "      fill: #1967D2;\n",
              "      height: 32px;\n",
              "      padding: 0 0 0 0;\n",
              "      width: 32px;\n",
              "    }\n",
              "\n",
              "    .colab-df-convert:hover {\n",
              "      background-color: #E2EBFA;\n",
              "      box-shadow: 0px 1px 2px rgba(60, 64, 67, 0.3), 0px 1px 3px 1px rgba(60, 64, 67, 0.15);\n",
              "      fill: #174EA6;\n",
              "    }\n",
              "\n",
              "    .colab-df-buttons div {\n",
              "      margin-bottom: 4px;\n",
              "    }\n",
              "\n",
              "    [theme=dark] .colab-df-convert {\n",
              "      background-color: #3B4455;\n",
              "      fill: #D2E3FC;\n",
              "    }\n",
              "\n",
              "    [theme=dark] .colab-df-convert:hover {\n",
              "      background-color: #434B5C;\n",
              "      box-shadow: 0px 1px 3px 1px rgba(0, 0, 0, 0.15);\n",
              "      filter: drop-shadow(0px 1px 2px rgba(0, 0, 0, 0.3));\n",
              "      fill: #FFFFFF;\n",
              "    }\n",
              "  </style>\n",
              "\n",
              "    <script>\n",
              "      const buttonEl =\n",
              "        document.querySelector('#df-4e526a73-ac3f-4786-9c3c-a4550d0dd686 button.colab-df-convert');\n",
              "      buttonEl.style.display =\n",
              "        google.colab.kernel.accessAllowed ? 'block' : 'none';\n",
              "\n",
              "      async function convertToInteractive(key) {\n",
              "        const element = document.querySelector('#df-4e526a73-ac3f-4786-9c3c-a4550d0dd686');\n",
              "        const dataTable =\n",
              "          await google.colab.kernel.invokeFunction('convertToInteractive',\n",
              "                                                    [key], {});\n",
              "        if (!dataTable) return;\n",
              "\n",
              "        const docLinkHtml = 'Like what you see? Visit the ' +\n",
              "          '<a target=\"_blank\" href=https://colab.research.google.com/notebooks/data_table.ipynb>data table notebook</a>'\n",
              "          + ' to learn more about interactive tables.';\n",
              "        element.innerHTML = '';\n",
              "        dataTable['output_type'] = 'display_data';\n",
              "        await google.colab.output.renderOutput(dataTable, element);\n",
              "        const docLink = document.createElement('div');\n",
              "        docLink.innerHTML = docLinkHtml;\n",
              "        element.appendChild(docLink);\n",
              "      }\n",
              "    </script>\n",
              "  </div>\n",
              "\n",
              "\n",
              "<div id=\"df-d11e0342-926e-4955-b79c-7811a4c20e97\">\n",
              "  <button class=\"colab-df-quickchart\" onclick=\"quickchart('df-d11e0342-926e-4955-b79c-7811a4c20e97')\"\n",
              "            title=\"Suggest charts\"\n",
              "            style=\"display:none;\">\n",
              "\n",
              "<svg xmlns=\"http://www.w3.org/2000/svg\" height=\"24px\"viewBox=\"0 0 24 24\"\n",
              "     width=\"24px\">\n",
              "    <g>\n",
              "        <path d=\"M19 3H5c-1.1 0-2 .9-2 2v14c0 1.1.9 2 2 2h14c1.1 0 2-.9 2-2V5c0-1.1-.9-2-2-2zM9 17H7v-7h2v7zm4 0h-2V7h2v10zm4 0h-2v-4h2v4z\"/>\n",
              "    </g>\n",
              "</svg>\n",
              "  </button>\n",
              "\n",
              "<style>\n",
              "  .colab-df-quickchart {\n",
              "      --bg-color: #E8F0FE;\n",
              "      --fill-color: #1967D2;\n",
              "      --hover-bg-color: #E2EBFA;\n",
              "      --hover-fill-color: #174EA6;\n",
              "      --disabled-fill-color: #AAA;\n",
              "      --disabled-bg-color: #DDD;\n",
              "  }\n",
              "\n",
              "  [theme=dark] .colab-df-quickchart {\n",
              "      --bg-color: #3B4455;\n",
              "      --fill-color: #D2E3FC;\n",
              "      --hover-bg-color: #434B5C;\n",
              "      --hover-fill-color: #FFFFFF;\n",
              "      --disabled-bg-color: #3B4455;\n",
              "      --disabled-fill-color: #666;\n",
              "  }\n",
              "\n",
              "  .colab-df-quickchart {\n",
              "    background-color: var(--bg-color);\n",
              "    border: none;\n",
              "    border-radius: 50%;\n",
              "    cursor: pointer;\n",
              "    display: none;\n",
              "    fill: var(--fill-color);\n",
              "    height: 32px;\n",
              "    padding: 0;\n",
              "    width: 32px;\n",
              "  }\n",
              "\n",
              "  .colab-df-quickchart:hover {\n",
              "    background-color: var(--hover-bg-color);\n",
              "    box-shadow: 0 1px 2px rgba(60, 64, 67, 0.3), 0 1px 3px 1px rgba(60, 64, 67, 0.15);\n",
              "    fill: var(--button-hover-fill-color);\n",
              "  }\n",
              "\n",
              "  .colab-df-quickchart-complete:disabled,\n",
              "  .colab-df-quickchart-complete:disabled:hover {\n",
              "    background-color: var(--disabled-bg-color);\n",
              "    fill: var(--disabled-fill-color);\n",
              "    box-shadow: none;\n",
              "  }\n",
              "\n",
              "  .colab-df-spinner {\n",
              "    border: 2px solid var(--fill-color);\n",
              "    border-color: transparent;\n",
              "    border-bottom-color: var(--fill-color);\n",
              "    animation:\n",
              "      spin 1s steps(1) infinite;\n",
              "  }\n",
              "\n",
              "  @keyframes spin {\n",
              "    0% {\n",
              "      border-color: transparent;\n",
              "      border-bottom-color: var(--fill-color);\n",
              "      border-left-color: var(--fill-color);\n",
              "    }\n",
              "    20% {\n",
              "      border-color: transparent;\n",
              "      border-left-color: var(--fill-color);\n",
              "      border-top-color: var(--fill-color);\n",
              "    }\n",
              "    30% {\n",
              "      border-color: transparent;\n",
              "      border-left-color: var(--fill-color);\n",
              "      border-top-color: var(--fill-color);\n",
              "      border-right-color: var(--fill-color);\n",
              "    }\n",
              "    40% {\n",
              "      border-color: transparent;\n",
              "      border-right-color: var(--fill-color);\n",
              "      border-top-color: var(--fill-color);\n",
              "    }\n",
              "    60% {\n",
              "      border-color: transparent;\n",
              "      border-right-color: var(--fill-color);\n",
              "    }\n",
              "    80% {\n",
              "      border-color: transparent;\n",
              "      border-right-color: var(--fill-color);\n",
              "      border-bottom-color: var(--fill-color);\n",
              "    }\n",
              "    90% {\n",
              "      border-color: transparent;\n",
              "      border-bottom-color: var(--fill-color);\n",
              "    }\n",
              "  }\n",
              "</style>\n",
              "\n",
              "  <script>\n",
              "    async function quickchart(key) {\n",
              "      const quickchartButtonEl =\n",
              "        document.querySelector('#' + key + ' button');\n",
              "      quickchartButtonEl.disabled = true;  // To prevent multiple clicks.\n",
              "      quickchartButtonEl.classList.add('colab-df-spinner');\n",
              "      try {\n",
              "        const charts = await google.colab.kernel.invokeFunction(\n",
              "            'suggestCharts', [key], {});\n",
              "      } catch (error) {\n",
              "        console.error('Error during call to suggestCharts:', error);\n",
              "      }\n",
              "      quickchartButtonEl.classList.remove('colab-df-spinner');\n",
              "      quickchartButtonEl.classList.add('colab-df-quickchart-complete');\n",
              "    }\n",
              "    (() => {\n",
              "      let quickchartButtonEl =\n",
              "        document.querySelector('#df-d11e0342-926e-4955-b79c-7811a4c20e97 button');\n",
              "      quickchartButtonEl.style.display =\n",
              "        google.colab.kernel.accessAllowed ? 'block' : 'none';\n",
              "    })();\n",
              "  </script>\n",
              "</div>\n",
              "\n",
              "  <div id=\"id_91d10405-1a42-4ca1-bd79-9b81230f0b51\">\n",
              "    <style>\n",
              "      .colab-df-generate {\n",
              "        background-color: #E8F0FE;\n",
              "        border: none;\n",
              "        border-radius: 50%;\n",
              "        cursor: pointer;\n",
              "        display: none;\n",
              "        fill: #1967D2;\n",
              "        height: 32px;\n",
              "        padding: 0 0 0 0;\n",
              "        width: 32px;\n",
              "      }\n",
              "\n",
              "      .colab-df-generate:hover {\n",
              "        background-color: #E2EBFA;\n",
              "        box-shadow: 0px 1px 2px rgba(60, 64, 67, 0.3), 0px 1px 3px 1px rgba(60, 64, 67, 0.15);\n",
              "        fill: #174EA6;\n",
              "      }\n",
              "\n",
              "      [theme=dark] .colab-df-generate {\n",
              "        background-color: #3B4455;\n",
              "        fill: #D2E3FC;\n",
              "      }\n",
              "\n",
              "      [theme=dark] .colab-df-generate:hover {\n",
              "        background-color: #434B5C;\n",
              "        box-shadow: 0px 1px 3px 1px rgba(0, 0, 0, 0.15);\n",
              "        filter: drop-shadow(0px 1px 2px rgba(0, 0, 0, 0.3));\n",
              "        fill: #FFFFFF;\n",
              "      }\n",
              "    </style>\n",
              "    <button class=\"colab-df-generate\" onclick=\"generateWithVariable('df')\"\n",
              "            title=\"Generate code using this dataframe.\"\n",
              "            style=\"display:none;\">\n",
              "\n",
              "  <svg xmlns=\"http://www.w3.org/2000/svg\" height=\"24px\"viewBox=\"0 0 24 24\"\n",
              "       width=\"24px\">\n",
              "    <path d=\"M7,19H8.4L18.45,9,17,7.55,7,17.6ZM5,21V16.75L18.45,3.32a2,2,0,0,1,2.83,0l1.4,1.43a1.91,1.91,0,0,1,.58,1.4,1.91,1.91,0,0,1-.58,1.4L9.25,21ZM18.45,9,17,7.55Zm-12,3A5.31,5.31,0,0,0,4.9,8.1,5.31,5.31,0,0,0,1,6.5,5.31,5.31,0,0,0,4.9,4.9,5.31,5.31,0,0,0,6.5,1,5.31,5.31,0,0,0,8.1,4.9,5.31,5.31,0,0,0,12,6.5,5.46,5.46,0,0,0,6.5,12Z\"/>\n",
              "  </svg>\n",
              "    </button>\n",
              "    <script>\n",
              "      (() => {\n",
              "      const buttonEl =\n",
              "        document.querySelector('#id_91d10405-1a42-4ca1-bd79-9b81230f0b51 button.colab-df-generate');\n",
              "      buttonEl.style.display =\n",
              "        google.colab.kernel.accessAllowed ? 'block' : 'none';\n",
              "\n",
              "      buttonEl.onclick = () => {\n",
              "        google.colab.notebook.generateWithVariable('df');\n",
              "      }\n",
              "      })();\n",
              "    </script>\n",
              "  </div>\n",
              "\n",
              "    </div>\n",
              "  </div>\n"
            ],
            "application/vnd.google.colaboratory.intrinsic+json": {
              "type": "dataframe",
              "variable_name": "df",
              "summary": "{\n  \"name\": \"df\",\n  \"rows\": 14,\n  \"fields\": [\n    {\n      \"column\": \"Resistencia\",\n      \"properties\": {\n        \"dtype\": \"number\",\n        \"std\": 3.6806891375763495,\n        \"min\": 30.9,\n        \"max\": 44.0,\n        \"num_unique_values\": 14,\n        \"samples\": [\n          39.6,\n          40.5,\n          30.9\n        ],\n        \"semantic_type\": \"\",\n        \"description\": \"\"\n      }\n    },\n    {\n      \"column\": \"Tratamiento\",\n      \"properties\": {\n        \"dtype\": \"category\",\n        \"num_unique_values\": 2,\n        \"samples\": [\n          \"Si\",\n          \"No\"\n        ],\n        \"semantic_type\": \"\",\n        \"description\": \"\"\n      }\n    }\n  ]\n}"
            }
          },
          "metadata": {},
          "execution_count": 9
        }
      ]
    },
    {
      "cell_type": "markdown",
      "source": [
        "### Actividad 1\n",
        "\n",
        "**Actividad**: Calcule el valor medio y el desvío estandar (muestral) de los hormigones con y sin tratamiento. Indique la cantidad de muestras de cada uno."
      ],
      "metadata": {
        "id": "F7I0s_yM4qOV"
      }
    },
    {
      "cell_type": "code",
      "source": [
        "# Cantidad de muestras\n",
        "N = len(df)\n",
        "print('Numero de muestras totales',N)\n",
        "\n",
        "# Hormigón sin tratar\n",
        "# CODIGO DEL ALUMNO ============================================================\n",
        "h0_mean =\n",
        "h0_std =\n",
        "N0 =\n",
        "# ==============================================================================\n",
        "\n",
        "# Hormigón con tratamiento\n",
        "# CODIGO DEL ALUMNO ============================================================\n",
        "h1_mean =\n",
        "h1_std =\n",
        "N1 =\n",
        "# ==============================================================================\n",
        "\n",
        "print('Sin Tratamiento:',N0,'muestras')\n",
        "print('Media',h0_mean,'desvio',h0_std)\n",
        "print('Con Tratamiento:',N1,'muestras')\n",
        "print('Media',h1_mean,'desvio',h1_std)"
      ],
      "metadata": {
        "colab": {
          "base_uri": "https://localhost:8080/"
        },
        "id": "2oqglB-wWWBn",
        "outputId": "21e77ae1-6d70-4984-e7a8-3878030747ba"
      },
      "execution_count": null,
      "outputs": [
        {
          "output_type": "stream",
          "name": "stdout",
          "text": [
            "Numero de muestras totales 14\n",
            "Sin Tratamiento: 7 muestras\n",
            "Media 35.271428571428565 desvio 2.7299049346783053\n",
            "Con Tratamiento: 7 muestras\n",
            "Media 39.699999999999996 desvio 3.234192325759245\n"
          ]
        }
      ]
    },
    {
      "cell_type": "markdown",
      "source": [
        "Debiera ver una diferencia de más de $4MPa$ en el valor medio."
      ],
      "metadata": {
        "id": "ygRm1U9t50x3"
      }
    },
    {
      "cell_type": "markdown",
      "source": [
        "### Construcción del Modelo"
      ],
      "metadata": {
        "id": "LywofcM6-XK0"
      }
    },
    {
      "cell_type": "markdown",
      "source": [
        "#### Actividad 2\n",
        "\n",
        "**Actividad**: Asumiendo un modelo de generación de datos normal para la resistencia de las probetas, construya en `Bambi` un modelo de inferencia cuya variable explicativa sea la existencia del tratamiento."
      ],
      "metadata": {
        "id": "aAoBQIIBIKgY"
      }
    },
    {
      "cell_type": "code",
      "source": [
        "# Paso 1: modelo\n",
        "# CODIGO DEL ALUMNO ============================================================\n",
        "model_1 =\n",
        "# ==============================================================================\n",
        "\n",
        "model_1.build()\n",
        "model_1.graph()"
      ],
      "metadata": {
        "id": "9Tl4oE264spH"
      },
      "execution_count": null,
      "outputs": []
    },
    {
      "cell_type": "markdown",
      "source": [
        "#### Actividad 3\n",
        "\n",
        "**Actividad**: Explique qué significa cada parámetro de su modelo."
      ],
      "metadata": {
        "id": "R4mEkPWdIZlp"
      }
    },
    {
      "cell_type": "markdown",
      "source": [
        "**Su respuesta**:"
      ],
      "metadata": {
        "id": "4OzQl8P_t3RM"
      }
    },
    {
      "cell_type": "markdown",
      "source": [
        "#### Actividad 4\n",
        "\n",
        "**Actividad**: Muestre las distribuciones a priori adoptadas para los parámetros (ya sean definidas por ustedes o default). Haga las modificaciones que considere apropiadas si no le gustan/no reflejan lo que usted quiere."
      ],
      "metadata": {
        "id": "29TrjLn6JeGn"
      }
    },
    {
      "cell_type": "code",
      "source": [
        "# Paso 2: prioris\n",
        "# CODIGO DEL ALUMNO ============================================================\n",
        "\n",
        "# ==============================================================================\n",
        "plt.show()"
      ],
      "metadata": {
        "id": "KFcdACHQt7xx"
      },
      "execution_count": null,
      "outputs": []
    },
    {
      "cell_type": "markdown",
      "source": [
        "#### Actividad 5\n",
        "\n",
        "**Actividad**: Realice la inferencia mediante MCMC, mostrando visualmente las simulaciones de las cadenas. Indique si las mismas convergieron adecuadamente."
      ],
      "metadata": {
        "id": "4Bt7rEMnJlVl"
      }
    },
    {
      "cell_type": "code",
      "source": [
        "# Paso 3: inferencia\n",
        "# CODIGO DEL ALUMNO ============================================================\n",
        "results_1 =\n",
        "# =============================================================================="
      ],
      "metadata": {
        "id": "eaNMRTUBooX2"
      },
      "execution_count": null,
      "outputs": []
    },
    {
      "cell_type": "code",
      "source": [
        "# Paso 4: resultados\n",
        "# CODIGO DEL ALUMNO ============================================================\n",
        "\n",
        "# Grafico\n",
        "\n",
        "\n",
        "# Tabla\n",
        "\n",
        "# =============================================================================="
      ],
      "metadata": {
        "id": "-1RpED_H7NAu"
      },
      "execution_count": null,
      "outputs": []
    },
    {
      "cell_type": "markdown",
      "source": [
        "**Su respuesta**:"
      ],
      "metadata": {
        "id": "DLdyL8ezwTXF"
      }
    },
    {
      "cell_type": "markdown",
      "source": [
        "### Distribución posterior de los parámetros"
      ],
      "metadata": {
        "id": "Qli5dlNY-pYq"
      }
    },
    {
      "cell_type": "markdown",
      "source": [
        "#### Actividad 6\n",
        "\n",
        "**Actividad**: Muestre la distribución posterior de los parámetros con su intervalo de confianza de 90%."
      ],
      "metadata": {
        "id": "YtAcImAM6FMU"
      }
    },
    {
      "cell_type": "code",
      "source": [
        "# Paso 4: posterior\n",
        "# CODIGO DEL ALUMNO ============================================================\n",
        "\n",
        "# Grafico\n",
        "\n",
        "\n",
        "# Tabla\n",
        "\n",
        "# =============================================================================="
      ],
      "metadata": {
        "id": "97bHtgyW96t_"
      },
      "execution_count": null,
      "outputs": []
    },
    {
      "cell_type": "markdown",
      "source": [
        "#### Actividad 7\n",
        "\n",
        "**Actividad**: En base los resultados, ¿puede afirmar que los hormigones son diferentes? Es decir, ¿los parámetros que explican la resistencia del hormigón con o sin tratamiento varían?\n",
        "\n",
        "Muestre gráficamente con `az.plot_posterior` la diferencia en el valor medio entre hormigones, con un intervalo de confianza de 90%.\n",
        "\n",
        "*NOTA*: Según el modelo, tal vez deba manipular las simulaciones primero para poder graficarlo, o tal vez lo que se pide sea directamente uno de los parámetros del modelo construido."
      ],
      "metadata": {
        "id": "scA06mk4XE1R"
      }
    },
    {
      "cell_type": "code",
      "source": [
        "results_1"
      ],
      "metadata": {
        "id": "ydgq9oVIAyDU"
      },
      "execution_count": null,
      "outputs": []
    },
    {
      "cell_type": "code",
      "source": [
        "# Paso 5: comparacion valores medios\n",
        "# CODIGO DEL ALUMNO ============================================================\n",
        "\n",
        "# Grafico\n",
        "\n",
        "\n",
        "\n",
        "\n",
        "\n",
        "# =============================================================================="
      ],
      "metadata": {
        "colab": {
          "base_uri": "https://localhost:8080/",
          "height": 487
        },
        "id": "g3gv4YfM_tRU",
        "outputId": "c111484d-0595-49a8-961c-1dcde8334357"
      },
      "execution_count": null,
      "outputs": [
        {
          "output_type": "display_data",
          "data": {
            "text/plain": [
              "<Figure size 640x480 with 1 Axes>"
            ],
            "image/png": "[encoded data removed]"
          },
          "metadata": {}
        }
      ]
    },
    {
      "cell_type": "markdown",
      "source": [
        "**Su respuesta**:"
      ],
      "metadata": {
        "id": "ajGBQnjw6o1X"
      }
    },
    {
      "cell_type": "markdown",
      "source": [
        "### Distribución posterior predictiva"
      ],
      "metadata": {
        "id": "6KSivzgZ77_1"
      }
    },
    {
      "cell_type": "markdown",
      "source": [
        "#### Actividad 8\n",
        "\n",
        "**Actividad**: Construya un dataframe de nombre `df_new` con las muestras de hormigón que queremos predecir:\n",
        "\n",
        "1. Un hormigón sin tratamiento\n",
        "2. Un hormigón con tratamiento"
      ],
      "metadata": {
        "id": "2drr4zmjXb-H"
      }
    },
    {
      "cell_type": "code",
      "source": [
        "# Probetas a predecir\n",
        "\n",
        "# CODIGO DEL ALUMNO ============================================================\n",
        "df_new =\n",
        "# ==============================================================================\n",
        "\n",
        "df_new"
      ],
      "metadata": {
        "colab": {
          "base_uri": "https://localhost:8080/",
          "height": 125
        },
        "id": "ELCUCQ4a7p0e",
        "outputId": "8c6f0fa1-ae85-434d-dd61-45940e0adc25"
      },
      "execution_count": null,
      "outputs": [
        {
          "output_type": "execute_result",
          "data": {
            "text/plain": [
              "  Tratamiento\n",
              "0          No\n",
              "1          Si"
            ],
            "text/html": [
              "\n",
              "  <div id=\"df-349f7152-cdf6-48c0-bb76-14ff1fbff94f\" class=\"colab-df-container\">\n",
              "    <div>\n",
              "<style scoped>\n",
              "    .dataframe tbody tr th:only-of-type {\n",
              "        vertical-align: middle;\n",
              "    }\n",
              "\n",
              "    .dataframe tbody tr th {\n",
              "        vertical-align: top;\n",
              "    }\n",
              "\n",
              "    .dataframe thead th {\n",
              "        text-align: right;\n",
              "    }\n",
              "</style>\n",
              "<table border=\"1\" class=\"dataframe\">\n",
              "  <thead>\n",
              "    <tr style=\"text-align: right;\">\n",
              "      <th></th>\n",
              "      <th>Tratamiento</th>\n",
              "    </tr>\n",
              "  </thead>\n",
              "  <tbody>\n",
              "    <tr>\n",
              "      <th>0</th>\n",
              "      <td>No</td>\n",
              "    </tr>\n",
              "    <tr>\n",
              "      <th>1</th>\n",
              "      <td>Si</td>\n",
              "    </tr>\n",
              "  </tbody>\n",
              "</table>\n",
              "</div>\n",
              "    <div class=\"colab-df-buttons\">\n",
              "\n",
              "  <div class=\"colab-df-container\">\n",
              "    <button class=\"colab-df-convert\" onclick=\"convertToInteractive('df-349f7152-cdf6-48c0-bb76-14ff1fbff94f')\"\n",
              "            title=\"Convert this dataframe to an interactive table.\"\n",
              "            style=\"display:none;\">\n",
              "\n",
              "  <svg xmlns=\"http://www.w3.org/2000/svg\" height=\"24px\" viewBox=\"0 -960 960 960\">\n",
              "    <path d=\"M120-120v-720h720v720H120Zm60-500h600v-160H180v160Zm220 220h160v-160H400v160Zm0 220h160v-160H400v160ZM180-400h160v-160H180v160Zm440 0h160v-160H620v160ZM180-180h160v-160H180v160Zm440 0h160v-160H620v160Z\"/>\n",
              "  </svg>\n",
              "    </button>\n",
              "\n",
              "  <style>\n",
              "    .colab-df-container {\n",
              "      display:flex;\n",
              "      gap: 12px;\n",
              "    }\n",
              "\n",
              "    .colab-df-convert {\n",
              "      background-color: #E8F0FE;\n",
              "      border: none;\n",
              "      border-radius: 50%;\n",
              "      cursor: pointer;\n",
              "      display: none;\n",
              "      fill: #1967D2;\n",
              "      height: 32px;\n",
              "      padding: 0 0 0 0;\n",
              "      width: 32px;\n",
              "    }\n",
              "\n",
              "    .colab-df-convert:hover {\n",
              "      background-color: #E2EBFA;\n",
              "      box-shadow: 0px 1px 2px rgba(60, 64, 67, 0.3), 0px 1px 3px 1px rgba(60, 64, 67, 0.15);\n",
              "      fill: #174EA6;\n",
              "    }\n",
              "\n",
              "    .colab-df-buttons div {\n",
              "      margin-bottom: 4px;\n",
              "    }\n",
              "\n",
              "    [theme=dark] .colab-df-convert {\n",
              "      background-color: #3B4455;\n",
              "      fill: #D2E3FC;\n",
              "    }\n",
              "\n",
              "    [theme=dark] .colab-df-convert:hover {\n",
              "      background-color: #434B5C;\n",
              "      box-shadow: 0px 1px 3px 1px rgba(0, 0, 0, 0.15);\n",
              "      filter: drop-shadow(0px 1px 2px rgba(0, 0, 0, 0.3));\n",
              "      fill: #FFFFFF;\n",
              "    }\n",
              "  </style>\n",
              "\n",
              "    <script>\n",
              "      const buttonEl =\n",
              "        document.querySelector('#df-349f7152-cdf6-48c0-bb76-14ff1fbff94f button.colab-df-convert');\n",
              "      buttonEl.style.display =\n",
              "        google.colab.kernel.accessAllowed ? 'block' : 'none';\n",
              "\n",
              "      async function convertToInteractive(key) {\n",
              "        const element = document.querySelector('#df-349f7152-cdf6-48c0-bb76-14ff1fbff94f');\n",
              "        const dataTable =\n",
              "          await google.colab.kernel.invokeFunction('convertToInteractive',\n",
              "                                                    [key], {});\n",
              "        if (!dataTable) return;\n",
              "\n",
              "        const docLinkHtml = 'Like what you see? Visit the ' +\n",
              "          '<a target=\"_blank\" href=https://colab.research.google.com/notebooks/data_table.ipynb>data table notebook</a>'\n",
              "          + ' to learn more about interactive tables.';\n",
              "        element.innerHTML = '';\n",
              "        dataTable['output_type'] = 'display_data';\n",
              "        await google.colab.output.renderOutput(dataTable, element);\n",
              "        const docLink = document.createElement('div');\n",
              "        docLink.innerHTML = docLinkHtml;\n",
              "        element.appendChild(docLink);\n",
              "      }\n",
              "    </script>\n",
              "  </div>\n",
              "\n",
              "\n",
              "<div id=\"df-c56c650b-94bd-493a-bdc1-880c85e6209c\">\n",
              "  <button class=\"colab-df-quickchart\" onclick=\"quickchart('df-c56c650b-94bd-493a-bdc1-880c85e6209c')\"\n",
              "            title=\"Suggest charts\"\n",
              "            style=\"display:none;\">\n",
              "\n",
              "<svg xmlns=\"http://www.w3.org/2000/svg\" height=\"24px\"viewBox=\"0 0 24 24\"\n",
              "     width=\"24px\">\n",
              "    <g>\n",
              "        <path d=\"M19 3H5c-1.1 0-2 .9-2 2v14c0 1.1.9 2 2 2h14c1.1 0 2-.9 2-2V5c0-1.1-.9-2-2-2zM9 17H7v-7h2v7zm4 0h-2V7h2v10zm4 0h-2v-4h2v4z\"/>\n",
              "    </g>\n",
              "</svg>\n",
              "  </button>\n",
              "\n",
              "<style>\n",
              "  .colab-df-quickchart {\n",
              "      --bg-color: #E8F0FE;\n",
              "      --fill-color: #1967D2;\n",
              "      --hover-bg-color: #E2EBFA;\n",
              "      --hover-fill-color: #174EA6;\n",
              "      --disabled-fill-color: #AAA;\n",
              "      --disabled-bg-color: #DDD;\n",
              "  }\n",
              "\n",
              "  [theme=dark] .colab-df-quickchart {\n",
              "      --bg-color: #3B4455;\n",
              "      --fill-color: #D2E3FC;\n",
              "      --hover-bg-color: #434B5C;\n",
              "      --hover-fill-color: #FFFFFF;\n",
              "      --disabled-bg-color: #3B4455;\n",
              "      --disabled-fill-color: #666;\n",
              "  }\n",
              "\n",
              "  .colab-df-quickchart {\n",
              "    background-color: var(--bg-color);\n",
              "    border: none;\n",
              "    border-radius: 50%;\n",
              "    cursor: pointer;\n",
              "    display: none;\n",
              "    fill: var(--fill-color);\n",
              "    height: 32px;\n",
              "    padding: 0;\n",
              "    width: 32px;\n",
              "  }\n",
              "\n",
              "  .colab-df-quickchart:hover {\n",
              "    background-color: var(--hover-bg-color);\n",
              "    box-shadow: 0 1px 2px rgba(60, 64, 67, 0.3), 0 1px 3px 1px rgba(60, 64, 67, 0.15);\n",
              "    fill: var(--button-hover-fill-color);\n",
              "  }\n",
              "\n",
              "  .colab-df-quickchart-complete:disabled,\n",
              "  .colab-df-quickchart-complete:disabled:hover {\n",
              "    background-color: var(--disabled-bg-color);\n",
              "    fill: var(--disabled-fill-color);\n",
              "    box-shadow: none;\n",
              "  }\n",
              "\n",
              "  .colab-df-spinner {\n",
              "    border: 2px solid var(--fill-color);\n",
              "    border-color: transparent;\n",
              "    border-bottom-color: var(--fill-color);\n",
              "    animation:\n",
              "      spin 1s steps(1) infinite;\n",
              "  }\n",
              "\n",
              "  @keyframes spin {\n",
              "    0% {\n",
              "      border-color: transparent;\n",
              "      border-bottom-color: var(--fill-color);\n",
              "      border-left-color: var(--fill-color);\n",
              "    }\n",
              "    20% {\n",
              "      border-color: transparent;\n",
              "      border-left-color: var(--fill-color);\n",
              "      border-top-color: var(--fill-color);\n",
              "    }\n",
              "    30% {\n",
              "      border-color: transparent;\n",
              "      border-left-color: var(--fill-color);\n",
              "      border-top-color: var(--fill-color);\n",
              "      border-right-color: var(--fill-color);\n",
              "    }\n",
              "    40% {\n",
              "      border-color: transparent;\n",
              "      border-right-color: var(--fill-color);\n",
              "      border-top-color: var(--fill-color);\n",
              "    }\n",
              "    60% {\n",
              "      border-color: transparent;\n",
              "      border-right-color: var(--fill-color);\n",
              "    }\n",
              "    80% {\n",
              "      border-color: transparent;\n",
              "      border-right-color: var(--fill-color);\n",
              "      border-bottom-color: var(--fill-color);\n",
              "    }\n",
              "    90% {\n",
              "      border-color: transparent;\n",
              "      border-bottom-color: var(--fill-color);\n",
              "    }\n",
              "  }\n",
              "</style>\n",
              "\n",
              "  <script>\n",
              "    async function quickchart(key) {\n",
              "      const quickchartButtonEl =\n",
              "        document.querySelector('#' + key + ' button');\n",
              "      quickchartButtonEl.disabled = true;  // To prevent multiple clicks.\n",
              "      quickchartButtonEl.classList.add('colab-df-spinner');\n",
              "      try {\n",
              "        const charts = await google.colab.kernel.invokeFunction(\n",
              "            'suggestCharts', [key], {});\n",
              "      } catch (error) {\n",
              "        console.error('Error during call to suggestCharts:', error);\n",
              "      }\n",
              "      quickchartButtonEl.classList.remove('colab-df-spinner');\n",
              "      quickchartButtonEl.classList.add('colab-df-quickchart-complete');\n",
              "    }\n",
              "    (() => {\n",
              "      let quickchartButtonEl =\n",
              "        document.querySelector('#df-c56c650b-94bd-493a-bdc1-880c85e6209c button');\n",
              "      quickchartButtonEl.style.display =\n",
              "        google.colab.kernel.accessAllowed ? 'block' : 'none';\n",
              "    })();\n",
              "  </script>\n",
              "</div>\n",
              "\n",
              "  <div id=\"id_14885e87-2428-4c5b-b2fd-fe2adf60bab0\">\n",
              "    <style>\n",
              "      .colab-df-generate {\n",
              "        background-color: #E8F0FE;\n",
              "        border: none;\n",
              "        border-radius: 50%;\n",
              "        cursor: pointer;\n",
              "        display: none;\n",
              "        fill: #1967D2;\n",
              "        height: 32px;\n",
              "        padding: 0 0 0 0;\n",
              "        width: 32px;\n",
              "      }\n",
              "\n",
              "      .colab-df-generate:hover {\n",
              "        background-color: #E2EBFA;\n",
              "        box-shadow: 0px 1px 2px rgba(60, 64, 67, 0.3), 0px 1px 3px 1px rgba(60, 64, 67, 0.15);\n",
              "        fill: #174EA6;\n",
              "      }\n",
              "\n",
              "      [theme=dark] .colab-df-generate {\n",
              "        background-color: #3B4455;\n",
              "        fill: #D2E3FC;\n",
              "      }\n",
              "\n",
              "      [theme=dark] .colab-df-generate:hover {\n",
              "        background-color: #434B5C;\n",
              "        box-shadow: 0px 1px 3px 1px rgba(0, 0, 0, 0.15);\n",
              "        filter: drop-shadow(0px 1px 2px rgba(0, 0, 0, 0.3));\n",
              "        fill: #FFFFFF;\n",
              "      }\n",
              "    </style>\n",
              "    <button class=\"colab-df-generate\" onclick=\"generateWithVariable('df_new')\"\n",
              "            title=\"Generate code using this dataframe.\"\n",
              "            style=\"display:none;\">\n",
              "\n",
              "  <svg xmlns=\"http://www.w3.org/2000/svg\" height=\"24px\"viewBox=\"0 0 24 24\"\n",
              "       width=\"24px\">\n",
              "    <path d=\"M7,19H8.4L18.45,9,17,7.55,7,17.6ZM5,21V16.75L18.45,3.32a2,2,0,0,1,2.83,0l1.4,1.43a1.91,1.91,0,0,1,.58,1.4,1.91,1.91,0,0,1-.58,1.4L9.25,21ZM18.45,9,17,7.55Zm-12,3A5.31,5.31,0,0,0,4.9,8.1,5.31,5.31,0,0,0,1,6.5,5.31,5.31,0,0,0,4.9,4.9,5.31,5.31,0,0,0,6.5,1,5.31,5.31,0,0,0,8.1,4.9,5.31,5.31,0,0,0,12,6.5,5.46,5.46,0,0,0,6.5,12Z\"/>\n",
              "  </svg>\n",
              "    </button>\n",
              "    <script>\n",
              "      (() => {\n",
              "      const buttonEl =\n",
              "        document.querySelector('#id_14885e87-2428-4c5b-b2fd-fe2adf60bab0 button.colab-df-generate');\n",
              "      buttonEl.style.display =\n",
              "        google.colab.kernel.accessAllowed ? 'block' : 'none';\n",
              "\n",
              "      buttonEl.onclick = () => {\n",
              "        google.colab.notebook.generateWithVariable('df_new');\n",
              "      }\n",
              "      })();\n",
              "    </script>\n",
              "  </div>\n",
              "\n",
              "    </div>\n",
              "  </div>\n"
            ],
            "application/vnd.google.colaboratory.intrinsic+json": {
              "type": "dataframe",
              "variable_name": "df_new",
              "summary": "{\n  \"name\": \"df_new\",\n  \"rows\": 2,\n  \"fields\": [\n    {\n      \"column\": \"Tratamiento\",\n      \"properties\": {\n        \"dtype\": \"string\",\n        \"num_unique_values\": 2,\n        \"samples\": [\n          \"Si\",\n          \"No\"\n        ],\n        \"semantic_type\": \"\",\n        \"description\": \"\"\n      }\n    }\n  ]\n}"
            }
          },
          "metadata": {},
          "execution_count": 23
        }
      ]
    },
    {
      "cell_type": "markdown",
      "source": [
        "#### Actividad 9\n",
        "\n",
        "**Actividad**: Para las probetas del nuevo dataset, prediga el valor medio de su resistencia y genere simulaciones de ensayos. Gráfique para cada muestra la densidad de probabilidad de su valor medio y del resultado de un ensayo.\n",
        "\n",
        "*NOTA*: Puede hacerlo con el método `.predict` de `Bambi`, y luego con la función `az.plot_posterior`."
      ],
      "metadata": {
        "id": "1qf3VXp_zZkA"
      }
    },
    {
      "cell_type": "code",
      "source": [
        "# Predicción de las probetas\n",
        "\n",
        "# CODIGO DEL ALUMNO ============================================================\n",
        "results_new =\n",
        "# =============================================================================="
      ],
      "metadata": {
        "id": "Qes6dNCvDKLK"
      },
      "execution_count": null,
      "outputs": []
    },
    {
      "cell_type": "code",
      "source": [
        "# Valores medios de cada probeta\n",
        "\n",
        "# CODIGO DEL ALUMNO ============================================================\n",
        "\n",
        "\n",
        "# =============================================================================="
      ],
      "metadata": {
        "colab": {
          "base_uri": "https://localhost:8080/",
          "height": 534
        },
        "id": "vdhcPciuDkKj",
        "outputId": "45fd6a8d-fb24-44b9-e763-c940d71e32bd"
      },
      "execution_count": null,
      "outputs": [
        {
          "output_type": "display_data",
          "data": {
            "text/plain": [
              "<Figure size 1472x552 with 2 Axes>"
            ],
            "image/png": "[encoded data removed]"
          },
          "metadata": {}
        }
      ]
    },
    {
      "cell_type": "code",
      "source": [
        "# Simulaciones de resistencia de cada probeta\n",
        "\n",
        "# CODIGO DEL ALUMNO ============================================================\n",
        "\n",
        "\n",
        "# =============================================================================="
      ],
      "metadata": {
        "colab": {
          "base_uri": "https://localhost:8080/",
          "height": 534
        },
        "id": "Gl3G7FMJELK4",
        "outputId": "aa1a7a4d-3443-4fe3-9d01-e1c2c25e2ec4"
      },
      "execution_count": null,
      "outputs": [
        {
          "output_type": "display_data",
          "data": {
            "text/plain": [
              "<Figure size 1472x552 with 2 Axes>"
            ],
            "image/png": "[encoded data removed]"
          },
          "metadata": {}
        }
      ]
    },
    {
      "cell_type": "markdown",
      "source": [
        "#### Actividad 10\n",
        "\n",
        "**Actividad**: Compare los valores medios. ¿Puede afirmar que son distintos? Muéstrelo en forma gráfica.\n",
        "\n",
        "*NOTA*: Estamos repitiendo la Actividad 7 vista de otra manera. Le conviene definir una vector con la diferencia de valores medios, y luego cargar eso en `az.plot_posterior`"
      ],
      "metadata": {
        "id": "DccPTkD6Fce_"
      }
    },
    {
      "cell_type": "code",
      "source": [
        "results_new"
      ],
      "metadata": {
        "id": "hn2Olaj1GRJ_"
      },
      "execution_count": null,
      "outputs": []
    },
    {
      "cell_type": "code",
      "source": [
        "# Paso 5: comparacion valores medios\n",
        "# CODIGO DEL ALUMNO ============================================================\n",
        "\n",
        "# Diferencia\n",
        "diff =\n",
        "\n",
        "# Grafico\n",
        "\n",
        "\n",
        "\n",
        "\n",
        "# =============================================================================="
      ],
      "metadata": {
        "colab": {
          "base_uri": "https://localhost:8080/",
          "height": 486
        },
        "id": "jjEFeOplF6f5",
        "outputId": "9aa1fb39-527d-48cf-8411-be0e06944309"
      },
      "execution_count": null,
      "outputs": [
        {
          "output_type": "display_data",
          "data": {
            "text/plain": [
              "<Figure size 640x480 with 1 Axes>"
            ],
            "image/png": "[encoded data removed]"
          },
          "metadata": {}
        }
      ]
    },
    {
      "cell_type": "markdown",
      "source": [
        "**Su respuesta**:"
      ],
      "metadata": {
        "id": "BtkxxsihG6ZM"
      }
    },
    {
      "cell_type": "markdown",
      "source": [
        "#### Actividad 11\n",
        "\n",
        "**Actividad**: Compare los valores de resistencia. ¿Puede afirmar que el tratamiento aumenta la misma 2 MPa?"
      ],
      "metadata": {
        "id": "sfXznObHG1ZM"
      }
    },
    {
      "cell_type": "code",
      "source": [
        "# Paso 6: comparacion de resistencias\n",
        "# CODIGO DEL ALUMNO ============================================================\n",
        "\n",
        "# Diferencia\n",
        "diff =\n",
        "\n",
        "# Grafico\n",
        "\n",
        "\n",
        "\n",
        "# =============================================================================="
      ],
      "metadata": {
        "colab": {
          "base_uri": "https://localhost:8080/",
          "height": 486
        },
        "id": "Uk01M6T4HHks",
        "outputId": "9c1346dc-cd61-4bc5-b9d5-4f26d300500c"
      },
      "execution_count": null,
      "outputs": [
        {
          "output_type": "display_data",
          "data": {
            "text/plain": [
              "<Figure size 640x480 with 1 Axes>"
            ],
            "image/png": "[encoded data removed]"
          },
          "metadata": {}
        }
      ]
    },
    {
      "cell_type": "markdown",
      "source": [
        "**Su respuesta**:"
      ],
      "metadata": {
        "id": "zkfMHrcnHacu"
      }
    },
    {
      "cell_type": "markdown",
      "source": [
        "#### Actividad 12\n",
        "\n",
        "**Actividad**: Calcule para cada hormigón su resistencia característica (su cuantil 0.10)"
      ],
      "metadata": {
        "id": "ZerlTV23He9R"
      }
    },
    {
      "cell_type": "code",
      "source": [
        "# Paso 7: f'c\n",
        "# CODIGO DEL ALUMNO ============================================================\n",
        "\n",
        "# Resistencias caracteristicas\n",
        "fc_0 =\n",
        "fc_1 =\n",
        "\n",
        "# ==============================================================================\n",
        "print('Resistencia característica sin tratamiento:',np.round(fc_0,2),'MPa')\n",
        "print('Resistencia característica con tratamiento:',np.round(fc_1,2),'MPa')"
      ],
      "metadata": {
        "colab": {
          "base_uri": "https://localhost:8080/"
        },
        "id": "GiVlQgLvHxSd",
        "outputId": "eddfc21a-0fad-431e-c9c6-dfad16dc3389"
      },
      "execution_count": null,
      "outputs": [
        {
          "output_type": "stream",
          "name": "stdout",
          "text": [
            "Resistencia característica sin tratamiento: 31.01 MPa\n",
            "Resistencia característica con tratamiento: 35.23 MPa\n"
          ]
        }
      ]
    },
    {
      "cell_type": "markdown",
      "source": [
        "## Ejercicio 3: Período Natural de edificios aporticados de acero\n",
        "\n",
        "Se quieren verificar las ecuaciones presentes en el Reglamento ASCE-7 de Estados Unidos (en el cual se basa la línea CIRSOC Argentina) para estimar el período natural de edificaciones de acero. El trabajo original y su propuesta corresponde a Goel y Chopra, 1997 ([Link](https://ascelibrary.org/doi/10.1061/%28ASCE%290733-9445%281997%29123%3A11%281454%29))"
      ],
      "metadata": {
        "id": "yvoDpVWuIiPd"
      }
    },
    {
      "cell_type": "markdown",
      "source": [
        "### Carga del Dataset\n",
        "\n"
      ],
      "metadata": {
        "id": "czEdWH-1ftNG"
      }
    },
    {
      "cell_type": "code",
      "source": [
        "#Abrimos un archivo local, es decir, que ha sido descargado en su computadora\n",
        "from google.colab import files\n",
        "uploaded = files.upload()"
      ],
      "metadata": {
        "colab": {
          "base_uri": "https://localhost:8080/",
          "height": 73
        },
        "outputId": "18c51c7e-16b9-4ab2-e7b3-b127e2c6c54a",
        "id": "3CaWCUrvftNR"
      },
      "execution_count": null,
      "outputs": [
        {
          "output_type": "display_data",
          "data": {
            "text/plain": [
              "<IPython.core.display.HTML object>"
            ],
            "text/html": [
              "\n",
              "     <input type=\"file\" id=\"files-1be3da5a-1f56-4137-aab7-0fc54c9d3ea6\" name=\"files[]\" multiple disabled\n",
              "        style=\"border:none\" />\n",
              "     <output id=\"result-1be3da5a-1f56-4137-aab7-0fc54c9d3ea6\">\n",
              "      Upload widget is only available when the cell has been executed in the\n",
              "      current browser session. Please rerun this cell to enable.\n",
              "      </output>\n",
              "      <script>// Copyright 2017 Google LLC\n",
              "//\n",
              "// Licensed under the Apache License, Version 2.0 (the \"License\");\n",
              "// you may not use this file except in compliance with the License.\n",
              "// You may obtain a copy of the License at\n",
              "//\n",
              "//      http://www.apache.org/licenses/LICENSE-2.0\n",
              "//\n",
              "// Unless required by applicable law or agreed to in writing, software\n",
              "// distributed under the License is distributed on an \"AS IS\" BASIS,\n",
              "// WITHOUT WARRANTIES OR CONDITIONS OF ANY KIND, either express or implied.\n",
              "// See the License for the specific language governing permissions and\n",
              "// limitations under the License.\n",
              "\n",
              "/**\n",
              " * @fileoverview Helpers for google.colab Python module.\n",
              " */\n",
              "(function(scope) {\n",
              "function span(text, styleAttributes = {}) {\n",
              "  const element = document.createElement('span');\n",
              "  element.textContent = text;\n",
              "  for (const key of Object.keys(styleAttributes)) {\n",
              "    element.style[key] = styleAttributes[key];\n",
              "  }\n",
              "  return element;\n",
              "}\n",
              "\n",
              "// Max number of bytes which will be uploaded at a time.\n",
              "const MAX_PAYLOAD_SIZE = 100 * 1024;\n",
              "\n",
              "function _uploadFiles(inputId, outputId) {\n",
              "  const steps = uploadFilesStep(inputId, outputId);\n",
              "  const outputElement = document.getElementById(outputId);\n",
              "  // Cache steps on the outputElement to make it available for the next call\n",
              "  // to uploadFilesContinue from Python.\n",
              "  outputElement.steps = steps;\n",
              "\n",
              "  return _uploadFilesContinue(outputId);\n",
              "}\n",
              "\n",
              "// This is roughly an async generator (not supported in the browser yet),\n",
              "// where there are multiple asynchronous steps and the Python side is going\n",
              "// to poll for completion of each step.\n",
              "// This uses a Promise to block the python side on completion of each step,\n",
              "// then passes the result of the previous step as the input to the next step.\n",
              "function _uploadFilesContinue(outputId) {\n",
              "  const outputElement = document.getElementById(outputId);\n",
              "  const steps = outputElement.steps;\n",
              "\n",
              "  const next = steps.next(outputElement.lastPromiseValue);\n",
              "  return Promise.resolve(next.value.promise).then((value) => {\n",
              "    // Cache the last promise value to make it available to the next\n",
              "    // step of the generator.\n",
              "    outputElement.lastPromiseValue = value;\n",
              "    return next.value.response;\n",
              "  });\n",
              "}\n",
              "\n",
              "/**\n",
              " * Generator function which is called between each async step of the upload\n",
              " * process.\n",
              " * @param {string} inputId Element ID of the input file picker element.\n",
              " * @param {string} outputId Element ID of the output display.\n",
              " * @return {!Iterable<!Object>} Iterable of next steps.\n",
              " */\n",
              "function* uploadFilesStep(inputId, outputId) {\n",
              "  const inputElement = document.getElementById(inputId);\n",
              "  inputElement.disabled = false;\n",
              "\n",
              "  const outputElement = document.getElementById(outputId);\n",
              "  outputElement.innerHTML = '';\n",
              "\n",
              "  const pickedPromise = new Promise((resolve) => {\n",
              "    inputElement.addEventListener('change', (e) => {\n",
              "      resolve(e.target.files);\n",
              "    });\n",
              "  });\n",
              "\n",
              "  const cancel = document.createElement('button');\n",
              "  inputElement.parentElement.appendChild(cancel);\n",
              "  cancel.textContent = 'Cancel upload';\n",
              "  const cancelPromise = new Promise((resolve) => {\n",
              "    cancel.onclick = () => {\n",
              "      resolve(null);\n",
              "    };\n",
              "  });\n",
              "\n",
              "  // Wait for the user to pick the files.\n",
              "  const files = yield {\n",
              "    promise: Promise.race([pickedPromise, cancelPromise]),\n",
              "    response: {\n",
              "      action: 'starting',\n",
              "    }\n",
              "  };\n",
              "\n",
              "  cancel.remove();\n",
              "\n",
              "  // Disable the input element since further picks are not allowed.\n",
              "  inputElement.disabled = true;\n",
              "\n",
              "  if (!files) {\n",
              "    return {\n",
              "      response: {\n",
              "        action: 'complete',\n",
              "      }\n",
              "    };\n",
              "  }\n",
              "\n",
              "  for (const file of files) {\n",
              "    const li = document.createElement('li');\n",
              "    li.append(span(file.name, {fontWeight: 'bold'}));\n",
              "    li.append(span(\n",
              "        `(${file.type || 'n/a'}) - ${file.size} bytes, ` +\n",
              "        `last modified: ${\n",
              "            file.lastModifiedDate ? file.lastModifiedDate.toLocaleDateString() :\n",
              "                                    'n/a'} - `));\n",
              "    const percent = span('0% done');\n",
              "    li.appendChild(percent);\n",
              "\n",
              "    outputElement.appendChild(li);\n",
              "\n",
              "    const fileDataPromise = new Promise((resolve) => {\n",
              "      const reader = new FileReader();\n",
              "      reader.onload = (e) => {\n",
              "        resolve(e.target.result);\n",
              "      };\n",
              "      reader.readAsArrayBuffer(file);\n",
              "    });\n",
              "    // Wait for the data to be ready.\n",
              "    let fileData = yield {\n",
              "      promise: fileDataPromise,\n",
              "      response: {\n",
              "        action: 'continue',\n",
              "      }\n",
              "    };\n",
              "\n",
              "    // Use a chunked sending to avoid message size limits. See b/62115660.\n",
              "    let position = 0;\n",
              "    do {\n",
              "      const length = Math.min(fileData.byteLength - position, MAX_PAYLOAD_SIZE);\n",
              "      const chunk = new Uint8Array(fileData, position, length);\n",
              "      position += length;\n",
              "\n",
              "      const base64 = btoa(String.fromCharCode.apply(null, chunk));\n",
              "      yield {\n",
              "        response: {\n",
              "          action: 'append',\n",
              "          file: file.name,\n",
              "          data: base64,\n",
              "        },\n",
              "      };\n",
              "\n",
              "      let percentDone = fileData.byteLength === 0 ?\n",
              "          100 :\n",
              "          Math.round((position / fileData.byteLength) * 100);\n",
              "      percent.textContent = `${percentDone}% done`;\n",
              "\n",
              "    } while (position < fileData.byteLength);\n",
              "  }\n",
              "\n",
              "  // All done.\n",
              "  yield {\n",
              "    response: {\n",
              "      action: 'complete',\n",
              "    }\n",
              "  };\n",
              "}\n",
              "\n",
              "scope.google = scope.google || {};\n",
              "scope.google.colab = scope.google.colab || {};\n",
              "scope.google.colab._files = {\n",
              "  _uploadFiles,\n",
              "  _uploadFilesContinue,\n",
              "};\n",
              "})(self);\n",
              "</script> "
            ]
          },
          "metadata": {}
        },
        {
          "output_type": "stream",
          "name": "stdout",
          "text": [
            "Saving GoelChopraPeriod.csv to GoelChopraPeriod.csv\n"
          ]
        }
      ]
    },
    {
      "cell_type": "code",
      "source": [
        "#Se crea un DataFrame\n",
        "df_chopra = pd.read_csv(io.BytesIO(uploaded['GoelChopraPeriod.csv']))\n",
        "df_chopra.head()"
      ],
      "metadata": {
        "colab": {
          "base_uri": "https://localhost:8080/",
          "height": 293
        },
        "outputId": "07457e5c-044c-4d76-f75a-6d780efdc799",
        "id": "zpQs1YZxftNS"
      },
      "execution_count": null,
      "outputs": [
        {
          "output_type": "execute_result",
          "data": {
            "text/plain": [
              "  Structure  No.     Location ID number  No. of Stories  Height [ft]  \\\n",
              "0    RC MRF    1   Emeryville       NaN            30.0        300.0   \n",
              "1    RC MRF    2  Los Angeles       NaN             9.0        120.0   \n",
              "2    RC MRF    3  Los Angeles       NaN            14.0        160.0   \n",
              "3    RC MRF    4  Los Angeles       NaN            13.0        166.0   \n",
              "4    RC MRF    5  Los Angeles    ATC_12            10.0        137.5   \n",
              "\n",
              "   Width [ft]  Length [ft]  Ac [sq ft]  Ae [%]    Earthquake  PGA [g]  \\\n",
              "0         NaN          NaN         NaN     NaN   Loma Prieta      NaN   \n",
              "1         NaN          NaN         NaN     NaN  San Fernando      NaN   \n",
              "2         NaN          NaN         NaN     NaN  San Fernando      NaN   \n",
              "3         NaN          NaN         NaN     NaN  San Fernando      NaN   \n",
              "4         NaN          NaN         NaN     NaN  San Fernando      NaN   \n",
              "\n",
              "  PGA > 0.15g  Period T [s]     Direction  \n",
              "0          No           2.8  Longitudinal  \n",
              "1          No           1.4  Longitudinal  \n",
              "2          No           1.8  Longitudinal  \n",
              "3          No           1.9  Longitudinal  \n",
              "4          No           1.4  Longitudinal  "
            ],
            "text/html": [
              "\n",
              "  <div id=\"df-8290f9e7-ce19-4354-ab05-0ea0753a96bf\" class=\"colab-df-container\">\n",
              "    <div>\n",
              "<style scoped>\n",
              "    .dataframe tbody tr th:only-of-type {\n",
              "        vertical-align: middle;\n",
              "    }\n",
              "\n",
              "    .dataframe tbody tr th {\n",
              "        vertical-align: top;\n",
              "    }\n",
              "\n",
              "    .dataframe thead th {\n",
              "        text-align: right;\n",
              "    }\n",
              "</style>\n",
              "<table border=\"1\" class=\"dataframe\">\n",
              "  <thead>\n",
              "    <tr style=\"text-align: right;\">\n",
              "      <th></th>\n",
              "      <th>Structure</th>\n",
              "      <th>No.</th>\n",
              "      <th>Location</th>\n",
              "      <th>ID number</th>\n",
              "      <th>No. of Stories</th>\n",
              "      <th>Height [ft]</th>\n",
              "      <th>Width [ft]</th>\n",
              "      <th>Length [ft]</th>\n",
              "      <th>Ac [sq ft]</th>\n",
              "      <th>Ae [%]</th>\n",
              "      <th>Earthquake</th>\n",
              "      <th>PGA [g]</th>\n",
              "      <th>PGA &gt; 0.15g</th>\n",
              "      <th>Period T [s]</th>\n",
              "      <th>Direction</th>\n",
              "    </tr>\n",
              "  </thead>\n",
              "  <tbody>\n",
              "    <tr>\n",
              "      <th>0</th>\n",
              "      <td>RC MRF</td>\n",
              "      <td>1</td>\n",
              "      <td>Emeryville</td>\n",
              "      <td>NaN</td>\n",
              "      <td>30.0</td>\n",
              "      <td>300.0</td>\n",
              "      <td>NaN</td>\n",
              "      <td>NaN</td>\n",
              "      <td>NaN</td>\n",
              "      <td>NaN</td>\n",
              "      <td>Loma Prieta</td>\n",
              "      <td>NaN</td>\n",
              "      <td>No</td>\n",
              "      <td>2.8</td>\n",
              "      <td>Longitudinal</td>\n",
              "    </tr>\n",
              "    <tr>\n",
              "      <th>1</th>\n",
              "      <td>RC MRF</td>\n",
              "      <td>2</td>\n",
              "      <td>Los Angeles</td>\n",
              "      <td>NaN</td>\n",
              "      <td>9.0</td>\n",
              "      <td>120.0</td>\n",
              "      <td>NaN</td>\n",
              "      <td>NaN</td>\n",
              "      <td>NaN</td>\n",
              "      <td>NaN</td>\n",
              "      <td>San Fernando</td>\n",
              "      <td>NaN</td>\n",
              "      <td>No</td>\n",
              "      <td>1.4</td>\n",
              "      <td>Longitudinal</td>\n",
              "    </tr>\n",
              "    <tr>\n",
              "      <th>2</th>\n",
              "      <td>RC MRF</td>\n",
              "      <td>3</td>\n",
              "      <td>Los Angeles</td>\n",
              "      <td>NaN</td>\n",
              "      <td>14.0</td>\n",
              "      <td>160.0</td>\n",
              "      <td>NaN</td>\n",
              "      <td>NaN</td>\n",
              "      <td>NaN</td>\n",
              "      <td>NaN</td>\n",
              "      <td>San Fernando</td>\n",
              "      <td>NaN</td>\n",
              "      <td>No</td>\n",
              "      <td>1.8</td>\n",
              "      <td>Longitudinal</td>\n",
              "    </tr>\n",
              "    <tr>\n",
              "      <th>3</th>\n",
              "      <td>RC MRF</td>\n",
              "      <td>4</td>\n",
              "      <td>Los Angeles</td>\n",
              "      <td>NaN</td>\n",
              "      <td>13.0</td>\n",
              "      <td>166.0</td>\n",
              "      <td>NaN</td>\n",
              "      <td>NaN</td>\n",
              "      <td>NaN</td>\n",
              "      <td>NaN</td>\n",
              "      <td>San Fernando</td>\n",
              "      <td>NaN</td>\n",
              "      <td>No</td>\n",
              "      <td>1.9</td>\n",
              "      <td>Longitudinal</td>\n",
              "    </tr>\n",
              "    <tr>\n",
              "      <th>4</th>\n",
              "      <td>RC MRF</td>\n",
              "      <td>5</td>\n",
              "      <td>Los Angeles</td>\n",
              "      <td>ATC_12</td>\n",
              "      <td>10.0</td>\n",
              "      <td>137.5</td>\n",
              "      <td>NaN</td>\n",
              "      <td>NaN</td>\n",
              "      <td>NaN</td>\n",
              "      <td>NaN</td>\n",
              "      <td>San Fernando</td>\n",
              "      <td>NaN</td>\n",
              "      <td>No</td>\n",
              "      <td>1.4</td>\n",
              "      <td>Longitudinal</td>\n",
              "    </tr>\n",
              "  </tbody>\n",
              "</table>\n",
              "</div>\n",
              "    <div class=\"colab-df-buttons\">\n",
              "\n",
              "  <div class=\"colab-df-container\">\n",
              "    <button class=\"colab-df-convert\" onclick=\"convertToInteractive('df-8290f9e7-ce19-4354-ab05-0ea0753a96bf')\"\n",
              "            title=\"Convert this dataframe to an interactive table.\"\n",
              "            style=\"display:none;\">\n",
              "\n",
              "  <svg xmlns=\"http://www.w3.org/2000/svg\" height=\"24px\" viewBox=\"0 -960 960 960\">\n",
              "    <path d=\"M120-120v-720h720v720H120Zm60-500h600v-160H180v160Zm220 220h160v-160H400v160Zm0 220h160v-160H400v160ZM180-400h160v-160H180v160Zm440 0h160v-160H620v160ZM180-180h160v-160H180v160Zm440 0h160v-160H620v160Z\"/>\n",
              "  </svg>\n",
              "    </button>\n",
              "\n",
              "  <style>\n",
              "    .colab-df-container {\n",
              "      display:flex;\n",
              "      gap: 12px;\n",
              "    }\n",
              "\n",
              "    .colab-df-convert {\n",
              "      background-color: #E8F0FE;\n",
              "      border: none;\n",
              "      border-radius: 50%;\n",
              "      cursor: pointer;\n",
              "      display: none;\n",
              "      fill: #1967D2;\n",
              "      height: 32px;\n",
              "      padding: 0 0 0 0;\n",
              "      width: 32px;\n",
              "    }\n",
              "\n",
              "    .colab-df-convert:hover {\n",
              "      background-color: #E2EBFA;\n",
              "      box-shadow: 0px 1px 2px rgba(60, 64, 67, 0.3), 0px 1px 3px 1px rgba(60, 64, 67, 0.15);\n",
              "      fill: #174EA6;\n",
              "    }\n",
              "\n",
              "    .colab-df-buttons div {\n",
              "      margin-bottom: 4px;\n",
              "    }\n",
              "\n",
              "    [theme=dark] .colab-df-convert {\n",
              "      background-color: #3B4455;\n",
              "      fill: #D2E3FC;\n",
              "    }\n",
              "\n",
              "    [theme=dark] .colab-df-convert:hover {\n",
              "      background-color: #434B5C;\n",
              "      box-shadow: 0px 1px 3px 1px rgba(0, 0, 0, 0.15);\n",
              "      filter: drop-shadow(0px 1px 2px rgba(0, 0, 0, 0.3));\n",
              "      fill: #FFFFFF;\n",
              "    }\n",
              "  </style>\n",
              "\n",
              "    <script>\n",
              "      const buttonEl =\n",
              "        document.querySelector('#df-8290f9e7-ce19-4354-ab05-0ea0753a96bf button.colab-df-convert');\n",
              "      buttonEl.style.display =\n",
              "        google.colab.kernel.accessAllowed ? 'block' : 'none';\n",
              "\n",
              "      async function convertToInteractive(key) {\n",
              "        const element = document.querySelector('#df-8290f9e7-ce19-4354-ab05-0ea0753a96bf');\n",
              "        const dataTable =\n",
              "          await google.colab.kernel.invokeFunction('convertToInteractive',\n",
              "                                                    [key], {});\n",
              "        if (!dataTable) return;\n",
              "\n",
              "        const docLinkHtml = 'Like what you see? Visit the ' +\n",
              "          '<a target=\"_blank\" href=https://colab.research.google.com/notebooks/data_table.ipynb>data table notebook</a>'\n",
              "          + ' to learn more about interactive tables.';\n",
              "        element.innerHTML = '';\n",
              "        dataTable['output_type'] = 'display_data';\n",
              "        await google.colab.output.renderOutput(dataTable, element);\n",
              "        const docLink = document.createElement('div');\n",
              "        docLink.innerHTML = docLinkHtml;\n",
              "        element.appendChild(docLink);\n",
              "      }\n",
              "    </script>\n",
              "  </div>\n",
              "\n",
              "\n",
              "<div id=\"df-65d8bdaa-fc92-4ff1-a82c-3491a698d43d\">\n",
              "  <button class=\"colab-df-quickchart\" onclick=\"quickchart('df-65d8bdaa-fc92-4ff1-a82c-3491a698d43d')\"\n",
              "            title=\"Suggest charts\"\n",
              "            style=\"display:none;\">\n",
              "\n",
              "<svg xmlns=\"http://www.w3.org/2000/svg\" height=\"24px\"viewBox=\"0 0 24 24\"\n",
              "     width=\"24px\">\n",
              "    <g>\n",
              "        <path d=\"M19 3H5c-1.1 0-2 .9-2 2v14c0 1.1.9 2 2 2h14c1.1 0 2-.9 2-2V5c0-1.1-.9-2-2-2zM9 17H7v-7h2v7zm4 0h-2V7h2v10zm4 0h-2v-4h2v4z\"/>\n",
              "    </g>\n",
              "</svg>\n",
              "  </button>\n",
              "\n",
              "<style>\n",
              "  .colab-df-quickchart {\n",
              "      --bg-color: #E8F0FE;\n",
              "      --fill-color: #1967D2;\n",
              "      --hover-bg-color: #E2EBFA;\n",
              "      --hover-fill-color: #174EA6;\n",
              "      --disabled-fill-color: #AAA;\n",
              "      --disabled-bg-color: #DDD;\n",
              "  }\n",
              "\n",
              "  [theme=dark] .colab-df-quickchart {\n",
              "      --bg-color: #3B4455;\n",
              "      --fill-color: #D2E3FC;\n",
              "      --hover-bg-color: #434B5C;\n",
              "      --hover-fill-color: #FFFFFF;\n",
              "      --disabled-bg-color: #3B4455;\n",
              "      --disabled-fill-color: #666;\n",
              "  }\n",
              "\n",
              "  .colab-df-quickchart {\n",
              "    background-color: var(--bg-color);\n",
              "    border: none;\n",
              "    border-radius: 50%;\n",
              "    cursor: pointer;\n",
              "    display: none;\n",
              "    fill: var(--fill-color);\n",
              "    height: 32px;\n",
              "    padding: 0;\n",
              "    width: 32px;\n",
              "  }\n",
              "\n",
              "  .colab-df-quickchart:hover {\n",
              "    background-color: var(--hover-bg-color);\n",
              "    box-shadow: 0 1px 2px rgba(60, 64, 67, 0.3), 0 1px 3px 1px rgba(60, 64, 67, 0.15);\n",
              "    fill: var(--button-hover-fill-color);\n",
              "  }\n",
              "\n",
              "  .colab-df-quickchart-complete:disabled,\n",
              "  .colab-df-quickchart-complete:disabled:hover {\n",
              "    background-color: var(--disabled-bg-color);\n",
              "    fill: var(--disabled-fill-color);\n",
              "    box-shadow: none;\n",
              "  }\n",
              "\n",
              "  .colab-df-spinner {\n",
              "    border: 2px solid var(--fill-color);\n",
              "    border-color: transparent;\n",
              "    border-bottom-color: var(--fill-color);\n",
              "    animation:\n",
              "      spin 1s steps(1) infinite;\n",
              "  }\n",
              "\n",
              "  @keyframes spin {\n",
              "    0% {\n",
              "      border-color: transparent;\n",
              "      border-bottom-color: var(--fill-color);\n",
              "      border-left-color: var(--fill-color);\n",
              "    }\n",
              "    20% {\n",
              "      border-color: transparent;\n",
              "      border-left-color: var(--fill-color);\n",
              "      border-top-color: var(--fill-color);\n",
              "    }\n",
              "    30% {\n",
              "      border-color: transparent;\n",
              "      border-left-color: var(--fill-color);\n",
              "      border-top-color: var(--fill-color);\n",
              "      border-right-color: var(--fill-color);\n",
              "    }\n",
              "    40% {\n",
              "      border-color: transparent;\n",
              "      border-right-color: var(--fill-color);\n",
              "      border-top-color: var(--fill-color);\n",
              "    }\n",
              "    60% {\n",
              "      border-color: transparent;\n",
              "      border-right-color: var(--fill-color);\n",
              "    }\n",
              "    80% {\n",
              "      border-color: transparent;\n",
              "      border-right-color: var(--fill-color);\n",
              "      border-bottom-color: var(--fill-color);\n",
              "    }\n",
              "    90% {\n",
              "      border-color: transparent;\n",
              "      border-bottom-color: var(--fill-color);\n",
              "    }\n",
              "  }\n",
              "</style>\n",
              "\n",
              "  <script>\n",
              "    async function quickchart(key) {\n",
              "      const quickchartButtonEl =\n",
              "        document.querySelector('#' + key + ' button');\n",
              "      quickchartButtonEl.disabled = true;  // To prevent multiple clicks.\n",
              "      quickchartButtonEl.classList.add('colab-df-spinner');\n",
              "      try {\n",
              "        const charts = await google.colab.kernel.invokeFunction(\n",
              "            'suggestCharts', [key], {});\n",
              "      } catch (error) {\n",
              "        console.error('Error during call to suggestCharts:', error);\n",
              "      }\n",
              "      quickchartButtonEl.classList.remove('colab-df-spinner');\n",
              "      quickchartButtonEl.classList.add('colab-df-quickchart-complete');\n",
              "    }\n",
              "    (() => {\n",
              "      let quickchartButtonEl =\n",
              "        document.querySelector('#df-65d8bdaa-fc92-4ff1-a82c-3491a698d43d button');\n",
              "      quickchartButtonEl.style.display =\n",
              "        google.colab.kernel.accessAllowed ? 'block' : 'none';\n",
              "    })();\n",
              "  </script>\n",
              "</div>\n",
              "\n",
              "    </div>\n",
              "  </div>\n"
            ],
            "application/vnd.google.colaboratory.intrinsic+json": {
              "type": "dataframe",
              "variable_name": "df_chopra",
              "summary": "{\n  \"name\": \"df_chopra\",\n  \"rows\": 234,\n  \"fields\": [\n    {\n      \"column\": \"Structure\",\n      \"properties\": {\n        \"dtype\": \"category\",\n        \"num_unique_values\": 3,\n        \"samples\": [\n          \"RC MRF\",\n          \"Steel MRF\",\n          \"RC SW\"\n        ],\n        \"semantic_type\": \"\",\n        \"description\": \"\"\n      }\n    },\n    {\n      \"column\": \"No.\",\n      \"properties\": {\n        \"dtype\": \"number\",\n        \"std\": 13,\n        \"min\": 1,\n        \"max\": 53,\n        \"num_unique_values\": 53,\n        \"samples\": [\n          20,\n          42,\n          48\n        ],\n        \"semantic_type\": \"\",\n        \"description\": \"\"\n      }\n    },\n    {\n      \"column\": \"Location\",\n      \"properties\": {\n        \"dtype\": \"category\",\n        \"num_unique_values\": 23,\n        \"samples\": [\n          \"San Bernardino\",\n          \"Burbank\",\n          \"Emeryville\"\n        ],\n        \"semantic_type\": \"\",\n        \"description\": \"\"\n      }\n    },\n    {\n      \"column\": \"ID number\",\n      \"properties\": {\n        \"dtype\": \"category\",\n        \"num_unique_values\": 66,\n        \"samples\": [\n          \"C54488\",\n          \"C58348\",\n          \"ATC_12\"\n        ],\n        \"semantic_type\": \"\",\n        \"description\": \"\"\n      }\n    },\n    {\n      \"column\": \"No. of Stories\",\n      \"properties\": {\n        \"dtype\": \"number\",\n        \"std\": 11.010314204148656,\n        \"min\": 2.0,\n        \"max\": 60.0,\n        \"num_unique_values\": 27,\n        \"samples\": [\n          11.0,\n          20.0,\n          22.0\n        ],\n        \"semantic_type\": \"\",\n        \"description\": \"\"\n      }\n    },\n    {\n      \"column\": \"Height [ft]\",\n      \"properties\": {\n        \"dtype\": \"number\",\n        \"std\": 139.83988889266402,\n        \"min\": 28.0,\n        \"max\": 843.2,\n        \"num_unique_values\": 69,\n        \"samples\": [\n          198.0,\n          300.0,\n          51.5\n        ],\n        \"semantic_type\": \"\",\n        \"description\": \"\"\n      }\n    },\n    {\n      \"column\": \"Width [ft]\",\n      \"properties\": {\n        \"dtype\": \"number\",\n        \"std\": 7.997229130071568,\n        \"min\": 60.0,\n        \"max\": 84.0,\n        \"num_unique_values\": 12,\n        \"samples\": [\n          64.0,\n          82.0,\n          75.0\n        ],\n        \"semantic_type\": \"\",\n        \"description\": \"\"\n      }\n    },\n    {\n      \"column\": \"Length [ft]\",\n      \"properties\": {\n        \"dtype\": \"number\",\n        \"std\": 49.98764031635383,\n        \"min\": 75.0,\n        \"max\": 227.0,\n        \"num_unique_values\": 12,\n        \"samples\": [\n          190.0,\n          192.0,\n          215.0\n        ],\n        \"semantic_type\": \"\",\n        \"description\": \"\"\n      }\n    },\n    {\n      \"column\": \"Ac [sq ft]\",\n      \"properties\": {\n        \"dtype\": \"number\",\n        \"std\": 33.4199978764888,\n        \"min\": 12.2,\n        \"max\": 106.9,\n        \"num_unique_values\": 15,\n        \"samples\": [\n          106.9,\n          12.2,\n          83.5\n        ],\n        \"semantic_type\": \"\",\n        \"description\": \"\"\n      }\n    },\n    {\n      \"column\": \"Ae [%]\",\n      \"properties\": {\n        \"dtype\": \"number\",\n        \"std\": 0.09756598296669831,\n        \"min\": 0.0228,\n        \"max\": 0.3309,\n        \"num_unique_values\": 16,\n        \"samples\": [\n          0.1978,\n          0.0319,\n          0.1346\n        ],\n        \"semantic_type\": \"\",\n        \"description\": \"\"\n      }\n    },\n    {\n      \"column\": \"Earthquake\",\n      \"properties\": {\n        \"dtype\": \"category\",\n        \"num_unique_values\": 11,\n        \"samples\": [\n          \"Morgan Hill\",\n          \"Loma Prieta\",\n          \"Sierra Madre\"\n        ],\n        \"semantic_type\": \"\",\n        \"description\": \"\"\n      }\n    },\n    {\n      \"column\": \"PGA [g]\",\n      \"properties\": {\n        \"dtype\": \"number\",\n        \"std\": 0.08490678945719006,\n        \"min\": 0.02,\n        \"max\": 0.39,\n        \"num_unique_values\": 20,\n        \"samples\": [\n          0.1,\n          0.12,\n          0.3\n        ],\n        \"semantic_type\": \"\",\n        \"description\": \"\"\n      }\n    },\n    {\n      \"column\": \"PGA > 0.15g\",\n      \"properties\": {\n        \"dtype\": \"category\",\n        \"num_unique_values\": 2,\n        \"samples\": [\n          \"Yes\",\n          \"No\"\n        ],\n        \"semantic_type\": \"\",\n        \"description\": \"\"\n      }\n    },\n    {\n      \"column\": \"Period T [s]\",\n      \"properties\": {\n        \"dtype\": \"number\",\n        \"std\": 1.3948584019133516,\n        \"min\": 0.13,\n        \"max\": 6.5,\n        \"num_unique_values\": 155,\n        \"samples\": [\n          1.29,\n          0.22\n        ],\n        \"semantic_type\": \"\",\n        \"description\": \"\"\n      }\n    },\n    {\n      \"column\": \"Direction\",\n      \"properties\": {\n        \"dtype\": \"category\",\n        \"num_unique_values\": 2,\n        \"samples\": [\n          \"Transverse\",\n          \"Longitudinal\"\n        ],\n        \"semantic_type\": \"\",\n        \"description\": \"\"\n      }\n    }\n  ]\n}"
            }
          },
          "metadata": {},
          "execution_count": 45
        }
      ]
    },
    {
      "cell_type": "code",
      "source": [
        "df_chopra = df_chopra.rename(columns={\"Period T [s]\": \"T_s\", \"PGA > 0.15g\": \"PGA\",\"No. of Stories\":\"N\",\"Height [ft]\":\"Height\"})\n",
        "df_chopra_red = df_chopra[['T_s','N','Height','Structure','PGA']]\n",
        "\n",
        "df_chopra_red.head()"
      ],
      "metadata": {
        "colab": {
          "base_uri": "https://localhost:8080/",
          "height": 206
        },
        "id": "asIxFCZIn3XP",
        "outputId": "0b989359-ee8b-4c5f-b2fa-ede2c2d73192"
      },
      "execution_count": null,
      "outputs": [
        {
          "output_type": "execute_result",
          "data": {
            "text/plain": [
              "   T_s     N  Height Structure PGA\n",
              "0  2.8  30.0   300.0    RC MRF  No\n",
              "1  1.4   9.0   120.0    RC MRF  No\n",
              "2  1.8  14.0   160.0    RC MRF  No\n",
              "3  1.9  13.0   166.0    RC MRF  No\n",
              "4  1.4  10.0   137.5    RC MRF  No"
            ],
            "text/html": [
              "\n",
              "  <div id=\"df-4690a3fe-9f7c-4b65-877b-07d4cd5c212d\" class=\"colab-df-container\">\n",
              "    <div>\n",
              "<style scoped>\n",
              "    .dataframe tbody tr th:only-of-type {\n",
              "        vertical-align: middle;\n",
              "    }\n",
              "\n",
              "    .dataframe tbody tr th {\n",
              "        vertical-align: top;\n",
              "    }\n",
              "\n",
              "    .dataframe thead th {\n",
              "        text-align: right;\n",
              "    }\n",
              "</style>\n",
              "<table border=\"1\" class=\"dataframe\">\n",
              "  <thead>\n",
              "    <tr style=\"text-align: right;\">\n",
              "      <th></th>\n",
              "      <th>T_s</th>\n",
              "      <th>N</th>\n",
              "      <th>Height</th>\n",
              "      <th>Structure</th>\n",
              "      <th>PGA</th>\n",
              "    </tr>\n",
              "  </thead>\n",
              "  <tbody>\n",
              "    <tr>\n",
              "      <th>0</th>\n",
              "      <td>2.8</td>\n",
              "      <td>30.0</td>\n",
              "      <td>300.0</td>\n",
              "      <td>RC MRF</td>\n",
              "      <td>No</td>\n",
              "    </tr>\n",
              "    <tr>\n",
              "      <th>1</th>\n",
              "      <td>1.4</td>\n",
              "      <td>9.0</td>\n",
              "      <td>120.0</td>\n",
              "      <td>RC MRF</td>\n",
              "      <td>No</td>\n",
              "    </tr>\n",
              "    <tr>\n",
              "      <th>2</th>\n",
              "      <td>1.8</td>\n",
              "      <td>14.0</td>\n",
              "      <td>160.0</td>\n",
              "      <td>RC MRF</td>\n",
              "      <td>No</td>\n",
              "    </tr>\n",
              "    <tr>\n",
              "      <th>3</th>\n",
              "      <td>1.9</td>\n",
              "      <td>13.0</td>\n",
              "      <td>166.0</td>\n",
              "      <td>RC MRF</td>\n",
              "      <td>No</td>\n",
              "    </tr>\n",
              "    <tr>\n",
              "      <th>4</th>\n",
              "      <td>1.4</td>\n",
              "      <td>10.0</td>\n",
              "      <td>137.5</td>\n",
              "      <td>RC MRF</td>\n",
              "      <td>No</td>\n",
              "    </tr>\n",
              "  </tbody>\n",
              "</table>\n",
              "</div>\n",
              "    <div class=\"colab-df-buttons\">\n",
              "\n",
              "  <div class=\"colab-df-container\">\n",
              "    <button class=\"colab-df-convert\" onclick=\"convertToInteractive('df-4690a3fe-9f7c-4b65-877b-07d4cd5c212d')\"\n",
              "            title=\"Convert this dataframe to an interactive table.\"\n",
              "            style=\"display:none;\">\n",
              "\n",
              "  <svg xmlns=\"http://www.w3.org/2000/svg\" height=\"24px\" viewBox=\"0 -960 960 960\">\n",
              "    <path d=\"M120-120v-720h720v720H120Zm60-500h600v-160H180v160Zm220 220h160v-160H400v160Zm0 220h160v-160H400v160ZM180-400h160v-160H180v160Zm440 0h160v-160H620v160ZM180-180h160v-160H180v160Zm440 0h160v-160H620v160Z\"/>\n",
              "  </svg>\n",
              "    </button>\n",
              "\n",
              "  <style>\n",
              "    .colab-df-container {\n",
              "      display:flex;\n",
              "      gap: 12px;\n",
              "    }\n",
              "\n",
              "    .colab-df-convert {\n",
              "      background-color: #E8F0FE;\n",
              "      border: none;\n",
              "      border-radius: 50%;\n",
              "      cursor: pointer;\n",
              "      display: none;\n",
              "      fill: #1967D2;\n",
              "      height: 32px;\n",
              "      padding: 0 0 0 0;\n",
              "      width: 32px;\n",
              "    }\n",
              "\n",
              "    .colab-df-convert:hover {\n",
              "      background-color: #E2EBFA;\n",
              "      box-shadow: 0px 1px 2px rgba(60, 64, 67, 0.3), 0px 1px 3px 1px rgba(60, 64, 67, 0.15);\n",
              "      fill: #174EA6;\n",
              "    }\n",
              "\n",
              "    .colab-df-buttons div {\n",
              "      margin-bottom: 4px;\n",
              "    }\n",
              "\n",
              "    [theme=dark] .colab-df-convert {\n",
              "      background-color: #3B4455;\n",
              "      fill: #D2E3FC;\n",
              "    }\n",
              "\n",
              "    [theme=dark] .colab-df-convert:hover {\n",
              "      background-color: #434B5C;\n",
              "      box-shadow: 0px 1px 3px 1px rgba(0, 0, 0, 0.15);\n",
              "      filter: drop-shadow(0px 1px 2px rgba(0, 0, 0, 0.3));\n",
              "      fill: #FFFFFF;\n",
              "    }\n",
              "  </style>\n",
              "\n",
              "    <script>\n",
              "      const buttonEl =\n",
              "        document.querySelector('#df-4690a3fe-9f7c-4b65-877b-07d4cd5c212d button.colab-df-convert');\n",
              "      buttonEl.style.display =\n",
              "        google.colab.kernel.accessAllowed ? 'block' : 'none';\n",
              "\n",
              "      async function convertToInteractive(key) {\n",
              "        const element = document.querySelector('#df-4690a3fe-9f7c-4b65-877b-07d4cd5c212d');\n",
              "        const dataTable =\n",
              "          await google.colab.kernel.invokeFunction('convertToInteractive',\n",
              "                                                    [key], {});\n",
              "        if (!dataTable) return;\n",
              "\n",
              "        const docLinkHtml = 'Like what you see? Visit the ' +\n",
              "          '<a target=\"_blank\" href=https://colab.research.google.com/notebooks/data_table.ipynb>data table notebook</a>'\n",
              "          + ' to learn more about interactive tables.';\n",
              "        element.innerHTML = '';\n",
              "        dataTable['output_type'] = 'display_data';\n",
              "        await google.colab.output.renderOutput(dataTable, element);\n",
              "        const docLink = document.createElement('div');\n",
              "        docLink.innerHTML = docLinkHtml;\n",
              "        element.appendChild(docLink);\n",
              "      }\n",
              "    </script>\n",
              "  </div>\n",
              "\n",
              "\n",
              "<div id=\"df-f27c09eb-72a8-4f3e-8466-b2fea08108e8\">\n",
              "  <button class=\"colab-df-quickchart\" onclick=\"quickchart('df-f27c09eb-72a8-4f3e-8466-b2fea08108e8')\"\n",
              "            title=\"Suggest charts\"\n",
              "            style=\"display:none;\">\n",
              "\n",
              "<svg xmlns=\"http://www.w3.org/2000/svg\" height=\"24px\"viewBox=\"0 0 24 24\"\n",
              "     width=\"24px\">\n",
              "    <g>\n",
              "        <path d=\"M19 3H5c-1.1 0-2 .9-2 2v14c0 1.1.9 2 2 2h14c1.1 0 2-.9 2-2V5c0-1.1-.9-2-2-2zM9 17H7v-7h2v7zm4 0h-2V7h2v10zm4 0h-2v-4h2v4z\"/>\n",
              "    </g>\n",
              "</svg>\n",
              "  </button>\n",
              "\n",
              "<style>\n",
              "  .colab-df-quickchart {\n",
              "      --bg-color: #E8F0FE;\n",
              "      --fill-color: #1967D2;\n",
              "      --hover-bg-color: #E2EBFA;\n",
              "      --hover-fill-color: #174EA6;\n",
              "      --disabled-fill-color: #AAA;\n",
              "      --disabled-bg-color: #DDD;\n",
              "  }\n",
              "\n",
              "  [theme=dark] .colab-df-quickchart {\n",
              "      --bg-color: #3B4455;\n",
              "      --fill-color: #D2E3FC;\n",
              "      --hover-bg-color: #434B5C;\n",
              "      --hover-fill-color: #FFFFFF;\n",
              "      --disabled-bg-color: #3B4455;\n",
              "      --disabled-fill-color: #666;\n",
              "  }\n",
              "\n",
              "  .colab-df-quickchart {\n",
              "    background-color: var(--bg-color);\n",
              "    border: none;\n",
              "    border-radius: 50%;\n",
              "    cursor: pointer;\n",
              "    display: none;\n",
              "    fill: var(--fill-color);\n",
              "    height: 32px;\n",
              "    padding: 0;\n",
              "    width: 32px;\n",
              "  }\n",
              "\n",
              "  .colab-df-quickchart:hover {\n",
              "    background-color: var(--hover-bg-color);\n",
              "    box-shadow: 0 1px 2px rgba(60, 64, 67, 0.3), 0 1px 3px 1px rgba(60, 64, 67, 0.15);\n",
              "    fill: var(--button-hover-fill-color);\n",
              "  }\n",
              "\n",
              "  .colab-df-quickchart-complete:disabled,\n",
              "  .colab-df-quickchart-complete:disabled:hover {\n",
              "    background-color: var(--disabled-bg-color);\n",
              "    fill: var(--disabled-fill-color);\n",
              "    box-shadow: none;\n",
              "  }\n",
              "\n",
              "  .colab-df-spinner {\n",
              "    border: 2px solid var(--fill-color);\n",
              "    border-color: transparent;\n",
              "    border-bottom-color: var(--fill-color);\n",
              "    animation:\n",
              "      spin 1s steps(1) infinite;\n",
              "  }\n",
              "\n",
              "  @keyframes spin {\n",
              "    0% {\n",
              "      border-color: transparent;\n",
              "      border-bottom-color: var(--fill-color);\n",
              "      border-left-color: var(--fill-color);\n",
              "    }\n",
              "    20% {\n",
              "      border-color: transparent;\n",
              "      border-left-color: var(--fill-color);\n",
              "      border-top-color: var(--fill-color);\n",
              "    }\n",
              "    30% {\n",
              "      border-color: transparent;\n",
              "      border-left-color: var(--fill-color);\n",
              "      border-top-color: var(--fill-color);\n",
              "      border-right-color: var(--fill-color);\n",
              "    }\n",
              "    40% {\n",
              "      border-color: transparent;\n",
              "      border-right-color: var(--fill-color);\n",
              "      border-top-color: var(--fill-color);\n",
              "    }\n",
              "    60% {\n",
              "      border-color: transparent;\n",
              "      border-right-color: var(--fill-color);\n",
              "    }\n",
              "    80% {\n",
              "      border-color: transparent;\n",
              "      border-right-color: var(--fill-color);\n",
              "      border-bottom-color: var(--fill-color);\n",
              "    }\n",
              "    90% {\n",
              "      border-color: transparent;\n",
              "      border-bottom-color: var(--fill-color);\n",
              "    }\n",
              "  }\n",
              "</style>\n",
              "\n",
              "  <script>\n",
              "    async function quickchart(key) {\n",
              "      const quickchartButtonEl =\n",
              "        document.querySelector('#' + key + ' button');\n",
              "      quickchartButtonEl.disabled = true;  // To prevent multiple clicks.\n",
              "      quickchartButtonEl.classList.add('colab-df-spinner');\n",
              "      try {\n",
              "        const charts = await google.colab.kernel.invokeFunction(\n",
              "            'suggestCharts', [key], {});\n",
              "      } catch (error) {\n",
              "        console.error('Error during call to suggestCharts:', error);\n",
              "      }\n",
              "      quickchartButtonEl.classList.remove('colab-df-spinner');\n",
              "      quickchartButtonEl.classList.add('colab-df-quickchart-complete');\n",
              "    }\n",
              "    (() => {\n",
              "      let quickchartButtonEl =\n",
              "        document.querySelector('#df-f27c09eb-72a8-4f3e-8466-b2fea08108e8 button');\n",
              "      quickchartButtonEl.style.display =\n",
              "        google.colab.kernel.accessAllowed ? 'block' : 'none';\n",
              "    })();\n",
              "  </script>\n",
              "</div>\n",
              "\n",
              "    </div>\n",
              "  </div>\n"
            ],
            "application/vnd.google.colaboratory.intrinsic+json": {
              "type": "dataframe",
              "variable_name": "df_chopra_red",
              "summary": "{\n  \"name\": \"df_chopra_red\",\n  \"rows\": 234,\n  \"fields\": [\n    {\n      \"column\": \"T_s\",\n      \"properties\": {\n        \"dtype\": \"number\",\n        \"std\": 1.3948584019133516,\n        \"min\": 0.13,\n        \"max\": 6.5,\n        \"num_unique_values\": 155,\n        \"samples\": [\n          1.29,\n          0.22,\n          2.28\n        ],\n        \"semantic_type\": \"\",\n        \"description\": \"\"\n      }\n    },\n    {\n      \"column\": \"N\",\n      \"properties\": {\n        \"dtype\": \"number\",\n        \"std\": 11.010314204148656,\n        \"min\": 2.0,\n        \"max\": 60.0,\n        \"num_unique_values\": 27,\n        \"samples\": [\n          11.0,\n          20.0,\n          22.0\n        ],\n        \"semantic_type\": \"\",\n        \"description\": \"\"\n      }\n    },\n    {\n      \"column\": \"Height\",\n      \"properties\": {\n        \"dtype\": \"number\",\n        \"std\": 139.83988889266402,\n        \"min\": 28.0,\n        \"max\": 843.2,\n        \"num_unique_values\": 69,\n        \"samples\": [\n          198.0,\n          300.0,\n          51.5\n        ],\n        \"semantic_type\": \"\",\n        \"description\": \"\"\n      }\n    },\n    {\n      \"column\": \"Structure\",\n      \"properties\": {\n        \"dtype\": \"category\",\n        \"num_unique_values\": 3,\n        \"samples\": [\n          \"RC MRF\",\n          \"Steel MRF\",\n          \"RC SW\"\n        ],\n        \"semantic_type\": \"\",\n        \"description\": \"\"\n      }\n    },\n    {\n      \"column\": \"PGA\",\n      \"properties\": {\n        \"dtype\": \"category\",\n        \"num_unique_values\": 2,\n        \"samples\": [\n          \"Yes\",\n          \"No\"\n        ],\n        \"semantic_type\": \"\",\n        \"description\": \"\"\n      }\n    }\n  ]\n}"
            }
          },
          "metadata": {},
          "execution_count": 46
        }
      ]
    },
    {
      "cell_type": "markdown",
      "source": [
        "Como puede ver, el dataset tiene los siguientes datos de interés para este ejercicio:\n",
        "- Structure : La tipología estructural. A nosotros nos va a impotar `Steel MRF` (Estructuras aporticadas de acero)\n",
        "- No. of Stories: Cantidad de pisos\n",
        "- Height: Altura del edificio en pies\n",
        "- PGA>0.15g: Indica si el sisma fue de intensidad moderada (en función de la máxima aceleración registrada)\n",
        "- Period T [s]: El período natural medido en segundos"
      ],
      "metadata": {
        "id": "TPd_IQG7ftNS"
      }
    },
    {
      "cell_type": "code",
      "source": [
        "fig, (axs) = plt.subplots(1, 2)\n",
        "sns.scatterplot(data=df_chopra_red[(df_chopra_red['Structure']=='Steel MRF')].dropna(),x='N',y='T_s',hue='PGA',ax=axs[0])\n",
        "sns.scatterplot(data=df_chopra_red[(df_chopra_red['Structure']=='Steel MRF')].dropna(),x='Height',y='T_s',hue='PGA',ax=axs[1])\n",
        "# Hide x labels and tick labels for top plots and y ticks for right plots.\n",
        "for ax in axs.flat:\n",
        "    ax.label_outer()\n",
        "plt.show()"
      ],
      "metadata": {
        "colab": {
          "base_uri": "https://localhost:8080/",
          "height": 449
        },
        "id": "Oeddv569v7Rh",
        "outputId": "f490c40e-82f3-4343-8c2a-baf4e8409c93"
      },
      "execution_count": null,
      "outputs": [
        {
          "output_type": "display_data",
          "data": {
            "text/plain": [
              "<Figure size 640x480 with 2 Axes>"
            ],
            "image/png": "[encoded data removed]"
          },
          "metadata": {}
        }
      ]
    },
    {
      "cell_type": "markdown",
      "source": [
        "El gráfico se ve que la altura del edificio parece ser un buen predictor de su período natural, y que la intensidad del sismo no parace influir. Ambas cosas coinciden con los postulados teóricos del comportamiento de las estructuras de acero."
      ],
      "metadata": {
        "id": "jc-NeuEhJ0F3"
      }
    },
    {
      "cell_type": "markdown",
      "source": [
        "### Construcción del modelo\n",
        "\n",
        "El modelo propuesto para este tipo de problemas habitualmente es el modelo lognormal:\n",
        "\n",
        "$$T \\sim LN(m,s)$$\n",
        "\n",
        "donde la función para la mediana $e^{m}$ sigue la forma\n",
        "\n",
        "$$e^{m}=x_{1} \\cdot H^{x_{2}}$$\n",
        "\n",
        "Tomando el logaritmo, puedo calibrar el modelo como un modelo normal:\n",
        "\n",
        "$$\\log T \\sim N(m,s)$$\n",
        "\n",
        "donde el valor medio del logaritmo de los períodos es:\n",
        "\n",
        "$$m = \\log x_{1} + x_{2} \\log H$$\n",
        "\n"
      ],
      "metadata": {
        "id": "GNp0oQVdKacH"
      }
    },
    {
      "cell_type": "markdown",
      "source": [
        "#### Actividad 1\n",
        "\n",
        "**Actividad**: Construya un modelo normal para el logaritmo de los períodos (es decir, un modelo lognormal)."
      ],
      "metadata": {
        "id": "rvAVNVI3NIfE"
      }
    },
    {
      "cell_type": "code",
      "source": [
        "# Paso 1: modelo\n",
        "# CODIGO DEL ALUMNO ============================================================\n",
        "model_2 =\n",
        "# ==============================================================================\n",
        "\n",
        "model_2.build()\n",
        "model_2.graph()"
      ],
      "metadata": {
        "id": "cj2-_W0yNmvv"
      },
      "execution_count": null,
      "outputs": []
    },
    {
      "cell_type": "markdown",
      "source": [
        "#### Actividad 2\n",
        "\n",
        "**Actividad**: Explique qué significa cada parámetro de su modelo."
      ],
      "metadata": {
        "id": "ZfAVRq9TOQLi"
      }
    },
    {
      "cell_type": "markdown",
      "source": [
        "**Su respuesta**:"
      ],
      "metadata": {
        "id": "mYQVSQSWOQLj"
      }
    },
    {
      "cell_type": "markdown",
      "source": [
        "#### Actividad 3\n",
        "\n",
        "**Actividad**: Muestre las distribuciones a priori adoptadas para los parámetros (ya sean definidas por ustedes o default). Haga las modificaciones que considere apropiadas si no le gustan/no reflejan lo que usted quiere."
      ],
      "metadata": {
        "id": "bxQVeAEBOQLj"
      }
    },
    {
      "cell_type": "code",
      "source": [
        "# Paso 2: prioris\n",
        "# CODIGO DEL ALUMNO ============================================================\n",
        "\n",
        "# ==============================================================================\n",
        "plt.show()"
      ],
      "metadata": {
        "id": "xdTp9BgOOQLj"
      },
      "execution_count": null,
      "outputs": []
    },
    {
      "cell_type": "markdown",
      "source": [
        "#### Actividad 4\n",
        "\n",
        "**Actividad**: Realice la inferencia mediante MCMC, mostrando visualmente las simulaciones de las cadenas. Indique si las mismas convergieron adecuadamente."
      ],
      "metadata": {
        "id": "f0ukVRq1OQLk"
      }
    },
    {
      "cell_type": "code",
      "source": [
        "# Paso 3: inferencia\n",
        "# CODIGO DEL ALUMNO ============================================================\n",
        "results_2 =\n",
        "# =============================================================================="
      ],
      "metadata": {
        "id": "LZ3T4xCWOQLk"
      },
      "execution_count": null,
      "outputs": []
    },
    {
      "cell_type": "code",
      "source": [
        "# Paso 4: resultados\n",
        "# CODIGO DEL ALUMNO ============================================================\n",
        "\n",
        "# Grafico\n",
        "\n",
        "\n",
        "# Tabla\n",
        "\n",
        "# =============================================================================="
      ],
      "metadata": {
        "id": "5bap7j_yOQLk"
      },
      "execution_count": null,
      "outputs": []
    },
    {
      "cell_type": "markdown",
      "source": [
        "**Su respuesta**:"
      ],
      "metadata": {
        "id": "pjhCvj1xOQLs"
      }
    },
    {
      "cell_type": "markdown",
      "source": [
        "### Distribución posterior de los parámetros"
      ],
      "metadata": {
        "id": "CXegOOTAOQLt"
      }
    },
    {
      "cell_type": "markdown",
      "source": [
        "#### Actividad 6\n",
        "\n",
        "**Actividad**: Muestre la distribución posterior de los parámetros con su intervalo de confianza de 68%."
      ],
      "metadata": {
        "id": "zvKIMvamOQLt"
      }
    },
    {
      "cell_type": "code",
      "source": [
        "# Paso 4: posterior\n",
        "# CODIGO DEL ALUMNO ============================================================\n",
        "\n",
        "# Grafico\n",
        "\n",
        "\n",
        "\n",
        "\n",
        "# Tabla\n",
        "\n",
        "# =============================================================================="
      ],
      "metadata": {
        "id": "peFbi21qOQLt"
      },
      "execution_count": null,
      "outputs": []
    },
    {
      "cell_type": "markdown",
      "source": [
        "### Distribución posterior predictiva"
      ],
      "metadata": {
        "id": "0cfRTOQqOvw1"
      }
    },
    {
      "cell_type": "markdown",
      "source": [
        "#### Actividad 7\n",
        "\n",
        "**Actividad**: Muestre un gráfico con los datos utilizados, y la curva de predicción de su modelo (con un intervalo de confiaza del 68%). Es decir, muestre cómo predice su modelo en función de la altura y si el modelo se ajusta a los datos.\n",
        "\n",
        "NOTA: Esto puede hacerlo con la función de `Bambi` `interpret.plot_predictions`. Como su función esta hecha para el logaritmo de T, puede utilizar la variable `transforms` para volver a la escala original, o directamente hacer el gráfico para el logaritmo. Lo que usted prefiera.\n",
        "\n",
        "`transforms={'log(T_s)': lambda x: np.exp(x)}`"
      ],
      "metadata": {
        "id": "PiidQw47POw7"
      }
    },
    {
      "cell_type": "code",
      "source": [
        "# Paso 4: posterior predictiva\n",
        "# CODIGO DEL ALUMNO ============================================================\n",
        "\n",
        "# Grafico\n",
        "\n",
        "\n",
        "\n",
        "\n",
        "\n",
        "\n",
        "\n",
        "\n",
        "# =============================================================================="
      ],
      "metadata": {
        "colab": {
          "base_uri": "https://localhost:8080/",
          "height": 487
        },
        "id": "woxPtv9QQrut",
        "outputId": "ddf3911a-8fcb-408f-f092-992309127d0b"
      },
      "execution_count": null,
      "outputs": [
        {
          "output_type": "display_data",
          "data": {
            "text/plain": [
              "<Figure size 640x480 with 1 Axes>"
            ],
            "image/png": "[encoded data removed]"
          },
          "metadata": {}
        }
      ]
    },
    {
      "cell_type": "markdown",
      "source": [
        "### Uso del modelo\n",
        "\n",
        "Usted tiene un edificio de 12 pisos (120ft) en California, y quiere conocer su período natural a considerar durante el sismo de diseño (`PGA=Yes`), ya que este influye en las cargas para el cual habrá que diseñarlo."
      ],
      "metadata": {
        "id": "Etv0YcpFWB1q"
      }
    },
    {
      "cell_type": "markdown",
      "source": [
        "#### Actividad 9\n",
        "\n",
        "**Actividad**: Con su modelo seleccionado, obtenga un limite inferior del período natural de su edificio tal que la probabilidad de que ese período sea superado sea de 84%."
      ],
      "metadata": {
        "id": "3U9sPVhKWbhq"
      }
    },
    {
      "cell_type": "code",
      "source": [
        "# CODIGO DEL ALUMNO ############################################################\n",
        "pd_new =\n",
        "\n",
        "# Prediccion de datos no observados\n",
        "new_results =\n",
        "\n",
        "\n",
        "\n",
        "\n",
        "\n",
        "# Una visualización de ejemplo\n",
        "\n",
        "\n",
        "T_dis =\n",
        "################################################################################\n",
        "\n",
        "print('El período de diseño del edificio es de',np.round(T_dis,2),'segundos')"
      ],
      "metadata": {
        "colab": {
          "base_uri": "https://localhost:8080/",
          "height": 497
        },
        "id": "vN89FWdcWtGb",
        "outputId": "7917e749-068a-4a8e-9bd4-6887e0423ac3"
      },
      "execution_count": null,
      "outputs": [
        {
          "output_type": "display_data",
          "data": {
            "text/plain": [
              "<Figure size 640x480 with 1 Axes>"
            ],
            "image/png": "[encoded data removed]"
          },
          "metadata": {}
        },
        {
          "output_type": "stream",
          "name": "stdout",
          "text": [
            "El período de diseño del edificio es de 1.3 segundos\n"
          ]
        }
      ]
    },
    {
      "cell_type": "markdown",
      "source": [
        "#### Actividad 10\n",
        "\n",
        "**Actividad**: Compare su resultado con la predicción provista por los reglamentos norteamericanos\n",
        "\n",
        "$$T_{a} = 0.028\\cdot H^{0.8}$$"
      ],
      "metadata": {
        "id": "u0OQGEyVYAug"
      }
    },
    {
      "cell_type": "code",
      "source": [
        "# CODIGO DEL ALUMNO ############################################################\n",
        "T_a =\n",
        "\n",
        "DeltaT =\n",
        "################################################################################\n",
        "\n",
        "print('La estimación reglamentaria para el edificio es de ',np.round(T_a,2),'segundos')\n",
        "print('La diferencia porcentual es de ',np.round(DeltaT*100,2),'%')"
      ],
      "metadata": {
        "id": "VpFUhziwYTdm"
      },
      "execution_count": null,
      "outputs": []
    },
    {
      "cell_type": "markdown",
      "source": [
        "## Ejercicio 4: Nuestro Primer Modelo para el TP Integrador\n",
        "\n",
        "El último ejercicio del trabajo práctico (y de todos los TPs de acá en más) es el avance del TP integrador. En este caso, el objetivo es proponer un primer modelo explicativo para los datos.\n",
        "\n",
        "**NOTA**: Si su dataset no se presta a un modelo de regresión (es un problema de clasificación, por ejemplo), **hable con su ayudante** respecto a la actividad a realizar que supla la descripta acá abajo."
      ],
      "metadata": {
        "id": "7Y6cLHDhVUJv"
      }
    },
    {
      "cell_type": "markdown",
      "source": [
        "### Actividad 1\n",
        "\n",
        "**Actividad**: Ajuste un modelo a la variable de interés de su dataset. Haga un modelo sin predictores y al menos dos modelos con un predictor. Explique los parámetros del modelo y el modelo de generación de datos elegido. Muestre sus distribuciones posteriores y muestre cómo funciona (qué predice para disintos valores).\n",
        "\n",
        "Vea si los modelos parecen ajustarse a los datos."
      ],
      "metadata": {
        "id": "LsoYWZjSWe2Z"
      }
    },
    {
      "cell_type": "code",
      "source": [],
      "metadata": {
        "id": "xjcdI2xjYpOH"
      },
      "execution_count": null,
      "outputs": []
    },
    {
      "cell_type": "markdown",
      "source": [],
      "metadata": {
        "id": "i2pulvi-Yp_o"
      }
    },
    {
      "cell_type": "markdown",
      "source": [
        "# Entrega del Trabajo Práctico\n",
        "\n",
        "Para la entrega del TP2, siga los siguientes pasos:\n",
        "1. Vuelva a correr el Colab desde 0 para asegurar que no haya ningún bug y todo funcione tal como se desea (`Disconnect and delete runtime`,`run all`)\n",
        "2. Revise que todos los resultados estén presentes y como ustedes esperaban.\n",
        "3. Asegúrese haber contestado todas la preguntas que requieren prosa.\n",
        "4. Descargue el arcihvo .ipynb en su computadora\n",
        "5. Incluya en la entrega el archivo generado como dataset en QGIS (las nuevas capas que haya creado o editado).\n",
        "\n",
        "Revise que está todo como les gusta y ¡ya está listo! Ustedes son responables de que la entrega refleje sus intenciones, más allá de que nosotros podamos correr su archivo para revisar.\n",
        "\n",
        "Los datos presentados abajo intentan ser para ustedes (y para nosotros) una verificación de que efectivamente han hecho la revisión final."
      ],
      "metadata": {
        "id": "G7FAHBVtY76Z"
      }
    },
    {
      "cell_type": "code",
      "source": [
        "print('Inicio de corrida: ',start_datetime)\n",
        "\n",
        "end_datetime = datetime.datetime.now()\n",
        "print('Fin de corrida: ',end_datetime)\n",
        "\n",
        "elapsed_time = end_datetime-start_datetime\n",
        "print('Tiempo de ejecución: ',round(elapsed_time.total_seconds()/60,1),'minutos')"
      ],
      "metadata": {
        "colab": {
          "base_uri": "https://localhost:8080/"
        },
        "id": "iaQ5vgkazPMo",
        "outputId": "a0d91480-8892-46a1-e902-9a9dac6d56e0"
      },
      "execution_count": null,
      "outputs": [
        {
          "output_type": "stream",
          "name": "stdout",
          "text": [
            "Inicio de corrida:  2024-09-12 17:44:09.836007\n",
            "Fin de corrida:  2024-09-12 17:46:21.680907\n",
            "Tiempo de ejecución:  2.2 minutos\n"
          ]
        }
      ]
    }
  ]
}