{
  "nbformat": 4,
  "nbformat_minor": 0,
  "metadata": {
    "colab": {
      "provenance": [],
      "toc_visible": true,
      "authorship_tag": "ABX9TyOxwrGnwYnOrIW9jX10MT1u",
      "include_colab_link": true
    },
    "kernelspec": {
      "name": "python3",
      "display_name": "Python 3"
    },
    "language_info": {
      "name": "python"
    }
  },
  "cells": [
    {
      "cell_type": "markdown",
      "metadata": {
        "id": "view-in-github",
        "colab_type": "text"
      },
      "source": [
        "<a href=\"https://colab.research.google.com/github/mbalbi/ciencia_de_datos/blob/main/tps/1c2025/ClaseApoyo20250318.ipynb\" target=\"_parent\"><img src=\"https://colab.research.google.com/assets/colab-badge.svg\" alt=\"Open In Colab\"/></a>"
      ]
    },
    {
      "cell_type": "markdown",
      "source": [
        "# Mi Titulo\n",
        "\n",
        "Hola, como te va"
      ],
      "metadata": {
        "id": "89j7TkdceIPC"
      }
    },
    {
      "cell_type": "markdown",
      "source": [
        "## Cosa 1\n",
        "\n",
        "Hola tambien"
      ],
      "metadata": {
        "id": "toSmYb5BeNQR"
      }
    },
    {
      "cell_type": "code",
      "execution_count": 2,
      "metadata": {
        "colab": {
          "base_uri": "https://localhost:8080/"
        },
        "id": "M5TJnLwHVY0a",
        "outputId": "efb9a4af-9cb9-469b-db17-6ff8f4f220da"
      },
      "outputs": [
        {
          "output_type": "stream",
          "name": "stdout",
          "text": [
            "[1, 3, 4, 5, 7, 10, 0]\n"
          ]
        }
      ],
      "source": [
        "# una lista\n",
        "A = [1, 3, 4, 5, 7, 10, 0]\n",
        "\n",
        "# ver lista\n",
        "print(A)"
      ]
    },
    {
      "cell_type": "code",
      "source": [
        "# un vector\n",
        "import numpy as np\n",
        "\n",
        "B = np.array(A)\n",
        "\n",
        "# ver vector\n",
        "print(B)"
      ],
      "metadata": {
        "colab": {
          "base_uri": "https://localhost:8080/"
        },
        "id": "cLF8EfVcegCA",
        "outputId": "86f21aa2-bcba-4465-bcfa-657650e0733f"
      },
      "execution_count": 3,
      "outputs": [
        {
          "output_type": "stream",
          "name": "stdout",
          "text": [
            "[ 1  3  4  5  7 10  0]\n"
          ]
        }
      ]
    },
    {
      "cell_type": "code",
      "source": [
        "# las dimensiones de mi vector\n",
        "B.shape\n",
        "\n",
        "print(B.shape) # es un vector (1D)"
      ],
      "metadata": {
        "colab": {
          "base_uri": "https://localhost:8080/"
        },
        "id": "_RnPZiMTemFD",
        "outputId": "64384614-a004-4236-f91e-79d7ee69c165"
      },
      "execution_count": 4,
      "outputs": [
        {
          "output_type": "stream",
          "name": "stdout",
          "text": [
            "(7,)\n"
          ]
        }
      ]
    },
    {
      "cell_type": "code",
      "source": [
        "print(3>4)"
      ],
      "metadata": {
        "colab": {
          "base_uri": "https://localhost:8080/"
        },
        "id": "2rjCTDiLeyHR",
        "outputId": "1a7baca9-58c2-4a6c-8517-4d988a23108f"
      },
      "execution_count": 5,
      "outputs": [
        {
          "output_type": "stream",
          "name": "stdout",
          "text": [
            "False\n"
          ]
        }
      ]
    },
    {
      "cell_type": "code",
      "source": [
        "print(bool(1))"
      ],
      "metadata": {
        "colab": {
          "base_uri": "https://localhost:8080/"
        },
        "id": "z7o5QQZLe3rD",
        "outputId": "b6f7d924-c7d2-468b-cbd7-88b9f01f5367"
      },
      "execution_count": 7,
      "outputs": [
        {
          "output_type": "stream",
          "name": "stdout",
          "text": [
            "True\n"
          ]
        }
      ]
    },
    {
      "cell_type": "code",
      "source": [
        "print(B>3)\n",
        "\n",
        "print(B<6)"
      ],
      "metadata": {
        "colab": {
          "base_uri": "https://localhost:8080/"
        },
        "id": "HFIHtQjbe-j1",
        "outputId": "3c1b1deb-2520-4ba2-b530-de6219f341d8"
      },
      "execution_count": 13,
      "outputs": [
        {
          "output_type": "stream",
          "name": "stdout",
          "text": [
            "[False False  True  True  True  True False]\n",
            "[ True  True  True  True False False  True]\n"
          ]
        }
      ]
    },
    {
      "cell_type": "code",
      "source": [
        "# Cumplir las dos condiciones\n",
        "print((B>3) & (B<6)) # ejemplo, probabilidad conjunta\n",
        "c = np.mean((B>3) & (B<6))\n",
        "\n",
        "print(np.mean((B>3) & (B<6)))\n",
        "\n",
        "# redondeo\n",
        "print('La probabilidad de B>3 y B<6 es',np.round(c*100, 0),'%')"
      ],
      "metadata": {
        "colab": {
          "base_uri": "https://localhost:8080/"
        },
        "id": "Sg4bOzOkf2cp",
        "outputId": "b72e48de-d5ef-4180-d104-21c840491d4c"
      },
      "execution_count": 19,
      "outputs": [
        {
          "output_type": "stream",
          "name": "stdout",
          "text": [
            "[False False  True  True False False False]\n",
            "0.2857142857142857\n",
            "La probabilidad de B>3 y B<6 es 29.0 %\n"
          ]
        }
      ]
    },
    {
      "cell_type": "markdown",
      "source": [
        "P(B>3|B<6)"
      ],
      "metadata": {
        "id": "s09o5-IqhMjp"
      }
    },
    {
      "cell_type": "code",
      "source": [
        "print(B[0:3]) # nota: el ultimo excluyente"
      ],
      "metadata": {
        "colab": {
          "base_uri": "https://localhost:8080/"
        },
        "id": "K82pQJxGhbKj",
        "outputId": "7f263a55-7d62-4378-a8a4-c08870f085ad"
      },
      "execution_count": 27,
      "outputs": [
        {
          "output_type": "stream",
          "name": "stdout",
          "text": [
            "[1 3 4]\n"
          ]
        }
      ]
    },
    {
      "cell_type": "code",
      "source": [
        "B[[1,-1,0]]"
      ],
      "metadata": {
        "colab": {
          "base_uri": "https://localhost:8080/"
        },
        "id": "DYvLkm0OiUmx",
        "outputId": "cf78ae6e-c522-44aa-c194-a21b7f8d4810"
      },
      "execution_count": 30,
      "outputs": [
        {
          "output_type": "execute_result",
          "data": {
            "text/plain": [
              "array([3, 0, 1])"
            ]
          },
          "metadata": {},
          "execution_count": 30
        }
      ]
    },
    {
      "cell_type": "code",
      "source": [
        "print(B)\n",
        "\n",
        "filtro = B<6 # la condicion que quiero cumplir\n",
        "print(filtro)\n",
        "\n",
        "B_cond = B[filtro] # aplicar el filtro (booleanos) a mi vector\n",
        "\n",
        "print(B_cond) # valores que cumplen condicion\n",
        "\n",
        "# la probabilidad (condicionada)\n",
        "#print(np.mean(B_cond>3))"
      ],
      "metadata": {
        "colab": {
          "base_uri": "https://localhost:8080/"
        },
        "id": "NBGYHCrMgvEd",
        "outputId": "02f1822c-6eef-4302-f5a5-2d61b080d5f8"
      },
      "execution_count": 35,
      "outputs": [
        {
          "output_type": "stream",
          "name": "stdout",
          "text": [
            "[ 1  3  4  5  7 10  0]\n",
            "[ True  True  True  True False False  True]\n",
            "[1 3 4 5 0]\n"
          ]
        }
      ]
    },
    {
      "cell_type": "code",
      "source": [
        "P_cond = np.mean(B[B<6]>3)\n",
        "\n",
        "print('La probabilidad de B>3 dado B<6 es',np.round(P_cond*100, 0),'%')"
      ],
      "metadata": {
        "colab": {
          "base_uri": "https://localhost:8080/"
        },
        "id": "22jyiR_rjAVl",
        "outputId": "d86750bd-8066-4f36-b218-a0809bb54ed2"
      },
      "execution_count": 34,
      "outputs": [
        {
          "output_type": "stream",
          "name": "stdout",
          "text": [
            "La probabilidad de B>3 dado B<6 es 40.0 %\n"
          ]
        }
      ]
    },
    {
      "cell_type": "code",
      "source": [
        "# cuantos verdaderos\n",
        "np.sum(B>3)\n",
        "\n",
        "print(np.sum(B>3))"
      ],
      "metadata": {
        "colab": {
          "base_uri": "https://localhost:8080/"
        },
        "id": "diFZuqHFfGWe",
        "outputId": "5571d0d8-7199-4a62-d741-1a0f925a3b62"
      },
      "execution_count": 9,
      "outputs": [
        {
          "output_type": "stream",
          "name": "stdout",
          "text": [
            "4\n"
          ]
        }
      ]
    },
    {
      "cell_type": "code",
      "source": [
        "# Probabilidad\n",
        "P = np.sum(B>3)/len(B)\n",
        "\n",
        "print(P)\n",
        "\n",
        "print(np.mean(B>3))"
      ],
      "metadata": {
        "colab": {
          "base_uri": "https://localhost:8080/"
        },
        "id": "mr2eLyr-fTD5",
        "outputId": "50af8acf-dbaa-4d62-8c09-fd7bcab51cb2"
      },
      "execution_count": 12,
      "outputs": [
        {
          "output_type": "stream",
          "name": "stdout",
          "text": [
            "0.5714285714285714\n",
            "0.5714285714285714\n"
          ]
        }
      ]
    },
    {
      "cell_type": "code",
      "source": [
        "# crear funciones Y = x^2\n",
        "def Y(x):\n",
        "    # funcion que eleva al cuadrado\n",
        "    y_val = x**2\n",
        "    return y_val # la potencia es **\n"
      ],
      "metadata": {
        "id": "O8SN3bg2jnFM"
      },
      "execution_count": 38,
      "outputs": []
    },
    {
      "cell_type": "code",
      "source": [
        "print(Y(4))"
      ],
      "metadata": {
        "colab": {
          "base_uri": "https://localhost:8080/"
        },
        "id": "nV_mFepojwld",
        "outputId": "b54ae26b-be65-492b-fe07-c3f34378ba3f"
      },
      "execution_count": 39,
      "outputs": [
        {
          "output_type": "stream",
          "name": "stdout",
          "text": [
            "16\n"
          ]
        }
      ]
    },
    {
      "cell_type": "code",
      "source": [
        "# crear funcion simple Y = X**2\n",
        "Y2 = lambda z: z**2 # esto es una funcion de x\n",
        "\n",
        "print(Y2(4))"
      ],
      "metadata": {
        "colab": {
          "base_uri": "https://localhost:8080/"
        },
        "id": "r2815UZ_j6cQ",
        "outputId": "f4919f77-a72c-4997-a7ff-0cc51b3f7e04"
      },
      "execution_count": 42,
      "outputs": [
        {
          "output_type": "stream",
          "name": "stdout",
          "text": [
            "16\n"
          ]
        }
      ]
    },
    {
      "cell_type": "code",
      "source": [
        "# el valor medio (por definicion) p(x) -->\n",
        "# es la integral extendida al dominio x*p(x)*dx\n",
        "\n",
        "#integrarles \"analiticas\" en python\n",
        "import scipy as sp\n",
        "\n",
        "# hagamos la integral de x*Y(x) entre 0 y 10 --> 10^4/4 = 2500\n",
        "Int, err = sp.integrate.quad(lambda x: x*Y(x), 0, 10)\n",
        "\n",
        "# varianza: integral extendida al domnio de (x-mu)**2 * p(x) * dx\n",
        "\n",
        "# NOTA: El infinito np.inf en python\n",
        "\n",
        "print(Int)"
      ],
      "metadata": {
        "colab": {
          "base_uri": "https://localhost:8080/"
        },
        "id": "b25VgAsakMH5",
        "outputId": "f7f0b664-3ab9-4d48-ae30-e2bdcf789398"
      },
      "execution_count": 43,
      "outputs": [
        {
          "output_type": "stream",
          "name": "stdout",
          "text": [
            "2500.0000000000005\n"
          ]
        }
      ]
    },
    {
      "cell_type": "code",
      "source": [
        "def Plano(x,y):\n",
        "  Z = 10*x+5*y\n",
        "  return Z"
      ],
      "metadata": {
        "id": "mub8HjxjlmC5"
      },
      "execution_count": 46,
      "outputs": []
    },
    {
      "cell_type": "markdown",
      "source": [
        "La integral de Z entre X = [0,Y] con Y [-5,10]\n",
        "\n",
        "*   Qué es en planta? --> Un triangulo\n",
        "\n"
      ],
      "metadata": {
        "id": "3Ti5AJ9Kl25x"
      }
    },
    {
      "cell_type": "code",
      "source": [
        "Int, err = sp.integrate.dblquad(lambda x,y: Plano(x,y),-5,10,0,lambda y: y)\n",
        "\n",
        "print(Int)"
      ],
      "metadata": {
        "colab": {
          "base_uri": "https://localhost:8080/"
        },
        "id": "X48XbzJal2e8",
        "outputId": "735e776f-5f0a-46cf-dff4-d2032d337eee"
      },
      "execution_count": 48,
      "outputs": [
        {
          "output_type": "stream",
          "name": "stdout",
          "text": [
            "3750.0\n"
          ]
        }
      ]
    },
    {
      "cell_type": "markdown",
      "source": [],
      "metadata": {
        "id": "9jsrtKRDfSSy"
      }
    }
  ]
}