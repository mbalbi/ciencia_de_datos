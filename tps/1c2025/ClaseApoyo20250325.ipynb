{
  "nbformat": 4,
  "nbformat_minor": 0,
  "metadata": {
    "colab": {
      "provenance": [],
      "authorship_tag": "ABX9TyNNwC1JHlO6hN9GqBwctWHq",
      "include_colab_link": true
    },
    "kernelspec": {
      "name": "python3",
      "display_name": "Python 3"
    },
    "language_info": {
      "name": "python"
    }
  },
  "cells": [
    {
      "cell_type": "markdown",
      "metadata": {
        "id": "view-in-github",
        "colab_type": "text"
      },
      "source": [
        "<a href=\"https://colab.research.google.com/github/mbalbi/ciencia_de_datos/blob/main/tps/1c2025/ClaseApoyo20250325.ipynb\" target=\"_parent\"><img src=\"https://colab.research.google.com/assets/colab-badge.svg\" alt=\"Open In Colab\"/></a>"
      ]
    },
    {
      "cell_type": "markdown",
      "source": [
        "# Mi Titulo\n",
        "\n",
        "Hola, como te va"
      ],
      "metadata": {
        "id": "89j7TkdceIPC"
      }
    },
    {
      "cell_type": "markdown",
      "source": [
        "## Cosa 1\n",
        "\n",
        "Hola tambien"
      ],
      "metadata": {
        "id": "toSmYb5BeNQR"
      }
    },
    {
      "cell_type": "code",
      "execution_count": null,
      "metadata": {
        "colab": {
          "base_uri": "https://localhost:8080/"
        },
        "id": "M5TJnLwHVY0a",
        "outputId": "efb9a4af-9cb9-469b-db17-6ff8f4f220da"
      },
      "outputs": [
        {
          "output_type": "stream",
          "name": "stdout",
          "text": [
            "[1, 3, 4, 5, 7, 10, 0]\n"
          ]
        }
      ],
      "source": [
        "# una lista\n",
        "A = [1, 3, 4, 5, 7, 10, 0]\n",
        "\n",
        "# ver lista\n",
        "print(A)"
      ]
    },
    {
      "cell_type": "code",
      "source": [
        "# un vector\n",
        "import numpy as np\n",
        "\n",
        "B = np.array(A)\n",
        "\n",
        "# ver vector\n",
        "print(B)"
      ],
      "metadata": {
        "colab": {
          "base_uri": "https://localhost:8080/"
        },
        "id": "cLF8EfVcegCA",
        "outputId": "86f21aa2-bcba-4465-bcfa-657650e0733f"
      },
      "execution_count": null,
      "outputs": [
        {
          "output_type": "stream",
          "name": "stdout",
          "text": [
            "[ 1  3  4  5  7 10  0]\n"
          ]
        }
      ]
    },
    {
      "cell_type": "code",
      "source": [
        "# las dimensiones de mi vector\n",
        "B.shape\n",
        "\n",
        "print(B.shape) # es un vector (1D)"
      ],
      "metadata": {
        "colab": {
          "base_uri": "https://localhost:8080/"
        },
        "id": "_RnPZiMTemFD",
        "outputId": "64384614-a004-4236-f91e-79d7ee69c165"
      },
      "execution_count": null,
      "outputs": [
        {
          "output_type": "stream",
          "name": "stdout",
          "text": [
            "(7,)\n"
          ]
        }
      ]
    },
    {
      "cell_type": "code",
      "source": [
        "print(3>4)"
      ],
      "metadata": {
        "colab": {
          "base_uri": "https://localhost:8080/"
        },
        "id": "2rjCTDiLeyHR",
        "outputId": "1a7baca9-58c2-4a6c-8517-4d988a23108f"
      },
      "execution_count": null,
      "outputs": [
        {
          "output_type": "stream",
          "name": "stdout",
          "text": [
            "False\n"
          ]
        }
      ]
    },
    {
      "cell_type": "code",
      "source": [
        "print(bool(1))"
      ],
      "metadata": {
        "colab": {
          "base_uri": "https://localhost:8080/"
        },
        "id": "z7o5QQZLe3rD",
        "outputId": "b6f7d924-c7d2-468b-cbd7-88b9f01f5367"
      },
      "execution_count": null,
      "outputs": [
        {
          "output_type": "stream",
          "name": "stdout",
          "text": [
            "True\n"
          ]
        }
      ]
    },
    {
      "cell_type": "code",
      "source": [
        "print(B>3)\n",
        "\n",
        "print(B<6)"
      ],
      "metadata": {
        "colab": {
          "base_uri": "https://localhost:8080/"
        },
        "id": "HFIHtQjbe-j1",
        "outputId": "3c1b1deb-2520-4ba2-b530-de6219f341d8"
      },
      "execution_count": null,
      "outputs": [
        {
          "output_type": "stream",
          "name": "stdout",
          "text": [
            "[False False  True  True  True  True False]\n",
            "[ True  True  True  True False False  True]\n"
          ]
        }
      ]
    },
    {
      "cell_type": "code",
      "source": [
        "# Cumplir las dos condiciones\n",
        "print((B>3) & (B<6)) # ejemplo, probabilidad conjunta\n",
        "c = np.mean((B>3) & (B<6))\n",
        "\n",
        "print(np.mean((B>3) & (B<6)))\n",
        "\n",
        "# redondeo\n",
        "print('La probabilidad de B>3 y B<6 es',np.round(c*100, 0),'%')"
      ],
      "metadata": {
        "colab": {
          "base_uri": "https://localhost:8080/"
        },
        "id": "Sg4bOzOkf2cp",
        "outputId": "b72e48de-d5ef-4180-d104-21c840491d4c"
      },
      "execution_count": null,
      "outputs": [
        {
          "output_type": "stream",
          "name": "stdout",
          "text": [
            "[False False  True  True False False False]\n",
            "0.2857142857142857\n",
            "La probabilidad de B>3 y B<6 es 29.0 %\n"
          ]
        }
      ]
    },
    {
      "cell_type": "markdown",
      "source": [
        "P(B>3|B<6)"
      ],
      "metadata": {
        "id": "s09o5-IqhMjp"
      }
    },
    {
      "cell_type": "code",
      "source": [
        "print(B[0:3]) # nota: el ultimo excluyente"
      ],
      "metadata": {
        "colab": {
          "base_uri": "https://localhost:8080/"
        },
        "id": "K82pQJxGhbKj",
        "outputId": "7f263a55-7d62-4378-a8a4-c08870f085ad"
      },
      "execution_count": null,
      "outputs": [
        {
          "output_type": "stream",
          "name": "stdout",
          "text": [
            "[1 3 4]\n"
          ]
        }
      ]
    },
    {
      "cell_type": "code",
      "source": [
        "B[[1,-1,0]]"
      ],
      "metadata": {
        "colab": {
          "base_uri": "https://localhost:8080/"
        },
        "id": "DYvLkm0OiUmx",
        "outputId": "cf78ae6e-c522-44aa-c194-a21b7f8d4810"
      },
      "execution_count": null,
      "outputs": [
        {
          "output_type": "execute_result",
          "data": {
            "text/plain": [
              "array([3, 0, 1])"
            ]
          },
          "metadata": {},
          "execution_count": 30
        }
      ]
    },
    {
      "cell_type": "code",
      "source": [
        "print(B)\n",
        "\n",
        "filtro = B<6 # la condicion que quiero cumplir\n",
        "print(filtro)\n",
        "\n",
        "B_cond = B[filtro] # aplicar el filtro (booleanos) a mi vector\n",
        "\n",
        "print(B_cond) # valores que cumplen condicion\n",
        "\n",
        "# la probabilidad (condicionada)\n",
        "#print(np.mean(B_cond>3))"
      ],
      "metadata": {
        "colab": {
          "base_uri": "https://localhost:8080/"
        },
        "id": "NBGYHCrMgvEd",
        "outputId": "02f1822c-6eef-4302-f5a5-2d61b080d5f8"
      },
      "execution_count": null,
      "outputs": [
        {
          "output_type": "stream",
          "name": "stdout",
          "text": [
            "[ 1  3  4  5  7 10  0]\n",
            "[ True  True  True  True False False  True]\n",
            "[1 3 4 5 0]\n"
          ]
        }
      ]
    },
    {
      "cell_type": "code",
      "source": [
        "P_cond = np.mean(B[B<6]>3)\n",
        "\n",
        "print('La probabilidad de B>3 dado B<6 es',np.round(P_cond*100, 0),'%')"
      ],
      "metadata": {
        "colab": {
          "base_uri": "https://localhost:8080/"
        },
        "id": "22jyiR_rjAVl",
        "outputId": "d86750bd-8066-4f36-b218-a0809bb54ed2"
      },
      "execution_count": null,
      "outputs": [
        {
          "output_type": "stream",
          "name": "stdout",
          "text": [
            "La probabilidad de B>3 dado B<6 es 40.0 %\n"
          ]
        }
      ]
    },
    {
      "cell_type": "code",
      "source": [
        "# cuantos verdaderos\n",
        "np.sum(B>3)\n",
        "\n",
        "print(np.sum(B>3))"
      ],
      "metadata": {
        "colab": {
          "base_uri": "https://localhost:8080/"
        },
        "id": "diFZuqHFfGWe",
        "outputId": "5571d0d8-7199-4a62-d741-1a0f925a3b62"
      },
      "execution_count": null,
      "outputs": [
        {
          "output_type": "stream",
          "name": "stdout",
          "text": [
            "4\n"
          ]
        }
      ]
    },
    {
      "cell_type": "code",
      "source": [
        "# Probabilidad\n",
        "P = np.sum(B>3)/len(B)\n",
        "\n",
        "print(P)\n",
        "\n",
        "print(np.mean(B>3))"
      ],
      "metadata": {
        "colab": {
          "base_uri": "https://localhost:8080/"
        },
        "id": "mr2eLyr-fTD5",
        "outputId": "50af8acf-dbaa-4d62-8c09-fd7bcab51cb2"
      },
      "execution_count": null,
      "outputs": [
        {
          "output_type": "stream",
          "name": "stdout",
          "text": [
            "0.5714285714285714\n",
            "0.5714285714285714\n"
          ]
        }
      ]
    },
    {
      "cell_type": "code",
      "source": [
        "# crear funciones Y = x^2\n",
        "def Y(x):\n",
        "    # funcion que eleva al cuadrado\n",
        "    y_val = x**2\n",
        "    return y_val # la potencia es **\n"
      ],
      "metadata": {
        "id": "O8SN3bg2jnFM"
      },
      "execution_count": null,
      "outputs": []
    },
    {
      "cell_type": "code",
      "source": [
        "print(Y(4))"
      ],
      "metadata": {
        "colab": {
          "base_uri": "https://localhost:8080/"
        },
        "id": "nV_mFepojwld",
        "outputId": "b54ae26b-be65-492b-fe07-c3f34378ba3f"
      },
      "execution_count": null,
      "outputs": [
        {
          "output_type": "stream",
          "name": "stdout",
          "text": [
            "16\n"
          ]
        }
      ]
    },
    {
      "cell_type": "code",
      "source": [
        "# crear funcion simple Y = X**2\n",
        "Y2 = lambda z: z**2 # esto es una funcion de x\n",
        "\n",
        "print(Y2(4))"
      ],
      "metadata": {
        "colab": {
          "base_uri": "https://localhost:8080/"
        },
        "id": "r2815UZ_j6cQ",
        "outputId": "f4919f77-a72c-4997-a7ff-0cc51b3f7e04"
      },
      "execution_count": null,
      "outputs": [
        {
          "output_type": "stream",
          "name": "stdout",
          "text": [
            "16\n"
          ]
        }
      ]
    },
    {
      "cell_type": "code",
      "source": [
        "# el valor medio (por definicion) p(x) -->\n",
        "# es la integral extendida al dominio x*p(x)*dx\n",
        "\n",
        "#integrarles \"analiticas\" en python\n",
        "import scipy as sp\n",
        "\n",
        "# hagamos la integral de x*Y(x) entre 0 y 10 --> 10^4/4 = 2500\n",
        "Int, err = sp.integrate.quad(lambda x: x*Y(x), 0, 10)\n",
        "\n",
        "# varianza: integral extendida al domnio de (x-mu)**2 * p(x) * dx\n",
        "\n",
        "# NOTA: El infinito np.inf en python\n",
        "\n",
        "print(Int)"
      ],
      "metadata": {
        "colab": {
          "base_uri": "https://localhost:8080/"
        },
        "id": "b25VgAsakMH5",
        "outputId": "f7f0b664-3ab9-4d48-ae30-e2bdcf789398"
      },
      "execution_count": null,
      "outputs": [
        {
          "output_type": "stream",
          "name": "stdout",
          "text": [
            "2500.0000000000005\n"
          ]
        }
      ]
    },
    {
      "cell_type": "code",
      "source": [
        "def Plano(x,y):\n",
        "  Z = 10*x+5*y\n",
        "  return Z"
      ],
      "metadata": {
        "id": "mub8HjxjlmC5"
      },
      "execution_count": null,
      "outputs": []
    },
    {
      "cell_type": "markdown",
      "source": [
        "La integral de Z entre X = [0,Y] con Y [-5,10]\n",
        "\n",
        "*   Qué es en planta? --> Un triangulo\n",
        "\n"
      ],
      "metadata": {
        "id": "3Ti5AJ9Kl25x"
      }
    },
    {
      "cell_type": "code",
      "source": [
        "Int, err = sp.integrate.dblquad(lambda x,y: Plano(x,y),-5,10,0,lambda y: y)\n",
        "\n",
        "print(Int)"
      ],
      "metadata": {
        "colab": {
          "base_uri": "https://localhost:8080/"
        },
        "id": "X48XbzJal2e8",
        "outputId": "735e776f-5f0a-46cf-dff4-d2032d337eee"
      },
      "execution_count": null,
      "outputs": [
        {
          "output_type": "stream",
          "name": "stdout",
          "text": [
            "3750.0\n"
          ]
        }
      ]
    },
    {
      "cell_type": "markdown",
      "source": [
        "# Parte II (25/03/2025)"
      ],
      "metadata": {
        "id": "9jsrtKRDfSSy"
      }
    },
    {
      "cell_type": "code",
      "source": [
        "import numpy as np\n",
        "import scipy as sp\n",
        "import scipy.stats as st\n",
        "import seaborn as sns\n",
        "import matplotlib.pyplot as plt"
      ],
      "metadata": {
        "id": "xznGZDQBhcLe"
      },
      "execution_count": null,
      "outputs": []
    },
    {
      "cell_type": "code",
      "source": [
        "fun = lambda x: x**2+2*x-3"
      ],
      "metadata": {
        "id": "lZkLJMyOh3Jw"
      },
      "execution_count": null,
      "outputs": []
    },
    {
      "cell_type": "code",
      "source": [
        "# vector en la que voy a evaluar fun(x)\n",
        "x_vec = np.linspace(0,10,21)\n",
        "\n",
        "# equiespaciado logaritmico (de 1e-5 a 1e1)\n",
        "#x_vec = np.logspace(-5,1,21)\n",
        "\n",
        "print(x_vec)\n",
        "\n",
        "fun_vec = fun(x_vec)\n",
        "\n",
        "print(fun_vec)"
      ],
      "metadata": {
        "colab": {
          "base_uri": "https://localhost:8080/"
        },
        "id": "Mowk4eFhiAWI",
        "outputId": "aa831d0a-f3a1-4326-f14e-f4938a935bfd"
      },
      "execution_count": null,
      "outputs": [
        {
          "output_type": "stream",
          "name": "stdout",
          "text": [
            "[ 0.   0.5  1.   1.5  2.   2.5  3.   3.5  4.   4.5  5.   5.5  6.   6.5\n",
            "  7.   7.5  8.   8.5  9.   9.5 10. ]\n",
            "[ -3.    -1.75   0.     2.25   5.     8.25  12.    16.25  21.    26.25\n",
            "  32.    38.25  45.    52.25  60.    68.25  77.    86.25  96.   106.25\n",
            " 117.  ]\n"
          ]
        }
      ]
    },
    {
      "cell_type": "code",
      "source": [
        "sns.lineplot(x=x_vec, y=fun_vec,color='b',marker='o').set(title='Mi funcion',xlabel='X',ylabel='f(X)')\n",
        "plt.show()"
      ],
      "metadata": {
        "colab": {
          "base_uri": "https://localhost:8080/",
          "height": 472
        },
        "id": "51pP5zPRjBbQ",
        "outputId": "8f846b36-91e9-4b7e-f1da-73f0f112da1a"
      },
      "execution_count": null,
      "outputs": [
        {
          "output_type": "display_data",
          "data": {
            "text/plain": [
              "<Figure size 640x480 with 1 Axes>"
            ],
            "image/png": "[encoded data removed]"
          },
          "metadata": {}
        }
      ]
    },
    {
      "cell_type": "code",
      "source": [
        "# simulaciones de una distribucion de poisson\n",
        "Sim_PO = st.poisson(mu=3).rvs(size=10000)\n",
        "\n",
        "print(Sim_PO)"
      ],
      "metadata": {
        "colab": {
          "base_uri": "https://localhost:8080/"
        },
        "id": "U1gZwtYfk_mS",
        "outputId": "52c52325-6726-429f-b88f-13a36d7a82fa"
      },
      "execution_count": null,
      "outputs": [
        {
          "output_type": "stream",
          "name": "stdout",
          "text": [
            "[3 2 5 ... 4 2 2]\n"
          ]
        }
      ]
    },
    {
      "cell_type": "code",
      "source": [
        "# histograma\n",
        "sns.histplot(x=Sim_PO,discrete=True)"
      ],
      "metadata": {
        "colab": {
          "base_uri": "https://localhost:8080/",
          "height": 447
        },
        "id": "zG03ksQulm1V",
        "outputId": "26346825-7aeb-4462-bc63-771a8415cf58"
      },
      "execution_count": null,
      "outputs": [
        {
          "output_type": "execute_result",
          "data": {
            "text/plain": [
              "<Axes: ylabel='Count'>"
            ]
          },
          "metadata": {},
          "execution_count": 35
        },
        {
          "output_type": "display_data",
          "data": {
            "text/plain": [
              "<Figure size 640x480 with 1 Axes>"
            ],
            "image/png": "[encoded data removed]"
          },
          "metadata": {}
        }
      ]
    },
    {
      "cell_type": "code",
      "source": [
        "# histograma\n",
        "sns.histplot(x=Sim_PO,discrete=True,stat='probability')"
      ],
      "metadata": {
        "colab": {
          "base_uri": "https://localhost:8080/",
          "height": 447
        },
        "id": "InQDSw3el2bM",
        "outputId": "f0cc95cd-a0a2-4918-d3f8-ce8be84327fb"
      },
      "execution_count": null,
      "outputs": [
        {
          "output_type": "execute_result",
          "data": {
            "text/plain": [
              "<Axes: ylabel='Probability'>"
            ]
          },
          "metadata": {},
          "execution_count": 36
        },
        {
          "output_type": "display_data",
          "data": {
            "text/plain": [
              "<Figure size 640x480 with 1 Axes>"
            ],
            "image/png": "[encoded data removed]"
          },
          "metadata": {}
        }
      ]
    },
    {
      "cell_type": "code",
      "source": [
        "# histograma empirico de probabilidad acumulada\n",
        "sns.histplot(x=Sim_PO,discrete=True,stat='probability',cumulative=True)"
      ],
      "metadata": {
        "colab": {
          "base_uri": "https://localhost:8080/",
          "height": 447
        },
        "id": "hNQNPYkgmLUz",
        "outputId": "0e684ef7-b6bf-4132-d006-c541097dc9be"
      },
      "execution_count": null,
      "outputs": [
        {
          "output_type": "execute_result",
          "data": {
            "text/plain": [
              "<Axes: ylabel='Probability'>"
            ]
          },
          "metadata": {},
          "execution_count": 37
        },
        {
          "output_type": "display_data",
          "data": {
            "text/plain": [
              "<Figure size 640x480 with 1 Axes>"
            ],
            "image/png": "[encoded data removed]"
          },
          "metadata": {}
        }
      ]
    },
    {
      "cell_type": "code",
      "source": [
        "# simulando una normal\n",
        "Sim_Norm = st.norm(loc=1,scale=0.05).rvs(size=10000)\n",
        "\n",
        "print(Sim_Norm)"
      ],
      "metadata": {
        "colab": {
          "base_uri": "https://localhost:8080/"
        },
        "id": "XO3U1lUYmZGf",
        "outputId": "9bb70bcb-1378-4df0-8745-f89586eaecf7"
      },
      "execution_count": null,
      "outputs": [
        {
          "output_type": "stream",
          "name": "stdout",
          "text": [
            "[1.00166751 0.99053841 1.01381214 ... 1.00001564 1.04588799 0.92946395]\n"
          ]
        }
      ]
    },
    {
      "cell_type": "code",
      "source": [
        "sns.histplot(x=Sim_Norm,bins=10,stat='density')\n",
        "sns.kdeplot(x=Sim_Norm,color='r')"
      ],
      "metadata": {
        "colab": {
          "base_uri": "https://localhost:8080/",
          "height": 447
        },
        "id": "sUlCJK8ZmmC4",
        "outputId": "abc5c366-b9fe-47b6-f95f-babea19026f5"
      },
      "execution_count": null,
      "outputs": [
        {
          "output_type": "execute_result",
          "data": {
            "text/plain": [
              "<Axes: ylabel='Density'>"
            ]
          },
          "metadata": {},
          "execution_count": 50
        },
        {
          "output_type": "display_data",
          "data": {
            "text/plain": [
              "<Figure size 640x480 with 1 Axes>"
            ],
            "image/png": "[encoded data removed]"
          },
          "metadata": {}
        }
      ]
    },
    {
      "cell_type": "code",
      "source": [
        "sns.histplot(x=Sim_Norm,bins=10,stat='density',cumulative=True)\n",
        "sns.kdeplot(x=Sim_Norm,color='r',cumulative=True)\n",
        "plt.title('Mi funcion de prob. acumulada')\n",
        "plt.xlim(0.5,1.5)"
      ],
      "metadata": {
        "colab": {
          "base_uri": "https://localhost:8080/",
          "height": 469
        },
        "id": "1ddW85OQoMyk",
        "outputId": "ba733867-1799-499b-e5bf-91958638ee20"
      },
      "execution_count": null,
      "outputs": [
        {
          "output_type": "execute_result",
          "data": {
            "text/plain": [
              "(0.5, 1.5)"
            ]
          },
          "metadata": {},
          "execution_count": 56
        },
        {
          "output_type": "display_data",
          "data": {
            "text/plain": [
              "<Figure size 640x480 with 1 Axes>"
            ],
            "image/png": "[encoded data removed]"
          },
          "metadata": {}
        }
      ]
    },
    {
      "cell_type": "code",
      "source": [
        "\n",
        "\n",
        "# cuanti P25\n",
        "P25 = np.quantile(Sim_Norm,0.25)\n",
        "print(P25)\n",
        "\n",
        "sns.kdeplot(x=Sim_Norm,color='r',fill=True,cumulative=True)\n",
        "plt.axvline(x=P25,color='b')\n",
        "plt.axhline(y=0.25,color='b')\n",
        "plt.grid(True)"
      ],
      "metadata": {
        "colab": {
          "base_uri": "https://localhost:8080/",
          "height": 447
        },
        "id": "-SHhB9b5oyPD",
        "outputId": "4b1ccfec-d9f8-4cb5-aeb9-1637fab41f7e"
      },
      "execution_count": null,
      "outputs": [
        {
          "output_type": "stream",
          "name": "stdout",
          "text": [
            "0.966806635304271\n"
          ]
        },
        {
          "output_type": "display_data",
          "data": {
            "text/plain": [
              "<Figure size 640x480 with 1 Axes>"
            ],
            "image/png": "[encoded data removed]"
          },
          "metadata": {}
        }
      ]
    }
  ]
}