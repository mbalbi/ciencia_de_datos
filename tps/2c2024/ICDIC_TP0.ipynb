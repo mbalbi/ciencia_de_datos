{
  "nbformat": 4,
  "nbformat_minor": 0,
  "metadata": {
    "colab": {
      "provenance": [],
      "toc_visible": true,
      "include_colab_link": true
    },
    "kernelspec": {
      "name": "python3",
      "display_name": "Python 3"
    },
    "language_info": {
      "name": "python"
    }
  },
  "cells": [
    {
      "cell_type": "markdown",
      "metadata": {
        "id": "view-in-github",
        "colab_type": "text"
      },
      "source": [
        "<a href=\"https://colab.research.google.com/github/mbalbi/ciencia_de_datos/blob/main/tps/2c2024/ICDIC_TP0.ipynb\" target=\"_parent\"><img src=\"https://colab.research.google.com/assets/colab-badge.svg\" alt=\"Open In Colab\"/></a>"
      ]
    },
    {
      "cell_type": "markdown",
      "source": [
        "# Trabajo Práctico 0: Introducción a Python\n",
        "**Objetivos:** Con este trabajo práctico se busca que los alumnos comiencen a familiarizarse con las herramientas mínimas necesarias de programación en Python, con el fin de poder luego aplicarlas en el resto del curso.\n",
        "\n",
        "**Librerías:** En este trabajo se utilizará\n",
        "\n",
        "*   Numpy: matemática básica y definición de matrices y vectores; simulación de variables aleatorias\n",
        "*   Pandas: para lectura y manejo de datos\n",
        "*   Seaborn: para graficar\n",
        "\n",
        "\n",
        "\n",
        "\n"
      ],
      "metadata": {
        "id": "lQI1hutMlAhv"
      }
    },
    {
      "cell_type": "code",
      "source": [
        "# para el TP\n",
        "import numpy as np\n",
        "import pandas as pd\n",
        "import matplotlib.pyplot as plt\n",
        "import seaborn as sns\n",
        "\n",
        "# para lectura de archivos\n",
        "from google.colab import files\n",
        "import io\n",
        "\n",
        "# para registrar el tiempo de corrida\n",
        "import datetime"
      ],
      "metadata": {
        "id": "S19hh0GOlgc2"
      },
      "execution_count": null,
      "outputs": []
    },
    {
      "cell_type": "code",
      "source": [
        "start_datetime = datetime.datetime.now()\n",
        "\n",
        "print('Inicio de corrida: ',start_datetime)"
      ],
      "metadata": {
        "colab": {
          "base_uri": "https://localhost:8080/"
        },
        "id": "OytCf_8SyHKL",
        "outputId": "b005cb94-d64f-4868-aaac-a3282d384ef7"
      },
      "execution_count": null,
      "outputs": [
        {
          "output_type": "stream",
          "name": "stdout",
          "text": [
            "Inicio de corrida:  2024-08-26 15:42:02.340563\n"
          ]
        }
      ]
    },
    {
      "cell_type": "markdown",
      "source": [
        "Grupo:\n",
        "\n",
        "Integrantes:\n",
        "\n",
        "*   Apellido, Nombres XXXXXX\n",
        "*   Apellido, Nombres XXXXXX\n",
        "*   Apellido, Nombres XXXXXX\n",
        "*   Apellido, Nombres XXXXXX\n",
        "*   Apellido, Nombres XXXXXX"
      ],
      "metadata": {
        "id": "4tNcV0OYoeU_"
      }
    },
    {
      "cell_type": "markdown",
      "source": [
        "## Ejercicio 1: Diversión con matrices\n",
        "\n",
        "A continuación, se tiene un array de nombre `A`, con números del 1 al 10."
      ],
      "metadata": {
        "id": "41vYg_e1hKKF"
      }
    },
    {
      "cell_type": "code",
      "source": [
        "np.random.seed(20)\n",
        "A = np.round(np.random.rand(48).reshape((4,4,3))*255,0)\n",
        "\n",
        "print(A)"
      ],
      "metadata": {
        "colab": {
          "base_uri": "https://localhost:8080/"
        },
        "id": "nvfqFCTrEvIM",
        "outputId": "15612927-cae9-47fb-9566-07843ebffd23"
      },
      "execution_count": null,
      "outputs": [
        {
          "output_type": "stream",
          "name": "stdout",
          "text": [
            "[[[150. 229. 227.]\n",
            "  [208.   9. 176.]\n",
            "  [ 97. 132. 168.]\n",
            "  [ 49.  69. 183.]]\n",
            "\n",
            " [[200. 217. 198.]\n",
            "  [  9.  30. 192.]\n",
            "  [ 61.  65. 219.]\n",
            "  [242. 143.  46.]]\n",
            "\n",
            " [[196. 126. 161.]\n",
            "  [214. 118. 127.]\n",
            "  [173. 166.  69.]\n",
            "  [ 17. 197. 123.]]\n",
            "\n",
            " [[ 84. 130.  67.]\n",
            "  [ 79. 160. 142.]\n",
            "  [ 81. 101.  66.]\n",
            "  [148.  41. 153.]]]\n"
          ]
        }
      ]
    },
    {
      "cell_type": "markdown",
      "source": [
        "### Actividad 1\n",
        "\n",
        "**Actividad**: Encuentre las dimensiones de `A`."
      ],
      "metadata": {
        "id": "dGYtuVUAGCEP"
      }
    },
    {
      "cell_type": "code",
      "source": [
        "################################################################################\n",
        "# CODIGO DEL ALUMNO\n",
        "size =\n",
        "################################################################################\n",
        "print('las dimensiones de A son',size)"
      ],
      "metadata": {
        "colab": {
          "base_uri": "https://localhost:8080/"
        },
        "id": "II7iViJnGTYO",
        "outputId": "aa3181a1-7f91-495b-c677-764ea2028607"
      },
      "execution_count": null,
      "outputs": [
        {
          "output_type": "stream",
          "name": "stdout",
          "text": [
            "las dimensiones de A son (4, 4, 3)\n"
          ]
        }
      ]
    },
    {
      "cell_type": "markdown",
      "source": [
        "### Actividad 2\n",
        "\n",
        "Los datos de arriba podrían representar los datos de una foto, donde las dos primeras dimensiones representan la cantidad de pixeles en X e Y, y la tercera dimensión el color (por ejemplo, rojo azul o verde). El dato numérico en la celda es el valor de ese color en ese color específico (un número entre 0 y 255).\n",
        "\n",
        "El objetivo es encontrar cuántos pixeles son oscuros. Para ello, primero vamos a reordenar los datos para que nos quede de tamaño NxM, donde `N` es el número de pixeles y `M` el número de colores.\n",
        "\n",
        "**Actividad**: Utilizando la función reshape, construya una variable `A_res` que junte en una sola dimensión todos los pixeles.\n"
      ],
      "metadata": {
        "id": "zBbN_8yEHGmT"
      }
    },
    {
      "cell_type": "code",
      "source": [
        "################################################################################\n",
        "# CODIGO DEL ALUMNO\n",
        "A_res =\n",
        "################################################################################\n",
        "print(A_res)\n",
        "print('las dimensiones de A son',A_res.shape)"
      ],
      "metadata": {
        "colab": {
          "base_uri": "https://localhost:8080/"
        },
        "id": "Q2W9LDgjI-lR",
        "outputId": "9d0105a4-1079-434c-d8d8-26ddc1206566"
      },
      "execution_count": null,
      "outputs": [
        {
          "output_type": "stream",
          "name": "stdout",
          "text": [
            "[[150. 229. 227.]\n",
            " [208.   9. 176.]\n",
            " [ 97. 132. 168.]\n",
            " [ 49.  69. 183.]\n",
            " [200. 217. 198.]\n",
            " [  9.  30. 192.]\n",
            " [ 61.  65. 219.]\n",
            " [242. 143.  46.]\n",
            " [196. 126. 161.]\n",
            " [214. 118. 127.]\n",
            " [173. 166.  69.]\n",
            " [ 17. 197. 123.]\n",
            " [ 84. 130.  67.]\n",
            " [ 79. 160. 142.]\n",
            " [ 81. 101.  66.]\n",
            " [148.  41. 153.]]\n",
            "las dimensiones de A son (16, 3)\n"
          ]
        }
      ]
    },
    {
      "cell_type": "markdown",
      "source": [
        "### Actividad 3\n",
        "\n",
        "Un pixel es considerado oscuro cuando su nivel de brillo es menor a 128. El nivel de brillo se calcula como:\n",
        "\n",
        "$$Brillo = 0.2126\\, Color_1+0.7152\\, Color_2+0.0722\\, Color_3$$\n",
        "\n",
        "**Actividad**: Indique cuántos pixeles oscuros hay en la imagen, trabajando con `A_res`"
      ],
      "metadata": {
        "id": "68oVf6dsJy9Z"
      }
    },
    {
      "cell_type": "code",
      "source": [
        "################################################################################\n",
        "# CODIGO DEL ALUMNO\n",
        "Brillo =\n",
        "N_osc =\n",
        "################################################################################\n",
        "print('El número de pixeles oscuros es',N_osc)"
      ],
      "metadata": {
        "colab": {
          "base_uri": "https://localhost:8080/"
        },
        "id": "24AZsb4wKzXH",
        "outputId": "42915def-4360-4f6c-e835-d2ea99027276"
      },
      "execution_count": null,
      "outputs": [
        {
          "output_type": "stream",
          "name": "stdout",
          "text": [
            "El número de pixeles oscuros es 8\n"
          ]
        }
      ]
    },
    {
      "cell_type": "markdown",
      "source": [
        "### Actividad 4\n",
        "\n",
        "Me gustaría no solo saber cuántos pixeles oscuros hay, sino también cuáles son. Una forma de hacerlo es a través de un `for` loop.\n",
        "\n",
        "La idea es la siguiente:\n",
        "- incializar una variable de conteo `N_p` y una variable con datos de pixeles `ij_osc`\n",
        "- Para cada fila `i` de pixeles\n",
        "  - para cada columna `j` de pixeles\n",
        "    - calcular el brillo\n",
        "    - si el brillo es mayor o igual a 128, imprimir `El pixel (i,j) es claro!`\n",
        "    - si el brillo es menor a 128\n",
        "      - sumar 1 a la variable `N_p`\n",
        "      - imprimir `El pixel (i,j) es oscuro!`\n",
        "      - agregar a `ij_osc` los valores de i,j del pixel oscuro.\n",
        "- Imprimir la cantidad de pixeles oscuros finales\n",
        "\n",
        "**Actividad**: Intente armar el algoritmo anterior."
      ],
      "metadata": {
        "id": "osBB-f7GLS-6"
      }
    },
    {
      "cell_type": "code",
      "source": [
        "################################################################################\n",
        "# CODIGO DEL ALUMNO\n",
        "N_p =\n",
        "ij_osc =\n",
        "\n",
        "\n",
        "\n",
        "\n",
        "\n",
        "\n",
        "\n",
        "\n",
        "\n",
        "\n",
        "\n",
        "\n",
        "\n",
        "\n",
        "################################################################################"
      ],
      "metadata": {
        "colab": {
          "base_uri": "https://localhost:8080/"
        },
        "id": "sHIX7TP4M-N2",
        "outputId": "13fa5dbe-c9c1-40e6-f808-6bc0b1b40029"
      },
      "execution_count": null,
      "outputs": [
        {
          "output_type": "stream",
          "name": "stdout",
          "text": [
            "El pixel ( 0 , 0 ) es claro!\n",
            "El pixel ( 0 , 1 ) es oscuro!\n",
            "El pixel ( 0 , 2 ) es oscuro!\n",
            "El pixel ( 0 , 3 ) es oscuro!\n",
            "El pixel ( 1 , 0 ) es claro!\n",
            "El pixel ( 1 , 1 ) es oscuro!\n",
            "El pixel ( 1 , 2 ) es oscuro!\n",
            "El pixel ( 1 , 3 ) es claro!\n",
            "El pixel ( 2 , 0 ) es claro!\n",
            "El pixel ( 2 , 1 ) es claro!\n",
            "El pixel ( 2 , 2 ) es claro!\n",
            "El pixel ( 2 , 3 ) es claro!\n",
            "El pixel ( 3 , 0 ) es oscuro!\n",
            "El pixel ( 3 , 1 ) es claro!\n",
            "El pixel ( 3 , 2 ) es oscuro!\n",
            "El pixel ( 3 , 3 ) es oscuro!\n",
            "El número de pixeles oscuros es 8\n"
          ]
        }
      ]
    },
    {
      "cell_type": "markdown",
      "source": [
        "### Actividad 5\n",
        "\n",
        "Lo único que nos interesa a nosotros de esta imagen es lo que ocurre en los pixeles claros. Por eso, para visualizarlo más fácil queremos convertir a los pixeles oscuros en negros (todos los colores iguales a 0).\n",
        "\n",
        "**Actividad**: Utilizando la variable `ij_osc` reemplace los valores de colores por 0, en una nueva imagen `A_edit`"
      ],
      "metadata": {
        "id": "Ilj06pmQOB7u"
      }
    },
    {
      "cell_type": "code",
      "source": [
        "################################################################################\n",
        "# CODIGO DEL ALUMNO\n",
        "A_edit =\n",
        "\n",
        "\n",
        "\n",
        "################################################################################\n",
        "print(A_edit)"
      ],
      "metadata": {
        "colab": {
          "base_uri": "https://localhost:8080/"
        },
        "id": "gUgGfwIdOvMD",
        "outputId": "e7b83f65-3fb7-4b6a-af48-a44d1457e916"
      },
      "execution_count": null,
      "outputs": [
        {
          "output_type": "stream",
          "name": "stdout",
          "text": [
            "[[[150. 229. 227.]\n",
            "  [  0.   0.   0.]\n",
            "  [  0.   0.   0.]\n",
            "  [  0.   0.   0.]]\n",
            "\n",
            " [[200. 217. 198.]\n",
            "  [  0.   0.   0.]\n",
            "  [  0.   0.   0.]\n",
            "  [242. 143.  46.]]\n",
            "\n",
            " [[196. 126. 161.]\n",
            "  [214. 118. 127.]\n",
            "  [173. 166.  69.]\n",
            "  [ 17. 197. 123.]]\n",
            "\n",
            " [[  0.   0.   0.]\n",
            "  [ 79. 160. 142.]\n",
            "  [  0.   0.   0.]\n",
            "  [  0.   0.   0.]]]\n"
          ]
        }
      ]
    },
    {
      "cell_type": "markdown",
      "source": [
        "### Actividad 6\n",
        "\n",
        "**Actividad**: Repita el proceso anterior pero construyendo un filtro con variables booleanas, guardándolo en una variable `A_edit2`. Es decir, encuentre una forma de reemplazar los valores a partir de un filtro que indique si un pixel es oscuro o no.\n",
        "\n",
        "NOTA: El proceso de construcción del filtro es similar al de la Actividad 3, solo que para la matriz `A` los resultados serán de `IxJ` en vez de un vector."
      ],
      "metadata": {
        "id": "kQYPUcc3Pn3n"
      }
    },
    {
      "cell_type": "code",
      "source": [
        "A_edit2 = A.copy()\n",
        "################################################################################\n",
        "# CODIGO DEL ALUMNO\n",
        "\n",
        "\n",
        "\n",
        "\n",
        "################################################################################\n",
        "print(A_edit2)"
      ],
      "metadata": {
        "colab": {
          "base_uri": "https://localhost:8080/"
        },
        "id": "BNElS794ROOS",
        "outputId": "4d3cef06-194e-4d97-fcd3-a5239d54bfa7"
      },
      "execution_count": null,
      "outputs": [
        {
          "output_type": "stream",
          "name": "stdout",
          "text": [
            "[[[150. 229. 227.]\n",
            "  [  0.   0.   0.]\n",
            "  [  0.   0.   0.]\n",
            "  [  0.   0.   0.]]\n",
            "\n",
            " [[200. 217. 198.]\n",
            "  [  0.   0.   0.]\n",
            "  [  0.   0.   0.]\n",
            "  [242. 143.  46.]]\n",
            "\n",
            " [[196. 126. 161.]\n",
            "  [214. 118. 127.]\n",
            "  [173. 166.  69.]\n",
            "  [ 17. 197. 123.]]\n",
            "\n",
            " [[  0.   0.   0.]\n",
            "  [ 79. 160. 142.]\n",
            "  [  0.   0.   0.]\n",
            "  [  0.   0.   0.]]]\n"
          ]
        }
      ]
    },
    {
      "cell_type": "markdown",
      "source": [
        "Si todo está bien, los resultados debieran ser idénticos."
      ],
      "metadata": {
        "id": "fRNomkQ1OudD"
      }
    },
    {
      "cell_type": "code",
      "source": [
        "fig, axs = plt.subplots(1,3,figsize=(9,3))\n",
        "axs[0].imshow(A/255)\n",
        "axs[0].set_title('Original')\n",
        "axs[1].imshow(A_edit/255)\n",
        "axs[1].set_title('Edit 1')\n",
        "axs[2].imshow(A_edit2/255)\n",
        "axs[2].set_title('Edit 2')\n",
        "plt.show()"
      ],
      "metadata": {
        "colab": {
          "base_uri": "https://localhost:8080/",
          "height": 288
        },
        "id": "SfL4yjAuSu5l",
        "outputId": "ac97fe03-095a-4ff8-80c1-c016578c9105"
      },
      "execution_count": null,
      "outputs": [
        {
          "output_type": "display_data",
          "data": {
            "text/plain": [
              "<Figure size 900x300 with 3 Axes>"
            ],
            "image/png": "[encoded data removed]"
          },
          "metadata": {}
        }
      ]
    },
    {
      "cell_type": "markdown",
      "source": [
        "## Ejercicio 2: Leyendo documentación\n",
        "\n",
        "El objetivo de este ejercicio es acostumbranos a acceder a la documentación oficial de una librería para comprender cómo se utiliza, culminando con un ejemplo."
      ],
      "metadata": {
        "id": "yeV1W30B0inG"
      }
    },
    {
      "cell_type": "markdown",
      "source": [
        "### Actividad 1\n",
        "\n",
        "La principal herramienta para graficar en `Python` es `Matplotlib`, y la mejor librería para hacerlo en forma sencilla (con una línea de código) es `Seaborn`, especialmente para datos tomados de un dataframe.\n",
        "\n",
        "Por eso, queremos que ustedes se vayan familiarizando con la librería por un lado, y en cómo leer librerías por otro. La misma ya fue importada al inicio del TP como `sns`.\n",
        "\n",
        "La documentación de la librería la pueden encontrar en el siguiente [link](https://seaborn.pydata.org/index.html)\n",
        "\n",
        "**Actividad**: ¿Cuál es la función de `Seaborn` que permite contruir un gráfico de puntos ubicados en un plano X-Y?"
      ],
      "metadata": {
        "id": "JZ-31aAp5ETA"
      }
    },
    {
      "cell_type": "markdown",
      "source": [
        "**Su respuesta**:"
      ],
      "metadata": {
        "id": "F7XP-N_k6Pgi"
      }
    },
    {
      "cell_type": "markdown",
      "source": [
        "### Actividad 2\n",
        "\n",
        "Bien, ya sabemos qué función es, ¿pero qué datos me pide?\n",
        "\n",
        "**Actividad**: ¿Cuáles datos de entrada se requieren sí o sí? ¿Cómo puede darse cuenta?"
      ],
      "metadata": {
        "id": "jiLzUJ_y6R8h"
      }
    },
    {
      "cell_type": "markdown",
      "source": [
        "**Su respuesta**:"
      ],
      "metadata": {
        "id": "4NKegag295u8"
      }
    },
    {
      "cell_type": "markdown",
      "source": [
        "### Actividad 3\n",
        "\n",
        "Para seguir, les dejamos un dataset con información del consumo de combustible de distintos modelos de auto entre 1970 y 1982.\n",
        "\n",
        "La idea es que el gráfico de puntos tenga en el eje `X` serán los caballos de fuerza (`horsepower`) y el eje `Y` el consumo de combustible en 'millas por galón' (`mpg`)"
      ],
      "metadata": {
        "id": "EX0z-_OU975M"
      }
    },
    {
      "cell_type": "code",
      "source": [
        "# Carga del dataset\n",
        "Autos_pd = sns.load_dataset('mpg')\n",
        "\n",
        "# Extracción de Ejes X e Y como vectores\n",
        "X = Autos_pd['horsepower'].values\n",
        "Y = Autos_pd['mpg'].values\n",
        "\n",
        "# Eje X\n",
        "print('Eje x (10 valores):',X[0:10])\n",
        "\n",
        "# Eje Y\n",
        "print('Eje y (10 valores):',Y[0:10])\n",
        "\n",
        "# Visualización dataset\n",
        "Autos_pd.head()"
      ],
      "metadata": {
        "colab": {
          "base_uri": "https://localhost:8080/",
          "height": 241
        },
        "id": "t7a876IY8bkC",
        "outputId": "37bb1fc2-06f2-4f14-f5f6-c6637172622a"
      },
      "execution_count": null,
      "outputs": [
        {
          "output_type": "stream",
          "name": "stdout",
          "text": [
            "Eje x (10 valores): [130. 165. 150. 150. 140. 198. 220. 215. 225. 190.]\n",
            "Eje y (10 valores): [18. 15. 18. 16. 17. 15. 14. 14. 14. 15.]\n"
          ]
        },
        {
          "output_type": "execute_result",
          "data": {
            "text/plain": [
              "    mpg  cylinders  displacement  horsepower  weight  acceleration  \\\n",
              "0  18.0          8         307.0       130.0    3504          12.0   \n",
              "1  15.0          8         350.0       165.0    3693          11.5   \n",
              "2  18.0          8         318.0       150.0    3436          11.0   \n",
              "3  16.0          8         304.0       150.0    3433          12.0   \n",
              "4  17.0          8         302.0       140.0    3449          10.5   \n",
              "\n",
              "   model_year origin                       name  \n",
              "0          70    usa  chevrolet chevelle malibu  \n",
              "1          70    usa          buick skylark 320  \n",
              "2          70    usa         plymouth satellite  \n",
              "3          70    usa              amc rebel sst  \n",
              "4          70    usa                ford torino  "
            ],
            "text/html": [
              "\n",
              "  <div id=\"df-58f1ea65-c486-4b1d-91c5-0f674e000d6c\" class=\"colab-df-container\">\n",
              "    <div>\n",
              "<style scoped>\n",
              "    .dataframe tbody tr th:only-of-type {\n",
              "        vertical-align: middle;\n",
              "    }\n",
              "\n",
              "    .dataframe tbody tr th {\n",
              "        vertical-align: top;\n",
              "    }\n",
              "\n",
              "    .dataframe thead th {\n",
              "        text-align: right;\n",
              "    }\n",
              "</style>\n",
              "<table border=\"1\" class=\"dataframe\">\n",
              "  <thead>\n",
              "    <tr style=\"text-align: right;\">\n",
              "      <th></th>\n",
              "      <th>mpg</th>\n",
              "      <th>cylinders</th>\n",
              "      <th>displacement</th>\n",
              "      <th>horsepower</th>\n",
              "      <th>weight</th>\n",
              "      <th>acceleration</th>\n",
              "      <th>model_year</th>\n",
              "      <th>origin</th>\n",
              "      <th>name</th>\n",
              "    </tr>\n",
              "  </thead>\n",
              "  <tbody>\n",
              "    <tr>\n",
              "      <th>0</th>\n",
              "      <td>18.0</td>\n",
              "      <td>8</td>\n",
              "      <td>307.0</td>\n",
              "      <td>130.0</td>\n",
              "      <td>3504</td>\n",
              "      <td>12.0</td>\n",
              "      <td>70</td>\n",
              "      <td>usa</td>\n",
              "      <td>chevrolet chevelle malibu</td>\n",
              "    </tr>\n",
              "    <tr>\n",
              "      <th>1</th>\n",
              "      <td>15.0</td>\n",
              "      <td>8</td>\n",
              "      <td>350.0</td>\n",
              "      <td>165.0</td>\n",
              "      <td>3693</td>\n",
              "      <td>11.5</td>\n",
              "      <td>70</td>\n",
              "      <td>usa</td>\n",
              "      <td>buick skylark 320</td>\n",
              "    </tr>\n",
              "    <tr>\n",
              "      <th>2</th>\n",
              "      <td>18.0</td>\n",
              "      <td>8</td>\n",
              "      <td>318.0</td>\n",
              "      <td>150.0</td>\n",
              "      <td>3436</td>\n",
              "      <td>11.0</td>\n",
              "      <td>70</td>\n",
              "      <td>usa</td>\n",
              "      <td>plymouth satellite</td>\n",
              "    </tr>\n",
              "    <tr>\n",
              "      <th>3</th>\n",
              "      <td>16.0</td>\n",
              "      <td>8</td>\n",
              "      <td>304.0</td>\n",
              "      <td>150.0</td>\n",
              "      <td>3433</td>\n",
              "      <td>12.0</td>\n",
              "      <td>70</td>\n",
              "      <td>usa</td>\n",
              "      <td>amc rebel sst</td>\n",
              "    </tr>\n",
              "    <tr>\n",
              "      <th>4</th>\n",
              "      <td>17.0</td>\n",
              "      <td>8</td>\n",
              "      <td>302.0</td>\n",
              "      <td>140.0</td>\n",
              "      <td>3449</td>\n",
              "      <td>10.5</td>\n",
              "      <td>70</td>\n",
              "      <td>usa</td>\n",
              "      <td>ford torino</td>\n",
              "    </tr>\n",
              "  </tbody>\n",
              "</table>\n",
              "</div>\n",
              "    <div class=\"colab-df-buttons\">\n",
              "\n",
              "  <div class=\"colab-df-container\">\n",
              "    <button class=\"colab-df-convert\" onclick=\"convertToInteractive('df-58f1ea65-c486-4b1d-91c5-0f674e000d6c')\"\n",
              "            title=\"Convert this dataframe to an interactive table.\"\n",
              "            style=\"display:none;\">\n",
              "\n",
              "  <svg xmlns=\"http://www.w3.org/2000/svg\" height=\"24px\" viewBox=\"0 -960 960 960\">\n",
              "    <path d=\"M120-120v-720h720v720H120Zm60-500h600v-160H180v160Zm220 220h160v-160H400v160Zm0 220h160v-160H400v160ZM180-400h160v-160H180v160Zm440 0h160v-160H620v160ZM180-180h160v-160H180v160Zm440 0h160v-160H620v160Z\"/>\n",
              "  </svg>\n",
              "    </button>\n",
              "\n",
              "  <style>\n",
              "    .colab-df-container {\n",
              "      display:flex;\n",
              "      gap: 12px;\n",
              "    }\n",
              "\n",
              "    .colab-df-convert {\n",
              "      background-color: #E8F0FE;\n",
              "      border: none;\n",
              "      border-radius: 50%;\n",
              "      cursor: pointer;\n",
              "      display: none;\n",
              "      fill: #1967D2;\n",
              "      height: 32px;\n",
              "      padding: 0 0 0 0;\n",
              "      width: 32px;\n",
              "    }\n",
              "\n",
              "    .colab-df-convert:hover {\n",
              "      background-color: #E2EBFA;\n",
              "      box-shadow: 0px 1px 2px rgba(60, 64, 67, 0.3), 0px 1px 3px 1px rgba(60, 64, 67, 0.15);\n",
              "      fill: #174EA6;\n",
              "    }\n",
              "\n",
              "    .colab-df-buttons div {\n",
              "      margin-bottom: 4px;\n",
              "    }\n",
              "\n",
              "    [theme=dark] .colab-df-convert {\n",
              "      background-color: #3B4455;\n",
              "      fill: #D2E3FC;\n",
              "    }\n",
              "\n",
              "    [theme=dark] .colab-df-convert:hover {\n",
              "      background-color: #434B5C;\n",
              "      box-shadow: 0px 1px 3px 1px rgba(0, 0, 0, 0.15);\n",
              "      filter: drop-shadow(0px 1px 2px rgba(0, 0, 0, 0.3));\n",
              "      fill: #FFFFFF;\n",
              "    }\n",
              "  </style>\n",
              "\n",
              "    <script>\n",
              "      const buttonEl =\n",
              "        document.querySelector('#df-58f1ea65-c486-4b1d-91c5-0f674e000d6c button.colab-df-convert');\n",
              "      buttonEl.style.display =\n",
              "        google.colab.kernel.accessAllowed ? 'block' : 'none';\n",
              "\n",
              "      async function convertToInteractive(key) {\n",
              "        const element = document.querySelector('#df-58f1ea65-c486-4b1d-91c5-0f674e000d6c');\n",
              "        const dataTable =\n",
              "          await google.colab.kernel.invokeFunction('convertToInteractive',\n",
              "                                                    [key], {});\n",
              "        if (!dataTable) return;\n",
              "\n",
              "        const docLinkHtml = 'Like what you see? Visit the ' +\n",
              "          '<a target=\"_blank\" href=https://colab.research.google.com/notebooks/data_table.ipynb>data table notebook</a>'\n",
              "          + ' to learn more about interactive tables.';\n",
              "        element.innerHTML = '';\n",
              "        dataTable['output_type'] = 'display_data';\n",
              "        await google.colab.output.renderOutput(dataTable, element);\n",
              "        const docLink = document.createElement('div');\n",
              "        docLink.innerHTML = docLinkHtml;\n",
              "        element.appendChild(docLink);\n",
              "      }\n",
              "    </script>\n",
              "  </div>\n",
              "\n",
              "\n",
              "<div id=\"df-b09dfa3b-3f2c-4686-ab79-5554e19f8be5\">\n",
              "  <button class=\"colab-df-quickchart\" onclick=\"quickchart('df-b09dfa3b-3f2c-4686-ab79-5554e19f8be5')\"\n",
              "            title=\"Suggest charts\"\n",
              "            style=\"display:none;\">\n",
              "\n",
              "<svg xmlns=\"http://www.w3.org/2000/svg\" height=\"24px\"viewBox=\"0 0 24 24\"\n",
              "     width=\"24px\">\n",
              "    <g>\n",
              "        <path d=\"M19 3H5c-1.1 0-2 .9-2 2v14c0 1.1.9 2 2 2h14c1.1 0 2-.9 2-2V5c0-1.1-.9-2-2-2zM9 17H7v-7h2v7zm4 0h-2V7h2v10zm4 0h-2v-4h2v4z\"/>\n",
              "    </g>\n",
              "</svg>\n",
              "  </button>\n",
              "\n",
              "<style>\n",
              "  .colab-df-quickchart {\n",
              "      --bg-color: #E8F0FE;\n",
              "      --fill-color: #1967D2;\n",
              "      --hover-bg-color: #E2EBFA;\n",
              "      --hover-fill-color: #174EA6;\n",
              "      --disabled-fill-color: #AAA;\n",
              "      --disabled-bg-color: #DDD;\n",
              "  }\n",
              "\n",
              "  [theme=dark] .colab-df-quickchart {\n",
              "      --bg-color: #3B4455;\n",
              "      --fill-color: #D2E3FC;\n",
              "      --hover-bg-color: #434B5C;\n",
              "      --hover-fill-color: #FFFFFF;\n",
              "      --disabled-bg-color: #3B4455;\n",
              "      --disabled-fill-color: #666;\n",
              "  }\n",
              "\n",
              "  .colab-df-quickchart {\n",
              "    background-color: var(--bg-color);\n",
              "    border: none;\n",
              "    border-radius: 50%;\n",
              "    cursor: pointer;\n",
              "    display: none;\n",
              "    fill: var(--fill-color);\n",
              "    height: 32px;\n",
              "    padding: 0;\n",
              "    width: 32px;\n",
              "  }\n",
              "\n",
              "  .colab-df-quickchart:hover {\n",
              "    background-color: var(--hover-bg-color);\n",
              "    box-shadow: 0 1px 2px rgba(60, 64, 67, 0.3), 0 1px 3px 1px rgba(60, 64, 67, 0.15);\n",
              "    fill: var(--button-hover-fill-color);\n",
              "  }\n",
              "\n",
              "  .colab-df-quickchart-complete:disabled,\n",
              "  .colab-df-quickchart-complete:disabled:hover {\n",
              "    background-color: var(--disabled-bg-color);\n",
              "    fill: var(--disabled-fill-color);\n",
              "    box-shadow: none;\n",
              "  }\n",
              "\n",
              "  .colab-df-spinner {\n",
              "    border: 2px solid var(--fill-color);\n",
              "    border-color: transparent;\n",
              "    border-bottom-color: var(--fill-color);\n",
              "    animation:\n",
              "      spin 1s steps(1) infinite;\n",
              "  }\n",
              "\n",
              "  @keyframes spin {\n",
              "    0% {\n",
              "      border-color: transparent;\n",
              "      border-bottom-color: var(--fill-color);\n",
              "      border-left-color: var(--fill-color);\n",
              "    }\n",
              "    20% {\n",
              "      border-color: transparent;\n",
              "      border-left-color: var(--fill-color);\n",
              "      border-top-color: var(--fill-color);\n",
              "    }\n",
              "    30% {\n",
              "      border-color: transparent;\n",
              "      border-left-color: var(--fill-color);\n",
              "      border-top-color: var(--fill-color);\n",
              "      border-right-color: var(--fill-color);\n",
              "    }\n",
              "    40% {\n",
              "      border-color: transparent;\n",
              "      border-right-color: var(--fill-color);\n",
              "      border-top-color: var(--fill-color);\n",
              "    }\n",
              "    60% {\n",
              "      border-color: transparent;\n",
              "      border-right-color: var(--fill-color);\n",
              "    }\n",
              "    80% {\n",
              "      border-color: transparent;\n",
              "      border-right-color: var(--fill-color);\n",
              "      border-bottom-color: var(--fill-color);\n",
              "    }\n",
              "    90% {\n",
              "      border-color: transparent;\n",
              "      border-bottom-color: var(--fill-color);\n",
              "    }\n",
              "  }\n",
              "</style>\n",
              "\n",
              "  <script>\n",
              "    async function quickchart(key) {\n",
              "      const quickchartButtonEl =\n",
              "        document.querySelector('#' + key + ' button');\n",
              "      quickchartButtonEl.disabled = true;  // To prevent multiple clicks.\n",
              "      quickchartButtonEl.classList.add('colab-df-spinner');\n",
              "      try {\n",
              "        const charts = await google.colab.kernel.invokeFunction(\n",
              "            'suggestCharts', [key], {});\n",
              "      } catch (error) {\n",
              "        console.error('Error during call to suggestCharts:', error);\n",
              "      }\n",
              "      quickchartButtonEl.classList.remove('colab-df-spinner');\n",
              "      quickchartButtonEl.classList.add('colab-df-quickchart-complete');\n",
              "    }\n",
              "    (() => {\n",
              "      let quickchartButtonEl =\n",
              "        document.querySelector('#df-b09dfa3b-3f2c-4686-ab79-5554e19f8be5 button');\n",
              "      quickchartButtonEl.style.display =\n",
              "        google.colab.kernel.accessAllowed ? 'block' : 'none';\n",
              "    })();\n",
              "  </script>\n",
              "</div>\n",
              "\n",
              "    </div>\n",
              "  </div>\n"
            ],
            "application/vnd.google.colaboratory.intrinsic+json": {
              "type": "dataframe",
              "variable_name": "Autos_pd",
              "summary": "{\n  \"name\": \"Autos_pd\",\n  \"rows\": 398,\n  \"fields\": [\n    {\n      \"column\": \"mpg\",\n      \"properties\": {\n        \"dtype\": \"number\",\n        \"std\": 7.815984312565782,\n        \"min\": 9.0,\n        \"max\": 46.6,\n        \"num_unique_values\": 129,\n        \"samples\": [\n          17.7,\n          30.5,\n          30.0\n        ],\n        \"semantic_type\": \"\",\n        \"description\": \"\"\n      }\n    },\n    {\n      \"column\": \"cylinders\",\n      \"properties\": {\n        \"dtype\": \"number\",\n        \"std\": 1,\n        \"min\": 3,\n        \"max\": 8,\n        \"num_unique_values\": 5,\n        \"samples\": [\n          4,\n          5,\n          6\n        ],\n        \"semantic_type\": \"\",\n        \"description\": \"\"\n      }\n    },\n    {\n      \"column\": \"displacement\",\n      \"properties\": {\n        \"dtype\": \"number\",\n        \"std\": 104.26983817119591,\n        \"min\": 68.0,\n        \"max\": 455.0,\n        \"num_unique_values\": 82,\n        \"samples\": [\n          122.0,\n          307.0,\n          360.0\n        ],\n        \"semantic_type\": \"\",\n        \"description\": \"\"\n      }\n    },\n    {\n      \"column\": \"horsepower\",\n      \"properties\": {\n        \"dtype\": \"number\",\n        \"std\": 38.49115993282849,\n        \"min\": 46.0,\n        \"max\": 230.0,\n        \"num_unique_values\": 93,\n        \"samples\": [\n          92.0,\n          100.0,\n          52.0\n        ],\n        \"semantic_type\": \"\",\n        \"description\": \"\"\n      }\n    },\n    {\n      \"column\": \"weight\",\n      \"properties\": {\n        \"dtype\": \"number\",\n        \"std\": 846,\n        \"min\": 1613,\n        \"max\": 5140,\n        \"num_unique_values\": 351,\n        \"samples\": [\n          3730,\n          1995,\n          2215\n        ],\n        \"semantic_type\": \"\",\n        \"description\": \"\"\n      }\n    },\n    {\n      \"column\": \"acceleration\",\n      \"properties\": {\n        \"dtype\": \"number\",\n        \"std\": 2.757688929812676,\n        \"min\": 8.0,\n        \"max\": 24.8,\n        \"num_unique_values\": 95,\n        \"samples\": [\n          14.7,\n          18.0,\n          14.3\n        ],\n        \"semantic_type\": \"\",\n        \"description\": \"\"\n      }\n    },\n    {\n      \"column\": \"model_year\",\n      \"properties\": {\n        \"dtype\": \"number\",\n        \"std\": 3,\n        \"min\": 70,\n        \"max\": 82,\n        \"num_unique_values\": 13,\n        \"samples\": [\n          81,\n          79,\n          70\n        ],\n        \"semantic_type\": \"\",\n        \"description\": \"\"\n      }\n    },\n    {\n      \"column\": \"origin\",\n      \"properties\": {\n        \"dtype\": \"category\",\n        \"num_unique_values\": 3,\n        \"samples\": [\n          \"usa\",\n          \"japan\",\n          \"europe\"\n        ],\n        \"semantic_type\": \"\",\n        \"description\": \"\"\n      }\n    },\n    {\n      \"column\": \"name\",\n      \"properties\": {\n        \"dtype\": \"string\",\n        \"num_unique_values\": 305,\n        \"samples\": [\n          \"mazda rx-4\",\n          \"ford f108\",\n          \"buick century luxus (sw)\"\n        ],\n        \"semantic_type\": \"\",\n        \"description\": \"\"\n      }\n    }\n  ]\n}"
            }
          },
          "metadata": {},
          "execution_count": 11
        }
      ]
    },
    {
      "cell_type": "markdown",
      "source": [
        "**Actividad**: Muestre como utilizar la función de seaborn de gráfico de puntos cuando los datos de los ejes se encuentran \"sueltos\". Luego, repita para datos contenidos en un dataframe."
      ],
      "metadata": {
        "id": "ariIIAR58QQl"
      }
    },
    {
      "cell_type": "code",
      "source": [
        "################################################################################\n",
        "# CODIGO DEL ALUMNO\n",
        "\n",
        "################################################################################\n",
        "plt.show()"
      ],
      "metadata": {
        "colab": {
          "base_uri": "https://localhost:8080/",
          "height": 430
        },
        "id": "Nt1z39C3_O6H",
        "outputId": "d95226f5-7ed3-492d-b1f8-42239d5e157b"
      },
      "execution_count": null,
      "outputs": [
        {
          "output_type": "display_data",
          "data": {
            "text/plain": [
              "<Figure size 640x480 with 1 Axes>"
            ],
            "image/png": "[encoded data removed]"
          },
          "metadata": {}
        }
      ]
    },
    {
      "cell_type": "code",
      "source": [
        "################################################################################\n",
        "# CODIGO DEL ALUMNO\n",
        "\n",
        "################################################################################\n",
        "plt.show()"
      ],
      "metadata": {
        "colab": {
          "base_uri": "https://localhost:8080/",
          "height": 449
        },
        "id": "x_GhjvG1_OST",
        "outputId": "bb34bc72-1f1f-4057-8b99-e6b8da34461f"
      },
      "execution_count": null,
      "outputs": [
        {
          "output_type": "display_data",
          "data": {
            "text/plain": [
              "<Figure size 640x480 with 1 Axes>"
            ],
            "image/png": "[encoded data removed]"
          },
          "metadata": {}
        }
      ]
    },
    {
      "cell_type": "markdown",
      "source": [
        "**Actividad**: ¿Reconoce alguna ventaja aparente en trabajar con un dataframe?"
      ],
      "metadata": {
        "id": "3xpS7b_V_vmS"
      }
    },
    {
      "cell_type": "markdown",
      "source": [
        "**Su respuesta**:"
      ],
      "metadata": {
        "id": "v6iGR8rS_2WA"
      }
    },
    {
      "cell_type": "markdown",
      "source": [
        "### Actividad 4\n",
        "\n",
        "Habrán visto que la función tiene una enorme cantidad de opciones adicionales. El objetivo es que, a continuación, explique qué son estas variables y qué ocurre si se decide no definirlas.\n",
        "\n",
        "**Actividad**: Describa los datos de entrada opcionales de la función, explicando qué hacen y cómo se comportan en caso de no incluirlos en el llamado de la función."
      ],
      "metadata": {
        "id": "HuBpWLF-AAmI"
      }
    },
    {
      "cell_type": "markdown",
      "source": [
        "**Su Respuesta**"
      ],
      "metadata": {
        "id": "Qkd0MUIbAp4G"
      }
    },
    {
      "cell_type": "markdown",
      "source": [
        "### Actividad 5\n",
        "\n",
        "**Actividad**: En función de lo anterior, construya dos gráficos, uno al lado del otro. El primero, idéntico al de la actividad anterior. El segundo, que incluya la siguiente información.\n",
        "\n",
        "- Eje X: Caballos de fuerza\n",
        "- Eje Y: Consumo de combustible\n",
        "- Tamaño del punto: Peso del automobil\n",
        "- Color del punto: Región del origen del automobil.\n",
        "\n",
        "Nosotros inicializamos la figura partida en 2, queda en ustedes colocar cada figura en su lugar"
      ],
      "metadata": {
        "id": "xxYOV4JiAsET"
      }
    },
    {
      "cell_type": "code",
      "source": [
        "fig, axs = plt.subplots(1,2,figsize=(10,5))\n",
        "\n",
        "################################################################################\n",
        "# CODIGO DEL ALUMNO\n",
        "\n",
        "\n",
        "\n",
        "################################################################################\n",
        "plt.show()"
      ],
      "metadata": {
        "colab": {
          "base_uri": "https://localhost:8080/",
          "height": 465
        },
        "id": "F0n7XxdMBHo2",
        "outputId": "93fbf379-0279-40c7-8322-8316053f9e54"
      },
      "execution_count": null,
      "outputs": [
        {
          "output_type": "display_data",
          "data": {
            "text/plain": [
              "<Figure size 1000x500 with 2 Axes>"
            ],
            "image/png": "[encoded data removed]"
          },
          "metadata": {}
        }
      ]
    },
    {
      "cell_type": "markdown",
      "source": [
        "### Actividad 6\n",
        "\n",
        "El gráfico de la derecha claramente tiene mucha más información que el de la izquierda.\n",
        "\n",
        "**Actividad**: ¿Qué descubre viendo el gráfico de la derecha que no se veia en el de la izquierda?"
      ],
      "metadata": {
        "id": "5NpAPxDpBb54"
      }
    },
    {
      "cell_type": "markdown",
      "source": [
        "**Su respuesta**:"
      ],
      "metadata": {
        "id": "_vNv3_L9DLOc"
      }
    },
    {
      "cell_type": "markdown",
      "source": [
        "Esto vamos a retomarlo en trabajos prácticos posteriores (análisis exploratorio de datos)."
      ],
      "metadata": {
        "id": "ioZjp3bwDWdZ"
      }
    },
    {
      "cell_type": "markdown",
      "metadata": {
        "id": "JjeP_iLRqZ5_"
      },
      "source": [
        "## Ejercicio 3: Procesamiento de señales\n",
        "En Enero de 2020 se midieron las vibraciones en un hospital situado sobre una línea de subterráneo en Buenos Aires. La medición original es de casi 1 hr de duración. En este TP trabajaremos con una ventana reducida de tiempo (100 s). A continuación, usted hará alguno de los pasos previos de selección de eventos y evaluaciones preliminares del nivel de vibraciones."
      ]
    },
    {
      "cell_type": "markdown",
      "source": [
        "### Actividad 1\n",
        "\n",
        "En primer lugar, importe el arhivo \"vibraciones_hospital.csv\". Es una tabla con 2 columnas, siendo estas el vector tiempo $t$ en segundos y las aceleraciones $a(t)$ en $m/s^{2}$.\n",
        "\n",
        "Esta vez, ¡queremos que lo hagan ustedes! Así que les dejamos espacio para que construyan un dataframe de nombre `df_vibraciones` (pueden hacerlo con la función `read_csv` de pandas vista en clase).\n",
        "\n",
        "**Actividad**: Levante el archivo `vibraciones_hospital.csv` y cree una dataframe `df_vibraciones`."
      ],
      "metadata": {
        "id": "wJTtfhg4qp0v"
      }
    },
    {
      "cell_type": "code",
      "execution_count": null,
      "metadata": {
        "colab": {
          "base_uri": "https://localhost:8080/",
          "height": 262
        },
        "id": "_8176EmWgv-e",
        "outputId": "be43877b-af0b-4aff-ccff-57037fd00a4d"
      },
      "outputs": [
        {
          "output_type": "display_data",
          "data": {
            "text/plain": [
              "<IPython.core.display.HTML object>"
            ],
            "text/html": [
              "\n",
              "     <input type=\"file\" id=\"files-e263e765-326c-406f-bd19-51e2cb27f1a9\" name=\"files[]\" multiple disabled\n",
              "        style=\"border:none\" />\n",
              "     <output id=\"result-e263e765-326c-406f-bd19-51e2cb27f1a9\">\n",
              "      Upload widget is only available when the cell has been executed in the\n",
              "      current browser session. Please rerun this cell to enable.\n",
              "      </output>\n",
              "      <script>// Copyright 2017 Google LLC\n",
              "//\n",
              "// Licensed under the Apache License, Version 2.0 (the \"License\");\n",
              "// you may not use this file except in compliance with the License.\n",
              "// You may obtain a copy of the License at\n",
              "//\n",
              "//      http://www.apache.org/licenses/LICENSE-2.0\n",
              "//\n",
              "// Unless required by applicable law or agreed to in writing, software\n",
              "// distributed under the License is distributed on an \"AS IS\" BASIS,\n",
              "// WITHOUT WARRANTIES OR CONDITIONS OF ANY KIND, either express or implied.\n",
              "// See the License for the specific language governing permissions and\n",
              "// limitations under the License.\n",
              "\n",
              "/**\n",
              " * @fileoverview Helpers for google.colab Python module.\n",
              " */\n",
              "(function(scope) {\n",
              "function span(text, styleAttributes = {}) {\n",
              "  const element = document.createElement('span');\n",
              "  element.textContent = text;\n",
              "  for (const key of Object.keys(styleAttributes)) {\n",
              "    element.style[key] = styleAttributes[key];\n",
              "  }\n",
              "  return element;\n",
              "}\n",
              "\n",
              "// Max number of bytes which will be uploaded at a time.\n",
              "const MAX_PAYLOAD_SIZE = 100 * 1024;\n",
              "\n",
              "function _uploadFiles(inputId, outputId) {\n",
              "  const steps = uploadFilesStep(inputId, outputId);\n",
              "  const outputElement = document.getElementById(outputId);\n",
              "  // Cache steps on the outputElement to make it available for the next call\n",
              "  // to uploadFilesContinue from Python.\n",
              "  outputElement.steps = steps;\n",
              "\n",
              "  return _uploadFilesContinue(outputId);\n",
              "}\n",
              "\n",
              "// This is roughly an async generator (not supported in the browser yet),\n",
              "// where there are multiple asynchronous steps and the Python side is going\n",
              "// to poll for completion of each step.\n",
              "// This uses a Promise to block the python side on completion of each step,\n",
              "// then passes the result of the previous step as the input to the next step.\n",
              "function _uploadFilesContinue(outputId) {\n",
              "  const outputElement = document.getElementById(outputId);\n",
              "  const steps = outputElement.steps;\n",
              "\n",
              "  const next = steps.next(outputElement.lastPromiseValue);\n",
              "  return Promise.resolve(next.value.promise).then((value) => {\n",
              "    // Cache the last promise value to make it available to the next\n",
              "    // step of the generator.\n",
              "    outputElement.lastPromiseValue = value;\n",
              "    return next.value.response;\n",
              "  });\n",
              "}\n",
              "\n",
              "/**\n",
              " * Generator function which is called between each async step of the upload\n",
              " * process.\n",
              " * @param {string} inputId Element ID of the input file picker element.\n",
              " * @param {string} outputId Element ID of the output display.\n",
              " * @return {!Iterable<!Object>} Iterable of next steps.\n",
              " */\n",
              "function* uploadFilesStep(inputId, outputId) {\n",
              "  const inputElement = document.getElementById(inputId);\n",
              "  inputElement.disabled = false;\n",
              "\n",
              "  const outputElement = document.getElementById(outputId);\n",
              "  outputElement.innerHTML = '';\n",
              "\n",
              "  const pickedPromise = new Promise((resolve) => {\n",
              "    inputElement.addEventListener('change', (e) => {\n",
              "      resolve(e.target.files);\n",
              "    });\n",
              "  });\n",
              "\n",
              "  const cancel = document.createElement('button');\n",
              "  inputElement.parentElement.appendChild(cancel);\n",
              "  cancel.textContent = 'Cancel upload';\n",
              "  const cancelPromise = new Promise((resolve) => {\n",
              "    cancel.onclick = () => {\n",
              "      resolve(null);\n",
              "    };\n",
              "  });\n",
              "\n",
              "  // Wait for the user to pick the files.\n",
              "  const files = yield {\n",
              "    promise: Promise.race([pickedPromise, cancelPromise]),\n",
              "    response: {\n",
              "      action: 'starting',\n",
              "    }\n",
              "  };\n",
              "\n",
              "  cancel.remove();\n",
              "\n",
              "  // Disable the input element since further picks are not allowed.\n",
              "  inputElement.disabled = true;\n",
              "\n",
              "  if (!files) {\n",
              "    return {\n",
              "      response: {\n",
              "        action: 'complete',\n",
              "      }\n",
              "    };\n",
              "  }\n",
              "\n",
              "  for (const file of files) {\n",
              "    const li = document.createElement('li');\n",
              "    li.append(span(file.name, {fontWeight: 'bold'}));\n",
              "    li.append(span(\n",
              "        `(${file.type || 'n/a'}) - ${file.size} bytes, ` +\n",
              "        `last modified: ${\n",
              "            file.lastModifiedDate ? file.lastModifiedDate.toLocaleDateString() :\n",
              "                                    'n/a'} - `));\n",
              "    const percent = span('0% done');\n",
              "    li.appendChild(percent);\n",
              "\n",
              "    outputElement.appendChild(li);\n",
              "\n",
              "    const fileDataPromise = new Promise((resolve) => {\n",
              "      const reader = new FileReader();\n",
              "      reader.onload = (e) => {\n",
              "        resolve(e.target.result);\n",
              "      };\n",
              "      reader.readAsArrayBuffer(file);\n",
              "    });\n",
              "    // Wait for the data to be ready.\n",
              "    let fileData = yield {\n",
              "      promise: fileDataPromise,\n",
              "      response: {\n",
              "        action: 'continue',\n",
              "      }\n",
              "    };\n",
              "\n",
              "    // Use a chunked sending to avoid message size limits. See b/62115660.\n",
              "    let position = 0;\n",
              "    do {\n",
              "      const length = Math.min(fileData.byteLength - position, MAX_PAYLOAD_SIZE);\n",
              "      const chunk = new Uint8Array(fileData, position, length);\n",
              "      position += length;\n",
              "\n",
              "      const base64 = btoa(String.fromCharCode.apply(null, chunk));\n",
              "      yield {\n",
              "        response: {\n",
              "          action: 'append',\n",
              "          file: file.name,\n",
              "          data: base64,\n",
              "        },\n",
              "      };\n",
              "\n",
              "      let percentDone = fileData.byteLength === 0 ?\n",
              "          100 :\n",
              "          Math.round((position / fileData.byteLength) * 100);\n",
              "      percent.textContent = `${percentDone}% done`;\n",
              "\n",
              "    } while (position < fileData.byteLength);\n",
              "  }\n",
              "\n",
              "  // All done.\n",
              "  yield {\n",
              "    response: {\n",
              "      action: 'complete',\n",
              "    }\n",
              "  };\n",
              "}\n",
              "\n",
              "scope.google = scope.google || {};\n",
              "scope.google.colab = scope.google.colab || {};\n",
              "scope.google.colab._files = {\n",
              "  _uploadFiles,\n",
              "  _uploadFilesContinue,\n",
              "};\n",
              "})(self);\n",
              "</script> "
            ]
          },
          "metadata": {}
        },
        {
          "output_type": "stream",
          "name": "stdout",
          "text": [
            "Saving vibraciones_hospital.csv to vibraciones_hospital.csv\n"
          ]
        },
        {
          "output_type": "execute_result",
          "data": {
            "text/plain": [
              "      t [s]  a(t) [m/s^2]\n",
              "0  0.000000      0.001912\n",
              "1  0.004202      0.014047\n",
              "2  0.008403      0.008226\n",
              "3  0.012605     -0.008920\n",
              "4  0.016807     -0.015808"
            ],
            "text/html": [
              "\n",
              "  <div id=\"df-98b41211-7beb-4668-888f-b4dd12f672ee\" class=\"colab-df-container\">\n",
              "    <div>\n",
              "<style scoped>\n",
              "    .dataframe tbody tr th:only-of-type {\n",
              "        vertical-align: middle;\n",
              "    }\n",
              "\n",
              "    .dataframe tbody tr th {\n",
              "        vertical-align: top;\n",
              "    }\n",
              "\n",
              "    .dataframe thead th {\n",
              "        text-align: right;\n",
              "    }\n",
              "</style>\n",
              "<table border=\"1\" class=\"dataframe\">\n",
              "  <thead>\n",
              "    <tr style=\"text-align: right;\">\n",
              "      <th></th>\n",
              "      <th>t [s]</th>\n",
              "      <th>a(t) [m/s^2]</th>\n",
              "    </tr>\n",
              "  </thead>\n",
              "  <tbody>\n",
              "    <tr>\n",
              "      <th>0</th>\n",
              "      <td>0.000000</td>\n",
              "      <td>0.001912</td>\n",
              "    </tr>\n",
              "    <tr>\n",
              "      <th>1</th>\n",
              "      <td>0.004202</td>\n",
              "      <td>0.014047</td>\n",
              "    </tr>\n",
              "    <tr>\n",
              "      <th>2</th>\n",
              "      <td>0.008403</td>\n",
              "      <td>0.008226</td>\n",
              "    </tr>\n",
              "    <tr>\n",
              "      <th>3</th>\n",
              "      <td>0.012605</td>\n",
              "      <td>-0.008920</td>\n",
              "    </tr>\n",
              "    <tr>\n",
              "      <th>4</th>\n",
              "      <td>0.016807</td>\n",
              "      <td>-0.015808</td>\n",
              "    </tr>\n",
              "  </tbody>\n",
              "</table>\n",
              "</div>\n",
              "    <div class=\"colab-df-buttons\">\n",
              "\n",
              "  <div class=\"colab-df-container\">\n",
              "    <button class=\"colab-df-convert\" onclick=\"convertToInteractive('df-98b41211-7beb-4668-888f-b4dd12f672ee')\"\n",
              "            title=\"Convert this dataframe to an interactive table.\"\n",
              "            style=\"display:none;\">\n",
              "\n",
              "  <svg xmlns=\"http://www.w3.org/2000/svg\" height=\"24px\" viewBox=\"0 -960 960 960\">\n",
              "    <path d=\"M120-120v-720h720v720H120Zm60-500h600v-160H180v160Zm220 220h160v-160H400v160Zm0 220h160v-160H400v160ZM180-400h160v-160H180v160Zm440 0h160v-160H620v160ZM180-180h160v-160H180v160Zm440 0h160v-160H620v160Z\"/>\n",
              "  </svg>\n",
              "    </button>\n",
              "\n",
              "  <style>\n",
              "    .colab-df-container {\n",
              "      display:flex;\n",
              "      gap: 12px;\n",
              "    }\n",
              "\n",
              "    .colab-df-convert {\n",
              "      background-color: #E8F0FE;\n",
              "      border: none;\n",
              "      border-radius: 50%;\n",
              "      cursor: pointer;\n",
              "      display: none;\n",
              "      fill: #1967D2;\n",
              "      height: 32px;\n",
              "      padding: 0 0 0 0;\n",
              "      width: 32px;\n",
              "    }\n",
              "\n",
              "    .colab-df-convert:hover {\n",
              "      background-color: #E2EBFA;\n",
              "      box-shadow: 0px 1px 2px rgba(60, 64, 67, 0.3), 0px 1px 3px 1px rgba(60, 64, 67, 0.15);\n",
              "      fill: #174EA6;\n",
              "    }\n",
              "\n",
              "    .colab-df-buttons div {\n",
              "      margin-bottom: 4px;\n",
              "    }\n",
              "\n",
              "    [theme=dark] .colab-df-convert {\n",
              "      background-color: #3B4455;\n",
              "      fill: #D2E3FC;\n",
              "    }\n",
              "\n",
              "    [theme=dark] .colab-df-convert:hover {\n",
              "      background-color: #434B5C;\n",
              "      box-shadow: 0px 1px 3px 1px rgba(0, 0, 0, 0.15);\n",
              "      filter: drop-shadow(0px 1px 2px rgba(0, 0, 0, 0.3));\n",
              "      fill: #FFFFFF;\n",
              "    }\n",
              "  </style>\n",
              "\n",
              "    <script>\n",
              "      const buttonEl =\n",
              "        document.querySelector('#df-98b41211-7beb-4668-888f-b4dd12f672ee button.colab-df-convert');\n",
              "      buttonEl.style.display =\n",
              "        google.colab.kernel.accessAllowed ? 'block' : 'none';\n",
              "\n",
              "      async function convertToInteractive(key) {\n",
              "        const element = document.querySelector('#df-98b41211-7beb-4668-888f-b4dd12f672ee');\n",
              "        const dataTable =\n",
              "          await google.colab.kernel.invokeFunction('convertToInteractive',\n",
              "                                                    [key], {});\n",
              "        if (!dataTable) return;\n",
              "\n",
              "        const docLinkHtml = 'Like what you see? Visit the ' +\n",
              "          '<a target=\"_blank\" href=https://colab.research.google.com/notebooks/data_table.ipynb>data table notebook</a>'\n",
              "          + ' to learn more about interactive tables.';\n",
              "        element.innerHTML = '';\n",
              "        dataTable['output_type'] = 'display_data';\n",
              "        await google.colab.output.renderOutput(dataTable, element);\n",
              "        const docLink = document.createElement('div');\n",
              "        docLink.innerHTML = docLinkHtml;\n",
              "        element.appendChild(docLink);\n",
              "      }\n",
              "    </script>\n",
              "  </div>\n",
              "\n",
              "\n",
              "<div id=\"df-caa935d1-434a-45c5-ba7a-97bbc2f5254c\">\n",
              "  <button class=\"colab-df-quickchart\" onclick=\"quickchart('df-caa935d1-434a-45c5-ba7a-97bbc2f5254c')\"\n",
              "            title=\"Suggest charts\"\n",
              "            style=\"display:none;\">\n",
              "\n",
              "<svg xmlns=\"http://www.w3.org/2000/svg\" height=\"24px\"viewBox=\"0 0 24 24\"\n",
              "     width=\"24px\">\n",
              "    <g>\n",
              "        <path d=\"M19 3H5c-1.1 0-2 .9-2 2v14c0 1.1.9 2 2 2h14c1.1 0 2-.9 2-2V5c0-1.1-.9-2-2-2zM9 17H7v-7h2v7zm4 0h-2V7h2v10zm4 0h-2v-4h2v4z\"/>\n",
              "    </g>\n",
              "</svg>\n",
              "  </button>\n",
              "\n",
              "<style>\n",
              "  .colab-df-quickchart {\n",
              "      --bg-color: #E8F0FE;\n",
              "      --fill-color: #1967D2;\n",
              "      --hover-bg-color: #E2EBFA;\n",
              "      --hover-fill-color: #174EA6;\n",
              "      --disabled-fill-color: #AAA;\n",
              "      --disabled-bg-color: #DDD;\n",
              "  }\n",
              "\n",
              "  [theme=dark] .colab-df-quickchart {\n",
              "      --bg-color: #3B4455;\n",
              "      --fill-color: #D2E3FC;\n",
              "      --hover-bg-color: #434B5C;\n",
              "      --hover-fill-color: #FFFFFF;\n",
              "      --disabled-bg-color: #3B4455;\n",
              "      --disabled-fill-color: #666;\n",
              "  }\n",
              "\n",
              "  .colab-df-quickchart {\n",
              "    background-color: var(--bg-color);\n",
              "    border: none;\n",
              "    border-radius: 50%;\n",
              "    cursor: pointer;\n",
              "    display: none;\n",
              "    fill: var(--fill-color);\n",
              "    height: 32px;\n",
              "    padding: 0;\n",
              "    width: 32px;\n",
              "  }\n",
              "\n",
              "  .colab-df-quickchart:hover {\n",
              "    background-color: var(--hover-bg-color);\n",
              "    box-shadow: 0 1px 2px rgba(60, 64, 67, 0.3), 0 1px 3px 1px rgba(60, 64, 67, 0.15);\n",
              "    fill: var(--button-hover-fill-color);\n",
              "  }\n",
              "\n",
              "  .colab-df-quickchart-complete:disabled,\n",
              "  .colab-df-quickchart-complete:disabled:hover {\n",
              "    background-color: var(--disabled-bg-color);\n",
              "    fill: var(--disabled-fill-color);\n",
              "    box-shadow: none;\n",
              "  }\n",
              "\n",
              "  .colab-df-spinner {\n",
              "    border: 2px solid var(--fill-color);\n",
              "    border-color: transparent;\n",
              "    border-bottom-color: var(--fill-color);\n",
              "    animation:\n",
              "      spin 1s steps(1) infinite;\n",
              "  }\n",
              "\n",
              "  @keyframes spin {\n",
              "    0% {\n",
              "      border-color: transparent;\n",
              "      border-bottom-color: var(--fill-color);\n",
              "      border-left-color: var(--fill-color);\n",
              "    }\n",
              "    20% {\n",
              "      border-color: transparent;\n",
              "      border-left-color: var(--fill-color);\n",
              "      border-top-color: var(--fill-color);\n",
              "    }\n",
              "    30% {\n",
              "      border-color: transparent;\n",
              "      border-left-color: var(--fill-color);\n",
              "      border-top-color: var(--fill-color);\n",
              "      border-right-color: var(--fill-color);\n",
              "    }\n",
              "    40% {\n",
              "      border-color: transparent;\n",
              "      border-right-color: var(--fill-color);\n",
              "      border-top-color: var(--fill-color);\n",
              "    }\n",
              "    60% {\n",
              "      border-color: transparent;\n",
              "      border-right-color: var(--fill-color);\n",
              "    }\n",
              "    80% {\n",
              "      border-color: transparent;\n",
              "      border-right-color: var(--fill-color);\n",
              "      border-bottom-color: var(--fill-color);\n",
              "    }\n",
              "    90% {\n",
              "      border-color: transparent;\n",
              "      border-bottom-color: var(--fill-color);\n",
              "    }\n",
              "  }\n",
              "</style>\n",
              "\n",
              "  <script>\n",
              "    async function quickchart(key) {\n",
              "      const quickchartButtonEl =\n",
              "        document.querySelector('#' + key + ' button');\n",
              "      quickchartButtonEl.disabled = true;  // To prevent multiple clicks.\n",
              "      quickchartButtonEl.classList.add('colab-df-spinner');\n",
              "      try {\n",
              "        const charts = await google.colab.kernel.invokeFunction(\n",
              "            'suggestCharts', [key], {});\n",
              "      } catch (error) {\n",
              "        console.error('Error during call to suggestCharts:', error);\n",
              "      }\n",
              "      quickchartButtonEl.classList.remove('colab-df-spinner');\n",
              "      quickchartButtonEl.classList.add('colab-df-quickchart-complete');\n",
              "    }\n",
              "    (() => {\n",
              "      let quickchartButtonEl =\n",
              "        document.querySelector('#df-caa935d1-434a-45c5-ba7a-97bbc2f5254c button');\n",
              "      quickchartButtonEl.style.display =\n",
              "        google.colab.kernel.accessAllowed ? 'block' : 'none';\n",
              "    })();\n",
              "  </script>\n",
              "</div>\n",
              "\n",
              "    </div>\n",
              "  </div>\n"
            ],
            "application/vnd.google.colaboratory.intrinsic+json": {
              "type": "dataframe",
              "variable_name": "df_vibraciones",
              "summary": "{\n  \"name\": \"df_vibraciones\",\n  \"rows\": 23801,\n  \"fields\": [\n    {\n      \"column\": \"t [s]\",\n      \"properties\": {\n        \"dtype\": \"number\",\n        \"std\": 28.869332834212962,\n        \"min\": 0.0,\n        \"max\": 100.0,\n        \"num_unique_values\": 23801,\n        \"samples\": [\n          38.20168067,\n          9.336134454,\n          72.65546218\n        ],\n        \"semantic_type\": \"\",\n        \"description\": \"\"\n      }\n    },\n    {\n      \"column\": \"a(t) [m/s^2]\",\n      \"properties\": {\n        \"dtype\": \"number\",\n        \"std\": 0.011197192972484936,\n        \"min\": -0.06191406,\n        \"max\": 0.076332491,\n        \"num_unique_values\": 23788,\n        \"samples\": [\n          0.003832337,\n          -0.00184939,\n          0.005309138\n        ],\n        \"semantic_type\": \"\",\n        \"description\": \"\"\n      }\n    }\n  ]\n}"
            }
          },
          "metadata": {},
          "execution_count": 15
        }
      ],
      "source": [
        "################################################################################\n",
        "# CODIGO DEL ALUMNO\n",
        "\n",
        "\n",
        "\n",
        "\n",
        "\n",
        "\n",
        "\n",
        "################################################################################\n",
        "df_vibraciones.head()"
      ]
    },
    {
      "cell_type": "markdown",
      "source": [
        "El dataset está limpio y prolijo (eso espero, lo armamos nosotros). ¿Por qué no nos ponemos a mirarlo un poco?"
      ],
      "metadata": {
        "id": "9BdnjtUwaKdD"
      }
    },
    {
      "cell_type": "code",
      "execution_count": null,
      "metadata": {
        "colab": {
          "base_uri": "https://localhost:8080/"
        },
        "id": "iPgVx-Dfh-xf",
        "outputId": "2f2bd386-cce0-45bf-fdac-fee1c03c4260"
      },
      "outputs": [
        {
          "output_type": "stream",
          "name": "stdout",
          "text": [
            "Cantidad de Filas y columnas: (23801, 2)\n",
            "Nombre columnas: Index(['t [s]', 'a(t) [m/s^2]'], dtype='object')\n"
          ]
        }
      ],
      "source": [
        "# Veremos el tamaño de la data y el nombre de la columnas\n",
        "print('Cantidad de Filas y columnas:', df_vibraciones.shape)\n",
        "print('Nombre columnas:', df_vibraciones.columns)"
      ]
    },
    {
      "cell_type": "markdown",
      "source": [
        "### Actividad 2\n",
        "\n",
        "Como dijimos antes, esto es un registro temporal (aceleraciones en el tiempo). ¿y si lo graficamos?\n",
        "\n",
        "**Actividad**: Usando Seaborn, grafique el registro de vibraciones. Coloque un buen nombre al plot."
      ],
      "metadata": {
        "id": "T8wy7y4DajQq"
      }
    },
    {
      "cell_type": "code",
      "execution_count": null,
      "metadata": {
        "colab": {
          "base_uri": "https://localhost:8080/",
          "height": 472
        },
        "id": "XEo5miXwia-P",
        "outputId": "b09cadee-c132-43aa-c5bb-8453434eee64"
      },
      "outputs": [
        {
          "output_type": "display_data",
          "data": {
            "text/plain": [
              "<Figure size 640x480 with 1 Axes>"
            ],
            "image/png": "[encoded data removed]"
          },
          "metadata": {}
        }
      ],
      "source": [
        "################################################################################\n",
        "# CODIGO DEL ALUMNO\n",
        "\n",
        "\n",
        "\n",
        "################################################################################\n",
        "plt.show()"
      ]
    },
    {
      "cell_type": "markdown",
      "metadata": {
        "id": "34cYmwvPlPD5"
      },
      "source": [
        "Podrán notar que pasados los 80 segundos las vibraciones aumentan. Eso que ven ahí es el paso de un subterráneo por al lado del edificio."
      ]
    },
    {
      "cell_type": "markdown",
      "source": [
        "### Actividad 3\n",
        "\n",
        "Nos gustaría poder extraer esa ventana de tiempo en la que pasa el subte.\n",
        "\n",
        "Para ello calcularemos la aceleración rms móvil en ventanas de 5 segundos de duración. Esto lo podemos hacer con pandas. No es tan fácil como para pedirles a ustedes que lo hagan ahora, pero sí les explicaremos qué se hace:\n",
        "\n",
        "1. Se toma el cuadrado de las aceleraciones: `df_vibraciones['a(t) [m/s^2']**2`\n",
        "2. A ello, se le toma en forma móvil la cantidad de datos que se corresponden a 5 segundos: `idxvent = int(5//df_vibraciones['t [s]'].values[1]-1)` es el numero de datos, y al resultado de 1. le aplico `.rolling(idxvent)`\n",
        "3. Al resultado de 2, le calculo la media y le tomo la raíz cuadrada `.mean**0.5`\n",
        "\n",
        "Un choclo bastante feo, pero lo importante es que es una medida del nivel de aceleraciones en un tiempo de 5 segundos."
      ],
      "metadata": {
        "id": "QgyPEyQOrde3"
      }
    },
    {
      "cell_type": "code",
      "execution_count": null,
      "metadata": {
        "colab": {
          "base_uri": "https://localhost:8080/",
          "height": 206
        },
        "id": "C4q5eaQQVEVo",
        "outputId": "0323b7de-24a7-4815-ef5f-6128b8766b80"
      },
      "outputs": [
        {
          "output_type": "execute_result",
          "data": {
            "text/plain": [
              "            t [s]  a(t) [m/s^2]  Rolling_rms\n",
              "23796   99.983193     -0.000578     0.010062\n",
              "23797   99.987395     -0.006808     0.010057\n",
              "23798   99.991597      0.013110     0.010028\n",
              "23799   99.995798     -0.009753     0.010010\n",
              "23800  100.000000      0.004147     0.009926"
            ],
            "text/html": [
              "\n",
              "  <div id=\"df-627668f3-528c-492b-b7ff-17d7485f2259\" class=\"colab-df-container\">\n",
              "    <div>\n",
              "<style scoped>\n",
              "    .dataframe tbody tr th:only-of-type {\n",
              "        vertical-align: middle;\n",
              "    }\n",
              "\n",
              "    .dataframe tbody tr th {\n",
              "        vertical-align: top;\n",
              "    }\n",
              "\n",
              "    .dataframe thead th {\n",
              "        text-align: right;\n",
              "    }\n",
              "</style>\n",
              "<table border=\"1\" class=\"dataframe\">\n",
              "  <thead>\n",
              "    <tr style=\"text-align: right;\">\n",
              "      <th></th>\n",
              "      <th>t [s]</th>\n",
              "      <th>a(t) [m/s^2]</th>\n",
              "      <th>Rolling_rms</th>\n",
              "    </tr>\n",
              "  </thead>\n",
              "  <tbody>\n",
              "    <tr>\n",
              "      <th>23796</th>\n",
              "      <td>99.983193</td>\n",
              "      <td>-0.000578</td>\n",
              "      <td>0.010062</td>\n",
              "    </tr>\n",
              "    <tr>\n",
              "      <th>23797</th>\n",
              "      <td>99.987395</td>\n",
              "      <td>-0.006808</td>\n",
              "      <td>0.010057</td>\n",
              "    </tr>\n",
              "    <tr>\n",
              "      <th>23798</th>\n",
              "      <td>99.991597</td>\n",
              "      <td>0.013110</td>\n",
              "      <td>0.010028</td>\n",
              "    </tr>\n",
              "    <tr>\n",
              "      <th>23799</th>\n",
              "      <td>99.995798</td>\n",
              "      <td>-0.009753</td>\n",
              "      <td>0.010010</td>\n",
              "    </tr>\n",
              "    <tr>\n",
              "      <th>23800</th>\n",
              "      <td>100.000000</td>\n",
              "      <td>0.004147</td>\n",
              "      <td>0.009926</td>\n",
              "    </tr>\n",
              "  </tbody>\n",
              "</table>\n",
              "</div>\n",
              "    <div class=\"colab-df-buttons\">\n",
              "\n",
              "  <div class=\"colab-df-container\">\n",
              "    <button class=\"colab-df-convert\" onclick=\"convertToInteractive('df-627668f3-528c-492b-b7ff-17d7485f2259')\"\n",
              "            title=\"Convert this dataframe to an interactive table.\"\n",
              "            style=\"display:none;\">\n",
              "\n",
              "  <svg xmlns=\"http://www.w3.org/2000/svg\" height=\"24px\" viewBox=\"0 -960 960 960\">\n",
              "    <path d=\"M120-120v-720h720v720H120Zm60-500h600v-160H180v160Zm220 220h160v-160H400v160Zm0 220h160v-160H400v160ZM180-400h160v-160H180v160Zm440 0h160v-160H620v160ZM180-180h160v-160H180v160Zm440 0h160v-160H620v160Z\"/>\n",
              "  </svg>\n",
              "    </button>\n",
              "\n",
              "  <style>\n",
              "    .colab-df-container {\n",
              "      display:flex;\n",
              "      gap: 12px;\n",
              "    }\n",
              "\n",
              "    .colab-df-convert {\n",
              "      background-color: #E8F0FE;\n",
              "      border: none;\n",
              "      border-radius: 50%;\n",
              "      cursor: pointer;\n",
              "      display: none;\n",
              "      fill: #1967D2;\n",
              "      height: 32px;\n",
              "      padding: 0 0 0 0;\n",
              "      width: 32px;\n",
              "    }\n",
              "\n",
              "    .colab-df-convert:hover {\n",
              "      background-color: #E2EBFA;\n",
              "      box-shadow: 0px 1px 2px rgba(60, 64, 67, 0.3), 0px 1px 3px 1px rgba(60, 64, 67, 0.15);\n",
              "      fill: #174EA6;\n",
              "    }\n",
              "\n",
              "    .colab-df-buttons div {\n",
              "      margin-bottom: 4px;\n",
              "    }\n",
              "\n",
              "    [theme=dark] .colab-df-convert {\n",
              "      background-color: #3B4455;\n",
              "      fill: #D2E3FC;\n",
              "    }\n",
              "\n",
              "    [theme=dark] .colab-df-convert:hover {\n",
              "      background-color: #434B5C;\n",
              "      box-shadow: 0px 1px 3px 1px rgba(0, 0, 0, 0.15);\n",
              "      filter: drop-shadow(0px 1px 2px rgba(0, 0, 0, 0.3));\n",
              "      fill: #FFFFFF;\n",
              "    }\n",
              "  </style>\n",
              "\n",
              "    <script>\n",
              "      const buttonEl =\n",
              "        document.querySelector('#df-627668f3-528c-492b-b7ff-17d7485f2259 button.colab-df-convert');\n",
              "      buttonEl.style.display =\n",
              "        google.colab.kernel.accessAllowed ? 'block' : 'none';\n",
              "\n",
              "      async function convertToInteractive(key) {\n",
              "        const element = document.querySelector('#df-627668f3-528c-492b-b7ff-17d7485f2259');\n",
              "        const dataTable =\n",
              "          await google.colab.kernel.invokeFunction('convertToInteractive',\n",
              "                                                    [key], {});\n",
              "        if (!dataTable) return;\n",
              "\n",
              "        const docLinkHtml = 'Like what you see? Visit the ' +\n",
              "          '<a target=\"_blank\" href=https://colab.research.google.com/notebooks/data_table.ipynb>data table notebook</a>'\n",
              "          + ' to learn more about interactive tables.';\n",
              "        element.innerHTML = '';\n",
              "        dataTable['output_type'] = 'display_data';\n",
              "        await google.colab.output.renderOutput(dataTable, element);\n",
              "        const docLink = document.createElement('div');\n",
              "        docLink.innerHTML = docLinkHtml;\n",
              "        element.appendChild(docLink);\n",
              "      }\n",
              "    </script>\n",
              "  </div>\n",
              "\n",
              "\n",
              "<div id=\"df-ca206be5-2cc4-4c48-863b-2cebec9fe2b6\">\n",
              "  <button class=\"colab-df-quickchart\" onclick=\"quickchart('df-ca206be5-2cc4-4c48-863b-2cebec9fe2b6')\"\n",
              "            title=\"Suggest charts\"\n",
              "            style=\"display:none;\">\n",
              "\n",
              "<svg xmlns=\"http://www.w3.org/2000/svg\" height=\"24px\"viewBox=\"0 0 24 24\"\n",
              "     width=\"24px\">\n",
              "    <g>\n",
              "        <path d=\"M19 3H5c-1.1 0-2 .9-2 2v14c0 1.1.9 2 2 2h14c1.1 0 2-.9 2-2V5c0-1.1-.9-2-2-2zM9 17H7v-7h2v7zm4 0h-2V7h2v10zm4 0h-2v-4h2v4z\"/>\n",
              "    </g>\n",
              "</svg>\n",
              "  </button>\n",
              "\n",
              "<style>\n",
              "  .colab-df-quickchart {\n",
              "      --bg-color: #E8F0FE;\n",
              "      --fill-color: #1967D2;\n",
              "      --hover-bg-color: #E2EBFA;\n",
              "      --hover-fill-color: #174EA6;\n",
              "      --disabled-fill-color: #AAA;\n",
              "      --disabled-bg-color: #DDD;\n",
              "  }\n",
              "\n",
              "  [theme=dark] .colab-df-quickchart {\n",
              "      --bg-color: #3B4455;\n",
              "      --fill-color: #D2E3FC;\n",
              "      --hover-bg-color: #434B5C;\n",
              "      --hover-fill-color: #FFFFFF;\n",
              "      --disabled-bg-color: #3B4455;\n",
              "      --disabled-fill-color: #666;\n",
              "  }\n",
              "\n",
              "  .colab-df-quickchart {\n",
              "    background-color: var(--bg-color);\n",
              "    border: none;\n",
              "    border-radius: 50%;\n",
              "    cursor: pointer;\n",
              "    display: none;\n",
              "    fill: var(--fill-color);\n",
              "    height: 32px;\n",
              "    padding: 0;\n",
              "    width: 32px;\n",
              "  }\n",
              "\n",
              "  .colab-df-quickchart:hover {\n",
              "    background-color: var(--hover-bg-color);\n",
              "    box-shadow: 0 1px 2px rgba(60, 64, 67, 0.3), 0 1px 3px 1px rgba(60, 64, 67, 0.15);\n",
              "    fill: var(--button-hover-fill-color);\n",
              "  }\n",
              "\n",
              "  .colab-df-quickchart-complete:disabled,\n",
              "  .colab-df-quickchart-complete:disabled:hover {\n",
              "    background-color: var(--disabled-bg-color);\n",
              "    fill: var(--disabled-fill-color);\n",
              "    box-shadow: none;\n",
              "  }\n",
              "\n",
              "  .colab-df-spinner {\n",
              "    border: 2px solid var(--fill-color);\n",
              "    border-color: transparent;\n",
              "    border-bottom-color: var(--fill-color);\n",
              "    animation:\n",
              "      spin 1s steps(1) infinite;\n",
              "  }\n",
              "\n",
              "  @keyframes spin {\n",
              "    0% {\n",
              "      border-color: transparent;\n",
              "      border-bottom-color: var(--fill-color);\n",
              "      border-left-color: var(--fill-color);\n",
              "    }\n",
              "    20% {\n",
              "      border-color: transparent;\n",
              "      border-left-color: var(--fill-color);\n",
              "      border-top-color: var(--fill-color);\n",
              "    }\n",
              "    30% {\n",
              "      border-color: transparent;\n",
              "      border-left-color: var(--fill-color);\n",
              "      border-top-color: var(--fill-color);\n",
              "      border-right-color: var(--fill-color);\n",
              "    }\n",
              "    40% {\n",
              "      border-color: transparent;\n",
              "      border-right-color: var(--fill-color);\n",
              "      border-top-color: var(--fill-color);\n",
              "    }\n",
              "    60% {\n",
              "      border-color: transparent;\n",
              "      border-right-color: var(--fill-color);\n",
              "    }\n",
              "    80% {\n",
              "      border-color: transparent;\n",
              "      border-right-color: var(--fill-color);\n",
              "      border-bottom-color: var(--fill-color);\n",
              "    }\n",
              "    90% {\n",
              "      border-color: transparent;\n",
              "      border-bottom-color: var(--fill-color);\n",
              "    }\n",
              "  }\n",
              "</style>\n",
              "\n",
              "  <script>\n",
              "    async function quickchart(key) {\n",
              "      const quickchartButtonEl =\n",
              "        document.querySelector('#' + key + ' button');\n",
              "      quickchartButtonEl.disabled = true;  // To prevent multiple clicks.\n",
              "      quickchartButtonEl.classList.add('colab-df-spinner');\n",
              "      try {\n",
              "        const charts = await google.colab.kernel.invokeFunction(\n",
              "            'suggestCharts', [key], {});\n",
              "      } catch (error) {\n",
              "        console.error('Error during call to suggestCharts:', error);\n",
              "      }\n",
              "      quickchartButtonEl.classList.remove('colab-df-spinner');\n",
              "      quickchartButtonEl.classList.add('colab-df-quickchart-complete');\n",
              "    }\n",
              "    (() => {\n",
              "      let quickchartButtonEl =\n",
              "        document.querySelector('#df-ca206be5-2cc4-4c48-863b-2cebec9fe2b6 button');\n",
              "      quickchartButtonEl.style.display =\n",
              "        google.colab.kernel.accessAllowed ? 'block' : 'none';\n",
              "    })();\n",
              "  </script>\n",
              "</div>\n",
              "\n",
              "    </div>\n",
              "  </div>\n"
            ],
            "application/vnd.google.colaboratory.intrinsic+json": {
              "type": "dataframe",
              "summary": "{\n  \"name\": \"df_vibraciones\",\n  \"rows\": 5,\n  \"fields\": [\n    {\n      \"column\": \"t [s]\",\n      \"properties\": {\n        \"dtype\": \"number\",\n        \"std\": 0.006643439399590221,\n        \"min\": 99.98319328,\n        \"max\": 100.0,\n        \"num_unique_values\": 5,\n        \"samples\": [\n          99.98739496,\n          100.0,\n          99.99159664\n        ],\n        \"semantic_type\": \"\",\n        \"description\": \"\"\n      }\n    },\n    {\n      \"column\": \"a(t) [m/s^2]\",\n      \"properties\": {\n        \"dtype\": \"number\",\n        \"std\": 0.009094807989842408,\n        \"min\": -0.009753021,\n        \"max\": 0.013109542,\n        \"num_unique_values\": 5,\n        \"samples\": [\n          -0.00680824,\n          0.004146875,\n          0.013109542\n        ],\n        \"semantic_type\": \"\",\n        \"description\": \"\"\n      }\n    },\n    {\n      \"column\": \"Rolling_rms\",\n      \"properties\": {\n        \"dtype\": \"number\",\n        \"std\": 5.478450188407527e-05,\n        \"min\": 0.009926274714564972,\n        \"max\": 0.01006206850929596,\n        \"num_unique_values\": 5,\n        \"samples\": [\n          0.010056669690461978,\n          0.009926274714564972,\n          0.010027973859993398\n        ],\n        \"semantic_type\": \"\",\n        \"description\": \"\"\n      }\n    }\n  ]\n}"
            }
          },
          "metadata": {},
          "execution_count": 18
        }
      ],
      "source": [
        "# Calcular el rms movil\n",
        "vent = 5 # Longitud de ventana en segundos\n",
        "idxvent = int(vent // df_vibraciones['t [s]'].values[1] - 1)\n",
        "df_vibraciones['Rolling_rms'] = (df_vibraciones['a(t) [m/s^2]']**2).rolling(idxvent).mean() **0.5\n",
        "df_vibraciones.tail()"
      ]
    },
    {
      "cell_type": "markdown",
      "source": [
        "El dato fue guardado en el dataframe con el nombre `Rolling_rms`. Más allá de esto, ¡queremos ver cómo se ve!\n",
        "\n",
        "**Actividad**: Grafique sobre el registro de aceleraciones, el rms móvil que acabamos de calcular."
      ],
      "metadata": {
        "id": "xsJ-oeaudDCE"
      }
    },
    {
      "cell_type": "code",
      "source": [
        "################################################################################\n",
        "\n",
        "\n",
        "################################################################################\n",
        "plt.show()"
      ],
      "metadata": {
        "colab": {
          "base_uri": "https://localhost:8080/",
          "height": 472
        },
        "id": "tEoOrRA3c9_w",
        "outputId": "bc69ecb1-396f-4adb-9123-7ad4499ae14d"
      },
      "execution_count": null,
      "outputs": [
        {
          "output_type": "display_data",
          "data": {
            "text/plain": [
              "<Figure size 640x480 with 1 Axes>"
            ],
            "image/png": "[encoded data removed]"
          },
          "metadata": {}
        }
      ]
    },
    {
      "cell_type": "markdown",
      "metadata": {
        "id": "VWFe6H6bbHP4"
      },
      "source": [
        "En el gráfico de arriba se ve que a partir de aproximadamente 82s el valor de rms móvil pasa de estar en aproximadamente $0.011m/s^{2}$ a un valor mucho más alto. Considerando que el calculo de media móvil introduce lag, esto quiere decir que el evento comenzó en realidad 5 segundos antes (la longitud de la ventana)."
      ]
    },
    {
      "cell_type": "markdown",
      "source": [
        "### Actividad 4\n",
        "\n",
        "Por lo tanto, en el siguiente paso separe el dataset en 2: Uno para el paso del subte y otro para la vibración ambiente. Para ello debe encontrar el valor de tiempo `t` a partir del cual el valor de rms movil (`df_vibraciones['Rolling_rms']`) supera el umbral definido `umb = 0.011`, y luego restar el lag de 5s (`vent=5`) para definir `Tlim`. Finalmente, genere los vectores `Subte` y `Ambiente` haciendo uso de las funciones de slicing y operaciones lógicas.\n",
        "\n",
        "**Actividad**: Separe el paso del subte del ruido ambiente a partir del dato de rms móvil. Luego, haga 2 gráficos, una por cada registro separado. Indique claramente cuál es cual en el título. No hace falta que se preocupen mucho por el eje-X. que sea lo que salga.\n",
        "\n",
        "NOTA: No es necesario encontrar el final del evento (asuma que termina al final del dataset). Solo busque el primer valor que supera el umbral."
      ],
      "metadata": {
        "id": "cFmElsYTsHG8"
      }
    },
    {
      "cell_type": "code",
      "execution_count": null,
      "metadata": {
        "colab": {
          "base_uri": "https://localhost:8080/",
          "height": 904
        },
        "id": "4secbRbDb4PB",
        "outputId": "979d0c33-5063-4a89-bd60-e0c437f72ca1"
      },
      "outputs": [
        {
          "output_type": "stream",
          "name": "stdout",
          "text": [
            "El paso de subte comienza a los: 77.55462185 segundos\n"
          ]
        },
        {
          "output_type": "display_data",
          "data": {
            "text/plain": [
              "<Figure size 640x480 with 1 Axes>"
            ],
            "image/png": "[encoded data removed]"
          },
          "metadata": {}
        },
        {
          "output_type": "display_data",
          "data": {
            "text/plain": [
              "<Figure size 640x480 with 1 Axes>"
            ],
            "image/png": "[encoded data removed]"
          },
          "metadata": {}
        }
      ],
      "source": [
        "Subte = []\n",
        "Ambiente = []\n",
        "Tlim = []\n",
        "vent = 5\n",
        "umb = 0.011\n",
        "\n",
        "# Encontrar Tlim y Separar Señales\n",
        "################################################################################\n",
        "# CODIGO DEL ALUMNO\n",
        "\n",
        "Tlim =\n",
        "Subte =\n",
        "Ambiente =\n",
        "################################################################################\n",
        "\n",
        "print('El paso de subte comienza a los:',Tlim,'segundos')\n",
        "\n",
        "# Graficar Paso de Subte\n",
        "################################################################################\n",
        "# CODIGO DEL ALUMNO\n",
        "\n",
        "################################################################################\n",
        "plt.show()\n",
        "\n",
        "# Graficar Ambiente\n",
        "################################################################################\n",
        "# CODIGO DEL ALUMNO\n",
        "\n",
        "################################################################################\n",
        "plt.show()"
      ]
    },
    {
      "cell_type": "markdown",
      "metadata": {
        "id": "IKSLmdv0c4W6"
      },
      "source": [
        "### Actividad 5\n",
        "\n",
        "Finalmente, calcule la relación señal-ruido. Es decir, cuánto se distingue la señal a ser estudiada (el paso de subte) del ruido inherente de la zona (la vibración ambiente). En general se buscan valores superiores a 5, caso contrario el ruido va a influir en el análisis notoriamente (no podríamos decir que estamos viendo sólo el subte). Esta se define (en decibeles) como:\n",
        "\n",
        "$$ SNR = 10 \\log_{10}\\left(\\frac{RMS_{subte}}{RMS_{ambiente}}\\right) $$\n",
        "\n",
        "Es un dato muy importante a nivel normativo para poder describir a la señal independizándose de que existe cierto ruido sumado al subte.\n",
        "\n",
        "A fines prácticos se puede considerar que el `rms` de una señal centrada en 0 es su desvío estandar (`np.std()`). Es decir, antes restenle la media a las señales (`np.mean()`).\n",
        "\n",
        "**Actividad**: Calcule la relación señal-ruido `SNR`. ¡Ojo con el logaritmo en base 10! Numpy lo hace, pero busquen cómo."
      ]
    },
    {
      "cell_type": "code",
      "execution_count": null,
      "metadata": {
        "colab": {
          "base_uri": "https://localhost:8080/"
        },
        "id": "K-jfhDk5d9XA",
        "outputId": "027482d3-2d9c-44a2-cb25-1a5bd1519e0a"
      },
      "outputs": [
        {
          "output_type": "stream",
          "name": "stdout",
          "text": [
            "La relación señal ruido es de 3.3410920204776176\n"
          ]
        }
      ],
      "source": [
        "SNR = []\n",
        "\n",
        "# CODIGO DEL ALUMNO ====================================\n",
        "\n",
        "\n",
        "\n",
        "# ======================================================\n",
        "\n",
        "print('La relación señal ruido es de',SNR)"
      ]
    },
    {
      "cell_type": "markdown",
      "source": [
        "## Ejercicio 4: Lectura de datos (molesta)\n",
        "\n",
        "El objetivo es pasar en limpio el registro sísmico de Northridge de 1994, y convertirlo a un lindo pandas que nos sea útil. Con esto irán viendo algunas herramientas que van a necesitar para acomodar los datos que puedan encontrarse en su Trabajo Práctico Integrador, ya que no siempre todo nos viene limpio y listo para usar."
      ],
      "metadata": {
        "id": "VEpvG_ziMuRN"
      }
    },
    {
      "cell_type": "markdown",
      "source": [
        "### Actividad 1\n",
        "\n",
        "Lo primero que les recomiendo hacer es abrir el archivo `B Northridge.txt` en su PC, descargado de la página del PEER. Mírelo con detenimiento.\n",
        "\n",
        "**Actividad**: Conteste las siguientes preguntas:\n",
        "1. ¿En qué fila comienzan los datos realmente?\n",
        "2. ¿El registro sísmico se encuentra como un vector de aceleraciones? ¿Cómo es?\n",
        "3. ¿Cómo están separados los datos entre sí? ¿Comas? ¿Espacios? ¿Cuántos?\n",
        "4. ¿Cada cuánto tiempo se midieron los datos?\n",
        "5. ¿En qué unidades están?\n",
        "6. ¿Les parece que armar el dataframe va a ser instantáneo como en Ejercicio 3?"
      ],
      "metadata": {
        "id": "tDbrDrT5tfZC"
      }
    },
    {
      "cell_type": "markdown",
      "source": [
        "**Sus respuestas**:"
      ],
      "metadata": {
        "id": "DwkIyH-rkaVy"
      }
    },
    {
      "cell_type": "markdown",
      "source": [
        "### Actividad 2\n",
        "\n",
        "En base a sus respuestas, pensemos un plan de acción. Vamos a tener que:\n",
        "1. Cargar el `.txt` para que sólo tome la sección de datos (sin el header), y logre separar bien entre columnas\n",
        "2. Reordenar los datos para que se conviertan en un verdadero vector\n",
        "3. Crear un vector tiempo asociado\n",
        "4. Ponerle nombres a las columnas para que se entienda qué es y sus unidades\n",
        "5. Que todo eso quede en un dataframe\n",
        "\n",
        "¿Empezamos?"
      ],
      "metadata": {
        "id": "VXcBBkwSkf2j"
      }
    },
    {
      "cell_type": "code",
      "source": [
        "#Abrimos un archivo local, es decir, que ha sido descargado en su computadora\n",
        "uploaded = files.upload()"
      ],
      "metadata": {
        "colab": {
          "base_uri": "https://localhost:8080/",
          "height": 73
        },
        "id": "05bfrdNb4SHz",
        "outputId": "095ec73e-e180-41db-d85c-d76fe8561dce"
      },
      "execution_count": null,
      "outputs": [
        {
          "output_type": "display_data",
          "data": {
            "text/plain": [
              "<IPython.core.display.HTML object>"
            ],
            "text/html": [
              "\n",
              "     <input type=\"file\" id=\"files-95768f8a-e96a-4b4c-9438-4398c731f0b3\" name=\"files[]\" multiple disabled\n",
              "        style=\"border:none\" />\n",
              "     <output id=\"result-95768f8a-e96a-4b4c-9438-4398c731f0b3\">\n",
              "      Upload widget is only available when the cell has been executed in the\n",
              "      current browser session. Please rerun this cell to enable.\n",
              "      </output>\n",
              "      <script>// Copyright 2017 Google LLC\n",
              "//\n",
              "// Licensed under the Apache License, Version 2.0 (the \"License\");\n",
              "// you may not use this file except in compliance with the License.\n",
              "// You may obtain a copy of the License at\n",
              "//\n",
              "//      http://www.apache.org/licenses/LICENSE-2.0\n",
              "//\n",
              "// Unless required by applicable law or agreed to in writing, software\n",
              "// distributed under the License is distributed on an \"AS IS\" BASIS,\n",
              "// WITHOUT WARRANTIES OR CONDITIONS OF ANY KIND, either express or implied.\n",
              "// See the License for the specific language governing permissions and\n",
              "// limitations under the License.\n",
              "\n",
              "/**\n",
              " * @fileoverview Helpers for google.colab Python module.\n",
              " */\n",
              "(function(scope) {\n",
              "function span(text, styleAttributes = {}) {\n",
              "  const element = document.createElement('span');\n",
              "  element.textContent = text;\n",
              "  for (const key of Object.keys(styleAttributes)) {\n",
              "    element.style[key] = styleAttributes[key];\n",
              "  }\n",
              "  return element;\n",
              "}\n",
              "\n",
              "// Max number of bytes which will be uploaded at a time.\n",
              "const MAX_PAYLOAD_SIZE = 100 * 1024;\n",
              "\n",
              "function _uploadFiles(inputId, outputId) {\n",
              "  const steps = uploadFilesStep(inputId, outputId);\n",
              "  const outputElement = document.getElementById(outputId);\n",
              "  // Cache steps on the outputElement to make it available for the next call\n",
              "  // to uploadFilesContinue from Python.\n",
              "  outputElement.steps = steps;\n",
              "\n",
              "  return _uploadFilesContinue(outputId);\n",
              "}\n",
              "\n",
              "// This is roughly an async generator (not supported in the browser yet),\n",
              "// where there are multiple asynchronous steps and the Python side is going\n",
              "// to poll for completion of each step.\n",
              "// This uses a Promise to block the python side on completion of each step,\n",
              "// then passes the result of the previous step as the input to the next step.\n",
              "function _uploadFilesContinue(outputId) {\n",
              "  const outputElement = document.getElementById(outputId);\n",
              "  const steps = outputElement.steps;\n",
              "\n",
              "  const next = steps.next(outputElement.lastPromiseValue);\n",
              "  return Promise.resolve(next.value.promise).then((value) => {\n",
              "    // Cache the last promise value to make it available to the next\n",
              "    // step of the generator.\n",
              "    outputElement.lastPromiseValue = value;\n",
              "    return next.value.response;\n",
              "  });\n",
              "}\n",
              "\n",
              "/**\n",
              " * Generator function which is called between each async step of the upload\n",
              " * process.\n",
              " * @param {string} inputId Element ID of the input file picker element.\n",
              " * @param {string} outputId Element ID of the output display.\n",
              " * @return {!Iterable<!Object>} Iterable of next steps.\n",
              " */\n",
              "function* uploadFilesStep(inputId, outputId) {\n",
              "  const inputElement = document.getElementById(inputId);\n",
              "  inputElement.disabled = false;\n",
              "\n",
              "  const outputElement = document.getElementById(outputId);\n",
              "  outputElement.innerHTML = '';\n",
              "\n",
              "  const pickedPromise = new Promise((resolve) => {\n",
              "    inputElement.addEventListener('change', (e) => {\n",
              "      resolve(e.target.files);\n",
              "    });\n",
              "  });\n",
              "\n",
              "  const cancel = document.createElement('button');\n",
              "  inputElement.parentElement.appendChild(cancel);\n",
              "  cancel.textContent = 'Cancel upload';\n",
              "  const cancelPromise = new Promise((resolve) => {\n",
              "    cancel.onclick = () => {\n",
              "      resolve(null);\n",
              "    };\n",
              "  });\n",
              "\n",
              "  // Wait for the user to pick the files.\n",
              "  const files = yield {\n",
              "    promise: Promise.race([pickedPromise, cancelPromise]),\n",
              "    response: {\n",
              "      action: 'starting',\n",
              "    }\n",
              "  };\n",
              "\n",
              "  cancel.remove();\n",
              "\n",
              "  // Disable the input element since further picks are not allowed.\n",
              "  inputElement.disabled = true;\n",
              "\n",
              "  if (!files) {\n",
              "    return {\n",
              "      response: {\n",
              "        action: 'complete',\n",
              "      }\n",
              "    };\n",
              "  }\n",
              "\n",
              "  for (const file of files) {\n",
              "    const li = document.createElement('li');\n",
              "    li.append(span(file.name, {fontWeight: 'bold'}));\n",
              "    li.append(span(\n",
              "        `(${file.type || 'n/a'}) - ${file.size} bytes, ` +\n",
              "        `last modified: ${\n",
              "            file.lastModifiedDate ? file.lastModifiedDate.toLocaleDateString() :\n",
              "                                    'n/a'} - `));\n",
              "    const percent = span('0% done');\n",
              "    li.appendChild(percent);\n",
              "\n",
              "    outputElement.appendChild(li);\n",
              "\n",
              "    const fileDataPromise = new Promise((resolve) => {\n",
              "      const reader = new FileReader();\n",
              "      reader.onload = (e) => {\n",
              "        resolve(e.target.result);\n",
              "      };\n",
              "      reader.readAsArrayBuffer(file);\n",
              "    });\n",
              "    // Wait for the data to be ready.\n",
              "    let fileData = yield {\n",
              "      promise: fileDataPromise,\n",
              "      response: {\n",
              "        action: 'continue',\n",
              "      }\n",
              "    };\n",
              "\n",
              "    // Use a chunked sending to avoid message size limits. See b/62115660.\n",
              "    let position = 0;\n",
              "    do {\n",
              "      const length = Math.min(fileData.byteLength - position, MAX_PAYLOAD_SIZE);\n",
              "      const chunk = new Uint8Array(fileData, position, length);\n",
              "      position += length;\n",
              "\n",
              "      const base64 = btoa(String.fromCharCode.apply(null, chunk));\n",
              "      yield {\n",
              "        response: {\n",
              "          action: 'append',\n",
              "          file: file.name,\n",
              "          data: base64,\n",
              "        },\n",
              "      };\n",
              "\n",
              "      let percentDone = fileData.byteLength === 0 ?\n",
              "          100 :\n",
              "          Math.round((position / fileData.byteLength) * 100);\n",
              "      percent.textContent = `${percentDone}% done`;\n",
              "\n",
              "    } while (position < fileData.byteLength);\n",
              "  }\n",
              "\n",
              "  // All done.\n",
              "  yield {\n",
              "    response: {\n",
              "      action: 'complete',\n",
              "    }\n",
              "  };\n",
              "}\n",
              "\n",
              "scope.google = scope.google || {};\n",
              "scope.google.colab = scope.google.colab || {};\n",
              "scope.google.colab._files = {\n",
              "  _uploadFiles,\n",
              "  _uploadFilesContinue,\n",
              "};\n",
              "})(self);\n",
              "</script> "
            ]
          },
          "metadata": {}
        },
        {
          "output_type": "stream",
          "name": "stdout",
          "text": [
            "Saving B Northridge.txt to B Northridge.txt\n"
          ]
        }
      ]
    },
    {
      "cell_type": "markdown",
      "source": [
        "**Actividad**: Lea correctamente el `.txt` de forma tal de levantar únicamente los datos de aceleraciones.\n",
        "\n",
        "NOTA: Busque referencias de la función `read_table` de Pandas para realizar la lectura. Identifique los variables claves a agregar en función de lo que contestó en la actividad anterior.\n",
        "\n",
        "Como ayuda, les destacamos la importancia de aclarar `engine='python'`.\n"
      ],
      "metadata": {
        "id": "z3X52wGsuDd0"
      }
    },
    {
      "cell_type": "code",
      "source": [
        "################################################################################\n",
        "# CODIGO DEL ALUMNO\n",
        "#Se crea un DataFrame\n",
        "df_registro =\n",
        "################################################################################\n",
        "df_registro.head()"
      ],
      "metadata": {
        "colab": {
          "base_uri": "https://localhost:8080/",
          "height": 206
        },
        "id": "DuZ3BT2g6AYt",
        "outputId": "39dfa567-4ffc-445b-fbb4-b942a3050e58"
      },
      "execution_count": null,
      "outputs": [
        {
          "output_type": "execute_result",
          "data": {
            "text/plain": [
              "          0         1         2         3         4\n",
              "0 -0.004249 -0.003199 -0.001582 -0.001951 -0.002743\n",
              "1 -0.001127 -0.001926 -0.004149 -0.003518 -0.000671\n",
              "2 -0.001918 -0.006306 -0.004919  0.000915  0.003463\n",
              "3  0.002829  0.002547  0.003054 -0.002321 -0.009781\n",
              "4 -0.003305 -0.001224 -0.011683 -0.013937 -0.009634"
            ],
            "text/html": [
              "\n",
              "  <div id=\"df-f79f021f-f3bb-45f3-af60-ea296b52bb40\" class=\"colab-df-container\">\n",
              "    <div>\n",
              "<style scoped>\n",
              "    .dataframe tbody tr th:only-of-type {\n",
              "        vertical-align: middle;\n",
              "    }\n",
              "\n",
              "    .dataframe tbody tr th {\n",
              "        vertical-align: top;\n",
              "    }\n",
              "\n",
              "    .dataframe thead th {\n",
              "        text-align: right;\n",
              "    }\n",
              "</style>\n",
              "<table border=\"1\" class=\"dataframe\">\n",
              "  <thead>\n",
              "    <tr style=\"text-align: right;\">\n",
              "      <th></th>\n",
              "      <th>0</th>\n",
              "      <th>1</th>\n",
              "      <th>2</th>\n",
              "      <th>3</th>\n",
              "      <th>4</th>\n",
              "    </tr>\n",
              "  </thead>\n",
              "  <tbody>\n",
              "    <tr>\n",
              "      <th>0</th>\n",
              "      <td>-0.004249</td>\n",
              "      <td>-0.003199</td>\n",
              "      <td>-0.001582</td>\n",
              "      <td>-0.001951</td>\n",
              "      <td>-0.002743</td>\n",
              "    </tr>\n",
              "    <tr>\n",
              "      <th>1</th>\n",
              "      <td>-0.001127</td>\n",
              "      <td>-0.001926</td>\n",
              "      <td>-0.004149</td>\n",
              "      <td>-0.003518</td>\n",
              "      <td>-0.000671</td>\n",
              "    </tr>\n",
              "    <tr>\n",
              "      <th>2</th>\n",
              "      <td>-0.001918</td>\n",
              "      <td>-0.006306</td>\n",
              "      <td>-0.004919</td>\n",
              "      <td>0.000915</td>\n",
              "      <td>0.003463</td>\n",
              "    </tr>\n",
              "    <tr>\n",
              "      <th>3</th>\n",
              "      <td>0.002829</td>\n",
              "      <td>0.002547</td>\n",
              "      <td>0.003054</td>\n",
              "      <td>-0.002321</td>\n",
              "      <td>-0.009781</td>\n",
              "    </tr>\n",
              "    <tr>\n",
              "      <th>4</th>\n",
              "      <td>-0.003305</td>\n",
              "      <td>-0.001224</td>\n",
              "      <td>-0.011683</td>\n",
              "      <td>-0.013937</td>\n",
              "      <td>-0.009634</td>\n",
              "    </tr>\n",
              "  </tbody>\n",
              "</table>\n",
              "</div>\n",
              "    <div class=\"colab-df-buttons\">\n",
              "\n",
              "  <div class=\"colab-df-container\">\n",
              "    <button class=\"colab-df-convert\" onclick=\"convertToInteractive('df-f79f021f-f3bb-45f3-af60-ea296b52bb40')\"\n",
              "            title=\"Convert this dataframe to an interactive table.\"\n",
              "            style=\"display:none;\">\n",
              "\n",
              "  <svg xmlns=\"http://www.w3.org/2000/svg\" height=\"24px\" viewBox=\"0 -960 960 960\">\n",
              "    <path d=\"M120-120v-720h720v720H120Zm60-500h600v-160H180v160Zm220 220h160v-160H400v160Zm0 220h160v-160H400v160ZM180-400h160v-160H180v160Zm440 0h160v-160H620v160ZM180-180h160v-160H180v160Zm440 0h160v-160H620v160Z\"/>\n",
              "  </svg>\n",
              "    </button>\n",
              "\n",
              "  <style>\n",
              "    .colab-df-container {\n",
              "      display:flex;\n",
              "      gap: 12px;\n",
              "    }\n",
              "\n",
              "    .colab-df-convert {\n",
              "      background-color: #E8F0FE;\n",
              "      border: none;\n",
              "      border-radius: 50%;\n",
              "      cursor: pointer;\n",
              "      display: none;\n",
              "      fill: #1967D2;\n",
              "      height: 32px;\n",
              "      padding: 0 0 0 0;\n",
              "      width: 32px;\n",
              "    }\n",
              "\n",
              "    .colab-df-convert:hover {\n",
              "      background-color: #E2EBFA;\n",
              "      box-shadow: 0px 1px 2px rgba(60, 64, 67, 0.3), 0px 1px 3px 1px rgba(60, 64, 67, 0.15);\n",
              "      fill: #174EA6;\n",
              "    }\n",
              "\n",
              "    .colab-df-buttons div {\n",
              "      margin-bottom: 4px;\n",
              "    }\n",
              "\n",
              "    [theme=dark] .colab-df-convert {\n",
              "      background-color: #3B4455;\n",
              "      fill: #D2E3FC;\n",
              "    }\n",
              "\n",
              "    [theme=dark] .colab-df-convert:hover {\n",
              "      background-color: #434B5C;\n",
              "      box-shadow: 0px 1px 3px 1px rgba(0, 0, 0, 0.15);\n",
              "      filter: drop-shadow(0px 1px 2px rgba(0, 0, 0, 0.3));\n",
              "      fill: #FFFFFF;\n",
              "    }\n",
              "  </style>\n",
              "\n",
              "    <script>\n",
              "      const buttonEl =\n",
              "        document.querySelector('#df-f79f021f-f3bb-45f3-af60-ea296b52bb40 button.colab-df-convert');\n",
              "      buttonEl.style.display =\n",
              "        google.colab.kernel.accessAllowed ? 'block' : 'none';\n",
              "\n",
              "      async function convertToInteractive(key) {\n",
              "        const element = document.querySelector('#df-f79f021f-f3bb-45f3-af60-ea296b52bb40');\n",
              "        const dataTable =\n",
              "          await google.colab.kernel.invokeFunction('convertToInteractive',\n",
              "                                                    [key], {});\n",
              "        if (!dataTable) return;\n",
              "\n",
              "        const docLinkHtml = 'Like what you see? Visit the ' +\n",
              "          '<a target=\"_blank\" href=https://colab.research.google.com/notebooks/data_table.ipynb>data table notebook</a>'\n",
              "          + ' to learn more about interactive tables.';\n",
              "        element.innerHTML = '';\n",
              "        dataTable['output_type'] = 'display_data';\n",
              "        await google.colab.output.renderOutput(dataTable, element);\n",
              "        const docLink = document.createElement('div');\n",
              "        docLink.innerHTML = docLinkHtml;\n",
              "        element.appendChild(docLink);\n",
              "      }\n",
              "    </script>\n",
              "  </div>\n",
              "\n",
              "\n",
              "<div id=\"df-bc898915-2a7b-4f7f-9966-60af94446848\">\n",
              "  <button class=\"colab-df-quickchart\" onclick=\"quickchart('df-bc898915-2a7b-4f7f-9966-60af94446848')\"\n",
              "            title=\"Suggest charts\"\n",
              "            style=\"display:none;\">\n",
              "\n",
              "<svg xmlns=\"http://www.w3.org/2000/svg\" height=\"24px\"viewBox=\"0 0 24 24\"\n",
              "     width=\"24px\">\n",
              "    <g>\n",
              "        <path d=\"M19 3H5c-1.1 0-2 .9-2 2v14c0 1.1.9 2 2 2h14c1.1 0 2-.9 2-2V5c0-1.1-.9-2-2-2zM9 17H7v-7h2v7zm4 0h-2V7h2v10zm4 0h-2v-4h2v4z\"/>\n",
              "    </g>\n",
              "</svg>\n",
              "  </button>\n",
              "\n",
              "<style>\n",
              "  .colab-df-quickchart {\n",
              "      --bg-color: #E8F0FE;\n",
              "      --fill-color: #1967D2;\n",
              "      --hover-bg-color: #E2EBFA;\n",
              "      --hover-fill-color: #174EA6;\n",
              "      --disabled-fill-color: #AAA;\n",
              "      --disabled-bg-color: #DDD;\n",
              "  }\n",
              "\n",
              "  [theme=dark] .colab-df-quickchart {\n",
              "      --bg-color: #3B4455;\n",
              "      --fill-color: #D2E3FC;\n",
              "      --hover-bg-color: #434B5C;\n",
              "      --hover-fill-color: #FFFFFF;\n",
              "      --disabled-bg-color: #3B4455;\n",
              "      --disabled-fill-color: #666;\n",
              "  }\n",
              "\n",
              "  .colab-df-quickchart {\n",
              "    background-color: var(--bg-color);\n",
              "    border: none;\n",
              "    border-radius: 50%;\n",
              "    cursor: pointer;\n",
              "    display: none;\n",
              "    fill: var(--fill-color);\n",
              "    height: 32px;\n",
              "    padding: 0;\n",
              "    width: 32px;\n",
              "  }\n",
              "\n",
              "  .colab-df-quickchart:hover {\n",
              "    background-color: var(--hover-bg-color);\n",
              "    box-shadow: 0 1px 2px rgba(60, 64, 67, 0.3), 0 1px 3px 1px rgba(60, 64, 67, 0.15);\n",
              "    fill: var(--button-hover-fill-color);\n",
              "  }\n",
              "\n",
              "  .colab-df-quickchart-complete:disabled,\n",
              "  .colab-df-quickchart-complete:disabled:hover {\n",
              "    background-color: var(--disabled-bg-color);\n",
              "    fill: var(--disabled-fill-color);\n",
              "    box-shadow: none;\n",
              "  }\n",
              "\n",
              "  .colab-df-spinner {\n",
              "    border: 2px solid var(--fill-color);\n",
              "    border-color: transparent;\n",
              "    border-bottom-color: var(--fill-color);\n",
              "    animation:\n",
              "      spin 1s steps(1) infinite;\n",
              "  }\n",
              "\n",
              "  @keyframes spin {\n",
              "    0% {\n",
              "      border-color: transparent;\n",
              "      border-bottom-color: var(--fill-color);\n",
              "      border-left-color: var(--fill-color);\n",
              "    }\n",
              "    20% {\n",
              "      border-color: transparent;\n",
              "      border-left-color: var(--fill-color);\n",
              "      border-top-color: var(--fill-color);\n",
              "    }\n",
              "    30% {\n",
              "      border-color: transparent;\n",
              "      border-left-color: var(--fill-color);\n",
              "      border-top-color: var(--fill-color);\n",
              "      border-right-color: var(--fill-color);\n",
              "    }\n",
              "    40% {\n",
              "      border-color: transparent;\n",
              "      border-right-color: var(--fill-color);\n",
              "      border-top-color: var(--fill-color);\n",
              "    }\n",
              "    60% {\n",
              "      border-color: transparent;\n",
              "      border-right-color: var(--fill-color);\n",
              "    }\n",
              "    80% {\n",
              "      border-color: transparent;\n",
              "      border-right-color: var(--fill-color);\n",
              "      border-bottom-color: var(--fill-color);\n",
              "    }\n",
              "    90% {\n",
              "      border-color: transparent;\n",
              "      border-bottom-color: var(--fill-color);\n",
              "    }\n",
              "  }\n",
              "</style>\n",
              "\n",
              "  <script>\n",
              "    async function quickchart(key) {\n",
              "      const quickchartButtonEl =\n",
              "        document.querySelector('#' + key + ' button');\n",
              "      quickchartButtonEl.disabled = true;  // To prevent multiple clicks.\n",
              "      quickchartButtonEl.classList.add('colab-df-spinner');\n",
              "      try {\n",
              "        const charts = await google.colab.kernel.invokeFunction(\n",
              "            'suggestCharts', [key], {});\n",
              "      } catch (error) {\n",
              "        console.error('Error during call to suggestCharts:', error);\n",
              "      }\n",
              "      quickchartButtonEl.classList.remove('colab-df-spinner');\n",
              "      quickchartButtonEl.classList.add('colab-df-quickchart-complete');\n",
              "    }\n",
              "    (() => {\n",
              "      let quickchartButtonEl =\n",
              "        document.querySelector('#df-bc898915-2a7b-4f7f-9966-60af94446848 button');\n",
              "      quickchartButtonEl.style.display =\n",
              "        google.colab.kernel.accessAllowed ? 'block' : 'none';\n",
              "    })();\n",
              "  </script>\n",
              "</div>\n",
              "\n",
              "    </div>\n",
              "  </div>\n"
            ],
            "application/vnd.google.colaboratory.intrinsic+json": {
              "type": "dataframe",
              "variable_name": "df_registro",
              "summary": "{\n  \"name\": \"df_registro\",\n  \"rows\": 400,\n  \"fields\": [\n    {\n      \"column\": 0,\n      \"properties\": {\n        \"dtype\": \"number\",\n        \"std\": 0.07147485228295411,\n        \"min\": -0.3754079,\n        \"max\": 0.4183107,\n        \"num_unique_values\": 400,\n        \"samples\": [\n          0.01516736,\n          0.01429475,\n          -0.02162472\n        ],\n        \"semantic_type\": \"\",\n        \"description\": \"\"\n      }\n    },\n    {\n      \"column\": 1,\n      \"properties\": {\n        \"dtype\": \"number\",\n        \"std\": 0.06996190900948877,\n        \"min\": -0.3512717,\n        \"max\": 0.3732182,\n        \"num_unique_values\": 400,\n        \"samples\": [\n          0.01517756,\n          0.01675898,\n          -0.03885195\n        ],\n        \"semantic_type\": \"\",\n        \"description\": \"\"\n      }\n    },\n    {\n      \"column\": 2,\n      \"properties\": {\n        \"dtype\": \"number\",\n        \"std\": 0.07108412958388628,\n        \"min\": -0.3239725,\n        \"max\": 0.3427966,\n        \"num_unique_values\": 400,\n        \"samples\": [\n          0.01728079,\n          0.01881214,\n          -0.04610153\n        ],\n        \"semantic_type\": \"\",\n        \"description\": \"\"\n      }\n    },\n    {\n      \"column\": 3,\n      \"properties\": {\n        \"dtype\": \"number\",\n        \"std\": 0.07283748147238317,\n        \"min\": -0.3263621,\n        \"max\": 0.46483,\n        \"num_unique_values\": 400,\n        \"samples\": [\n          0.02102929,\n          0.02038999,\n          -0.02987377\n        ],\n        \"semantic_type\": \"\",\n        \"description\": \"\"\n      }\n    },\n    {\n      \"column\": 4,\n      \"properties\": {\n        \"dtype\": \"number\",\n        \"std\": 0.07322102642270752,\n        \"min\": -0.3643439,\n        \"max\": 0.5142601,\n        \"num_unique_values\": 400,\n        \"samples\": [\n          0.02514396,\n          0.0207061,\n          0.002947353\n        ],\n        \"semantic_type\": \"\",\n        \"description\": \"\"\n      }\n    }\n  ]\n}"
            }
          },
          "metadata": {},
          "execution_count": 23
        }
      ]
    },
    {
      "cell_type": "markdown",
      "source": [
        "### Actividad 3\n",
        "\n",
        "Bien, veamos ahora qué tiene esta matriz. Para ello, muestre el número de filas y columnas, y la cantidad de datos totales `n`.\n",
        "\n",
        "**Actividad**: Calculen la cantidad total de datos."
      ],
      "metadata": {
        "id": "MB3PKG04mzXo"
      }
    },
    {
      "cell_type": "code",
      "source": [
        "# Veremos el tamaño de la data y el nombre de la columnas\n",
        "print('Cantidad de Filas y columnas:', df_registro.shape)\n",
        "\n",
        "# Cantidad de datos\n",
        "################################################################################\n",
        "# CODIGO DEL ALUMNO\n",
        "n =\n",
        "################################################################################\n",
        "\n",
        "print('Cantidad de datos:', n)"
      ],
      "metadata": {
        "colab": {
          "base_uri": "https://localhost:8080/"
        },
        "id": "nqFnvJUY8aGz",
        "outputId": "aa822e0c-2e74-4cc1-a92d-f35244ac6421"
      },
      "execution_count": null,
      "outputs": [
        {
          "output_type": "stream",
          "name": "stdout",
          "text": [
            "Cantidad de Filas y columnas: (400, 5)\n",
            "Cantidad de datos: 2000\n"
          ]
        }
      ]
    },
    {
      "cell_type": "markdown",
      "source": [
        "### Actividad 4\n",
        "\n",
        "Bien, ahora entonces convirtamos esto en un verdadero vector de aceleraciones como debe ser.\n",
        "\n",
        "**Actividad**: reformule el dato anterior en un vector. Guarde el dato en nuevo data frame de nombre `df_Northridge` y la columna con nombre `accel [g]`."
      ],
      "metadata": {
        "id": "PDtV5oXo7yg-"
      }
    },
    {
      "cell_type": "code",
      "source": [
        "################################################################################\n",
        "# CODIGO DEL ALUMNO\n",
        "\n",
        "# Cambie la forma en la que se encuentran los datos\n",
        "\n",
        "\n",
        "# Construya la tabla 'df_Northridge'\n",
        "df_Northridge =\n",
        "\n",
        "################################################################################\n",
        "df_Northridge.head()"
      ],
      "metadata": {
        "colab": {
          "base_uri": "https://localhost:8080/",
          "height": 206
        },
        "id": "5KZxr5wg79Ku",
        "outputId": "fc2806ea-fe54-48a1-e168-a3a874984554"
      },
      "execution_count": null,
      "outputs": [
        {
          "output_type": "execute_result",
          "data": {
            "text/plain": [
              "   Accel [g]\n",
              "0  -0.004249\n",
              "1  -0.003199\n",
              "2  -0.001582\n",
              "3  -0.001951\n",
              "4  -0.002743"
            ],
            "text/html": [
              "\n",
              "  <div id=\"df-fee9edb8-1624-4034-92f3-94def44f0f3a\" class=\"colab-df-container\">\n",
              "    <div>\n",
              "<style scoped>\n",
              "    .dataframe tbody tr th:only-of-type {\n",
              "        vertical-align: middle;\n",
              "    }\n",
              "\n",
              "    .dataframe tbody tr th {\n",
              "        vertical-align: top;\n",
              "    }\n",
              "\n",
              "    .dataframe thead th {\n",
              "        text-align: right;\n",
              "    }\n",
              "</style>\n",
              "<table border=\"1\" class=\"dataframe\">\n",
              "  <thead>\n",
              "    <tr style=\"text-align: right;\">\n",
              "      <th></th>\n",
              "      <th>Accel [g]</th>\n",
              "    </tr>\n",
              "  </thead>\n",
              "  <tbody>\n",
              "    <tr>\n",
              "      <th>0</th>\n",
              "      <td>-0.004249</td>\n",
              "    </tr>\n",
              "    <tr>\n",
              "      <th>1</th>\n",
              "      <td>-0.003199</td>\n",
              "    </tr>\n",
              "    <tr>\n",
              "      <th>2</th>\n",
              "      <td>-0.001582</td>\n",
              "    </tr>\n",
              "    <tr>\n",
              "      <th>3</th>\n",
              "      <td>-0.001951</td>\n",
              "    </tr>\n",
              "    <tr>\n",
              "      <th>4</th>\n",
              "      <td>-0.002743</td>\n",
              "    </tr>\n",
              "  </tbody>\n",
              "</table>\n",
              "</div>\n",
              "    <div class=\"colab-df-buttons\">\n",
              "\n",
              "  <div class=\"colab-df-container\">\n",
              "    <button class=\"colab-df-convert\" onclick=\"convertToInteractive('df-fee9edb8-1624-4034-92f3-94def44f0f3a')\"\n",
              "            title=\"Convert this dataframe to an interactive table.\"\n",
              "            style=\"display:none;\">\n",
              "\n",
              "  <svg xmlns=\"http://www.w3.org/2000/svg\" height=\"24px\" viewBox=\"0 -960 960 960\">\n",
              "    <path d=\"M120-120v-720h720v720H120Zm60-500h600v-160H180v160Zm220 220h160v-160H400v160Zm0 220h160v-160H400v160ZM180-400h160v-160H180v160Zm440 0h160v-160H620v160ZM180-180h160v-160H180v160Zm440 0h160v-160H620v160Z\"/>\n",
              "  </svg>\n",
              "    </button>\n",
              "\n",
              "  <style>\n",
              "    .colab-df-container {\n",
              "      display:flex;\n",
              "      gap: 12px;\n",
              "    }\n",
              "\n",
              "    .colab-df-convert {\n",
              "      background-color: #E8F0FE;\n",
              "      border: none;\n",
              "      border-radius: 50%;\n",
              "      cursor: pointer;\n",
              "      display: none;\n",
              "      fill: #1967D2;\n",
              "      height: 32px;\n",
              "      padding: 0 0 0 0;\n",
              "      width: 32px;\n",
              "    }\n",
              "\n",
              "    .colab-df-convert:hover {\n",
              "      background-color: #E2EBFA;\n",
              "      box-shadow: 0px 1px 2px rgba(60, 64, 67, 0.3), 0px 1px 3px 1px rgba(60, 64, 67, 0.15);\n",
              "      fill: #174EA6;\n",
              "    }\n",
              "\n",
              "    .colab-df-buttons div {\n",
              "      margin-bottom: 4px;\n",
              "    }\n",
              "\n",
              "    [theme=dark] .colab-df-convert {\n",
              "      background-color: #3B4455;\n",
              "      fill: #D2E3FC;\n",
              "    }\n",
              "\n",
              "    [theme=dark] .colab-df-convert:hover {\n",
              "      background-color: #434B5C;\n",
              "      box-shadow: 0px 1px 3px 1px rgba(0, 0, 0, 0.15);\n",
              "      filter: drop-shadow(0px 1px 2px rgba(0, 0, 0, 0.3));\n",
              "      fill: #FFFFFF;\n",
              "    }\n",
              "  </style>\n",
              "\n",
              "    <script>\n",
              "      const buttonEl =\n",
              "        document.querySelector('#df-fee9edb8-1624-4034-92f3-94def44f0f3a button.colab-df-convert');\n",
              "      buttonEl.style.display =\n",
              "        google.colab.kernel.accessAllowed ? 'block' : 'none';\n",
              "\n",
              "      async function convertToInteractive(key) {\n",
              "        const element = document.querySelector('#df-fee9edb8-1624-4034-92f3-94def44f0f3a');\n",
              "        const dataTable =\n",
              "          await google.colab.kernel.invokeFunction('convertToInteractive',\n",
              "                                                    [key], {});\n",
              "        if (!dataTable) return;\n",
              "\n",
              "        const docLinkHtml = 'Like what you see? Visit the ' +\n",
              "          '<a target=\"_blank\" href=https://colab.research.google.com/notebooks/data_table.ipynb>data table notebook</a>'\n",
              "          + ' to learn more about interactive tables.';\n",
              "        element.innerHTML = '';\n",
              "        dataTable['output_type'] = 'display_data';\n",
              "        await google.colab.output.renderOutput(dataTable, element);\n",
              "        const docLink = document.createElement('div');\n",
              "        docLink.innerHTML = docLinkHtml;\n",
              "        element.appendChild(docLink);\n",
              "      }\n",
              "    </script>\n",
              "  </div>\n",
              "\n",
              "\n",
              "<div id=\"df-0a4e8051-fb5f-4f85-805e-4e41eb622fd9\">\n",
              "  <button class=\"colab-df-quickchart\" onclick=\"quickchart('df-0a4e8051-fb5f-4f85-805e-4e41eb622fd9')\"\n",
              "            title=\"Suggest charts\"\n",
              "            style=\"display:none;\">\n",
              "\n",
              "<svg xmlns=\"http://www.w3.org/2000/svg\" height=\"24px\"viewBox=\"0 0 24 24\"\n",
              "     width=\"24px\">\n",
              "    <g>\n",
              "        <path d=\"M19 3H5c-1.1 0-2 .9-2 2v14c0 1.1.9 2 2 2h14c1.1 0 2-.9 2-2V5c0-1.1-.9-2-2-2zM9 17H7v-7h2v7zm4 0h-2V7h2v10zm4 0h-2v-4h2v4z\"/>\n",
              "    </g>\n",
              "</svg>\n",
              "  </button>\n",
              "\n",
              "<style>\n",
              "  .colab-df-quickchart {\n",
              "      --bg-color: #E8F0FE;\n",
              "      --fill-color: #1967D2;\n",
              "      --hover-bg-color: #E2EBFA;\n",
              "      --hover-fill-color: #174EA6;\n",
              "      --disabled-fill-color: #AAA;\n",
              "      --disabled-bg-color: #DDD;\n",
              "  }\n",
              "\n",
              "  [theme=dark] .colab-df-quickchart {\n",
              "      --bg-color: #3B4455;\n",
              "      --fill-color: #D2E3FC;\n",
              "      --hover-bg-color: #434B5C;\n",
              "      --hover-fill-color: #FFFFFF;\n",
              "      --disabled-bg-color: #3B4455;\n",
              "      --disabled-fill-color: #666;\n",
              "  }\n",
              "\n",
              "  .colab-df-quickchart {\n",
              "    background-color: var(--bg-color);\n",
              "    border: none;\n",
              "    border-radius: 50%;\n",
              "    cursor: pointer;\n",
              "    display: none;\n",
              "    fill: var(--fill-color);\n",
              "    height: 32px;\n",
              "    padding: 0;\n",
              "    width: 32px;\n",
              "  }\n",
              "\n",
              "  .colab-df-quickchart:hover {\n",
              "    background-color: var(--hover-bg-color);\n",
              "    box-shadow: 0 1px 2px rgba(60, 64, 67, 0.3), 0 1px 3px 1px rgba(60, 64, 67, 0.15);\n",
              "    fill: var(--button-hover-fill-color);\n",
              "  }\n",
              "\n",
              "  .colab-df-quickchart-complete:disabled,\n",
              "  .colab-df-quickchart-complete:disabled:hover {\n",
              "    background-color: var(--disabled-bg-color);\n",
              "    fill: var(--disabled-fill-color);\n",
              "    box-shadow: none;\n",
              "  }\n",
              "\n",
              "  .colab-df-spinner {\n",
              "    border: 2px solid var(--fill-color);\n",
              "    border-color: transparent;\n",
              "    border-bottom-color: var(--fill-color);\n",
              "    animation:\n",
              "      spin 1s steps(1) infinite;\n",
              "  }\n",
              "\n",
              "  @keyframes spin {\n",
              "    0% {\n",
              "      border-color: transparent;\n",
              "      border-bottom-color: var(--fill-color);\n",
              "      border-left-color: var(--fill-color);\n",
              "    }\n",
              "    20% {\n",
              "      border-color: transparent;\n",
              "      border-left-color: var(--fill-color);\n",
              "      border-top-color: var(--fill-color);\n",
              "    }\n",
              "    30% {\n",
              "      border-color: transparent;\n",
              "      border-left-color: var(--fill-color);\n",
              "      border-top-color: var(--fill-color);\n",
              "      border-right-color: var(--fill-color);\n",
              "    }\n",
              "    40% {\n",
              "      border-color: transparent;\n",
              "      border-right-color: var(--fill-color);\n",
              "      border-top-color: var(--fill-color);\n",
              "    }\n",
              "    60% {\n",
              "      border-color: transparent;\n",
              "      border-right-color: var(--fill-color);\n",
              "    }\n",
              "    80% {\n",
              "      border-color: transparent;\n",
              "      border-right-color: var(--fill-color);\n",
              "      border-bottom-color: var(--fill-color);\n",
              "    }\n",
              "    90% {\n",
              "      border-color: transparent;\n",
              "      border-bottom-color: var(--fill-color);\n",
              "    }\n",
              "  }\n",
              "</style>\n",
              "\n",
              "  <script>\n",
              "    async function quickchart(key) {\n",
              "      const quickchartButtonEl =\n",
              "        document.querySelector('#' + key + ' button');\n",
              "      quickchartButtonEl.disabled = true;  // To prevent multiple clicks.\n",
              "      quickchartButtonEl.classList.add('colab-df-spinner');\n",
              "      try {\n",
              "        const charts = await google.colab.kernel.invokeFunction(\n",
              "            'suggestCharts', [key], {});\n",
              "      } catch (error) {\n",
              "        console.error('Error during call to suggestCharts:', error);\n",
              "      }\n",
              "      quickchartButtonEl.classList.remove('colab-df-spinner');\n",
              "      quickchartButtonEl.classList.add('colab-df-quickchart-complete');\n",
              "    }\n",
              "    (() => {\n",
              "      let quickchartButtonEl =\n",
              "        document.querySelector('#df-0a4e8051-fb5f-4f85-805e-4e41eb622fd9 button');\n",
              "      quickchartButtonEl.style.display =\n",
              "        google.colab.kernel.accessAllowed ? 'block' : 'none';\n",
              "    })();\n",
              "  </script>\n",
              "</div>\n",
              "\n",
              "    </div>\n",
              "  </div>\n"
            ],
            "application/vnd.google.colaboratory.intrinsic+json": {
              "type": "dataframe",
              "variable_name": "df_Northridge",
              "summary": "{\n  \"name\": \"df_Northridge\",\n  \"rows\": 2000,\n  \"fields\": [\n    {\n      \"column\": \"Accel [g]\",\n      \"properties\": {\n        \"dtype\": \"number\",\n        \"std\": 0.07165531678871788,\n        \"min\": -0.3754079,\n        \"max\": 0.5142601,\n        \"num_unique_values\": 2000,\n        \"samples\": [\n          0.00224521,\n          -0.3263621,\n          0.002270361\n        ],\n        \"semantic_type\": \"\",\n        \"description\": \"\"\n      }\n    }\n  ]\n}"
            }
          },
          "metadata": {},
          "execution_count": 25
        }
      ]
    },
    {
      "cell_type": "markdown",
      "source": [
        "### Actividad 5\n",
        "\n",
        "Estos datos no sirven de mucho si no construyo un vector tiempo asociado.\n",
        "\n",
        "**Actividad**: Busque en el `.txt` el valor de `Delta_t` y construya un vector tiempo de la misma dimensión que el registro, iniciando en 0. Agreguelo al dataframe con el nombre `'t [s]'`.\n",
        "\n",
        "NOTA: No hace falta hacerlo automático, pueden leerlo y anotarlo a mano."
      ],
      "metadata": {
        "id": "6yfReBpXoZIy"
      }
    },
    {
      "cell_type": "code",
      "source": [
        "################################################################################\n",
        "# CODIGO DEL ALUMNO\n",
        "\n",
        "Delta_t =\n",
        "# Construya un vector tiempo\n",
        "\n",
        "\n",
        "\n",
        "################################################################################\n",
        "df_Northridge.head()"
      ],
      "metadata": {
        "colab": {
          "base_uri": "https://localhost:8080/",
          "height": 206
        },
        "id": "_z12vavNoPLO",
        "outputId": "812e83bf-8507-429b-b902-421f113f5aaa"
      },
      "execution_count": null,
      "outputs": [
        {
          "output_type": "execute_result",
          "data": {
            "text/plain": [
              "   Accel [g]  t [s]\n",
              "0  -0.004249   0.00\n",
              "1  -0.003199   0.02\n",
              "2  -0.001582   0.04\n",
              "3  -0.001951   0.06\n",
              "4  -0.002743   0.08"
            ],
            "text/html": [
              "\n",
              "  <div id=\"df-35c73ae2-d5a5-4a86-9c1d-747a23c8b44e\" class=\"colab-df-container\">\n",
              "    <div>\n",
              "<style scoped>\n",
              "    .dataframe tbody tr th:only-of-type {\n",
              "        vertical-align: middle;\n",
              "    }\n",
              "\n",
              "    .dataframe tbody tr th {\n",
              "        vertical-align: top;\n",
              "    }\n",
              "\n",
              "    .dataframe thead th {\n",
              "        text-align: right;\n",
              "    }\n",
              "</style>\n",
              "<table border=\"1\" class=\"dataframe\">\n",
              "  <thead>\n",
              "    <tr style=\"text-align: right;\">\n",
              "      <th></th>\n",
              "      <th>Accel [g]</th>\n",
              "      <th>t [s]</th>\n",
              "    </tr>\n",
              "  </thead>\n",
              "  <tbody>\n",
              "    <tr>\n",
              "      <th>0</th>\n",
              "      <td>-0.004249</td>\n",
              "      <td>0.00</td>\n",
              "    </tr>\n",
              "    <tr>\n",
              "      <th>1</th>\n",
              "      <td>-0.003199</td>\n",
              "      <td>0.02</td>\n",
              "    </tr>\n",
              "    <tr>\n",
              "      <th>2</th>\n",
              "      <td>-0.001582</td>\n",
              "      <td>0.04</td>\n",
              "    </tr>\n",
              "    <tr>\n",
              "      <th>3</th>\n",
              "      <td>-0.001951</td>\n",
              "      <td>0.06</td>\n",
              "    </tr>\n",
              "    <tr>\n",
              "      <th>4</th>\n",
              "      <td>-0.002743</td>\n",
              "      <td>0.08</td>\n",
              "    </tr>\n",
              "  </tbody>\n",
              "</table>\n",
              "</div>\n",
              "    <div class=\"colab-df-buttons\">\n",
              "\n",
              "  <div class=\"colab-df-container\">\n",
              "    <button class=\"colab-df-convert\" onclick=\"convertToInteractive('df-35c73ae2-d5a5-4a86-9c1d-747a23c8b44e')\"\n",
              "            title=\"Convert this dataframe to an interactive table.\"\n",
              "            style=\"display:none;\">\n",
              "\n",
              "  <svg xmlns=\"http://www.w3.org/2000/svg\" height=\"24px\" viewBox=\"0 -960 960 960\">\n",
              "    <path d=\"M120-120v-720h720v720H120Zm60-500h600v-160H180v160Zm220 220h160v-160H400v160Zm0 220h160v-160H400v160ZM180-400h160v-160H180v160Zm440 0h160v-160H620v160ZM180-180h160v-160H180v160Zm440 0h160v-160H620v160Z\"/>\n",
              "  </svg>\n",
              "    </button>\n",
              "\n",
              "  <style>\n",
              "    .colab-df-container {\n",
              "      display:flex;\n",
              "      gap: 12px;\n",
              "    }\n",
              "\n",
              "    .colab-df-convert {\n",
              "      background-color: #E8F0FE;\n",
              "      border: none;\n",
              "      border-radius: 50%;\n",
              "      cursor: pointer;\n",
              "      display: none;\n",
              "      fill: #1967D2;\n",
              "      height: 32px;\n",
              "      padding: 0 0 0 0;\n",
              "      width: 32px;\n",
              "    }\n",
              "\n",
              "    .colab-df-convert:hover {\n",
              "      background-color: #E2EBFA;\n",
              "      box-shadow: 0px 1px 2px rgba(60, 64, 67, 0.3), 0px 1px 3px 1px rgba(60, 64, 67, 0.15);\n",
              "      fill: #174EA6;\n",
              "    }\n",
              "\n",
              "    .colab-df-buttons div {\n",
              "      margin-bottom: 4px;\n",
              "    }\n",
              "\n",
              "    [theme=dark] .colab-df-convert {\n",
              "      background-color: #3B4455;\n",
              "      fill: #D2E3FC;\n",
              "    }\n",
              "\n",
              "    [theme=dark] .colab-df-convert:hover {\n",
              "      background-color: #434B5C;\n",
              "      box-shadow: 0px 1px 3px 1px rgba(0, 0, 0, 0.15);\n",
              "      filter: drop-shadow(0px 1px 2px rgba(0, 0, 0, 0.3));\n",
              "      fill: #FFFFFF;\n",
              "    }\n",
              "  </style>\n",
              "\n",
              "    <script>\n",
              "      const buttonEl =\n",
              "        document.querySelector('#df-35c73ae2-d5a5-4a86-9c1d-747a23c8b44e button.colab-df-convert');\n",
              "      buttonEl.style.display =\n",
              "        google.colab.kernel.accessAllowed ? 'block' : 'none';\n",
              "\n",
              "      async function convertToInteractive(key) {\n",
              "        const element = document.querySelector('#df-35c73ae2-d5a5-4a86-9c1d-747a23c8b44e');\n",
              "        const dataTable =\n",
              "          await google.colab.kernel.invokeFunction('convertToInteractive',\n",
              "                                                    [key], {});\n",
              "        if (!dataTable) return;\n",
              "\n",
              "        const docLinkHtml = 'Like what you see? Visit the ' +\n",
              "          '<a target=\"_blank\" href=https://colab.research.google.com/notebooks/data_table.ipynb>data table notebook</a>'\n",
              "          + ' to learn more about interactive tables.';\n",
              "        element.innerHTML = '';\n",
              "        dataTable['output_type'] = 'display_data';\n",
              "        await google.colab.output.renderOutput(dataTable, element);\n",
              "        const docLink = document.createElement('div');\n",
              "        docLink.innerHTML = docLinkHtml;\n",
              "        element.appendChild(docLink);\n",
              "      }\n",
              "    </script>\n",
              "  </div>\n",
              "\n",
              "\n",
              "<div id=\"df-bd46ad45-ab80-44b6-b46b-9d957a33419d\">\n",
              "  <button class=\"colab-df-quickchart\" onclick=\"quickchart('df-bd46ad45-ab80-44b6-b46b-9d957a33419d')\"\n",
              "            title=\"Suggest charts\"\n",
              "            style=\"display:none;\">\n",
              "\n",
              "<svg xmlns=\"http://www.w3.org/2000/svg\" height=\"24px\"viewBox=\"0 0 24 24\"\n",
              "     width=\"24px\">\n",
              "    <g>\n",
              "        <path d=\"M19 3H5c-1.1 0-2 .9-2 2v14c0 1.1.9 2 2 2h14c1.1 0 2-.9 2-2V5c0-1.1-.9-2-2-2zM9 17H7v-7h2v7zm4 0h-2V7h2v10zm4 0h-2v-4h2v4z\"/>\n",
              "    </g>\n",
              "</svg>\n",
              "  </button>\n",
              "\n",
              "<style>\n",
              "  .colab-df-quickchart {\n",
              "      --bg-color: #E8F0FE;\n",
              "      --fill-color: #1967D2;\n",
              "      --hover-bg-color: #E2EBFA;\n",
              "      --hover-fill-color: #174EA6;\n",
              "      --disabled-fill-color: #AAA;\n",
              "      --disabled-bg-color: #DDD;\n",
              "  }\n",
              "\n",
              "  [theme=dark] .colab-df-quickchart {\n",
              "      --bg-color: #3B4455;\n",
              "      --fill-color: #D2E3FC;\n",
              "      --hover-bg-color: #434B5C;\n",
              "      --hover-fill-color: #FFFFFF;\n",
              "      --disabled-bg-color: #3B4455;\n",
              "      --disabled-fill-color: #666;\n",
              "  }\n",
              "\n",
              "  .colab-df-quickchart {\n",
              "    background-color: var(--bg-color);\n",
              "    border: none;\n",
              "    border-radius: 50%;\n",
              "    cursor: pointer;\n",
              "    display: none;\n",
              "    fill: var(--fill-color);\n",
              "    height: 32px;\n",
              "    padding: 0;\n",
              "    width: 32px;\n",
              "  }\n",
              "\n",
              "  .colab-df-quickchart:hover {\n",
              "    background-color: var(--hover-bg-color);\n",
              "    box-shadow: 0 1px 2px rgba(60, 64, 67, 0.3), 0 1px 3px 1px rgba(60, 64, 67, 0.15);\n",
              "    fill: var(--button-hover-fill-color);\n",
              "  }\n",
              "\n",
              "  .colab-df-quickchart-complete:disabled,\n",
              "  .colab-df-quickchart-complete:disabled:hover {\n",
              "    background-color: var(--disabled-bg-color);\n",
              "    fill: var(--disabled-fill-color);\n",
              "    box-shadow: none;\n",
              "  }\n",
              "\n",
              "  .colab-df-spinner {\n",
              "    border: 2px solid var(--fill-color);\n",
              "    border-color: transparent;\n",
              "    border-bottom-color: var(--fill-color);\n",
              "    animation:\n",
              "      spin 1s steps(1) infinite;\n",
              "  }\n",
              "\n",
              "  @keyframes spin {\n",
              "    0% {\n",
              "      border-color: transparent;\n",
              "      border-bottom-color: var(--fill-color);\n",
              "      border-left-color: var(--fill-color);\n",
              "    }\n",
              "    20% {\n",
              "      border-color: transparent;\n",
              "      border-left-color: var(--fill-color);\n",
              "      border-top-color: var(--fill-color);\n",
              "    }\n",
              "    30% {\n",
              "      border-color: transparent;\n",
              "      border-left-color: var(--fill-color);\n",
              "      border-top-color: var(--fill-color);\n",
              "      border-right-color: var(--fill-color);\n",
              "    }\n",
              "    40% {\n",
              "      border-color: transparent;\n",
              "      border-right-color: var(--fill-color);\n",
              "      border-top-color: var(--fill-color);\n",
              "    }\n",
              "    60% {\n",
              "      border-color: transparent;\n",
              "      border-right-color: var(--fill-color);\n",
              "    }\n",
              "    80% {\n",
              "      border-color: transparent;\n",
              "      border-right-color: var(--fill-color);\n",
              "      border-bottom-color: var(--fill-color);\n",
              "    }\n",
              "    90% {\n",
              "      border-color: transparent;\n",
              "      border-bottom-color: var(--fill-color);\n",
              "    }\n",
              "  }\n",
              "</style>\n",
              "\n",
              "  <script>\n",
              "    async function quickchart(key) {\n",
              "      const quickchartButtonEl =\n",
              "        document.querySelector('#' + key + ' button');\n",
              "      quickchartButtonEl.disabled = true;  // To prevent multiple clicks.\n",
              "      quickchartButtonEl.classList.add('colab-df-spinner');\n",
              "      try {\n",
              "        const charts = await google.colab.kernel.invokeFunction(\n",
              "            'suggestCharts', [key], {});\n",
              "      } catch (error) {\n",
              "        console.error('Error during call to suggestCharts:', error);\n",
              "      }\n",
              "      quickchartButtonEl.classList.remove('colab-df-spinner');\n",
              "      quickchartButtonEl.classList.add('colab-df-quickchart-complete');\n",
              "    }\n",
              "    (() => {\n",
              "      let quickchartButtonEl =\n",
              "        document.querySelector('#df-bd46ad45-ab80-44b6-b46b-9d957a33419d button');\n",
              "      quickchartButtonEl.style.display =\n",
              "        google.colab.kernel.accessAllowed ? 'block' : 'none';\n",
              "    })();\n",
              "  </script>\n",
              "</div>\n",
              "\n",
              "    </div>\n",
              "  </div>\n"
            ],
            "application/vnd.google.colaboratory.intrinsic+json": {
              "type": "dataframe",
              "variable_name": "df_Northridge",
              "summary": "{\n  \"name\": \"df_Northridge\",\n  \"rows\": 2000,\n  \"fields\": [\n    {\n      \"column\": \"Accel [g]\",\n      \"properties\": {\n        \"dtype\": \"number\",\n        \"std\": 0.07165531678871788,\n        \"min\": -0.3754079,\n        \"max\": 0.5142601,\n        \"num_unique_values\": 2000,\n        \"samples\": [\n          0.00224521,\n          -0.3263621,\n          0.002270361\n        ],\n        \"semantic_type\": \"\",\n        \"description\": \"\"\n      }\n    },\n    {\n      \"column\": \"t [s]\",\n      \"properties\": {\n        \"dtype\": \"number\",\n        \"std\": 11.549891774384728,\n        \"min\": 0.0,\n        \"max\": 39.980000000000004,\n        \"num_unique_values\": 2000,\n        \"samples\": [\n          37.2,\n          7.0600000000000005,\n          26.66\n        ],\n        \"semantic_type\": \"\",\n        \"description\": \"\"\n      }\n    }\n  ]\n}"
            }
          },
          "metadata": {},
          "execution_count": 26
        }
      ]
    },
    {
      "cell_type": "markdown",
      "source": [
        "### Actividad 6\n",
        "\n",
        "Ahora esto sí puede ser útil para trabajar. Para asegurarnos que todo está ok, hagamos un gráfico rápido con Seaborn.\n",
        "\n",
        "**Actividad**: Grafique el registro de aceleraciones del Sismo de Northridge."
      ],
      "metadata": {
        "id": "gg5GVM8GGHcY"
      }
    },
    {
      "cell_type": "code",
      "source": [
        "################################################################################\n",
        "# CODIGO DEL ALUMNO\n",
        "\n",
        "\n",
        "################################################################################\n",
        "plt.show()"
      ],
      "metadata": {
        "colab": {
          "base_uri": "https://localhost:8080/",
          "height": 472
        },
        "id": "BQS5ZBn1GVhS",
        "outputId": "d16b2852-401d-496d-ba2d-6f146d6d653d"
      },
      "execution_count": null,
      "outputs": [
        {
          "output_type": "display_data",
          "data": {
            "text/plain": [
              "<Figure size 640x480 with 1 Axes>"
            ],
            "image/png": "[encoded data removed]"
          },
          "metadata": {}
        }
      ]
    },
    {
      "cell_type": "markdown",
      "source": [
        "### Actividad 7\n",
        "\n",
        "Para cerrar, cálcule el PGA (la máxima aceleración en valor absoluto del terreno)\n",
        "\n",
        "**Actividad**: ¿Cuál es el PGA?"
      ],
      "metadata": {
        "id": "giCUSBTQpVkr"
      }
    },
    {
      "cell_type": "code",
      "source": [
        "################################################################################\n",
        "# CODIGO DEL ALUMNO\n",
        "PGA =\n",
        "\n",
        "################################################################################\n",
        "print('El PGA es de ',PGA,'g')"
      ],
      "metadata": {
        "colab": {
          "base_uri": "https://localhost:8080/"
        },
        "id": "bI-TA8VspgD-",
        "outputId": "a60444cf-d8a4-4571-8a41-ae1ebbe1ac06"
      },
      "execution_count": null,
      "outputs": [
        {
          "output_type": "stream",
          "name": "stdout",
          "text": [
            "El PGA es de  0.5142601 g\n"
          ]
        }
      ]
    },
    {
      "cell_type": "markdown",
      "source": [
        "## Avance del TP Integrador\n",
        "\n",
        "Al momento de la entrega del Trabajo Práctico 0, el grupo ya debiera haber discutido con los docentes distintas posibilidades de datasets para utilizar en el Trabajo Práctico Integrador, y haber seleccionado un candidato.\n",
        "\n",
        "En esta primera etapa se busca que el grupo mire la información proporcionada por quien haya generado el dataset:\n",
        "* Qué tipo de variables contiene\n",
        "* Si hay información faltante\n",
        "* Cantidad de datos\n",
        "* Para qué se usó o para qué podría servir (¿Qué pregunta podríamos contestar con estos datos?). Es decir, **la pregunta** sobre la que va a trabajar a lo largo del curso.\n",
        "\n",
        "**Actividad**: Buscar y discutir con los docentes un pequeño número de datasets de interés para utilizar en el Trabajo Final, y entregar adjunto con el Trabajo Práctico el archivo con los datos. Comente brevemente de qué se trata, y cuál sería el objetivo."
      ],
      "metadata": {
        "id": "Vdfs2xyXmX9l"
      }
    },
    {
      "cell_type": "markdown",
      "source": [
        "**Su respuesta**:"
      ],
      "metadata": {
        "id": "CrSwdKgGVG3l"
      }
    },
    {
      "cell_type": "markdown",
      "source": [
        "# Entrega del Trabajo Práctico\n",
        "\n",
        "Para la entrega del TP0, siga los siguientes pasos:\n",
        "1. Vuelva a correr el Colab desde 0 para asegurar que no haya ningún bug y todo funcione tal como se desea (`Disconnect and delete runtime`,`run all`)\n",
        "2. Revise que todos los resultados estén presentes y como ustedes esperaban.\n",
        "3. Asegúrese haber contestado todas la preguntas que requieren prosa.\n",
        "4. Descargue el arcihvo .ipynb en su computadora\n",
        "\n",
        "Revise que está todo como les gusta y ¡ya está listo! Ustedes son responables de que la entrega refleje sus intenciones, más allá de que nosotros podamos correr su archivo para revisar.\n",
        "\n",
        "Los datos presentados abajo intentan ser para ustedes (y para nosotros) una verificación de que efectivamente han hecho la revisión final."
      ],
      "metadata": {
        "id": "dT58zs1LoUU6"
      }
    },
    {
      "cell_type": "code",
      "source": [
        "print('Inicio de corrida: ',start_datetime)\n",
        "\n",
        "end_datetime = datetime.datetime.now()\n",
        "print('Fin de corrida: ',end_datetime)\n",
        "\n",
        "elapsed_time = end_datetime-start_datetime\n",
        "print('Tiempo de ejecución: ',round(elapsed_time.total_seconds()/60,1),'minutos')"
      ],
      "metadata": {
        "colab": {
          "base_uri": "https://localhost:8080/"
        },
        "id": "iaQ5vgkazPMo",
        "outputId": "4967f994-7e40-407c-8f56-b8bc34b136de"
      },
      "execution_count": null,
      "outputs": [
        {
          "output_type": "stream",
          "name": "stdout",
          "text": [
            "Inicio de corrida:  2024-08-26 15:42:02.340563\n",
            "Fin de corrida:  2024-08-26 15:42:57.163091\n",
            "Tiempo de ejecución:  0.9 minutos\n"
          ]
        }
      ]
    }
  ]
}