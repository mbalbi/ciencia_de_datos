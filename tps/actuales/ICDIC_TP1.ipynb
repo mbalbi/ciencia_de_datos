{
  "nbformat": 4,
  "nbformat_minor": 0,
  "metadata": {
    "colab": {
      "provenance": [],
      "toc_visible": true,
      "include_colab_link": true
    },
    "kernelspec": {
      "name": "python3",
      "display_name": "Python 3"
    },
    "language_info": {
      "name": "python"
    }
  },
  "cells": [
    {
      "cell_type": "markdown",
      "metadata": {
        "id": "view-in-github",
        "colab_type": "text"
      },
      "source": [
        "<a href=\"https://colab.research.google.com/github/mbalbi/ciencia_de_datos/blob/main/tps/actuales/ICDIC_TP1.ipynb\" target=\"_parent\"><img src=\"https://colab.research.google.com/assets/colab-badge.svg\" alt=\"Open In Colab\"/></a>"
      ]
    },
    {
      "cell_type": "markdown",
      "source": [
        "# Trabajo Práctico 1: Análisis Exploratorio de Datos y Series Espacio-Temporales"
      ],
      "metadata": {
        "id": "3fKBrZ6tBdza"
      }
    },
    {
      "cell_type": "markdown",
      "source": [
        "**Objetivos:** Con este trabajo práctico se busca que los alumnos comiencen a familiarizarse con la limpieza, el análisis y la visualización de datos en Python. Además, se abordarán series temporales y espaciales con QGIS.\n",
        "\n",
        "**Librerías:** En este trabajo se utilizará:\n",
        "\n",
        "*   Numpy: matemática básica y definición de matrices y vectores\n",
        "*   Pandas: manipulación y el análisis de datos\n",
        "*   Seaborn/Matplotlib: construcción de gráficos\n",
        "\n",
        "También necesitaremos de las librerías io y zipfile para acceder a los datos que serán analizados."
      ],
      "metadata": {
        "id": "jqM0J999_wTm"
      }
    },
    {
      "cell_type": "code",
      "execution_count": null,
      "metadata": {
        "id": "VUs528BgWBKx"
      },
      "outputs": [],
      "source": [
        "import numpy as np\n",
        "import pandas as pd\n",
        "\n",
        "import matplotlib.pyplot as plt\n",
        "import seaborn as sns\n",
        "\n",
        "import io\n",
        "import zipfile"
      ]
    },
    {
      "cell_type": "code",
      "source": [
        "!gdown --id 1gA40FsZM5-fqFPbP5azTzI7ACkK_CvW5\n",
        "!unzip /content/Molinetes_2023.zip"
      ],
      "metadata": {
        "colab": {
          "base_uri": "https://localhost:8080/"
        },
        "id": "7x_iTltYG2hb",
        "outputId": "0d9f29c6-3a78-4880-d798-1b83e7396759"
      },
      "execution_count": null,
      "outputs": [
        {
          "output_type": "stream",
          "name": "stdout",
          "text": [
            "/usr/local/lib/python3.10/dist-packages/gdown/cli.py:138: FutureWarning: Option `--id` was deprecated in version 4.3.1 and will be removed in 5.0. You don't need to pass it anymore to use a file ID.\n",
            "  warnings.warn(\n",
            "Downloading...\n",
            "From (original): https://drive.google.com/uc?id=1gA40FsZM5-fqFPbP5azTzI7ACkK_CvW5\n",
            "From (redirected): https://drive.google.com/uc?id=1gA40FsZM5-fqFPbP5azTzI7ACkK_CvW5&confirm=t&uuid=4495cd0d-dec1-4a46-9000-183fe36eb4b6\n",
            "To: /content/Molinetes_2023.zip\n",
            "100% 95.8M/95.8M [00:01<00:00, 67.9MB/s]\n",
            "Archive:  /content/Molinetes_2023.zip\n",
            "  inflating: Molinetes_2023.csv      \n"
          ]
        }
      ]
    },
    {
      "cell_type": "markdown",
      "source": [
        "Grupo:\n",
        "\n",
        "Integrantes:\n",
        "\n",
        "*   Apellido, Nombres XXXXXX\n",
        "*   Apellido, Nombres XXXXXX\n",
        "*   Apellido, Nombres XXXXXX\n",
        "*   Apellido, Nombres XXXXXX\n",
        "*   Apellido, Nombres XXXXXX"
      ],
      "metadata": {
        "id": "jS1P0hTd_7Si"
      }
    },
    {
      "cell_type": "markdown",
      "source": [
        "## Ejercicio 1: Análisis de datos: Galpones según su cerramiento"
      ],
      "metadata": {
        "id": "z4dkKef5BkM_"
      }
    },
    {
      "cell_type": "markdown",
      "source": [
        "El primer ejercicio consiste en la visualización y exploración de datos, adentrándonos en lo que es la extracción de información de los mismos. Para ello utilizaremos un dataset de galpones metálicos diseñados siguiendo los reglamentos de EE.UU. y acorde a la práctica profesional habitual allí.\n",
        "\n",
        "Estos datos fueron creados por Matthew D. Smith y Chia-Ming Uang. Pueden acceder al trabajo original a través del siguiente [link](https://escholarship.org/uc/item/4jt5p805), a partir del cual se generó el archivo `.csv` a utilizar por ustedes.\n",
        "\n",
        "Lo pueden encontrar en el Campus de la materia."
      ],
      "metadata": {
        "id": "zDUnQC6DILrp"
      }
    },
    {
      "cell_type": "code",
      "source": [
        "#Abrimos un archivo local, es decir, que ha sido descargado en su computadora\n",
        "from google.colab import files\n",
        "uploaded = files.upload()"
      ],
      "metadata": {
        "colab": {
          "base_uri": "https://localhost:8080/",
          "height": 73
        },
        "id": "zexMlGB7g2DY",
        "outputId": "f955f18e-42e6-49b9-fec3-1563018f0fc4"
      },
      "execution_count": null,
      "outputs": [
        {
          "output_type": "display_data",
          "data": {
            "text/plain": [
              "<IPython.core.display.HTML object>"
            ],
            "text/html": [
              "\n",
              "     <input type=\"file\" id=\"files-5f3ca16c-f4b1-4ffb-b67d-71eb09001160\" name=\"files[]\" multiple disabled\n",
              "        style=\"border:none\" />\n",
              "     <output id=\"result-5f3ca16c-f4b1-4ffb-b67d-71eb09001160\">\n",
              "      Upload widget is only available when the cell has been executed in the\n",
              "      current browser session. Please rerun this cell to enable.\n",
              "      </output>\n",
              "      <script>// Copyright 2017 Google LLC\n",
              "//\n",
              "// Licensed under the Apache License, Version 2.0 (the \"License\");\n",
              "// you may not use this file except in compliance with the License.\n",
              "// You may obtain a copy of the License at\n",
              "//\n",
              "//      http://www.apache.org/licenses/LICENSE-2.0\n",
              "//\n",
              "// Unless required by applicable law or agreed to in writing, software\n",
              "// distributed under the License is distributed on an \"AS IS\" BASIS,\n",
              "// WITHOUT WARRANTIES OR CONDITIONS OF ANY KIND, either express or implied.\n",
              "// See the License for the specific language governing permissions and\n",
              "// limitations under the License.\n",
              "\n",
              "/**\n",
              " * @fileoverview Helpers for google.colab Python module.\n",
              " */\n",
              "(function(scope) {\n",
              "function span(text, styleAttributes = {}) {\n",
              "  const element = document.createElement('span');\n",
              "  element.textContent = text;\n",
              "  for (const key of Object.keys(styleAttributes)) {\n",
              "    element.style[key] = styleAttributes[key];\n",
              "  }\n",
              "  return element;\n",
              "}\n",
              "\n",
              "// Max number of bytes which will be uploaded at a time.\n",
              "const MAX_PAYLOAD_SIZE = 100 * 1024;\n",
              "\n",
              "function _uploadFiles(inputId, outputId) {\n",
              "  const steps = uploadFilesStep(inputId, outputId);\n",
              "  const outputElement = document.getElementById(outputId);\n",
              "  // Cache steps on the outputElement to make it available for the next call\n",
              "  // to uploadFilesContinue from Python.\n",
              "  outputElement.steps = steps;\n",
              "\n",
              "  return _uploadFilesContinue(outputId);\n",
              "}\n",
              "\n",
              "// This is roughly an async generator (not supported in the browser yet),\n",
              "// where there are multiple asynchronous steps and the Python side is going\n",
              "// to poll for completion of each step.\n",
              "// This uses a Promise to block the python side on completion of each step,\n",
              "// then passes the result of the previous step as the input to the next step.\n",
              "function _uploadFilesContinue(outputId) {\n",
              "  const outputElement = document.getElementById(outputId);\n",
              "  const steps = outputElement.steps;\n",
              "\n",
              "  const next = steps.next(outputElement.lastPromiseValue);\n",
              "  return Promise.resolve(next.value.promise).then((value) => {\n",
              "    // Cache the last promise value to make it available to the next\n",
              "    // step of the generator.\n",
              "    outputElement.lastPromiseValue = value;\n",
              "    return next.value.response;\n",
              "  });\n",
              "}\n",
              "\n",
              "/**\n",
              " * Generator function which is called between each async step of the upload\n",
              " * process.\n",
              " * @param {string} inputId Element ID of the input file picker element.\n",
              " * @param {string} outputId Element ID of the output display.\n",
              " * @return {!Iterable<!Object>} Iterable of next steps.\n",
              " */\n",
              "function* uploadFilesStep(inputId, outputId) {\n",
              "  const inputElement = document.getElementById(inputId);\n",
              "  inputElement.disabled = false;\n",
              "\n",
              "  const outputElement = document.getElementById(outputId);\n",
              "  outputElement.innerHTML = '';\n",
              "\n",
              "  const pickedPromise = new Promise((resolve) => {\n",
              "    inputElement.addEventListener('change', (e) => {\n",
              "      resolve(e.target.files);\n",
              "    });\n",
              "  });\n",
              "\n",
              "  const cancel = document.createElement('button');\n",
              "  inputElement.parentElement.appendChild(cancel);\n",
              "  cancel.textContent = 'Cancel upload';\n",
              "  const cancelPromise = new Promise((resolve) => {\n",
              "    cancel.onclick = () => {\n",
              "      resolve(null);\n",
              "    };\n",
              "  });\n",
              "\n",
              "  // Wait for the user to pick the files.\n",
              "  const files = yield {\n",
              "    promise: Promise.race([pickedPromise, cancelPromise]),\n",
              "    response: {\n",
              "      action: 'starting',\n",
              "    }\n",
              "  };\n",
              "\n",
              "  cancel.remove();\n",
              "\n",
              "  // Disable the input element since further picks are not allowed.\n",
              "  inputElement.disabled = true;\n",
              "\n",
              "  if (!files) {\n",
              "    return {\n",
              "      response: {\n",
              "        action: 'complete',\n",
              "      }\n",
              "    };\n",
              "  }\n",
              "\n",
              "  for (const file of files) {\n",
              "    const li = document.createElement('li');\n",
              "    li.append(span(file.name, {fontWeight: 'bold'}));\n",
              "    li.append(span(\n",
              "        `(${file.type || 'n/a'}) - ${file.size} bytes, ` +\n",
              "        `last modified: ${\n",
              "            file.lastModifiedDate ? file.lastModifiedDate.toLocaleDateString() :\n",
              "                                    'n/a'} - `));\n",
              "    const percent = span('0% done');\n",
              "    li.appendChild(percent);\n",
              "\n",
              "    outputElement.appendChild(li);\n",
              "\n",
              "    const fileDataPromise = new Promise((resolve) => {\n",
              "      const reader = new FileReader();\n",
              "      reader.onload = (e) => {\n",
              "        resolve(e.target.result);\n",
              "      };\n",
              "      reader.readAsArrayBuffer(file);\n",
              "    });\n",
              "    // Wait for the data to be ready.\n",
              "    let fileData = yield {\n",
              "      promise: fileDataPromise,\n",
              "      response: {\n",
              "        action: 'continue',\n",
              "      }\n",
              "    };\n",
              "\n",
              "    // Use a chunked sending to avoid message size limits. See b/62115660.\n",
              "    let position = 0;\n",
              "    do {\n",
              "      const length = Math.min(fileData.byteLength - position, MAX_PAYLOAD_SIZE);\n",
              "      const chunk = new Uint8Array(fileData, position, length);\n",
              "      position += length;\n",
              "\n",
              "      const base64 = btoa(String.fromCharCode.apply(null, chunk));\n",
              "      yield {\n",
              "        response: {\n",
              "          action: 'append',\n",
              "          file: file.name,\n",
              "          data: base64,\n",
              "        },\n",
              "      };\n",
              "\n",
              "      let percentDone = fileData.byteLength === 0 ?\n",
              "          100 :\n",
              "          Math.round((position / fileData.byteLength) * 100);\n",
              "      percent.textContent = `${percentDone}% done`;\n",
              "\n",
              "    } while (position < fileData.byteLength);\n",
              "  }\n",
              "\n",
              "  // All done.\n",
              "  yield {\n",
              "    response: {\n",
              "      action: 'complete',\n",
              "    }\n",
              "  };\n",
              "}\n",
              "\n",
              "scope.google = scope.google || {};\n",
              "scope.google.colab = scope.google.colab || {};\n",
              "scope.google.colab._files = {\n",
              "  _uploadFiles,\n",
              "  _uploadFilesContinue,\n",
              "};\n",
              "})(self);\n",
              "</script> "
            ]
          },
          "metadata": {}
        },
        {
          "output_type": "stream",
          "name": "stdout",
          "text": [
            "Saving Galpones_v2.csv to Galpones_v2.csv\n"
          ]
        }
      ]
    },
    {
      "cell_type": "code",
      "source": [
        "#Se crea un DataFrame\n",
        "df = pd.read_csv(io.BytesIO(uploaded['Galpones_v2.csv']))\n",
        "df.head()"
      ],
      "metadata": {
        "colab": {
          "base_uri": "https://localhost:8080/",
          "height": 313
        },
        "id": "3XHAbUoGg5uw",
        "outputId": "b0d4754a-eebd-428a-c1f6-145078f88cfe"
      },
      "execution_count": null,
      "outputs": [
        {
          "output_type": "execute_result",
          "data": {
            "text/plain": [
              "   Frame  W_kip_  Height_in_  L_ft_  alpha      Cladding   Structure  \\\n",
              "0      1   10.21       190.0     40  2.526  Metal Panels  Clear Span   \n",
              "1      2   25.16       192.5    100  6.234  Metal Panels  Clear Span   \n",
              "2      3   46.71       220.0    160  8.727  Metal Panels  Clear Span   \n",
              "3      4   13.14       400.0     40  1.200  Metal Panels  Clear Span   \n",
              "4      5   52.23       385.0    100  3.117  Metal Panels  Clear Span   \n",
              "\n",
              "        Roof  Snow_psf Seismic  Wind   Weights  k_lat_kip_ft_  \\\n",
              "0  Monoslope         0     Low  High  0.011666          3.520   \n",
              "1     Gabled         0     Low  High  0.032986         12.459   \n",
              "2  Monoslope         0    High  High  0.001667         27.663   \n",
              "3     Gabled         0     Low  High  0.002174          3.563   \n",
              "4  Monoslope        42    High   Low  0.001058          7.218   \n",
              "\n",
              "   MassParticipation  T_model_s_  T_r1_s_  T_r2_s_  T_S_U_s_  \n",
              "0              0.933       0.546    0.546    0.545  0.707386  \n",
              "1              0.619       0.571    0.560    0.454  0.537498  \n",
              "2              0.423       0.606    0.580    0.415  0.423907  \n",
              "3              0.930       0.602    0.602    0.614  0.953937  \n",
              "4              0.925       0.881    0.880    0.860  1.208260  "
            ],
            "text/html": [
              "\n",
              "  <div id=\"df-167df6b0-7dc7-489a-a74d-260906b8ce2a\" class=\"colab-df-container\">\n",
              "    <div>\n",
              "<style scoped>\n",
              "    .dataframe tbody tr th:only-of-type {\n",
              "        vertical-align: middle;\n",
              "    }\n",
              "\n",
              "    .dataframe tbody tr th {\n",
              "        vertical-align: top;\n",
              "    }\n",
              "\n",
              "    .dataframe thead th {\n",
              "        text-align: right;\n",
              "    }\n",
              "</style>\n",
              "<table border=\"1\" class=\"dataframe\">\n",
              "  <thead>\n",
              "    <tr style=\"text-align: right;\">\n",
              "      <th></th>\n",
              "      <th>Frame</th>\n",
              "      <th>W_kip_</th>\n",
              "      <th>Height_in_</th>\n",
              "      <th>L_ft_</th>\n",
              "      <th>alpha</th>\n",
              "      <th>Cladding</th>\n",
              "      <th>Structure</th>\n",
              "      <th>Roof</th>\n",
              "      <th>Snow_psf</th>\n",
              "      <th>Seismic</th>\n",
              "      <th>Wind</th>\n",
              "      <th>Weights</th>\n",
              "      <th>k_lat_kip_ft_</th>\n",
              "      <th>MassParticipation</th>\n",
              "      <th>T_model_s_</th>\n",
              "      <th>T_r1_s_</th>\n",
              "      <th>T_r2_s_</th>\n",
              "      <th>T_S_U_s_</th>\n",
              "    </tr>\n",
              "  </thead>\n",
              "  <tbody>\n",
              "    <tr>\n",
              "      <th>0</th>\n",
              "      <td>1</td>\n",
              "      <td>10.21</td>\n",
              "      <td>190.0</td>\n",
              "      <td>40</td>\n",
              "      <td>2.526</td>\n",
              "      <td>Metal Panels</td>\n",
              "      <td>Clear Span</td>\n",
              "      <td>Monoslope</td>\n",
              "      <td>0</td>\n",
              "      <td>Low</td>\n",
              "      <td>High</td>\n",
              "      <td>0.011666</td>\n",
              "      <td>3.520</td>\n",
              "      <td>0.933</td>\n",
              "      <td>0.546</td>\n",
              "      <td>0.546</td>\n",
              "      <td>0.545</td>\n",
              "      <td>0.707386</td>\n",
              "    </tr>\n",
              "    <tr>\n",
              "      <th>1</th>\n",
              "      <td>2</td>\n",
              "      <td>25.16</td>\n",
              "      <td>192.5</td>\n",
              "      <td>100</td>\n",
              "      <td>6.234</td>\n",
              "      <td>Metal Panels</td>\n",
              "      <td>Clear Span</td>\n",
              "      <td>Gabled</td>\n",
              "      <td>0</td>\n",
              "      <td>Low</td>\n",
              "      <td>High</td>\n",
              "      <td>0.032986</td>\n",
              "      <td>12.459</td>\n",
              "      <td>0.619</td>\n",
              "      <td>0.571</td>\n",
              "      <td>0.560</td>\n",
              "      <td>0.454</td>\n",
              "      <td>0.537498</td>\n",
              "    </tr>\n",
              "    <tr>\n",
              "      <th>2</th>\n",
              "      <td>3</td>\n",
              "      <td>46.71</td>\n",
              "      <td>220.0</td>\n",
              "      <td>160</td>\n",
              "      <td>8.727</td>\n",
              "      <td>Metal Panels</td>\n",
              "      <td>Clear Span</td>\n",
              "      <td>Monoslope</td>\n",
              "      <td>0</td>\n",
              "      <td>High</td>\n",
              "      <td>High</td>\n",
              "      <td>0.001667</td>\n",
              "      <td>27.663</td>\n",
              "      <td>0.423</td>\n",
              "      <td>0.606</td>\n",
              "      <td>0.580</td>\n",
              "      <td>0.415</td>\n",
              "      <td>0.423907</td>\n",
              "    </tr>\n",
              "    <tr>\n",
              "      <th>3</th>\n",
              "      <td>4</td>\n",
              "      <td>13.14</td>\n",
              "      <td>400.0</td>\n",
              "      <td>40</td>\n",
              "      <td>1.200</td>\n",
              "      <td>Metal Panels</td>\n",
              "      <td>Clear Span</td>\n",
              "      <td>Gabled</td>\n",
              "      <td>0</td>\n",
              "      <td>Low</td>\n",
              "      <td>High</td>\n",
              "      <td>0.002174</td>\n",
              "      <td>3.563</td>\n",
              "      <td>0.930</td>\n",
              "      <td>0.602</td>\n",
              "      <td>0.602</td>\n",
              "      <td>0.614</td>\n",
              "      <td>0.953937</td>\n",
              "    </tr>\n",
              "    <tr>\n",
              "      <th>4</th>\n",
              "      <td>5</td>\n",
              "      <td>52.23</td>\n",
              "      <td>385.0</td>\n",
              "      <td>100</td>\n",
              "      <td>3.117</td>\n",
              "      <td>Metal Panels</td>\n",
              "      <td>Clear Span</td>\n",
              "      <td>Monoslope</td>\n",
              "      <td>42</td>\n",
              "      <td>High</td>\n",
              "      <td>Low</td>\n",
              "      <td>0.001058</td>\n",
              "      <td>7.218</td>\n",
              "      <td>0.925</td>\n",
              "      <td>0.881</td>\n",
              "      <td>0.880</td>\n",
              "      <td>0.860</td>\n",
              "      <td>1.208260</td>\n",
              "    </tr>\n",
              "  </tbody>\n",
              "</table>\n",
              "</div>\n",
              "    <div class=\"colab-df-buttons\">\n",
              "\n",
              "  <div class=\"colab-df-container\">\n",
              "    <button class=\"colab-df-convert\" onclick=\"convertToInteractive('df-167df6b0-7dc7-489a-a74d-260906b8ce2a')\"\n",
              "            title=\"Convert this dataframe to an interactive table.\"\n",
              "            style=\"display:none;\">\n",
              "\n",
              "  <svg xmlns=\"http://www.w3.org/2000/svg\" height=\"24px\" viewBox=\"0 -960 960 960\">\n",
              "    <path d=\"M120-120v-720h720v720H120Zm60-500h600v-160H180v160Zm220 220h160v-160H400v160Zm0 220h160v-160H400v160ZM180-400h160v-160H180v160Zm440 0h160v-160H620v160ZM180-180h160v-160H180v160Zm440 0h160v-160H620v160Z\"/>\n",
              "  </svg>\n",
              "    </button>\n",
              "\n",
              "  <style>\n",
              "    .colab-df-container {\n",
              "      display:flex;\n",
              "      gap: 12px;\n",
              "    }\n",
              "\n",
              "    .colab-df-convert {\n",
              "      background-color: #E8F0FE;\n",
              "      border: none;\n",
              "      border-radius: 50%;\n",
              "      cursor: pointer;\n",
              "      display: none;\n",
              "      fill: #1967D2;\n",
              "      height: 32px;\n",
              "      padding: 0 0 0 0;\n",
              "      width: 32px;\n",
              "    }\n",
              "\n",
              "    .colab-df-convert:hover {\n",
              "      background-color: #E2EBFA;\n",
              "      box-shadow: 0px 1px 2px rgba(60, 64, 67, 0.3), 0px 1px 3px 1px rgba(60, 64, 67, 0.15);\n",
              "      fill: #174EA6;\n",
              "    }\n",
              "\n",
              "    .colab-df-buttons div {\n",
              "      margin-bottom: 4px;\n",
              "    }\n",
              "\n",
              "    [theme=dark] .colab-df-convert {\n",
              "      background-color: #3B4455;\n",
              "      fill: #D2E3FC;\n",
              "    }\n",
              "\n",
              "    [theme=dark] .colab-df-convert:hover {\n",
              "      background-color: #434B5C;\n",
              "      box-shadow: 0px 1px 3px 1px rgba(0, 0, 0, 0.15);\n",
              "      filter: drop-shadow(0px 1px 2px rgba(0, 0, 0, 0.3));\n",
              "      fill: #FFFFFF;\n",
              "    }\n",
              "  </style>\n",
              "\n",
              "    <script>\n",
              "      const buttonEl =\n",
              "        document.querySelector('#df-167df6b0-7dc7-489a-a74d-260906b8ce2a button.colab-df-convert');\n",
              "      buttonEl.style.display =\n",
              "        google.colab.kernel.accessAllowed ? 'block' : 'none';\n",
              "\n",
              "      async function convertToInteractive(key) {\n",
              "        const element = document.querySelector('#df-167df6b0-7dc7-489a-a74d-260906b8ce2a');\n",
              "        const dataTable =\n",
              "          await google.colab.kernel.invokeFunction('convertToInteractive',\n",
              "                                                    [key], {});\n",
              "        if (!dataTable) return;\n",
              "\n",
              "        const docLinkHtml = 'Like what you see? Visit the ' +\n",
              "          '<a target=\"_blank\" href=https://colab.research.google.com/notebooks/data_table.ipynb>data table notebook</a>'\n",
              "          + ' to learn more about interactive tables.';\n",
              "        element.innerHTML = '';\n",
              "        dataTable['output_type'] = 'display_data';\n",
              "        await google.colab.output.renderOutput(dataTable, element);\n",
              "        const docLink = document.createElement('div');\n",
              "        docLink.innerHTML = docLinkHtml;\n",
              "        element.appendChild(docLink);\n",
              "      }\n",
              "    </script>\n",
              "  </div>\n",
              "\n",
              "\n",
              "<div id=\"df-568f399d-3cef-4f3c-9d19-aef5b00c2a90\">\n",
              "  <button class=\"colab-df-quickchart\" onclick=\"quickchart('df-568f399d-3cef-4f3c-9d19-aef5b00c2a90')\"\n",
              "            title=\"Suggest charts\"\n",
              "            style=\"display:none;\">\n",
              "\n",
              "<svg xmlns=\"http://www.w3.org/2000/svg\" height=\"24px\"viewBox=\"0 0 24 24\"\n",
              "     width=\"24px\">\n",
              "    <g>\n",
              "        <path d=\"M19 3H5c-1.1 0-2 .9-2 2v14c0 1.1.9 2 2 2h14c1.1 0 2-.9 2-2V5c0-1.1-.9-2-2-2zM9 17H7v-7h2v7zm4 0h-2V7h2v10zm4 0h-2v-4h2v4z\"/>\n",
              "    </g>\n",
              "</svg>\n",
              "  </button>\n",
              "\n",
              "<style>\n",
              "  .colab-df-quickchart {\n",
              "      --bg-color: #E8F0FE;\n",
              "      --fill-color: #1967D2;\n",
              "      --hover-bg-color: #E2EBFA;\n",
              "      --hover-fill-color: #174EA6;\n",
              "      --disabled-fill-color: #AAA;\n",
              "      --disabled-bg-color: #DDD;\n",
              "  }\n",
              "\n",
              "  [theme=dark] .colab-df-quickchart {\n",
              "      --bg-color: #3B4455;\n",
              "      --fill-color: #D2E3FC;\n",
              "      --hover-bg-color: #434B5C;\n",
              "      --hover-fill-color: #FFFFFF;\n",
              "      --disabled-bg-color: #3B4455;\n",
              "      --disabled-fill-color: #666;\n",
              "  }\n",
              "\n",
              "  .colab-df-quickchart {\n",
              "    background-color: var(--bg-color);\n",
              "    border: none;\n",
              "    border-radius: 50%;\n",
              "    cursor: pointer;\n",
              "    display: none;\n",
              "    fill: var(--fill-color);\n",
              "    height: 32px;\n",
              "    padding: 0;\n",
              "    width: 32px;\n",
              "  }\n",
              "\n",
              "  .colab-df-quickchart:hover {\n",
              "    background-color: var(--hover-bg-color);\n",
              "    box-shadow: 0 1px 2px rgba(60, 64, 67, 0.3), 0 1px 3px 1px rgba(60, 64, 67, 0.15);\n",
              "    fill: var(--button-hover-fill-color);\n",
              "  }\n",
              "\n",
              "  .colab-df-quickchart-complete:disabled,\n",
              "  .colab-df-quickchart-complete:disabled:hover {\n",
              "    background-color: var(--disabled-bg-color);\n",
              "    fill: var(--disabled-fill-color);\n",
              "    box-shadow: none;\n",
              "  }\n",
              "\n",
              "  .colab-df-spinner {\n",
              "    border: 2px solid var(--fill-color);\n",
              "    border-color: transparent;\n",
              "    border-bottom-color: var(--fill-color);\n",
              "    animation:\n",
              "      spin 1s steps(1) infinite;\n",
              "  }\n",
              "\n",
              "  @keyframes spin {\n",
              "    0% {\n",
              "      border-color: transparent;\n",
              "      border-bottom-color: var(--fill-color);\n",
              "      border-left-color: var(--fill-color);\n",
              "    }\n",
              "    20% {\n",
              "      border-color: transparent;\n",
              "      border-left-color: var(--fill-color);\n",
              "      border-top-color: var(--fill-color);\n",
              "    }\n",
              "    30% {\n",
              "      border-color: transparent;\n",
              "      border-left-color: var(--fill-color);\n",
              "      border-top-color: var(--fill-color);\n",
              "      border-right-color: var(--fill-color);\n",
              "    }\n",
              "    40% {\n",
              "      border-color: transparent;\n",
              "      border-right-color: var(--fill-color);\n",
              "      border-top-color: var(--fill-color);\n",
              "    }\n",
              "    60% {\n",
              "      border-color: transparent;\n",
              "      border-right-color: var(--fill-color);\n",
              "    }\n",
              "    80% {\n",
              "      border-color: transparent;\n",
              "      border-right-color: var(--fill-color);\n",
              "      border-bottom-color: var(--fill-color);\n",
              "    }\n",
              "    90% {\n",
              "      border-color: transparent;\n",
              "      border-bottom-color: var(--fill-color);\n",
              "    }\n",
              "  }\n",
              "</style>\n",
              "\n",
              "  <script>\n",
              "    async function quickchart(key) {\n",
              "      const quickchartButtonEl =\n",
              "        document.querySelector('#' + key + ' button');\n",
              "      quickchartButtonEl.disabled = true;  // To prevent multiple clicks.\n",
              "      quickchartButtonEl.classList.add('colab-df-spinner');\n",
              "      try {\n",
              "        const charts = await google.colab.kernel.invokeFunction(\n",
              "            'suggestCharts', [key], {});\n",
              "      } catch (error) {\n",
              "        console.error('Error during call to suggestCharts:', error);\n",
              "      }\n",
              "      quickchartButtonEl.classList.remove('colab-df-spinner');\n",
              "      quickchartButtonEl.classList.add('colab-df-quickchart-complete');\n",
              "    }\n",
              "    (() => {\n",
              "      let quickchartButtonEl =\n",
              "        document.querySelector('#df-568f399d-3cef-4f3c-9d19-aef5b00c2a90 button');\n",
              "      quickchartButtonEl.style.display =\n",
              "        google.colab.kernel.accessAllowed ? 'block' : 'none';\n",
              "    })();\n",
              "  </script>\n",
              "</div>\n",
              "    </div>\n",
              "  </div>\n"
            ],
            "application/vnd.google.colaboratory.intrinsic+json": {
              "type": "dataframe",
              "variable_name": "df",
              "summary": "{\n  \"name\": \"df\",\n  \"rows\": 192,\n  \"fields\": [\n    {\n      \"column\": \"Frame\",\n      \"properties\": {\n        \"dtype\": \"number\",\n        \"std\": 55,\n        \"min\": 1,\n        \"max\": 192,\n        \"num_unique_values\": 192,\n        \"samples\": [\n          46,\n          137,\n          77\n        ],\n        \"semantic_type\": \"\",\n        \"description\": \"\"\n      }\n    },\n    {\n      \"column\": \"W_kip_\",\n      \"properties\": {\n        \"dtype\": \"number\",\n        \"std\": 52.32102310129319,\n        \"min\": 10.21,\n        \"max\": 240.85,\n        \"num_unique_values\": 184,\n        \"samples\": [\n          141.08,\n          106.89,\n          113.45\n        ],\n        \"semantic_type\": \"\",\n        \"description\": \"\"\n      }\n    },\n    {\n      \"column\": \"Height_in_\",\n      \"properties\": {\n        \"dtype\": \"number\",\n        \"std\": 186.91247209333073,\n        \"min\": 185.0,\n        \"max\": 920.0,\n        \"num_unique_values\": 54,\n        \"samples\": [\n          205.0,\n          600.0,\n          420.0\n        ],\n        \"semantic_type\": \"\",\n        \"description\": \"\"\n      }\n    },\n    {\n      \"column\": \"L_ft_\",\n      \"properties\": {\n        \"dtype\": \"number\",\n        \"std\": 83,\n        \"min\": 40,\n        \"max\": 300,\n        \"num_unique_values\": 7,\n        \"samples\": [\n          40,\n          100,\n          240\n        ],\n        \"semantic_type\": \"\",\n        \"description\": \"\"\n      }\n    },\n    {\n      \"column\": \"alpha\",\n      \"properties\": {\n        \"dtype\": \"number\",\n        \"std\": 1.8397657100222784,\n        \"min\": 0.649,\n        \"max\": 9.6,\n        \"num_unique_values\": 41,\n        \"samples\": [\n          3.221,\n          1.315,\n          3.31\n        ],\n        \"semantic_type\": \"\",\n        \"description\": \"\"\n      }\n    },\n    {\n      \"column\": \"Cladding\",\n      \"properties\": {\n        \"dtype\": \"category\",\n        \"num_unique_values\": 2,\n        \"samples\": [\n          \"Concrete\",\n          \"Metal Panels\"\n        ],\n        \"semantic_type\": \"\",\n        \"description\": \"\"\n      }\n    },\n    {\n      \"column\": \"Structure\",\n      \"properties\": {\n        \"dtype\": \"category\",\n        \"num_unique_values\": 2,\n        \"samples\": [\n          \"Modular\",\n          \"Clear Span\"\n        ],\n        \"semantic_type\": \"\",\n        \"description\": \"\"\n      }\n    },\n    {\n      \"column\": \"Roof\",\n      \"properties\": {\n        \"dtype\": \"category\",\n        \"num_unique_values\": 2,\n        \"samples\": [\n          \"Gabled\",\n          \"Monoslope\"\n        ],\n        \"semantic_type\": \"\",\n        \"description\": \"\"\n      }\n    },\n    {\n      \"column\": \"Snow_psf\",\n      \"properties\": {\n        \"dtype\": \"number\",\n        \"std\": 20,\n        \"min\": 0,\n        \"max\": 42,\n        \"num_unique_values\": 2,\n        \"samples\": [\n          42,\n          0\n        ],\n        \"semantic_type\": \"\",\n        \"description\": \"\"\n      }\n    },\n    {\n      \"column\": \"Seismic\",\n      \"properties\": {\n        \"dtype\": \"category\",\n        \"num_unique_values\": 2,\n        \"samples\": [\n          \"High\",\n          \"Low\"\n        ],\n        \"semantic_type\": \"\",\n        \"description\": \"\"\n      }\n    },\n    {\n      \"column\": \"Wind\",\n      \"properties\": {\n        \"dtype\": \"category\",\n        \"num_unique_values\": 2,\n        \"samples\": [\n          \"Low\",\n          \"High\"\n        ],\n        \"semantic_type\": \"\",\n        \"description\": \"\"\n      }\n    },\n    {\n      \"column\": \"Weights\",\n      \"properties\": {\n        \"dtype\": \"number\",\n        \"std\": 0.025127994615422634,\n        \"min\": 9.38e-07,\n        \"max\": 0.329748,\n        \"num_unique_values\": 137,\n        \"samples\": [\n          1.5e-05,\n          0.000717\n        ],\n        \"semantic_type\": \"\",\n        \"description\": \"\"\n      }\n    },\n    {\n      \"column\": \"k_lat_kip_ft_\",\n      \"properties\": {\n        \"dtype\": \"number\",\n        \"std\": 13.428055589133495,\n        \"min\": 0.98,\n        \"max\": 92.153,\n        \"num_unique_values\": 187,\n        \"samples\": [\n          1.566,\n          7.568\n        ],\n        \"semantic_type\": \"\",\n        \"description\": \"\"\n      }\n    },\n    {\n      \"column\": \"MassParticipation\",\n      \"properties\": {\n        \"dtype\": \"number\",\n        \"std\": 0.11621011848973352,\n        \"min\": 0.365,\n        \"max\": 0.993,\n        \"num_unique_values\": 113,\n        \"samples\": [\n          0.917,\n          0.925\n        ],\n        \"semantic_type\": \"\",\n        \"description\": \"\"\n      }\n    },\n    {\n      \"column\": \"T_model_s_\",\n      \"properties\": {\n        \"dtype\": \"number\",\n        \"std\": 0.6613622028440885,\n        \"min\": 0.442,\n        \"max\": 3.639,\n        \"num_unique_values\": 177,\n        \"samples\": [\n          1.427,\n          0.625\n        ],\n        \"semantic_type\": \"\",\n        \"description\": \"\"\n      }\n    },\n    {\n      \"column\": \"T_r1_s_\",\n      \"properties\": {\n        \"dtype\": \"number\",\n        \"std\": 0.6631802601725627,\n        \"min\": 0.431,\n        \"max\": 3.638,\n        \"num_unique_values\": 180,\n        \"samples\": [\n          2.282,\n          2.545\n        ],\n        \"semantic_type\": \"\",\n        \"description\": \"\"\n      }\n    },\n    {\n      \"column\": \"T_r2_s_\",\n      \"properties\": {\n        \"dtype\": \"number\",\n        \"std\": 0.6753459717070004,\n        \"min\": 0.311,\n        \"max\": 3.646,\n        \"num_unique_values\": 178,\n        \"samples\": [\n          2.271,\n          2.898\n        ],\n        \"semantic_type\": \"\",\n        \"description\": \"\"\n      }\n    },\n    {\n      \"column\": \"T_S_U_s_\",\n      \"properties\": {\n        \"dtype\": \"number\",\n        \"std\": 0.5642651735335042,\n        \"min\": 0.41221736,\n        \"max\": 2.702246396,\n        \"num_unique_values\": 186,\n        \"samples\": [\n          2.165415642,\n          0.853608932\n        ],\n        \"semantic_type\": \"\",\n        \"description\": \"\"\n      }\n    }\n  ]\n}"
            }
          },
          "metadata": {},
          "execution_count": 4
        }
      ]
    },
    {
      "cell_type": "markdown",
      "source": [
        "Para facilitar el estudio del dataset, les presentamos las descripciones de cada una de las columnas:\n",
        "\n",
        "* **Frame**: Número de pórtico en Dataset\n",
        "* **W_kip_**: Peso de la estructura en $kip$\n",
        "* **Height_in_**: Altura media del pórtico en $inches$\n",
        "* **L_ft_**: Longitud total del pórtico en $feet$\n",
        "* **alpha**: Relación de aspecto \"Luz libre/Altura\"\n",
        "* **Cladding**: Característica del cerramiento (Chapa u hormigón)\n",
        "* **Structure**: Tipología estructural (Clear Span/sin columnas intermedias o Modular/con columnas intermedias)\n",
        "* **Roof**: Tipo de techo (Monoslope/1 pendiente o Gabled/a dos aguas)\n",
        "* **Snow_psf**: Carga de nieve en $psf$ (pounds per square foot)\n",
        "* **Seismic**: Clasificación de la zonificación sísmica (Low-High)\n",
        "* **Wind**: Clasificación del viento de diseño (Low-High)\n",
        "* **Weights**: Factor de ponderación para el análisis\n",
        "* **k_lat_kip_ft_**: Rigidez lateral del pórtico en $kip/ft$\n",
        "* **MassParticipation**: Participación en masa del primer modo de vibración\n",
        "* **T_model_s_**: Período natural de la estructura en segundos\n",
        "* **T_r1_s_**: Cálculo simplificado del período (método detallado)\n",
        "* **T_r2_s_**: Cálculo simplificado del período (método sencillo)\n",
        "* **T_S_U_s_**: Estimación del período según una fórmula empírica\n"
      ],
      "metadata": {
        "id": "GLbDQ2BaIO60"
      }
    },
    {
      "cell_type": "markdown",
      "source": [
        "Como background, este dataset fue creado con el objetivo de encontrar una ecuación empírica para estimar el período natural de un galpón sin necesidad de hacer un análisis dinámico. Como comentario, la ecuación a la que se llegó a partir de una regresión lineal ponderada es la siguiente, válida en principio para todos los galpones:\n",
        "\n",
        "$$T_{a} = \\left\\{ \\begin{array}{lrl} 0.058\\left( W h\\right)^{0.3} & \\alpha \\leq 3 &\\\\ 1.58W^{0.16}/ \\alpha & \\alpha > 3 &. \\end{array} \\right.$$\n",
        "\n",
        "Más allá de eso, los datos se prestan para mucho más: en este ejercicio vamos a tratar de sacarle más jugo al mismo."
      ],
      "metadata": {
        "id": "jkFEvvv_f2dm"
      }
    },
    {
      "cell_type": "markdown",
      "source": [
        "Como arranque, les damos una información propia del área de estudio que nos da una primera pista para nuestra investigación.\n",
        "\n",
        "**Los galpones con pared de chapa no se diseñan igual que los que tienen paredes de hormigón**. Sin entrar en detalles, se usan distintos criterios de diseño.\n",
        "\n",
        "Por lo tanto, sería interesante ver cómo repercute eso y ver qué diferencias generan. Tal vez luego se pueda usar esa información para clasificar galpones, o para mejorar las predicciones de período."
      ],
      "metadata": {
        "id": "ZZUrS2qt8fgV"
      }
    },
    {
      "cell_type": "markdown",
      "source": [
        "### Influencia de variables categóricas"
      ],
      "metadata": {
        "id": "6WrVorw9CBYp"
      }
    },
    {
      "cell_type": "markdown",
      "source": [
        "Lo primero que vamos a analizar es si las distintas clasificaciones del galpón (tipo de techo, tipo de estructura, clasificación de la zona sísmica y de viento) tienen influencia en los períodos naturales, y si esa diferencia es igual entre los que tienen paredes de chapa y hormigón.\n",
        "\n",
        "***NOTA:*** *todo lo que vamos a ver en este ejercicio es de índole causal y se puede explicar mediante modelos físicos. Para el TP, nos interesa enforcarnos simplemente en las relaciones empíricas*"
      ],
      "metadata": {
        "id": "-PA2S7Gp92Z9"
      }
    },
    {
      "cell_type": "markdown",
      "source": [
        "#### **Actividad 1**"
      ],
      "metadata": {
        "id": "rR1wUtxGCGsW"
      }
    },
    {
      "cell_type": "markdown",
      "source": [
        "A continuación se presentan una serie de boxplots viendo el efecto de las distintas categorías.\n",
        "\n",
        "¿Cuáles de ellas parecen influir en el período? ¿Esa influencia depende del cerramiento? ¿Tuvo sentido separarlo?"
      ],
      "metadata": {
        "id": "BcsF4nJuIQ74"
      }
    },
    {
      "cell_type": "code",
      "source": [
        "fig, axes = plt.subplots(1, 4, figsize=(16,4))\n",
        "\n",
        "sns.boxenplot(data=df, x='Cladding', y='T_model_s_', hue='Seismic', ax=axes[0]\n",
        "              ).set(title='Sismo', xlabel='Material', ylabel='Período')\n",
        "\n",
        "sns.boxenplot(data=df, x='Cladding', y='T_model_s_', hue='Wind', ax=axes[1]\n",
        "              ).set(title='Viento', xlabel='Material', ylabel='Período')\n",
        "\n",
        "sns.boxenplot(data=df, x='Cladding', y='T_model_s_', hue='Roof', ax=axes[2]\n",
        "              ).set(title='Tipo de techo', xlabel='Material', ylabel='Período')\n",
        "\n",
        "sns.boxenplot(data=df, x='Cladding', y='T_model_s_', hue='Structure', ax=axes[3]\n",
        "              ).set(title='Tipo de estructura', xlabel='Material', ylabel='Período')\n",
        "\n",
        "plt.show()"
      ],
      "metadata": {
        "colab": {
          "base_uri": "https://localhost:8080/",
          "height": 364
        },
        "id": "jd2a4GNlXEYe",
        "outputId": "cdb0c9df-07ae-4a50-935d-4542ffbd746a"
      },
      "execution_count": null,
      "outputs": [
        {
          "output_type": "display_data",
          "data": {
            "text/plain": [
              "<Figure size 1600x400 with 4 Axes>"
            ],
            "image/png": "[encoded data removed]"
          },
          "metadata": {}
        }
      ]
    },
    {
      "cell_type": "markdown",
      "source": [
        "**Su respuesta**:"
      ],
      "metadata": {
        "id": "lisvrODwmEA4"
      }
    },
    {
      "cell_type": "markdown",
      "source": [
        "Recordemos que el período natural de una estructura es\n",
        "\n",
        "$$T=2\\pi\\sqrt{\\frac{W}{gK}}$$\n",
        "\n",
        "Es decir, es una función del peso (la masa). ¿Este nuevo dato cambiará las conclusiones anteriores?"
      ],
      "metadata": {
        "id": "BBdpGVlrNRd0"
      }
    },
    {
      "cell_type": "markdown",
      "source": [
        "#### **Actividad 2**"
      ],
      "metadata": {
        "id": "pPOCWr_sBw17"
      }
    },
    {
      "cell_type": "markdown",
      "source": [
        "Realice un análisis similar al anterior para ver cómo el *peso* y la *longitud* del galpón cambia según la tipología estructural y el tipo de cerramiento.\n",
        "\n",
        "¿En base a estos nuevos datos, cambiaría su hipótesis sobre qué variables afectan al período? Es decir, ¿hay un efecto que se veía anteriormente que puede ser justificado por otra cosa y no necesariamente su clasificación en sí misma?\n",
        "\n",
        "***NOTA:*** *Son 2 gráficos, nosotros ya les damos los subplots definidos, ustedes tienen que hacer cáda gráfico en el `axes[i]` correspondiente.*"
      ],
      "metadata": {
        "id": "em9I0dKBB2Tg"
      }
    },
    {
      "cell_type": "code",
      "source": [
        "fig, axes = plt.subplots(1, 2, figsize=(16,4))\n",
        "\n",
        "################################################################################\n",
        "# CODIGO DEL ALUMNO\n",
        "\n",
        "\n",
        "\n",
        "################################################################################\n",
        "\n",
        "plt.show()"
      ],
      "metadata": {
        "id": "Wpvgt7JSavnU"
      },
      "execution_count": null,
      "outputs": []
    },
    {
      "cell_type": "markdown",
      "source": [
        "**Su respuesta**:"
      ],
      "metadata": {
        "id": "7jocTZgLcISA"
      }
    },
    {
      "cell_type": "markdown",
      "source": [
        "### Influencia de variables continuas\n",
        "\n",
        "Siguiendo con lo anterior, nos interesa ver si el período puede ser explicado no sólo a partír de lo visto arriba, sino también con variables continuas (altura y relación de lados).\n",
        "\n",
        "Ya sabemos que el peso más o menos algo va a influir (esto tiene sus pormenores, pero avancemos).\n",
        "\n",
        "Lo que nos interesa ver primero es: ¿La altura afecta al peso? ¿Y afecta el período? ¿Esas respuestas son iguales para todo galpón?"
      ],
      "metadata": {
        "id": "EJjC9LqzCNBk"
      }
    },
    {
      "cell_type": "markdown",
      "source": [
        "#### **Actividad 3**"
      ],
      "metadata": {
        "id": "PTv4aoDqCnFd"
      }
    },
    {
      "cell_type": "markdown",
      "source": [
        "Construya dos gráficos a elección que muestren la relación período-altura, uno para cada tipo de cerramiento. En cada gráfico, separe de alguna forma identificable según la zonificación sísmica.\n",
        "\n",
        "¿En qué casos la altura del edificio parece influir más y menos en el período? ¿Nota alguna que otra cosa más que vimos antes?"
      ],
      "metadata": {
        "id": "0BMPXdm0cMiO"
      }
    },
    {
      "cell_type": "code",
      "source": [
        "fig, axes = plt.subplots(1, 2, figsize=(16,4))\n",
        "\n",
        "################################################################################\n",
        "# CODIGO DEL ALUMNO\n",
        "\n",
        "\n",
        "\n",
        "################################################################################\n",
        "\n",
        "plt.show()"
      ],
      "metadata": {
        "colab": {
          "base_uri": "https://localhost:8080/",
          "height": 365
        },
        "outputId": "135ae99a-48d1-470e-963f-4ce1bf64b24c",
        "id": "_3DsPYKGDsbM"
      },
      "execution_count": null,
      "outputs": [
        {
          "output_type": "display_data",
          "data": {
            "text/plain": [
              "<Figure size 1600x400 with 2 Axes>"
            ],
            "image/png": "[encoded data removed]"
          },
          "metadata": {}
        }
      ]
    },
    {
      "cell_type": "markdown",
      "source": [
        "**Su respuesta**:"
      ],
      "metadata": {
        "id": "4jOk4f8IDsbW"
      }
    },
    {
      "cell_type": "markdown",
      "source": [
        "#### **Actividad 4**"
      ],
      "metadata": {
        "id": "7sO1m9WkC8Sk"
      }
    },
    {
      "cell_type": "markdown",
      "source": [
        "Haga un gráfico para la relación altura-peso, identificando con colores el tipo de cerramiento. ¿Qué nota? ¿La influencia de la altura es siempre igual?"
      ],
      "metadata": {
        "id": "k12nub5EgalC"
      }
    },
    {
      "cell_type": "code",
      "source": [
        "fig, axes = plt.subplots(1, 2, figsize=(16,4))\n",
        "\n",
        "################################################################################\n",
        "# CODIGO DEL ALUMNO\n",
        "\n",
        "\n",
        "\n",
        "################################################################################\n",
        "\n",
        "plt.show()"
      ],
      "metadata": {
        "id": "yzCRehz7guxJ"
      },
      "execution_count": null,
      "outputs": []
    },
    {
      "cell_type": "markdown",
      "source": [
        "**Su respuesta**:"
      ],
      "metadata": {
        "id": "6BYam5vdgyvT"
      }
    },
    {
      "cell_type": "markdown",
      "source": [
        "### Precisión de cálculos sencillos"
      ],
      "metadata": {
        "id": "qusVEuH1DCr_"
      }
    },
    {
      "cell_type": "markdown",
      "source": [
        "Como nota de color, el análisis que se hizo arriba permite justificar que, en edificios con criterios de diseño similares a los de galpones con paredes de hormigón, la altura del mismo es la mejor variable para predecir el período natural.\n",
        "\n",
        "Más allá de eso, lo que nos interesa ahora es ver cuándo la forma sencilla de calcular el período se parece a la solución real (y cuándo no)."
      ],
      "metadata": {
        "id": "jIgeZyC8FbB4"
      }
    },
    {
      "cell_type": "markdown",
      "source": [
        "#### **Actividad 5**"
      ],
      "metadata": {
        "id": "JPu8w2jUDC3z"
      }
    },
    {
      "cell_type": "markdown",
      "source": [
        "Construya un pair-plot que combina los efectos de la Altura, Longitud, Peso y Factor de participación, con el Factor de participación y una nueva variable de nombre `ratio`.\n",
        "\n",
        "Esta variable o columna nueva del Dataframe será el cociente entre el período sencillo `T_r2_s_` y el real `T_model_s_`."
      ],
      "metadata": {
        "id": "L5BB4-9chLf_"
      }
    },
    {
      "cell_type": "code",
      "source": [
        "# Método simplificado\n",
        "################################################################################\n",
        "# CODIGO DEL ALUMNO\n",
        "\n",
        "\n",
        "################################################################################\n",
        "\n",
        "\n",
        "# Pair plot\n",
        "################################################################################\n",
        "# CODIGO DEL ALUMNO\n",
        "\n",
        "\n",
        "################################################################################\n",
        "plt.show()\n",
        "\n"
      ],
      "metadata": {
        "colab": {
          "base_uri": "https://localhost:8080/",
          "height": 433
        },
        "id": "CZSar66ThYFt",
        "outputId": "8ba29fd5-48ff-405b-f133-153104cd7c6c"
      },
      "execution_count": null,
      "outputs": [
        {
          "output_type": "display_data",
          "data": {
            "text/plain": [
              "<Figure size 1387.5x500 with 11 Axes>"
            ],
            "image/png": "[encoded data removed]"
          },
          "metadata": {}
        }
      ]
    },
    {
      "cell_type": "markdown",
      "source": [
        "#### **Actividad 6**"
      ],
      "metadata": {
        "id": "diTuN7LLDNdC"
      }
    },
    {
      "cell_type": "markdown",
      "source": [
        "Presente la misma información pero mediante un mapa de calor."
      ],
      "metadata": {
        "id": "Ve4F5eOqG9m_"
      }
    },
    {
      "cell_type": "code",
      "source": [
        "################################################################################\n",
        "# CODIGO DEL ALUMNO\n",
        "\n",
        "\n",
        "################################################################################\n",
        "plt.show()"
      ],
      "metadata": {
        "id": "FyioFwglkrFk"
      },
      "execution_count": null,
      "outputs": []
    },
    {
      "cell_type": "markdown",
      "source": [
        "#### **Actividad 7**"
      ],
      "metadata": {
        "id": "LZ8KMg5ODSEp"
      }
    },
    {
      "cell_type": "markdown",
      "source": [
        "Ahora, por las dudas, construya lo mismo pero separado con 2 mapas, según el tipo de cerramiento."
      ],
      "metadata": {
        "id": "KatRbePIHcgQ"
      }
    },
    {
      "cell_type": "code",
      "source": [
        "# DataFrame con datos de paneles metálicos\n",
        "df_metal = df.loc[df['Cladding'] == 'Metal Panels']\n",
        "df_metal_corr = df_metal[[ 'Height_in_', 'L_ft_', 'W_kip_', 'alpha', 'MassParticipation', 'ratio']].corr().round(2)\n",
        "\n",
        "# DataFrame con datos de hormigón\n",
        "df_concrete = df.loc[df['Cladding'] == 'Concrete']\n",
        "df_concrete_corr = df_concrete[[ 'Height_in_', 'L_ft_', 'W_kip_', 'alpha', 'MassParticipation', 'ratio']].corr().round(2)\n",
        "\n",
        "\n",
        "# Gráfico\n",
        "fig, axes = plt.subplots(1, 2, figsize=(16,4))\n",
        "\n",
        "################################################################################\n",
        "# CODIGO DEL ALUMNO\n",
        "\n",
        "################################################################################\n",
        "plt.show()"
      ],
      "metadata": {
        "id": "JElT5hBBqnjZ"
      },
      "execution_count": null,
      "outputs": []
    },
    {
      "cell_type": "markdown",
      "source": [
        "#### **Actividad 8**"
      ],
      "metadata": {
        "id": "uVFcWIlBDYSz"
      }
    },
    {
      "cell_type": "markdown",
      "source": [
        "En función de los gráficos anteriores:\n",
        "\n",
        "1. ¿Los mapas de calor presentan conclusiones similares respecto a las relaciones peso-altura estudiadas antes?\n",
        "2. ¿De qué parece depender la precisión del método sencillo? O, dicho de mejor manera, ¿cómo podría predecir si funciona o no? ¿Mediante qué variables? ¿Depende del cerramiento?\n",
        "3. En la pregunta anterior notará que hay dos variables posibles. Si tuviese que elegir una (veremos en TPs subsiguientes que no está bueno usar predictores correlacionados), ¿cuál usaría como predictor?"
      ],
      "metadata": {
        "id": "3wSVuiLWHo-M"
      }
    },
    {
      "cell_type": "markdown",
      "source": [
        "**Su respuesta**:"
      ],
      "metadata": {
        "id": "IwTSKUotIeYl"
      }
    },
    {
      "cell_type": "markdown",
      "source": [
        "### Precisión de estimación empírica\n",
        "\n",
        "Por último, veamos si efectivamente la estimación empírica cumple con su objetivo de funcionar para todos los tipos de galpones y sitios de emplazamientos."
      ],
      "metadata": {
        "id": "LQHajkalIww-"
      }
    },
    {
      "cell_type": "markdown",
      "source": [
        "#### **Actividad 9**"
      ],
      "metadata": {
        "id": "FGUuXAKaDbYq"
      }
    },
    {
      "cell_type": "markdown",
      "source": [
        "Construya una nueva columna en el Dataframe `ratio2` que sea la diferencia entre el período estimado `T_S_U_s_` y el real `T_model_s`. Luego, construya dos box plots discriminando entre zonificación sísmica y viento de diseño para cada tipo de cerramiento."
      ],
      "metadata": {
        "id": "eDLB_NaXsWAF"
      }
    },
    {
      "cell_type": "code",
      "source": [
        "# Cuando funciona el metodo simplifcado\n",
        "################################################################################\n",
        "# CODIGO DEL ALUMNO\n",
        "\n",
        "\n",
        "################################################################################\n",
        "\n",
        "fig, axes = plt.subplots(1, 2, figsize=(16,4))\n",
        "################################################################################\n",
        "# CODIGO DEL ALUMNO\n",
        "\n",
        "\n",
        "################################################################################\n",
        "plt.show()\n"
      ],
      "metadata": {
        "id": "YTqUFqWkogdf"
      },
      "execution_count": null,
      "outputs": []
    },
    {
      "cell_type": "markdown",
      "source": [
        "#### **Actividad 10**"
      ],
      "metadata": {
        "id": "fcGtnUYhDg3G"
      }
    },
    {
      "cell_type": "markdown",
      "source": [
        "¿Cuándo funciona la fórmula estimada? ¿Cuándo no? Identifique el caso más crítico. En base a lo que venimos analizando, ¿por qué ocurre y qué recomendaría hacer para mejorarlo? Considere que si el boxplot está aproximadamente por debajo de 1.25 que los resultados son aceptables ingenierilmente (idealmente estaría centrado en 1, pero magia no hay)\n",
        "\n",
        "***NOTA:*** *Antes de contestar recuerde que hay muchas variables en juego, tal vez mirar un gráfico sólo lleve a conlusiones erróneas. Preste atención a los dos en su conjunto. Por ejemplo, el efecto del viento en estructuras de hormigón era poco importante, así que lo que diga ese boxplot aporta poco (tiene mucho más/menos)*"
      ],
      "metadata": {
        "id": "QGTSEkRVJkWC"
      }
    },
    {
      "cell_type": "markdown",
      "source": [
        "**Su respuesta**"
      ],
      "metadata": {
        "id": "wvoVT0s7J3rO"
      }
    },
    {
      "cell_type": "markdown",
      "source": [
        "## Ejercicio 2: Análisis Exploratorio de datos y Series temporales: Subtes de Buenos Aires"
      ],
      "metadata": {
        "id": "je11B8ZKDlvf"
      }
    },
    {
      "cell_type": "markdown",
      "source": [
        "Para realizar el segundo ejercicio, se debe cargar el Dataset con los datos de los molinetes de los subtes de Ciudad de Buenos Aires durante el año 2023."
      ],
      "metadata": {
        "id": "Zm22N2ppvN5l"
      }
    },
    {
      "cell_type": "code",
      "source": [
        "#Se crea un DataFrame\n",
        "df = pd.read_csv(\"/content/Molinetes_2023.csv\", sep=\";\")\n",
        "df.head()"
      ],
      "metadata": {
        "colab": {
          "base_uri": "https://localhost:8080/",
          "height": 206
        },
        "id": "6bQIusVsv78v",
        "outputId": "9917346c-f8b7-4420-a3f5-f0ab76bdf9e6"
      },
      "execution_count": null,
      "outputs": [
        {
          "output_type": "execute_result",
          "data": {
            "text/plain": [
              "      FECHA     DESDE     HASTA   LINEA                          MOLINETE  \\\n",
              "0  1/1/2023  07:45:00  08:00:00  LineaB              LineaB_Alem_S_Turn04   \n",
              "1  1/1/2023  07:45:00  08:00:00  LineaA            LineaA_Acoyte_S_Turn01   \n",
              "2  1/1/2023  07:45:00  08:00:00  LineaB           LineaB_Lacroze_E_Turn06   \n",
              "3  1/1/2023  07:45:00  08:00:00  LineaB           LineaB_Pasteur_S_Turn02   \n",
              "4  1/1/2023  07:45:00  08:00:00  LineaC  LineaC_Constitucion_Plaza_Turn04   \n",
              "\n",
              "           ESTACION  pax_pagos  pax_pases_pagos  pax_franq  pax_TOTAL  \n",
              "0   Leandro N. Alem          0                0          2          2  \n",
              "1            Acoyte          0                0          2          2  \n",
              "2  Federico Lacroze          3                0          0          3  \n",
              "3           Pasteur          1                0          0          1  \n",
              "4      Constitucion          1                0          0          1  "
            ],
            "text/html": [
              "\n",
              "  <div id=\"df-fb6f733e-dabb-477c-b97e-878fe6fc9ae7\" class=\"colab-df-container\">\n",
              "    <div>\n",
              "<style scoped>\n",
              "    .dataframe tbody tr th:only-of-type {\n",
              "        vertical-align: middle;\n",
              "    }\n",
              "\n",
              "    .dataframe tbody tr th {\n",
              "        vertical-align: top;\n",
              "    }\n",
              "\n",
              "    .dataframe thead th {\n",
              "        text-align: right;\n",
              "    }\n",
              "</style>\n",
              "<table border=\"1\" class=\"dataframe\">\n",
              "  <thead>\n",
              "    <tr style=\"text-align: right;\">\n",
              "      <th></th>\n",
              "      <th>FECHA</th>\n",
              "      <th>DESDE</th>\n",
              "      <th>HASTA</th>\n",
              "      <th>LINEA</th>\n",
              "      <th>MOLINETE</th>\n",
              "      <th>ESTACION</th>\n",
              "      <th>pax_pagos</th>\n",
              "      <th>pax_pases_pagos</th>\n",
              "      <th>pax_franq</th>\n",
              "      <th>pax_TOTAL</th>\n",
              "    </tr>\n",
              "  </thead>\n",
              "  <tbody>\n",
              "    <tr>\n",
              "      <th>0</th>\n",
              "      <td>1/1/2023</td>\n",
              "      <td>07:45:00</td>\n",
              "      <td>08:00:00</td>\n",
              "      <td>LineaB</td>\n",
              "      <td>LineaB_Alem_S_Turn04</td>\n",
              "      <td>Leandro N. Alem</td>\n",
              "      <td>0</td>\n",
              "      <td>0</td>\n",
              "      <td>2</td>\n",
              "      <td>2</td>\n",
              "    </tr>\n",
              "    <tr>\n",
              "      <th>1</th>\n",
              "      <td>1/1/2023</td>\n",
              "      <td>07:45:00</td>\n",
              "      <td>08:00:00</td>\n",
              "      <td>LineaA</td>\n",
              "      <td>LineaA_Acoyte_S_Turn01</td>\n",
              "      <td>Acoyte</td>\n",
              "      <td>0</td>\n",
              "      <td>0</td>\n",
              "      <td>2</td>\n",
              "      <td>2</td>\n",
              "    </tr>\n",
              "    <tr>\n",
              "      <th>2</th>\n",
              "      <td>1/1/2023</td>\n",
              "      <td>07:45:00</td>\n",
              "      <td>08:00:00</td>\n",
              "      <td>LineaB</td>\n",
              "      <td>LineaB_Lacroze_E_Turn06</td>\n",
              "      <td>Federico Lacroze</td>\n",
              "      <td>3</td>\n",
              "      <td>0</td>\n",
              "      <td>0</td>\n",
              "      <td>3</td>\n",
              "    </tr>\n",
              "    <tr>\n",
              "      <th>3</th>\n",
              "      <td>1/1/2023</td>\n",
              "      <td>07:45:00</td>\n",
              "      <td>08:00:00</td>\n",
              "      <td>LineaB</td>\n",
              "      <td>LineaB_Pasteur_S_Turn02</td>\n",
              "      <td>Pasteur</td>\n",
              "      <td>1</td>\n",
              "      <td>0</td>\n",
              "      <td>0</td>\n",
              "      <td>1</td>\n",
              "    </tr>\n",
              "    <tr>\n",
              "      <th>4</th>\n",
              "      <td>1/1/2023</td>\n",
              "      <td>07:45:00</td>\n",
              "      <td>08:00:00</td>\n",
              "      <td>LineaC</td>\n",
              "      <td>LineaC_Constitucion_Plaza_Turn04</td>\n",
              "      <td>Constitucion</td>\n",
              "      <td>1</td>\n",
              "      <td>0</td>\n",
              "      <td>0</td>\n",
              "      <td>1</td>\n",
              "    </tr>\n",
              "  </tbody>\n",
              "</table>\n",
              "</div>\n",
              "    <div class=\"colab-df-buttons\">\n",
              "\n",
              "  <div class=\"colab-df-container\">\n",
              "    <button class=\"colab-df-convert\" onclick=\"convertToInteractive('df-fb6f733e-dabb-477c-b97e-878fe6fc9ae7')\"\n",
              "            title=\"Convert this dataframe to an interactive table.\"\n",
              "            style=\"display:none;\">\n",
              "\n",
              "  <svg xmlns=\"http://www.w3.org/2000/svg\" height=\"24px\" viewBox=\"0 -960 960 960\">\n",
              "    <path d=\"M120-120v-720h720v720H120Zm60-500h600v-160H180v160Zm220 220h160v-160H400v160Zm0 220h160v-160H400v160ZM180-400h160v-160H180v160Zm440 0h160v-160H620v160ZM180-180h160v-160H180v160Zm440 0h160v-160H620v160Z\"/>\n",
              "  </svg>\n",
              "    </button>\n",
              "\n",
              "  <style>\n",
              "    .colab-df-container {\n",
              "      display:flex;\n",
              "      gap: 12px;\n",
              "    }\n",
              "\n",
              "    .colab-df-convert {\n",
              "      background-color: #E8F0FE;\n",
              "      border: none;\n",
              "      border-radius: 50%;\n",
              "      cursor: pointer;\n",
              "      display: none;\n",
              "      fill: #1967D2;\n",
              "      height: 32px;\n",
              "      padding: 0 0 0 0;\n",
              "      width: 32px;\n",
              "    }\n",
              "\n",
              "    .colab-df-convert:hover {\n",
              "      background-color: #E2EBFA;\n",
              "      box-shadow: 0px 1px 2px rgba(60, 64, 67, 0.3), 0px 1px 3px 1px rgba(60, 64, 67, 0.15);\n",
              "      fill: #174EA6;\n",
              "    }\n",
              "\n",
              "    .colab-df-buttons div {\n",
              "      margin-bottom: 4px;\n",
              "    }\n",
              "\n",
              "    [theme=dark] .colab-df-convert {\n",
              "      background-color: #3B4455;\n",
              "      fill: #D2E3FC;\n",
              "    }\n",
              "\n",
              "    [theme=dark] .colab-df-convert:hover {\n",
              "      background-color: #434B5C;\n",
              "      box-shadow: 0px 1px 3px 1px rgba(0, 0, 0, 0.15);\n",
              "      filter: drop-shadow(0px 1px 2px rgba(0, 0, 0, 0.3));\n",
              "      fill: #FFFFFF;\n",
              "    }\n",
              "  </style>\n",
              "\n",
              "    <script>\n",
              "      const buttonEl =\n",
              "        document.querySelector('#df-fb6f733e-dabb-477c-b97e-878fe6fc9ae7 button.colab-df-convert');\n",
              "      buttonEl.style.display =\n",
              "        google.colab.kernel.accessAllowed ? 'block' : 'none';\n",
              "\n",
              "      async function convertToInteractive(key) {\n",
              "        const element = document.querySelector('#df-fb6f733e-dabb-477c-b97e-878fe6fc9ae7');\n",
              "        const dataTable =\n",
              "          await google.colab.kernel.invokeFunction('convertToInteractive',\n",
              "                                                    [key], {});\n",
              "        if (!dataTable) return;\n",
              "\n",
              "        const docLinkHtml = 'Like what you see? Visit the ' +\n",
              "          '<a target=\"_blank\" href=https://colab.research.google.com/notebooks/data_table.ipynb>data table notebook</a>'\n",
              "          + ' to learn more about interactive tables.';\n",
              "        element.innerHTML = '';\n",
              "        dataTable['output_type'] = 'display_data';\n",
              "        await google.colab.output.renderOutput(dataTable, element);\n",
              "        const docLink = document.createElement('div');\n",
              "        docLink.innerHTML = docLinkHtml;\n",
              "        element.appendChild(docLink);\n",
              "      }\n",
              "    </script>\n",
              "  </div>\n",
              "\n",
              "\n",
              "<div id=\"df-df5a37f3-529d-468d-9e5a-52f43016a1b8\">\n",
              "  <button class=\"colab-df-quickchart\" onclick=\"quickchart('df-df5a37f3-529d-468d-9e5a-52f43016a1b8')\"\n",
              "            title=\"Suggest charts\"\n",
              "            style=\"display:none;\">\n",
              "\n",
              "<svg xmlns=\"http://www.w3.org/2000/svg\" height=\"24px\"viewBox=\"0 0 24 24\"\n",
              "     width=\"24px\">\n",
              "    <g>\n",
              "        <path d=\"M19 3H5c-1.1 0-2 .9-2 2v14c0 1.1.9 2 2 2h14c1.1 0 2-.9 2-2V5c0-1.1-.9-2-2-2zM9 17H7v-7h2v7zm4 0h-2V7h2v10zm4 0h-2v-4h2v4z\"/>\n",
              "    </g>\n",
              "</svg>\n",
              "  </button>\n",
              "\n",
              "<style>\n",
              "  .colab-df-quickchart {\n",
              "      --bg-color: #E8F0FE;\n",
              "      --fill-color: #1967D2;\n",
              "      --hover-bg-color: #E2EBFA;\n",
              "      --hover-fill-color: #174EA6;\n",
              "      --disabled-fill-color: #AAA;\n",
              "      --disabled-bg-color: #DDD;\n",
              "  }\n",
              "\n",
              "  [theme=dark] .colab-df-quickchart {\n",
              "      --bg-color: #3B4455;\n",
              "      --fill-color: #D2E3FC;\n",
              "      --hover-bg-color: #434B5C;\n",
              "      --hover-fill-color: #FFFFFF;\n",
              "      --disabled-bg-color: #3B4455;\n",
              "      --disabled-fill-color: #666;\n",
              "  }\n",
              "\n",
              "  .colab-df-quickchart {\n",
              "    background-color: var(--bg-color);\n",
              "    border: none;\n",
              "    border-radius: 50%;\n",
              "    cursor: pointer;\n",
              "    display: none;\n",
              "    fill: var(--fill-color);\n",
              "    height: 32px;\n",
              "    padding: 0;\n",
              "    width: 32px;\n",
              "  }\n",
              "\n",
              "  .colab-df-quickchart:hover {\n",
              "    background-color: var(--hover-bg-color);\n",
              "    box-shadow: 0 1px 2px rgba(60, 64, 67, 0.3), 0 1px 3px 1px rgba(60, 64, 67, 0.15);\n",
              "    fill: var(--button-hover-fill-color);\n",
              "  }\n",
              "\n",
              "  .colab-df-quickchart-complete:disabled,\n",
              "  .colab-df-quickchart-complete:disabled:hover {\n",
              "    background-color: var(--disabled-bg-color);\n",
              "    fill: var(--disabled-fill-color);\n",
              "    box-shadow: none;\n",
              "  }\n",
              "\n",
              "  .colab-df-spinner {\n",
              "    border: 2px solid var(--fill-color);\n",
              "    border-color: transparent;\n",
              "    border-bottom-color: var(--fill-color);\n",
              "    animation:\n",
              "      spin 1s steps(1) infinite;\n",
              "  }\n",
              "\n",
              "  @keyframes spin {\n",
              "    0% {\n",
              "      border-color: transparent;\n",
              "      border-bottom-color: var(--fill-color);\n",
              "      border-left-color: var(--fill-color);\n",
              "    }\n",
              "    20% {\n",
              "      border-color: transparent;\n",
              "      border-left-color: var(--fill-color);\n",
              "      border-top-color: var(--fill-color);\n",
              "    }\n",
              "    30% {\n",
              "      border-color: transparent;\n",
              "      border-left-color: var(--fill-color);\n",
              "      border-top-color: var(--fill-color);\n",
              "      border-right-color: var(--fill-color);\n",
              "    }\n",
              "    40% {\n",
              "      border-color: transparent;\n",
              "      border-right-color: var(--fill-color);\n",
              "      border-top-color: var(--fill-color);\n",
              "    }\n",
              "    60% {\n",
              "      border-color: transparent;\n",
              "      border-right-color: var(--fill-color);\n",
              "    }\n",
              "    80% {\n",
              "      border-color: transparent;\n",
              "      border-right-color: var(--fill-color);\n",
              "      border-bottom-color: var(--fill-color);\n",
              "    }\n",
              "    90% {\n",
              "      border-color: transparent;\n",
              "      border-bottom-color: var(--fill-color);\n",
              "    }\n",
              "  }\n",
              "</style>\n",
              "\n",
              "  <script>\n",
              "    async function quickchart(key) {\n",
              "      const quickchartButtonEl =\n",
              "        document.querySelector('#' + key + ' button');\n",
              "      quickchartButtonEl.disabled = true;  // To prevent multiple clicks.\n",
              "      quickchartButtonEl.classList.add('colab-df-spinner');\n",
              "      try {\n",
              "        const charts = await google.colab.kernel.invokeFunction(\n",
              "            'suggestCharts', [key], {});\n",
              "      } catch (error) {\n",
              "        console.error('Error during call to suggestCharts:', error);\n",
              "      }\n",
              "      quickchartButtonEl.classList.remove('colab-df-spinner');\n",
              "      quickchartButtonEl.classList.add('colab-df-quickchart-complete');\n",
              "    }\n",
              "    (() => {\n",
              "      let quickchartButtonEl =\n",
              "        document.querySelector('#df-df5a37f3-529d-468d-9e5a-52f43016a1b8 button');\n",
              "      quickchartButtonEl.style.display =\n",
              "        google.colab.kernel.accessAllowed ? 'block' : 'none';\n",
              "    })();\n",
              "  </script>\n",
              "</div>\n",
              "    </div>\n",
              "  </div>\n"
            ],
            "application/vnd.google.colaboratory.intrinsic+json": {
              "type": "dataframe",
              "variable_name": "df"
            }
          },
          "metadata": {},
          "execution_count": 8
        }
      ]
    },
    {
      "cell_type": "markdown",
      "source": [
        "#### **Actividad 1**"
      ],
      "metadata": {
        "id": "7YpFF578DpEy"
      }
    },
    {
      "cell_type": "markdown",
      "source": [
        "Observe el DataFrame generado.\n",
        "- ¿Qué columnas son necesarias conservar para analizar la cantidad de pasajeros en las diferentes estaciones de las líneas de subte de CABA, para distintos períodos de tiempo?\n",
        "- ¿Considera que hay palabras o datos prescindibles en las columnas o entre columnas?\n",
        "\n",
        "Conserve las columnas a utilizar y realice la limpieza necesaria de los datos conservados."
      ],
      "metadata": {
        "id": "rZzF805nwK-3"
      }
    },
    {
      "cell_type": "code",
      "source": [
        "\n",
        "################################################################################\n",
        "# CODIGO DEL ALUMNO\n",
        "\n",
        "\n",
        "################################################################################\n",
        "df.head()"
      ],
      "metadata": {
        "id": "Etf56P52wJnm"
      },
      "execution_count": null,
      "outputs": []
    },
    {
      "cell_type": "markdown",
      "source": [
        "- Utilizando `df.info()`, ¿Qué información obtiene? ¿Qué cambios podría realizar en los tipos de dato?\n",
        "\n",
        "***AYUDA:*** *si se utiliza `pd.to_datetime()` en una columna con una fecha con un formato conocido, el tipo de dato se modifica correctamente y sin inconvenientes. Por otro lado, si se utiliza con una columna que posee una hora únicamente, el tiempo se identificará, pero completará con una fecha determinada por Python.*\n",
        "\n",
        "*Para evitarlo, cree una columna que contenga la fecha, un espacio y la hora, y a esa nueva columna transfórmela con `pd.to_datetime()`.*"
      ],
      "metadata": {
        "id": "MOwL6kCOx4zj"
      }
    },
    {
      "cell_type": "code",
      "source": [
        "df.info()"
      ],
      "metadata": {
        "id": "RSjw86CuzG4x"
      },
      "execution_count": null,
      "outputs": []
    },
    {
      "cell_type": "code",
      "source": [
        "################################################################################\n",
        "# CODIGO DEL ALUMNO\n",
        "\n",
        "\n",
        "\n",
        "################################################################################\n",
        "df.info()"
      ],
      "metadata": {
        "id": "EJcPqaHWzEAU"
      },
      "execution_count": null,
      "outputs": []
    },
    {
      "cell_type": "markdown",
      "source": [
        "**Respuesta:**"
      ],
      "metadata": {
        "id": "CJaWYX6806Lf"
      }
    },
    {
      "cell_type": "markdown",
      "source": [
        "- Construya nuevas columnas con el año, el mes, la semana, el día, el día de semana (en número y nombre del día) y la hora."
      ],
      "metadata": {
        "id": "DuU4QUgOz2Z7"
      }
    },
    {
      "cell_type": "code",
      "source": [
        "################################################################################\n",
        "# CODIGO DEL ALUMNO\n",
        "\n",
        "\n",
        "\n",
        "################################################################################\n",
        "df.head()"
      ],
      "metadata": {
        "colab": {
          "base_uri": "https://localhost:8080/",
          "height": 206
        },
        "id": "1eELapXHztss",
        "outputId": "52b09b72-8e1d-4262-a7f6-12808d0615e7"
      },
      "execution_count": null,
      "outputs": [
        {
          "output_type": "execute_result",
          "data": {
            "text/plain": [
              "       FECHA     DESDE LINEA MOLINETE          ESTACION  pax_TOTAL  \\\n",
              "0 2023-01-01  07:45:00     B   Turn04   Leandro N. Alem          2   \n",
              "1 2023-01-01  07:45:00     A   Turn01            Acoyte          2   \n",
              "2 2023-01-01  07:45:00     B   Turn06  Federico Lacroze          3   \n",
              "3 2023-01-01  07:45:00     B   Turn02           Pasteur          1   \n",
              "4 2023-01-01  07:45:00     C   Turn04      Constitucion          1   \n",
              "\n",
              "          FECHA DESDE   AÑO  MES  DIA  DIA_SEMANA DIA_SEMANA_NOMBRE  HORA  \n",
              "0 2023-01-01 07:45:00  2023    1    1           6            Sunday     7  \n",
              "1 2023-01-01 07:45:00  2023    1    1           6            Sunday     7  \n",
              "2 2023-01-01 07:45:00  2023    1    1           6            Sunday     7  \n",
              "3 2023-01-01 07:45:00  2023    1    1           6            Sunday     7  \n",
              "4 2023-01-01 07:45:00  2023    1    1           6            Sunday     7  "
            ],
            "text/html": [
              "\n",
              "  <div id=\"df-c3a7f781-8839-4a8e-8519-41d959b91c14\" class=\"colab-df-container\">\n",
              "    <div>\n",
              "<style scoped>\n",
              "    .dataframe tbody tr th:only-of-type {\n",
              "        vertical-align: middle;\n",
              "    }\n",
              "\n",
              "    .dataframe tbody tr th {\n",
              "        vertical-align: top;\n",
              "    }\n",
              "\n",
              "    .dataframe thead th {\n",
              "        text-align: right;\n",
              "    }\n",
              "</style>\n",
              "<table border=\"1\" class=\"dataframe\">\n",
              "  <thead>\n",
              "    <tr style=\"text-align: right;\">\n",
              "      <th></th>\n",
              "      <th>FECHA</th>\n",
              "      <th>DESDE</th>\n",
              "      <th>LINEA</th>\n",
              "      <th>MOLINETE</th>\n",
              "      <th>ESTACION</th>\n",
              "      <th>pax_TOTAL</th>\n",
              "      <th>FECHA DESDE</th>\n",
              "      <th>AÑO</th>\n",
              "      <th>MES</th>\n",
              "      <th>DIA</th>\n",
              "      <th>DIA_SEMANA</th>\n",
              "      <th>DIA_SEMANA_NOMBRE</th>\n",
              "      <th>HORA</th>\n",
              "    </tr>\n",
              "  </thead>\n",
              "  <tbody>\n",
              "    <tr>\n",
              "      <th>0</th>\n",
              "      <td>2023-01-01</td>\n",
              "      <td>07:45:00</td>\n",
              "      <td>B</td>\n",
              "      <td>Turn04</td>\n",
              "      <td>Leandro N. Alem</td>\n",
              "      <td>2</td>\n",
              "      <td>2023-01-01 07:45:00</td>\n",
              "      <td>2023</td>\n",
              "      <td>1</td>\n",
              "      <td>1</td>\n",
              "      <td>6</td>\n",
              "      <td>Sunday</td>\n",
              "      <td>7</td>\n",
              "    </tr>\n",
              "    <tr>\n",
              "      <th>1</th>\n",
              "      <td>2023-01-01</td>\n",
              "      <td>07:45:00</td>\n",
              "      <td>A</td>\n",
              "      <td>Turn01</td>\n",
              "      <td>Acoyte</td>\n",
              "      <td>2</td>\n",
              "      <td>2023-01-01 07:45:00</td>\n",
              "      <td>2023</td>\n",
              "      <td>1</td>\n",
              "      <td>1</td>\n",
              "      <td>6</td>\n",
              "      <td>Sunday</td>\n",
              "      <td>7</td>\n",
              "    </tr>\n",
              "    <tr>\n",
              "      <th>2</th>\n",
              "      <td>2023-01-01</td>\n",
              "      <td>07:45:00</td>\n",
              "      <td>B</td>\n",
              "      <td>Turn06</td>\n",
              "      <td>Federico Lacroze</td>\n",
              "      <td>3</td>\n",
              "      <td>2023-01-01 07:45:00</td>\n",
              "      <td>2023</td>\n",
              "      <td>1</td>\n",
              "      <td>1</td>\n",
              "      <td>6</td>\n",
              "      <td>Sunday</td>\n",
              "      <td>7</td>\n",
              "    </tr>\n",
              "    <tr>\n",
              "      <th>3</th>\n",
              "      <td>2023-01-01</td>\n",
              "      <td>07:45:00</td>\n",
              "      <td>B</td>\n",
              "      <td>Turn02</td>\n",
              "      <td>Pasteur</td>\n",
              "      <td>1</td>\n",
              "      <td>2023-01-01 07:45:00</td>\n",
              "      <td>2023</td>\n",
              "      <td>1</td>\n",
              "      <td>1</td>\n",
              "      <td>6</td>\n",
              "      <td>Sunday</td>\n",
              "      <td>7</td>\n",
              "    </tr>\n",
              "    <tr>\n",
              "      <th>4</th>\n",
              "      <td>2023-01-01</td>\n",
              "      <td>07:45:00</td>\n",
              "      <td>C</td>\n",
              "      <td>Turn04</td>\n",
              "      <td>Constitucion</td>\n",
              "      <td>1</td>\n",
              "      <td>2023-01-01 07:45:00</td>\n",
              "      <td>2023</td>\n",
              "      <td>1</td>\n",
              "      <td>1</td>\n",
              "      <td>6</td>\n",
              "      <td>Sunday</td>\n",
              "      <td>7</td>\n",
              "    </tr>\n",
              "  </tbody>\n",
              "</table>\n",
              "</div>\n",
              "    <div class=\"colab-df-buttons\">\n",
              "\n",
              "  <div class=\"colab-df-container\">\n",
              "    <button class=\"colab-df-convert\" onclick=\"convertToInteractive('df-c3a7f781-8839-4a8e-8519-41d959b91c14')\"\n",
              "            title=\"Convert this dataframe to an interactive table.\"\n",
              "            style=\"display:none;\">\n",
              "\n",
              "  <svg xmlns=\"http://www.w3.org/2000/svg\" height=\"24px\" viewBox=\"0 -960 960 960\">\n",
              "    <path d=\"M120-120v-720h720v720H120Zm60-500h600v-160H180v160Zm220 220h160v-160H400v160Zm0 220h160v-160H400v160ZM180-400h160v-160H180v160Zm440 0h160v-160H620v160ZM180-180h160v-160H180v160Zm440 0h160v-160H620v160Z\"/>\n",
              "  </svg>\n",
              "    </button>\n",
              "\n",
              "  <style>\n",
              "    .colab-df-container {\n",
              "      display:flex;\n",
              "      gap: 12px;\n",
              "    }\n",
              "\n",
              "    .colab-df-convert {\n",
              "      background-color: #E8F0FE;\n",
              "      border: none;\n",
              "      border-radius: 50%;\n",
              "      cursor: pointer;\n",
              "      display: none;\n",
              "      fill: #1967D2;\n",
              "      height: 32px;\n",
              "      padding: 0 0 0 0;\n",
              "      width: 32px;\n",
              "    }\n",
              "\n",
              "    .colab-df-convert:hover {\n",
              "      background-color: #E2EBFA;\n",
              "      box-shadow: 0px 1px 2px rgba(60, 64, 67, 0.3), 0px 1px 3px 1px rgba(60, 64, 67, 0.15);\n",
              "      fill: #174EA6;\n",
              "    }\n",
              "\n",
              "    .colab-df-buttons div {\n",
              "      margin-bottom: 4px;\n",
              "    }\n",
              "\n",
              "    [theme=dark] .colab-df-convert {\n",
              "      background-color: #3B4455;\n",
              "      fill: #D2E3FC;\n",
              "    }\n",
              "\n",
              "    [theme=dark] .colab-df-convert:hover {\n",
              "      background-color: #434B5C;\n",
              "      box-shadow: 0px 1px 3px 1px rgba(0, 0, 0, 0.15);\n",
              "      filter: drop-shadow(0px 1px 2px rgba(0, 0, 0, 0.3));\n",
              "      fill: #FFFFFF;\n",
              "    }\n",
              "  </style>\n",
              "\n",
              "    <script>\n",
              "      const buttonEl =\n",
              "        document.querySelector('#df-c3a7f781-8839-4a8e-8519-41d959b91c14 button.colab-df-convert');\n",
              "      buttonEl.style.display =\n",
              "        google.colab.kernel.accessAllowed ? 'block' : 'none';\n",
              "\n",
              "      async function convertToInteractive(key) {\n",
              "        const element = document.querySelector('#df-c3a7f781-8839-4a8e-8519-41d959b91c14');\n",
              "        const dataTable =\n",
              "          await google.colab.kernel.invokeFunction('convertToInteractive',\n",
              "                                                    [key], {});\n",
              "        if (!dataTable) return;\n",
              "\n",
              "        const docLinkHtml = 'Like what you see? Visit the ' +\n",
              "          '<a target=\"_blank\" href=https://colab.research.google.com/notebooks/data_table.ipynb>data table notebook</a>'\n",
              "          + ' to learn more about interactive tables.';\n",
              "        element.innerHTML = '';\n",
              "        dataTable['output_type'] = 'display_data';\n",
              "        await google.colab.output.renderOutput(dataTable, element);\n",
              "        const docLink = document.createElement('div');\n",
              "        docLink.innerHTML = docLinkHtml;\n",
              "        element.appendChild(docLink);\n",
              "      }\n",
              "    </script>\n",
              "  </div>\n",
              "\n",
              "\n",
              "<div id=\"df-1d1b9b74-3cb6-48b8-94da-6bf08d1a66a7\">\n",
              "  <button class=\"colab-df-quickchart\" onclick=\"quickchart('df-1d1b9b74-3cb6-48b8-94da-6bf08d1a66a7')\"\n",
              "            title=\"Suggest charts\"\n",
              "            style=\"display:none;\">\n",
              "\n",
              "<svg xmlns=\"http://www.w3.org/2000/svg\" height=\"24px\"viewBox=\"0 0 24 24\"\n",
              "     width=\"24px\">\n",
              "    <g>\n",
              "        <path d=\"M19 3H5c-1.1 0-2 .9-2 2v14c0 1.1.9 2 2 2h14c1.1 0 2-.9 2-2V5c0-1.1-.9-2-2-2zM9 17H7v-7h2v7zm4 0h-2V7h2v10zm4 0h-2v-4h2v4z\"/>\n",
              "    </g>\n",
              "</svg>\n",
              "  </button>\n",
              "\n",
              "<style>\n",
              "  .colab-df-quickchart {\n",
              "      --bg-color: #E8F0FE;\n",
              "      --fill-color: #1967D2;\n",
              "      --hover-bg-color: #E2EBFA;\n",
              "      --hover-fill-color: #174EA6;\n",
              "      --disabled-fill-color: #AAA;\n",
              "      --disabled-bg-color: #DDD;\n",
              "  }\n",
              "\n",
              "  [theme=dark] .colab-df-quickchart {\n",
              "      --bg-color: #3B4455;\n",
              "      --fill-color: #D2E3FC;\n",
              "      --hover-bg-color: #434B5C;\n",
              "      --hover-fill-color: #FFFFFF;\n",
              "      --disabled-bg-color: #3B4455;\n",
              "      --disabled-fill-color: #666;\n",
              "  }\n",
              "\n",
              "  .colab-df-quickchart {\n",
              "    background-color: var(--bg-color);\n",
              "    border: none;\n",
              "    border-radius: 50%;\n",
              "    cursor: pointer;\n",
              "    display: none;\n",
              "    fill: var(--fill-color);\n",
              "    height: 32px;\n",
              "    padding: 0;\n",
              "    width: 32px;\n",
              "  }\n",
              "\n",
              "  .colab-df-quickchart:hover {\n",
              "    background-color: var(--hover-bg-color);\n",
              "    box-shadow: 0 1px 2px rgba(60, 64, 67, 0.3), 0 1px 3px 1px rgba(60, 64, 67, 0.15);\n",
              "    fill: var(--button-hover-fill-color);\n",
              "  }\n",
              "\n",
              "  .colab-df-quickchart-complete:disabled,\n",
              "  .colab-df-quickchart-complete:disabled:hover {\n",
              "    background-color: var(--disabled-bg-color);\n",
              "    fill: var(--disabled-fill-color);\n",
              "    box-shadow: none;\n",
              "  }\n",
              "\n",
              "  .colab-df-spinner {\n",
              "    border: 2px solid var(--fill-color);\n",
              "    border-color: transparent;\n",
              "    border-bottom-color: var(--fill-color);\n",
              "    animation:\n",
              "      spin 1s steps(1) infinite;\n",
              "  }\n",
              "\n",
              "  @keyframes spin {\n",
              "    0% {\n",
              "      border-color: transparent;\n",
              "      border-bottom-color: var(--fill-color);\n",
              "      border-left-color: var(--fill-color);\n",
              "    }\n",
              "    20% {\n",
              "      border-color: transparent;\n",
              "      border-left-color: var(--fill-color);\n",
              "      border-top-color: var(--fill-color);\n",
              "    }\n",
              "    30% {\n",
              "      border-color: transparent;\n",
              "      border-left-color: var(--fill-color);\n",
              "      border-top-color: var(--fill-color);\n",
              "      border-right-color: var(--fill-color);\n",
              "    }\n",
              "    40% {\n",
              "      border-color: transparent;\n",
              "      border-right-color: var(--fill-color);\n",
              "      border-top-color: var(--fill-color);\n",
              "    }\n",
              "    60% {\n",
              "      border-color: transparent;\n",
              "      border-right-color: var(--fill-color);\n",
              "    }\n",
              "    80% {\n",
              "      border-color: transparent;\n",
              "      border-right-color: var(--fill-color);\n",
              "      border-bottom-color: var(--fill-color);\n",
              "    }\n",
              "    90% {\n",
              "      border-color: transparent;\n",
              "      border-bottom-color: var(--fill-color);\n",
              "    }\n",
              "  }\n",
              "</style>\n",
              "\n",
              "  <script>\n",
              "    async function quickchart(key) {\n",
              "      const quickchartButtonEl =\n",
              "        document.querySelector('#' + key + ' button');\n",
              "      quickchartButtonEl.disabled = true;  // To prevent multiple clicks.\n",
              "      quickchartButtonEl.classList.add('colab-df-spinner');\n",
              "      try {\n",
              "        const charts = await google.colab.kernel.invokeFunction(\n",
              "            'suggestCharts', [key], {});\n",
              "      } catch (error) {\n",
              "        console.error('Error during call to suggestCharts:', error);\n",
              "      }\n",
              "      quickchartButtonEl.classList.remove('colab-df-spinner');\n",
              "      quickchartButtonEl.classList.add('colab-df-quickchart-complete');\n",
              "    }\n",
              "    (() => {\n",
              "      let quickchartButtonEl =\n",
              "        document.querySelector('#df-1d1b9b74-3cb6-48b8-94da-6bf08d1a66a7 button');\n",
              "      quickchartButtonEl.style.display =\n",
              "        google.colab.kernel.accessAllowed ? 'block' : 'none';\n",
              "    })();\n",
              "  </script>\n",
              "</div>\n",
              "    </div>\n",
              "  </div>\n"
            ],
            "application/vnd.google.colaboratory.intrinsic+json": {
              "type": "dataframe",
              "variable_name": "df"
            }
          },
          "metadata": {},
          "execution_count": 14
        }
      ]
    },
    {
      "cell_type": "markdown",
      "source": [
        "Ahora que tenemos los datos limpios para lo que queremos hacer, avancemos:"
      ],
      "metadata": {
        "id": "2q9P3Lz4DzoN"
      }
    },
    {
      "cell_type": "markdown",
      "source": [
        "#### **Actividad 2**"
      ],
      "metadata": {
        "id": "mmQSwnnLDz3m"
      }
    },
    {
      "cell_type": "markdown",
      "source": [
        "¿Cuáles son las líneas más utilizadas? Crea un nuevo dataframe que muestre esta información, llamado `df_total` y realiza un gráfico de barras.\n",
        "\n",
        "\n",
        "***AYUDA:*** *Se ha agregado un diccionario con los colores de las líneas de subte. Uno de los parámetros de `sns.barplot()` debe ser `hue='LINEA'` y `palette=colores` para que se apliquen.*"
      ],
      "metadata": {
        "id": "MGI8Jp6K1UoA"
      }
    },
    {
      "cell_type": "code",
      "source": [
        "colores = {\n",
        "    'A': '#00b2e0',\n",
        "    'B': '#fc4c41',\n",
        "    'C': '#0068b3',\n",
        "    'D': '#198769',\n",
        "    'E': '#8c1e92',\n",
        "    'H': '#f3cb40'\n",
        "}"
      ],
      "metadata": {
        "id": "KdY-Ms2mPEYX"
      },
      "execution_count": null,
      "outputs": []
    },
    {
      "cell_type": "code",
      "source": [
        "# Creación del DataFrame: df_total\n",
        "################################################################################\n",
        "# CODIGO DEL ALUMNO\n",
        "\n",
        "\n",
        "################################################################################\n",
        "\n",
        "# Gráfico:\n",
        "################################################################################\n",
        "# CODIGO DEL ALUMNO\n",
        "\n",
        "\n",
        "################################################################################"
      ],
      "metadata": {
        "id": "lLDQmYB8L402"
      },
      "execution_count": null,
      "outputs": []
    },
    {
      "cell_type": "markdown",
      "source": [
        "#### **Actividad 3**"
      ],
      "metadata": {
        "id": "KJfpr35OD9vz"
      }
    },
    {
      "cell_type": "markdown",
      "source": [
        "¿Cuáles son las 10 estaciones más concurridas? Crea un nuevo dataframe que muestre esta información, llamado `df_estacion` y realiza un gráfico de barras."
      ],
      "metadata": {
        "id": "gKcRFr5i16Oi"
      }
    },
    {
      "cell_type": "code",
      "source": [
        "# Creación del DataFrame: df_estacion\n",
        "################################################################################\n",
        "# CODIGO DEL ALUMNO\n",
        "\n",
        "\n",
        "################################################################################\n",
        "\n",
        "\n",
        "# Gráfico:\n",
        "################################################################################\n",
        "# CODIGO DEL ALUMNO\n",
        "\n",
        "\n",
        "################################################################################\n",
        "plt.show()"
      ],
      "metadata": {
        "id": "R8FCIIsI1z9m"
      },
      "execution_count": null,
      "outputs": []
    },
    {
      "cell_type": "markdown",
      "source": [
        "#### **Actividad 4**"
      ],
      "metadata": {
        "id": "zYcok5kUEIua"
      }
    },
    {
      "cell_type": "markdown",
      "source": [
        "¿Cuál o cuáles son las horas pico para cada línea en el subte de CABA? Crea un nuevo dataframe que muestre esta información, llamado `df_hora` y realiza un gráfico de línea."
      ],
      "metadata": {
        "id": "I8yO_1Vq2J80"
      }
    },
    {
      "cell_type": "code",
      "source": [
        "# Creación del DataFrame: df_hora\n",
        "################################################################################\n",
        "# CODIGO DEL ALUMNO\n",
        "\n",
        "\n",
        "################################################################################\n",
        "\n",
        "\n",
        "# Gráfico:\n",
        "################################################################################\n",
        "# CODIGO DEL ALUMNO\n",
        "\n",
        "\n",
        "\n",
        "################################################################################\n",
        "plt.show()"
      ],
      "metadata": {
        "id": "8fzSqOy42GWF"
      },
      "execution_count": null,
      "outputs": []
    },
    {
      "cell_type": "markdown",
      "source": [
        "#### **Actividad 5**"
      ],
      "metadata": {
        "id": "ISs2eAPyEMwT"
      }
    },
    {
      "cell_type": "markdown",
      "source": [
        "Realiza un gráfico de línea donde se observe el número de pasajeros por día a lo largo del tiempo. ¿Observa alguna tendencia o estacionalidad? Crea nuevos dataframes que muestre esta información para todo el año 2023, para un mes y una semana en particular y realiza los gráficos.\n"
      ],
      "metadata": {
        "id": "eq6pITiV3Xhj"
      }
    },
    {
      "cell_type": "code",
      "source": [
        "# Gráfico: año 2023\n",
        "################################################################################\n",
        "# CODIGO DEL ALUMNO\n",
        "\n",
        "\n",
        "################################################################################\n",
        "plt.show()"
      ],
      "metadata": {
        "id": "Oguz2gpm2GbZ"
      },
      "execution_count": null,
      "outputs": []
    },
    {
      "cell_type": "code",
      "source": [
        "# Gráfico: un mes particular\n",
        "################################################################################\n",
        "# CODIGO DEL ALUMNO\n",
        "\n",
        "\n",
        "################################################################################\n",
        "plt.show()"
      ],
      "metadata": {
        "id": "zL_HTtquSf1f"
      },
      "execution_count": null,
      "outputs": []
    },
    {
      "cell_type": "markdown",
      "source": [
        "**Respuesta**:"
      ],
      "metadata": {
        "id": "G6fof6eT30NX"
      }
    },
    {
      "cell_type": "markdown",
      "source": [
        "#### **Actividad 6**"
      ],
      "metadata": {
        "id": "wqx5fDpzEQYE"
      }
    },
    {
      "cell_type": "markdown",
      "source": [
        "Suavice la curva anterior, calculando la media móvil con una ventana de 30 días. ¿Observa algo? Grafique ambas curvas en la misma figura para comparar."
      ],
      "metadata": {
        "id": "ERlz3V7r967l"
      }
    },
    {
      "cell_type": "code",
      "source": [
        "################################################################################\n",
        "# CODIGO DEL ALUMNO\n",
        "\n",
        "\n",
        "\n",
        "################################################################################\n",
        "plt.show()"
      ],
      "metadata": {
        "id": "Uz0yCVYZUlWV"
      },
      "execution_count": null,
      "outputs": []
    },
    {
      "cell_type": "markdown",
      "source": [
        "**Respuesta:**"
      ],
      "metadata": {
        "id": "9IqMvYzWbdvG"
      }
    },
    {
      "cell_type": "markdown",
      "source": [
        "#### **Actividad 7**"
      ],
      "metadata": {
        "id": "Sd5HtYjJEStU"
      }
    },
    {
      "cell_type": "markdown",
      "source": [
        "Realice un gráfico de caja por cada día de la semana ¿Observa alguna tendencia o estacionalidad?"
      ],
      "metadata": {
        "id": "-77Y3uK23t3O"
      }
    },
    {
      "cell_type": "code",
      "source": [
        "################################################################################\n",
        "# CODIGO DEL ALUMNO\n",
        "\n",
        "\n",
        "\n",
        "################################################################################"
      ],
      "metadata": {
        "id": "Zpc9MID42GgW"
      },
      "execution_count": null,
      "outputs": []
    },
    {
      "cell_type": "markdown",
      "source": [
        "**Respuesta**:"
      ],
      "metadata": {
        "id": "RJx9dCdS6dnj"
      }
    },
    {
      "cell_type": "markdown",
      "source": [
        "#### **Actividad 8**"
      ],
      "metadata": {
        "id": "a6ebqlwSEXW1"
      }
    },
    {
      "cell_type": "markdown",
      "source": [
        "Mediante un gráfico de correlación, demuestre la tendencia y/o estacionalidad que ha identificado en lo puntos anteriores."
      ],
      "metadata": {
        "id": "Tu8frhAa6DQj"
      }
    },
    {
      "cell_type": "code",
      "source": [
        "################################################################################\n",
        "# CODIGO DEL ALUMNO\n",
        "\n",
        "\n",
        "################################################################################"
      ],
      "metadata": {
        "id": "eKh_RADU2Gl8"
      },
      "execution_count": null,
      "outputs": []
    },
    {
      "cell_type": "markdown",
      "source": [
        "## Ejercicio 3: Datos espaciales con Sistemas de Información Geográfica"
      ],
      "metadata": {
        "id": "4QVW4iO0tKtz"
      }
    },
    {
      "cell_type": "markdown",
      "source": [
        "Este ejercicio va a ser su introducción a la utilización de GIS, en particular QGIS (ya que es libre). A futuro esto les servirá para tener una base en para vida profesional.\n",
        "\n",
        "A continuación se índican las cuencas a analizar:\n",
        "\n",
        "- **Grupos PARES (2, 4, 6...)**: Cuenca de Río Segundo\n",
        "- **Grupos IMPARES (1, 3, 5...)**: Cuenca de Río Tercero\n",
        "- **Posgrado**: Cuenca de Río Cuarto\n",
        "\n",
        "Y datos a considerar:\n",
        "\n",
        "* **Grupos Menores a 7**: Edificios educativos\n",
        "* **Grupos Mayores o Iguales a 7**: Hospitales\n",
        "* **Posgrado**: A elección"
      ],
      "metadata": {
        "id": "oYUyx78UEbtb"
      }
    },
    {
      "cell_type": "markdown",
      "source": [
        "**Paso 1**: Generación de subcuencas.\n",
        "En la \"[Guía para la generación de Cuencas en QGIS](https://github.com/mbalbi/ciencia_de_datos/blob/main/tps/actuales/Guia%20para%20la%20generaci%C3%B3n%20de%20Cuencas%20en%20QGIS.pdf)\" se detalla el procedimiento para calcular una cuenca a partir de un punto de cierre y el Modelo Digital de Elevación (DEM).\n",
        "\n",
        "La cuenca se proporcionará a través del campus de la materia. Por otro lado, el Modelo Digital de Elevaciones (MDE) lo pueden descargar en el siguiente link:   [MDE](https://drive.google.com/file/d/1kFuXsfpWei3ePexQ0QuqE2W5Wrhu2ei4/view?usp=drive_link)\n",
        "\n",
        "Se recomienda fuertemente que comprendan cada paso del proceso antes de proceder con la siguiente etapa."
      ],
      "metadata": {
        "id": "oMVPJFnmEcCn"
      }
    },
    {
      "cell_type": "markdown",
      "source": [
        "\n",
        "\n",
        "**Paso 2**: Carga de datos vectoriales.\n",
        "Cargar en QGIS los datos de los radios censales (*DatosBasicos*) y los edificios educativos  (*EdifEducativos*) u Hospitales (*EdifSalud*) según corresponda."
      ],
      "metadata": {
        "id": "xJJjwuvrNv3V"
      }
    },
    {
      "cell_type": "markdown",
      "source": [
        "**Paso 3**: Análisis de datos y presentación de resultados.\n",
        "\n",
        "Los mapas deben ser creados utilizando el complemento \"Composer\" de QGIS para presentar los resultados del análisis.\n"
      ],
      "metadata": {
        "id": "JiaVmo2gNzWD"
      }
    },
    {
      "cell_type": "markdown",
      "source": [
        "#### **Actividad 1**"
      ],
      "metadata": {
        "id": "eiCLy6vJNXXD"
      }
    },
    {
      "cell_type": "markdown",
      "source": [
        "¿Cuál es la cantidad de habitantes en la cuenca según el Censo 2010?\n",
        "\n",
        "**Ayudas**:\n",
        "1.   Calcular el área (Area_Total) de los radios censales con la calculadora de campos la tabla de atributos de la capa.\n",
        "\n",
        "2.   Con la herramienta **Select by location**: seleccionar los radios censales de la capa: *DatosBasicos* que intersectan con la cuenca generada.\n",
        "\n",
        "3.   Con la herramienta **Clip** cortar los elementos de la capa *DatosBasicos* seleccionados. (recordar marcar la casilla “sólo elementos seleccionados”).\n",
        "\n",
        "4.  Calcular el área (Area_Cuenca) de los elementos (de la capa *DatosBasicos _Clip*) y calcular la relación Area_Cuenca/Area_Total.\n",
        "\n",
        "5.  Seleccionar los radios censales con una relación menor a 0.20 y eliminarlos. Actualizar los valores de la población (‘Hab’) usando el porcentaje del área del radio censal en la cuenca.\n",
        "\n",
        "6.  Con la herramienta **Show Statistical Summary** calcular la cantidad total de habitantes."
      ],
      "metadata": {
        "id": "qRKJvnV0N_BT"
      }
    },
    {
      "cell_type": "markdown",
      "source": [
        "#### **Actividad 2**"
      ],
      "metadata": {
        "id": "EWjg5hQDN_4-"
      }
    },
    {
      "cell_type": "markdown",
      "source": [
        "Generar un mapa que muestre la densidad de la población (habitantes/hectárea) dentro de la cuenca."
      ],
      "metadata": {
        "id": "ikUy_MmsN_FB"
      }
    },
    {
      "cell_type": "markdown",
      "source": [
        "#### **Actividad 3**"
      ],
      "metadata": {
        "id": "yTGVgzt4OPVo"
      }
    },
    {
      "cell_type": "markdown",
      "source": [
        " Analizar la relación entre la cantidad de habitantes y la pendiente media de cada radio censal. Incluir un gráfico con las variables mencionadas.\n",
        "\n",
        "**Ayudas**:\n",
        "1.   Con la herramienta **r.slope.aspect** y el MDE calcular la pendiente del terreno en grados.\n",
        "2.    Con la herramienta **Zonal Statistic** calcular el valor medio de la pendiente para cada radio censal."
      ],
      "metadata": {
        "id": "JRcD5JGnOQOH"
      }
    },
    {
      "cell_type": "markdown",
      "source": [
        "#### **Actividad 4**"
      ],
      "metadata": {
        "id": "Kk-Gg6WcOW9T"
      }
    },
    {
      "cell_type": "markdown",
      "source": [
        "Generar un mapa que muestre la distancia de cada centroide al Edificio de Salud/Edificio Educativo más cercano. Analizar la relación entre la cantidad de habitantes y la distancia a los servicios de Educación/Salud.\n",
        "\n",
        "Elaborar un texto explicativo que acompañe el mapa y describa las principales conclusiones del análisis realizado.\n",
        "\n",
        "**Ayudas**:\n",
        "1.   Calcular los centroides de los radio censales con la herramienta **Centroids**.\n",
        "2.   Calcula la distancia de cada Centroide al Edificio de Salud/Edificio Educativo más cercano con la herramienta **Distance to Nearest Hub**.\n",
        "\n",
        "**Distance to Nearest Hub**: calcula la distancia de cada punto en una capa de entrada a su punto de destino más cercano en otra capa de puntos, llamados \"hubs\". Es decir, para cada punto en la capa de entrada, determina la distancia al punto más cercano en la capa de puntos \"hubs\"."
      ],
      "metadata": {
        "id": "UFs4ULkjOXka"
      }
    },
    {
      "cell_type": "markdown",
      "source": [
        "### Entrega\n",
        "\n",
        " Entregue como un archivo .pdf anexo un breve informe con la respuesta a las distintas actividades, acompañado de las figuras, resultados y anális de los datos con todas las explicaciones que crean necesarias.\n",
        "\n",
        " NOTA: Un informe tiene que tener una tabla de contenidos, identificación de los autores, introducción al problema y objetivo, secciones debidamente indicadas, etc."
      ],
      "metadata": {
        "id": "s5z-RXoNOXn1"
      }
    },
    {
      "cell_type": "markdown",
      "source": [
        "## Avance del TP Integrador\n",
        "\n",
        "Al momento de la entrega del Trabajo Práctico 1, el grupo ya debiera haber discutido con los docentes distintas posibilidades de datasets para utilizar en el Trabajo Práctico Integrador y haber comenzado a investigar el candidato.\n",
        "\n",
        "En esta segunda etapa se busca que el grupo comience a estudiar en forma gráfica los datos como para discutir qué información se podría llegar a extraer de los mismos.\n",
        "\n",
        "Si al momento de la entrega del TP1 se está al día con este paso y se tiene ya un análisis exploratorio preliminar como para ir formulando una pregunta a contestar, la evolución del trabajo final estará mucho más allanada.\n",
        "\n",
        "**Actividad**: Comenzar el análisis exploratorio de datos para utilizar en el Trabajo Final, y buscar preguntas que esos datos nos podrían estar contestando a través de modelos a construir (después). No es parte formal de la entrega del TP, pero se llevará registro de que haya habido avances."
      ],
      "metadata": {
        "id": "Vdfs2xyXmX9l"
      }
    },
    {
      "cell_type": "markdown",
      "source": [
        "# Impresión del Archivo final (.html)\n",
        "\n",
        "Para la entrega del TP1, siga los siguientes pasos:\n",
        "1. Vuelva a correr el Colab desde 0 para asegurar que no haya ningún bug y todo funcione tal como se desea (`Restart session and run all`)\n",
        "2. Descarge el arcihvo .ipynb en su computadora\n",
        "3. Utilice el arhivo `ImpresionHTML.ipynb` del campus. Le pedirá subir el arhivo que quiere convertir a html y lo hará por ustedes.\n",
        "\n",
        "Revisé que está todo como les gusta y ¡ya está listo!"
      ],
      "metadata": {
        "id": "dT58zs1LoUU6"
      }
    }
  ]
}