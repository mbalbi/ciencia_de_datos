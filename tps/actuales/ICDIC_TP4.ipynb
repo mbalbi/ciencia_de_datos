{
  "cells": [
    {
      "cell_type": "markdown",
      "metadata": {
        "id": "view-in-github",
        "colab_type": "text"
      },
      "source": [
        "<a href=\"https://colab.research.google.com/github/mbalbi/ciencia_de_datos/blob/main/tps/actuales/ICDIC_TP4.ipynb\" target=\"_parent\"><img src=\"https://colab.research.google.com/assets/colab-badge.svg\" alt=\"Open In Colab\"/></a>"
      ]
    },
    {
      "cell_type": "markdown",
      "metadata": {
        "id": "3IuHnPyXK56-"
      },
      "source": [
        "#Trabajo Práctico 4: Regresión Logística\n",
        "\n",
        "**Objetivos:** Este trabajo tiene como objetivo brindarle al alumno un visión completa del procedimiento para el desarrollo y comparación de modelos de regresión, en particular, los de tipo categórico/clasificación.\n",
        "\n",
        "**Librerías:** En este trabajo se utilizará\n",
        "\n",
        "*   Numpy: matemática básica y definición de matrices y vectores; simulación de variables aleatorias\n",
        "*   Seaborn: construcción de gráficos\n",
        "*   Bambi: Librería basada en PyMC para la inferencia estadística utilizando cadenas de Markov\n",
        "\n",
        "También necesitaremos de la librería ArviZ para ver los resultados de nuestra inferencia, al igual que Numpy."
      ]
    },
    {
      "cell_type": "code",
      "execution_count": null,
      "metadata": {
        "colab": {
          "base_uri": "https://localhost:8080/"
        },
        "id": "ax-cPS5AppKd",
        "outputId": "343bc4a8-1fc4-4588-a0d8-6b6c1bb5a897"
      },
      "outputs": [
        {
          "output_type": "stream",
          "name": "stdout",
          "text": [
            "Collecting bambi\n",
            "  Downloading bambi-0.13.0-py3-none-any.whl (96 kB)\n",
            "\u001b[2K     \u001b[90m━━━━━━━━━━━━━━━━━━━━━━━━━━━━━━━━━━━━━━━━\u001b[0m \u001b[32m96.1/96.1 kB\u001b[0m \u001b[31m914.8 kB/s\u001b[0m eta \u001b[36m0:00:00\u001b[0m\n",
            "\u001b[?25hRequirement already satisfied: arviz>=0.12.0 in /usr/local/lib/python3.10/dist-packages (from bambi) (0.15.1)\n",
            "Collecting formulae>=0.5.0 (from bambi)\n",
            "  Downloading formulae-0.5.3-py3-none-any.whl (53 kB)\n",
            "\u001b[2K     \u001b[90m━━━━━━━━━━━━━━━━━━━━━━━━━━━━━━━━━━━━━━━━\u001b[0m \u001b[32m53.6/53.6 kB\u001b[0m \u001b[31m2.5 MB/s\u001b[0m eta \u001b[36m0:00:00\u001b[0m\n",
            "\u001b[?25hRequirement already satisfied: graphviz in /usr/local/lib/python3.10/dist-packages (from bambi) (0.20.3)\n",
            "Requirement already satisfied: pandas>=1.0.0 in /usr/local/lib/python3.10/dist-packages (from bambi) (2.0.3)\n",
            "Requirement already satisfied: pymc>=5.5.0 in /usr/local/lib/python3.10/dist-packages (from bambi) (5.10.4)\n",
            "Requirement already satisfied: setuptools>=60.0.0 in /usr/local/lib/python3.10/dist-packages (from arviz>=0.12.0->bambi) (67.7.2)\n",
            "Requirement already satisfied: matplotlib>=3.2 in /usr/local/lib/python3.10/dist-packages (from arviz>=0.12.0->bambi) (3.7.1)\n",
            "Requirement already satisfied: numpy>=1.20.0 in /usr/local/lib/python3.10/dist-packages (from arviz>=0.12.0->bambi) (1.25.2)\n",
            "Requirement already satisfied: scipy>=1.8.0 in /usr/local/lib/python3.10/dist-packages (from arviz>=0.12.0->bambi) (1.11.4)\n",
            "Requirement already satisfied: packaging in /usr/local/lib/python3.10/dist-packages (from arviz>=0.12.0->bambi) (24.1)\n",
            "Requirement already satisfied: xarray>=0.21.0 in /usr/local/lib/python3.10/dist-packages (from arviz>=0.12.0->bambi) (2023.7.0)\n",
            "Requirement already satisfied: h5netcdf>=1.0.2 in /usr/local/lib/python3.10/dist-packages (from arviz>=0.12.0->bambi) (1.3.0)\n",
            "Requirement already satisfied: typing-extensions>=4.1.0 in /usr/local/lib/python3.10/dist-packages (from arviz>=0.12.0->bambi) (4.12.2)\n",
            "Requirement already satisfied: xarray-einstats>=0.3 in /usr/local/lib/python3.10/dist-packages (from arviz>=0.12.0->bambi) (0.7.0)\n",
            "Requirement already satisfied: python-dateutil>=2.8.2 in /usr/local/lib/python3.10/dist-packages (from pandas>=1.0.0->bambi) (2.8.2)\n",
            "Requirement already satisfied: pytz>=2020.1 in /usr/local/lib/python3.10/dist-packages (from pandas>=1.0.0->bambi) (2023.4)\n",
            "Requirement already satisfied: tzdata>=2022.1 in /usr/local/lib/python3.10/dist-packages (from pandas>=1.0.0->bambi) (2024.1)\n",
            "Requirement already satisfied: cachetools>=4.2.1 in /usr/local/lib/python3.10/dist-packages (from pymc>=5.5.0->bambi) (5.3.3)\n",
            "Requirement already satisfied: cloudpickle in /usr/local/lib/python3.10/dist-packages (from pymc>=5.5.0->bambi) (2.2.1)\n",
            "Requirement already satisfied: fastprogress>=0.2.0 in /usr/local/lib/python3.10/dist-packages (from pymc>=5.5.0->bambi) (1.0.3)\n",
            "Requirement already satisfied: pytensor<2.19,>=2.18.1 in /usr/local/lib/python3.10/dist-packages (from pymc>=5.5.0->bambi) (2.18.6)\n",
            "Requirement already satisfied: h5py in /usr/local/lib/python3.10/dist-packages (from h5netcdf>=1.0.2->arviz>=0.12.0->bambi) (3.9.0)\n",
            "Requirement already satisfied: contourpy>=1.0.1 in /usr/local/lib/python3.10/dist-packages (from matplotlib>=3.2->arviz>=0.12.0->bambi) (1.2.1)\n",
            "Requirement already satisfied: cycler>=0.10 in /usr/local/lib/python3.10/dist-packages (from matplotlib>=3.2->arviz>=0.12.0->bambi) (0.12.1)\n",
            "Requirement already satisfied: fonttools>=4.22.0 in /usr/local/lib/python3.10/dist-packages (from matplotlib>=3.2->arviz>=0.12.0->bambi) (4.53.0)\n",
            "Requirement already satisfied: kiwisolver>=1.0.1 in /usr/local/lib/python3.10/dist-packages (from matplotlib>=3.2->arviz>=0.12.0->bambi) (1.4.5)\n",
            "Requirement already satisfied: pillow>=6.2.0 in /usr/local/lib/python3.10/dist-packages (from matplotlib>=3.2->arviz>=0.12.0->bambi) (9.4.0)\n",
            "Requirement already satisfied: pyparsing>=2.3.1 in /usr/local/lib/python3.10/dist-packages (from matplotlib>=3.2->arviz>=0.12.0->bambi) (3.1.2)\n",
            "Requirement already satisfied: filelock in /usr/local/lib/python3.10/dist-packages (from pytensor<2.19,>=2.18.1->pymc>=5.5.0->bambi) (3.14.0)\n",
            "Requirement already satisfied: etuples in /usr/local/lib/python3.10/dist-packages (from pytensor<2.19,>=2.18.1->pymc>=5.5.0->bambi) (0.3.9)\n",
            "Requirement already satisfied: logical-unification in /usr/local/lib/python3.10/dist-packages (from pytensor<2.19,>=2.18.1->pymc>=5.5.0->bambi) (0.4.6)\n",
            "Requirement already satisfied: miniKanren in /usr/local/lib/python3.10/dist-packages (from pytensor<2.19,>=2.18.1->pymc>=5.5.0->bambi) (1.0.3)\n",
            "Requirement already satisfied: cons in /usr/local/lib/python3.10/dist-packages (from pytensor<2.19,>=2.18.1->pymc>=5.5.0->bambi) (0.4.6)\n",
            "Requirement already satisfied: six>=1.5 in /usr/local/lib/python3.10/dist-packages (from python-dateutil>=2.8.2->pandas>=1.0.0->bambi) (1.16.0)\n",
            "Requirement already satisfied: toolz in /usr/local/lib/python3.10/dist-packages (from logical-unification->pytensor<2.19,>=2.18.1->pymc>=5.5.0->bambi) (0.12.1)\n",
            "Requirement already satisfied: multipledispatch in /usr/local/lib/python3.10/dist-packages (from logical-unification->pytensor<2.19,>=2.18.1->pymc>=5.5.0->bambi) (1.0.0)\n",
            "Installing collected packages: formulae, bambi\n",
            "Successfully installed bambi-0.13.0 formulae-0.5.3\n"
          ]
        }
      ],
      "source": [
        "# Instalación e import de Bambi\n",
        "try:\n",
        "  import bambi as bmb\n",
        "except:\n",
        "  !pip install bambi\n",
        "  import bambi as bmb\n",
        "\n",
        "# Import Arviz para ver los resultados\n",
        "import arviz as az"
      ]
    },
    {
      "cell_type": "code",
      "execution_count": null,
      "metadata": {
        "id": "bKUVzDo8u12x"
      },
      "outputs": [],
      "source": [
        "import numpy as np\n",
        "import pandas as pd\n",
        "\n",
        "import matplotlib.pyplot as plt\n",
        "import seaborn as sns\n",
        "\n",
        "import io"
      ]
    },
    {
      "cell_type": "markdown",
      "metadata": {
        "id": "TsOURkulBOXK"
      },
      "source": [
        "Grupo:\n",
        "\n",
        "Integrantes:\n",
        "\n",
        "*   Apellido, Nombres XXXXXX\n",
        "*   Apellido, Nombres XXXXXX\n",
        "*   Apellido, Nombres XXXXXX\n",
        "*   Apellido, Nombres XXXXXX\n",
        "*   Apellido, Nombres XXXXXX"
      ]
    },
    {
      "cell_type": "markdown",
      "metadata": {
        "id": "vwePh_HBLcUt"
      },
      "source": [
        "## Ejercicio 1: Clasificación de aguas superficiales de México\n",
        "\n",
        "En este ejercicio vamos a proponer distintos modelos de regresión para clasificar las aguas superficiales de los principales cuerpos superficiales de México, según su calidad."
      ]
    },
    {
      "cell_type": "markdown",
      "metadata": {
        "id": "K2dy1tqEBTPG"
      },
      "source": [
        "### Introducción\n",
        "\n",
        "La Comisión Nacional del Agua (CONAGUA), a través de la Red Nacional de Medición de Calidad del Agua, realiza el monitoreo de los principales cuerpos de agua de México en sus más de 1723 sitios de muestreo. Los datos que utilizaremos fueron obtenidos desde el siguiente link: https://www.gob.mx/conagua/articulos/calidad-del-agua"
      ]
    },
    {
      "cell_type": "markdown",
      "metadata": {
        "id": "1kbmkmDpBWFa"
      },
      "source": [
        "### Carga del Dataset\n",
        "\n",
        "Empecemos abriendo el archivo en Google Colab"
      ]
    },
    {
      "cell_type": "code",
      "execution_count": null,
      "metadata": {
        "colab": {
          "base_uri": "https://localhost:8080/",
          "height": 73
        },
        "id": "N5dtsknqS6eM",
        "outputId": "06400521-4fac-4ef9-ae0b-665e178ecc88"
      },
      "outputs": [
        {
          "output_type": "display_data",
          "data": {
            "text/plain": [
              "<IPython.core.display.HTML object>"
            ],
            "text/html": [
              "\n",
              "     <input type=\"file\" id=\"files-e406b866-5aa9-4f09-a0eb-383575659de4\" name=\"files[]\" multiple disabled\n",
              "        style=\"border:none\" />\n",
              "     <output id=\"result-e406b866-5aa9-4f09-a0eb-383575659de4\">\n",
              "      Upload widget is only available when the cell has been executed in the\n",
              "      current browser session. Please rerun this cell to enable.\n",
              "      </output>\n",
              "      <script>// Copyright 2017 Google LLC\n",
              "//\n",
              "// Licensed under the Apache License, Version 2.0 (the \"License\");\n",
              "// you may not use this file except in compliance with the License.\n",
              "// You may obtain a copy of the License at\n",
              "//\n",
              "//      http://www.apache.org/licenses/LICENSE-2.0\n",
              "//\n",
              "// Unless required by applicable law or agreed to in writing, software\n",
              "// distributed under the License is distributed on an \"AS IS\" BASIS,\n",
              "// WITHOUT WARRANTIES OR CONDITIONS OF ANY KIND, either express or implied.\n",
              "// See the License for the specific language governing permissions and\n",
              "// limitations under the License.\n",
              "\n",
              "/**\n",
              " * @fileoverview Helpers for google.colab Python module.\n",
              " */\n",
              "(function(scope) {\n",
              "function span(text, styleAttributes = {}) {\n",
              "  const element = document.createElement('span');\n",
              "  element.textContent = text;\n",
              "  for (const key of Object.keys(styleAttributes)) {\n",
              "    element.style[key] = styleAttributes[key];\n",
              "  }\n",
              "  return element;\n",
              "}\n",
              "\n",
              "// Max number of bytes which will be uploaded at a time.\n",
              "const MAX_PAYLOAD_SIZE = 100 * 1024;\n",
              "\n",
              "function _uploadFiles(inputId, outputId) {\n",
              "  const steps = uploadFilesStep(inputId, outputId);\n",
              "  const outputElement = document.getElementById(outputId);\n",
              "  // Cache steps on the outputElement to make it available for the next call\n",
              "  // to uploadFilesContinue from Python.\n",
              "  outputElement.steps = steps;\n",
              "\n",
              "  return _uploadFilesContinue(outputId);\n",
              "}\n",
              "\n",
              "// This is roughly an async generator (not supported in the browser yet),\n",
              "// where there are multiple asynchronous steps and the Python side is going\n",
              "// to poll for completion of each step.\n",
              "// This uses a Promise to block the python side on completion of each step,\n",
              "// then passes the result of the previous step as the input to the next step.\n",
              "function _uploadFilesContinue(outputId) {\n",
              "  const outputElement = document.getElementById(outputId);\n",
              "  const steps = outputElement.steps;\n",
              "\n",
              "  const next = steps.next(outputElement.lastPromiseValue);\n",
              "  return Promise.resolve(next.value.promise).then((value) => {\n",
              "    // Cache the last promise value to make it available to the next\n",
              "    // step of the generator.\n",
              "    outputElement.lastPromiseValue = value;\n",
              "    return next.value.response;\n",
              "  });\n",
              "}\n",
              "\n",
              "/**\n",
              " * Generator function which is called between each async step of the upload\n",
              " * process.\n",
              " * @param {string} inputId Element ID of the input file picker element.\n",
              " * @param {string} outputId Element ID of the output display.\n",
              " * @return {!Iterable<!Object>} Iterable of next steps.\n",
              " */\n",
              "function* uploadFilesStep(inputId, outputId) {\n",
              "  const inputElement = document.getElementById(inputId);\n",
              "  inputElement.disabled = false;\n",
              "\n",
              "  const outputElement = document.getElementById(outputId);\n",
              "  outputElement.innerHTML = '';\n",
              "\n",
              "  const pickedPromise = new Promise((resolve) => {\n",
              "    inputElement.addEventListener('change', (e) => {\n",
              "      resolve(e.target.files);\n",
              "    });\n",
              "  });\n",
              "\n",
              "  const cancel = document.createElement('button');\n",
              "  inputElement.parentElement.appendChild(cancel);\n",
              "  cancel.textContent = 'Cancel upload';\n",
              "  const cancelPromise = new Promise((resolve) => {\n",
              "    cancel.onclick = () => {\n",
              "      resolve(null);\n",
              "    };\n",
              "  });\n",
              "\n",
              "  // Wait for the user to pick the files.\n",
              "  const files = yield {\n",
              "    promise: Promise.race([pickedPromise, cancelPromise]),\n",
              "    response: {\n",
              "      action: 'starting',\n",
              "    }\n",
              "  };\n",
              "\n",
              "  cancel.remove();\n",
              "\n",
              "  // Disable the input element since further picks are not allowed.\n",
              "  inputElement.disabled = true;\n",
              "\n",
              "  if (!files) {\n",
              "    return {\n",
              "      response: {\n",
              "        action: 'complete',\n",
              "      }\n",
              "    };\n",
              "  }\n",
              "\n",
              "  for (const file of files) {\n",
              "    const li = document.createElement('li');\n",
              "    li.append(span(file.name, {fontWeight: 'bold'}));\n",
              "    li.append(span(\n",
              "        `(${file.type || 'n/a'}) - ${file.size} bytes, ` +\n",
              "        `last modified: ${\n",
              "            file.lastModifiedDate ? file.lastModifiedDate.toLocaleDateString() :\n",
              "                                    'n/a'} - `));\n",
              "    const percent = span('0% done');\n",
              "    li.appendChild(percent);\n",
              "\n",
              "    outputElement.appendChild(li);\n",
              "\n",
              "    const fileDataPromise = new Promise((resolve) => {\n",
              "      const reader = new FileReader();\n",
              "      reader.onload = (e) => {\n",
              "        resolve(e.target.result);\n",
              "      };\n",
              "      reader.readAsArrayBuffer(file);\n",
              "    });\n",
              "    // Wait for the data to be ready.\n",
              "    let fileData = yield {\n",
              "      promise: fileDataPromise,\n",
              "      response: {\n",
              "        action: 'continue',\n",
              "      }\n",
              "    };\n",
              "\n",
              "    // Use a chunked sending to avoid message size limits. See b/62115660.\n",
              "    let position = 0;\n",
              "    do {\n",
              "      const length = Math.min(fileData.byteLength - position, MAX_PAYLOAD_SIZE);\n",
              "      const chunk = new Uint8Array(fileData, position, length);\n",
              "      position += length;\n",
              "\n",
              "      const base64 = btoa(String.fromCharCode.apply(null, chunk));\n",
              "      yield {\n",
              "        response: {\n",
              "          action: 'append',\n",
              "          file: file.name,\n",
              "          data: base64,\n",
              "        },\n",
              "      };\n",
              "\n",
              "      let percentDone = fileData.byteLength === 0 ?\n",
              "          100 :\n",
              "          Math.round((position / fileData.byteLength) * 100);\n",
              "      percent.textContent = `${percentDone}% done`;\n",
              "\n",
              "    } while (position < fileData.byteLength);\n",
              "  }\n",
              "\n",
              "  // All done.\n",
              "  yield {\n",
              "    response: {\n",
              "      action: 'complete',\n",
              "    }\n",
              "  };\n",
              "}\n",
              "\n",
              "scope.google = scope.google || {};\n",
              "scope.google.colab = scope.google.colab || {};\n",
              "scope.google.colab._files = {\n",
              "  _uploadFiles,\n",
              "  _uploadFilesContinue,\n",
              "};\n",
              "})(self);\n",
              "</script> "
            ]
          },
          "metadata": {}
        },
        {
          "output_type": "stream",
          "name": "stdout",
          "text": [
            "Saving aguas_superficiales.csv to aguas_superficiales.csv\n"
          ]
        }
      ],
      "source": [
        "#Abrimos un archivo local, es decir, que ha sido descargado en su computadora\n",
        "from google.colab import files\n",
        "uploaded = files.upload()"
      ]
    },
    {
      "cell_type": "code",
      "execution_count": null,
      "metadata": {
        "colab": {
          "base_uri": "https://localhost:8080/",
          "height": 481
        },
        "id": "QW4RZMiqSK3s",
        "outputId": "cc86c835-4ade-427c-861e-9400d12e6857"
      },
      "outputs": [
        {
          "output_type": "execute_result",
          "data": {
            "text/plain": [
              "   Unnamed: 0           CLAVE                                        SITIO  \\\n",
              "0           0       CARMINA 2                                    CARMINA 2   \n",
              "1           1  DLAGU0001RNL21                      PRESA NATILLAS DE ABAJO   \n",
              "2           2  DLAGU0002RNL21                             PRESA EL JOCOQUI   \n",
              "3           3  DLAGU0003RNL21                    BORDO SANTA ELENA CORTINA   \n",
              "4           4  DLAGU0004RNL21  HUMEDAL BUENAVISA DE PEÑUELAS  CHARCA NO. 5   \n",
              "\n",
              "       ORGANISMO_DE_CUENCA                ESTADO        MUNICIPIO  \\\n",
              "0                RÍO BRAVO  COAHUILA DE ZARAGOZA           ACUÑA    \n",
              "1  LERMA SANTIAGO PACÍFICO        AGUASCALIENTES            COSIO   \n",
              "2  LERMA SANTIAGO PACÍFICO        AGUASCALIENTES  RINCÓN DE ROMOS   \n",
              "3  LERMA SANTIAGO PACÍFICO        AGUASCALIENTES   AGUASCALIENTES   \n",
              "4  LERMA SANTIAGO PACÍFICO        AGUASCALIENTES   AGUASCALIENTES   \n",
              "\n",
              "             CUENCA           CUERPO DE AGUA     TIPO  SUBTIPO  ...  \\\n",
              "0       RÍO BRAVO 5           DATO PENDIENTE   LÓTICO   ARROYO  ...   \n",
              "1     RÍO SAN PEDRO  PRESA NATILLAS DE ABAJO  LÉNTICO    PRESA  ...   \n",
              "2     RÍO SAN PEDRO         PRESA EL JOCOQUI  LÉNTICO    PRESA  ...   \n",
              "3  PRESA EL NIÁGARA        PRESA SANTA ELENA  LÉNTICO    PRESA  ...   \n",
              "4    PRESA AJOJUCAR        HUMEDAL BUENAVISA  LÉNTICO  HUMEDAL  ...   \n",
              "\n",
              "   OD_PORC_MED  OD_PORC_FON TOX_D_48_UT TOX_V_15_UT TOX_D_48_SUP_UT  \\\n",
              "0          NaN          NaN          <1          <1             NaN   \n",
              "1          NaN          NaN         NaN         NaN             NaN   \n",
              "2          NaN          NaN         NaN         NaN             NaN   \n",
              "3          NaN          NaN         NaN         NaN             NaN   \n",
              "4          NaN          NaN         NaN         NaN             NaN   \n",
              "\n",
              "  TOX_D_48_FON_UT TOX_FIS_SUP_15_UT TOX_FIS_FON_15_UT  SEMAFORO    GRUPO  \n",
              "0             NaN               NaN               NaN  Amarillo   LOTICO  \n",
              "1             NaN               NaN               NaN      Rojo  LENTICO  \n",
              "2             NaN               NaN               NaN     Verde  LENTICO  \n",
              "3             NaN               NaN               NaN      Rojo  LENTICO  \n",
              "4             NaN               NaN               NaN      Rojo  LENTICO  \n",
              "\n",
              "[5 rows x 31 columns]"
            ],
            "text/html": [
              "\n",
              "  <div id=\"df-1d1a5393-0229-4fb7-af1c-32b42c8863f4\" class=\"colab-df-container\">\n",
              "    <div>\n",
              "<style scoped>\n",
              "    .dataframe tbody tr th:only-of-type {\n",
              "        vertical-align: middle;\n",
              "    }\n",
              "\n",
              "    .dataframe tbody tr th {\n",
              "        vertical-align: top;\n",
              "    }\n",
              "\n",
              "    .dataframe thead th {\n",
              "        text-align: right;\n",
              "    }\n",
              "</style>\n",
              "<table border=\"1\" class=\"dataframe\">\n",
              "  <thead>\n",
              "    <tr style=\"text-align: right;\">\n",
              "      <th></th>\n",
              "      <th>Unnamed: 0</th>\n",
              "      <th>CLAVE</th>\n",
              "      <th>SITIO</th>\n",
              "      <th>ORGANISMO_DE_CUENCA</th>\n",
              "      <th>ESTADO</th>\n",
              "      <th>MUNICIPIO</th>\n",
              "      <th>CUENCA</th>\n",
              "      <th>CUERPO DE AGUA</th>\n",
              "      <th>TIPO</th>\n",
              "      <th>SUBTIPO</th>\n",
              "      <th>...</th>\n",
              "      <th>OD_PORC_MED</th>\n",
              "      <th>OD_PORC_FON</th>\n",
              "      <th>TOX_D_48_UT</th>\n",
              "      <th>TOX_V_15_UT</th>\n",
              "      <th>TOX_D_48_SUP_UT</th>\n",
              "      <th>TOX_D_48_FON_UT</th>\n",
              "      <th>TOX_FIS_SUP_15_UT</th>\n",
              "      <th>TOX_FIS_FON_15_UT</th>\n",
              "      <th>SEMAFORO</th>\n",
              "      <th>GRUPO</th>\n",
              "    </tr>\n",
              "  </thead>\n",
              "  <tbody>\n",
              "    <tr>\n",
              "      <th>0</th>\n",
              "      <td>0</td>\n",
              "      <td>CARMINA 2</td>\n",
              "      <td>CARMINA 2</td>\n",
              "      <td>RÍO BRAVO</td>\n",
              "      <td>COAHUILA DE ZARAGOZA</td>\n",
              "      <td>ACUÑA</td>\n",
              "      <td>RÍO BRAVO 5</td>\n",
              "      <td>DATO PENDIENTE</td>\n",
              "      <td>LÓTICO</td>\n",
              "      <td>ARROYO</td>\n",
              "      <td>...</td>\n",
              "      <td>NaN</td>\n",
              "      <td>NaN</td>\n",
              "      <td>&lt;1</td>\n",
              "      <td>&lt;1</td>\n",
              "      <td>NaN</td>\n",
              "      <td>NaN</td>\n",
              "      <td>NaN</td>\n",
              "      <td>NaN</td>\n",
              "      <td>Amarillo</td>\n",
              "      <td>LOTICO</td>\n",
              "    </tr>\n",
              "    <tr>\n",
              "      <th>1</th>\n",
              "      <td>1</td>\n",
              "      <td>DLAGU0001RNL21</td>\n",
              "      <td>PRESA NATILLAS DE ABAJO</td>\n",
              "      <td>LERMA SANTIAGO PACÍFICO</td>\n",
              "      <td>AGUASCALIENTES</td>\n",
              "      <td>COSIO</td>\n",
              "      <td>RÍO SAN PEDRO</td>\n",
              "      <td>PRESA NATILLAS DE ABAJO</td>\n",
              "      <td>LÉNTICO</td>\n",
              "      <td>PRESA</td>\n",
              "      <td>...</td>\n",
              "      <td>NaN</td>\n",
              "      <td>NaN</td>\n",
              "      <td>NaN</td>\n",
              "      <td>NaN</td>\n",
              "      <td>NaN</td>\n",
              "      <td>NaN</td>\n",
              "      <td>NaN</td>\n",
              "      <td>NaN</td>\n",
              "      <td>Rojo</td>\n",
              "      <td>LENTICO</td>\n",
              "    </tr>\n",
              "    <tr>\n",
              "      <th>2</th>\n",
              "      <td>2</td>\n",
              "      <td>DLAGU0002RNL21</td>\n",
              "      <td>PRESA EL JOCOQUI</td>\n",
              "      <td>LERMA SANTIAGO PACÍFICO</td>\n",
              "      <td>AGUASCALIENTES</td>\n",
              "      <td>RINCÓN DE ROMOS</td>\n",
              "      <td>RÍO SAN PEDRO</td>\n",
              "      <td>PRESA EL JOCOQUI</td>\n",
              "      <td>LÉNTICO</td>\n",
              "      <td>PRESA</td>\n",
              "      <td>...</td>\n",
              "      <td>NaN</td>\n",
              "      <td>NaN</td>\n",
              "      <td>NaN</td>\n",
              "      <td>NaN</td>\n",
              "      <td>NaN</td>\n",
              "      <td>NaN</td>\n",
              "      <td>NaN</td>\n",
              "      <td>NaN</td>\n",
              "      <td>Verde</td>\n",
              "      <td>LENTICO</td>\n",
              "    </tr>\n",
              "    <tr>\n",
              "      <th>3</th>\n",
              "      <td>3</td>\n",
              "      <td>DLAGU0003RNL21</td>\n",
              "      <td>BORDO SANTA ELENA CORTINA</td>\n",
              "      <td>LERMA SANTIAGO PACÍFICO</td>\n",
              "      <td>AGUASCALIENTES</td>\n",
              "      <td>AGUASCALIENTES</td>\n",
              "      <td>PRESA EL NIÁGARA</td>\n",
              "      <td>PRESA SANTA ELENA</td>\n",
              "      <td>LÉNTICO</td>\n",
              "      <td>PRESA</td>\n",
              "      <td>...</td>\n",
              "      <td>NaN</td>\n",
              "      <td>NaN</td>\n",
              "      <td>NaN</td>\n",
              "      <td>NaN</td>\n",
              "      <td>NaN</td>\n",
              "      <td>NaN</td>\n",
              "      <td>NaN</td>\n",
              "      <td>NaN</td>\n",
              "      <td>Rojo</td>\n",
              "      <td>LENTICO</td>\n",
              "    </tr>\n",
              "    <tr>\n",
              "      <th>4</th>\n",
              "      <td>4</td>\n",
              "      <td>DLAGU0004RNL21</td>\n",
              "      <td>HUMEDAL BUENAVISA DE PEÑUELAS  CHARCA NO. 5</td>\n",
              "      <td>LERMA SANTIAGO PACÍFICO</td>\n",
              "      <td>AGUASCALIENTES</td>\n",
              "      <td>AGUASCALIENTES</td>\n",
              "      <td>PRESA AJOJUCAR</td>\n",
              "      <td>HUMEDAL BUENAVISA</td>\n",
              "      <td>LÉNTICO</td>\n",
              "      <td>HUMEDAL</td>\n",
              "      <td>...</td>\n",
              "      <td>NaN</td>\n",
              "      <td>NaN</td>\n",
              "      <td>NaN</td>\n",
              "      <td>NaN</td>\n",
              "      <td>NaN</td>\n",
              "      <td>NaN</td>\n",
              "      <td>NaN</td>\n",
              "      <td>NaN</td>\n",
              "      <td>Rojo</td>\n",
              "      <td>LENTICO</td>\n",
              "    </tr>\n",
              "  </tbody>\n",
              "</table>\n",
              "<p>5 rows × 31 columns</p>\n",
              "</div>\n",
              "    <div class=\"colab-df-buttons\">\n",
              "\n",
              "  <div class=\"colab-df-container\">\n",
              "    <button class=\"colab-df-convert\" onclick=\"convertToInteractive('df-1d1a5393-0229-4fb7-af1c-32b42c8863f4')\"\n",
              "            title=\"Convert this dataframe to an interactive table.\"\n",
              "            style=\"display:none;\">\n",
              "\n",
              "  <svg xmlns=\"http://www.w3.org/2000/svg\" height=\"24px\" viewBox=\"0 -960 960 960\">\n",
              "    <path d=\"M120-120v-720h720v720H120Zm60-500h600v-160H180v160Zm220 220h160v-160H400v160Zm0 220h160v-160H400v160ZM180-400h160v-160H180v160Zm440 0h160v-160H620v160ZM180-180h160v-160H180v160Zm440 0h160v-160H620v160Z\"/>\n",
              "  </svg>\n",
              "    </button>\n",
              "\n",
              "  <style>\n",
              "    .colab-df-container {\n",
              "      display:flex;\n",
              "      gap: 12px;\n",
              "    }\n",
              "\n",
              "    .colab-df-convert {\n",
              "      background-color: #E8F0FE;\n",
              "      border: none;\n",
              "      border-radius: 50%;\n",
              "      cursor: pointer;\n",
              "      display: none;\n",
              "      fill: #1967D2;\n",
              "      height: 32px;\n",
              "      padding: 0 0 0 0;\n",
              "      width: 32px;\n",
              "    }\n",
              "\n",
              "    .colab-df-convert:hover {\n",
              "      background-color: #E2EBFA;\n",
              "      box-shadow: 0px 1px 2px rgba(60, 64, 67, 0.3), 0px 1px 3px 1px rgba(60, 64, 67, 0.15);\n",
              "      fill: #174EA6;\n",
              "    }\n",
              "\n",
              "    .colab-df-buttons div {\n",
              "      margin-bottom: 4px;\n",
              "    }\n",
              "\n",
              "    [theme=dark] .colab-df-convert {\n",
              "      background-color: #3B4455;\n",
              "      fill: #D2E3FC;\n",
              "    }\n",
              "\n",
              "    [theme=dark] .colab-df-convert:hover {\n",
              "      background-color: #434B5C;\n",
              "      box-shadow: 0px 1px 3px 1px rgba(0, 0, 0, 0.15);\n",
              "      filter: drop-shadow(0px 1px 2px rgba(0, 0, 0, 0.3));\n",
              "      fill: #FFFFFF;\n",
              "    }\n",
              "  </style>\n",
              "\n",
              "    <script>\n",
              "      const buttonEl =\n",
              "        document.querySelector('#df-1d1a5393-0229-4fb7-af1c-32b42c8863f4 button.colab-df-convert');\n",
              "      buttonEl.style.display =\n",
              "        google.colab.kernel.accessAllowed ? 'block' : 'none';\n",
              "\n",
              "      async function convertToInteractive(key) {\n",
              "        const element = document.querySelector('#df-1d1a5393-0229-4fb7-af1c-32b42c8863f4');\n",
              "        const dataTable =\n",
              "          await google.colab.kernel.invokeFunction('convertToInteractive',\n",
              "                                                    [key], {});\n",
              "        if (!dataTable) return;\n",
              "\n",
              "        const docLinkHtml = 'Like what you see? Visit the ' +\n",
              "          '<a target=\"_blank\" href=https://colab.research.google.com/notebooks/data_table.ipynb>data table notebook</a>'\n",
              "          + ' to learn more about interactive tables.';\n",
              "        element.innerHTML = '';\n",
              "        dataTable['output_type'] = 'display_data';\n",
              "        await google.colab.output.renderOutput(dataTable, element);\n",
              "        const docLink = document.createElement('div');\n",
              "        docLink.innerHTML = docLinkHtml;\n",
              "        element.appendChild(docLink);\n",
              "      }\n",
              "    </script>\n",
              "  </div>\n",
              "\n",
              "\n",
              "<div id=\"df-8ce4c716-58d4-4ee1-86a1-0d4926001e6d\">\n",
              "  <button class=\"colab-df-quickchart\" onclick=\"quickchart('df-8ce4c716-58d4-4ee1-86a1-0d4926001e6d')\"\n",
              "            title=\"Suggest charts\"\n",
              "            style=\"display:none;\">\n",
              "\n",
              "<svg xmlns=\"http://www.w3.org/2000/svg\" height=\"24px\"viewBox=\"0 0 24 24\"\n",
              "     width=\"24px\">\n",
              "    <g>\n",
              "        <path d=\"M19 3H5c-1.1 0-2 .9-2 2v14c0 1.1.9 2 2 2h14c1.1 0 2-.9 2-2V5c0-1.1-.9-2-2-2zM9 17H7v-7h2v7zm4 0h-2V7h2v10zm4 0h-2v-4h2v4z\"/>\n",
              "    </g>\n",
              "</svg>\n",
              "  </button>\n",
              "\n",
              "<style>\n",
              "  .colab-df-quickchart {\n",
              "      --bg-color: #E8F0FE;\n",
              "      --fill-color: #1967D2;\n",
              "      --hover-bg-color: #E2EBFA;\n",
              "      --hover-fill-color: #174EA6;\n",
              "      --disabled-fill-color: #AAA;\n",
              "      --disabled-bg-color: #DDD;\n",
              "  }\n",
              "\n",
              "  [theme=dark] .colab-df-quickchart {\n",
              "      --bg-color: #3B4455;\n",
              "      --fill-color: #D2E3FC;\n",
              "      --hover-bg-color: #434B5C;\n",
              "      --hover-fill-color: #FFFFFF;\n",
              "      --disabled-bg-color: #3B4455;\n",
              "      --disabled-fill-color: #666;\n",
              "  }\n",
              "\n",
              "  .colab-df-quickchart {\n",
              "    background-color: var(--bg-color);\n",
              "    border: none;\n",
              "    border-radius: 50%;\n",
              "    cursor: pointer;\n",
              "    display: none;\n",
              "    fill: var(--fill-color);\n",
              "    height: 32px;\n",
              "    padding: 0;\n",
              "    width: 32px;\n",
              "  }\n",
              "\n",
              "  .colab-df-quickchart:hover {\n",
              "    background-color: var(--hover-bg-color);\n",
              "    box-shadow: 0 1px 2px rgba(60, 64, 67, 0.3), 0 1px 3px 1px rgba(60, 64, 67, 0.15);\n",
              "    fill: var(--button-hover-fill-color);\n",
              "  }\n",
              "\n",
              "  .colab-df-quickchart-complete:disabled,\n",
              "  .colab-df-quickchart-complete:disabled:hover {\n",
              "    background-color: var(--disabled-bg-color);\n",
              "    fill: var(--disabled-fill-color);\n",
              "    box-shadow: none;\n",
              "  }\n",
              "\n",
              "  .colab-df-spinner {\n",
              "    border: 2px solid var(--fill-color);\n",
              "    border-color: transparent;\n",
              "    border-bottom-color: var(--fill-color);\n",
              "    animation:\n",
              "      spin 1s steps(1) infinite;\n",
              "  }\n",
              "\n",
              "  @keyframes spin {\n",
              "    0% {\n",
              "      border-color: transparent;\n",
              "      border-bottom-color: var(--fill-color);\n",
              "      border-left-color: var(--fill-color);\n",
              "    }\n",
              "    20% {\n",
              "      border-color: transparent;\n",
              "      border-left-color: var(--fill-color);\n",
              "      border-top-color: var(--fill-color);\n",
              "    }\n",
              "    30% {\n",
              "      border-color: transparent;\n",
              "      border-left-color: var(--fill-color);\n",
              "      border-top-color: var(--fill-color);\n",
              "      border-right-color: var(--fill-color);\n",
              "    }\n",
              "    40% {\n",
              "      border-color: transparent;\n",
              "      border-right-color: var(--fill-color);\n",
              "      border-top-color: var(--fill-color);\n",
              "    }\n",
              "    60% {\n",
              "      border-color: transparent;\n",
              "      border-right-color: var(--fill-color);\n",
              "    }\n",
              "    80% {\n",
              "      border-color: transparent;\n",
              "      border-right-color: var(--fill-color);\n",
              "      border-bottom-color: var(--fill-color);\n",
              "    }\n",
              "    90% {\n",
              "      border-color: transparent;\n",
              "      border-bottom-color: var(--fill-color);\n",
              "    }\n",
              "  }\n",
              "</style>\n",
              "\n",
              "  <script>\n",
              "    async function quickchart(key) {\n",
              "      const quickchartButtonEl =\n",
              "        document.querySelector('#' + key + ' button');\n",
              "      quickchartButtonEl.disabled = true;  // To prevent multiple clicks.\n",
              "      quickchartButtonEl.classList.add('colab-df-spinner');\n",
              "      try {\n",
              "        const charts = await google.colab.kernel.invokeFunction(\n",
              "            'suggestCharts', [key], {});\n",
              "      } catch (error) {\n",
              "        console.error('Error during call to suggestCharts:', error);\n",
              "      }\n",
              "      quickchartButtonEl.classList.remove('colab-df-spinner');\n",
              "      quickchartButtonEl.classList.add('colab-df-quickchart-complete');\n",
              "    }\n",
              "    (() => {\n",
              "      let quickchartButtonEl =\n",
              "        document.querySelector('#df-8ce4c716-58d4-4ee1-86a1-0d4926001e6d button');\n",
              "      quickchartButtonEl.style.display =\n",
              "        google.colab.kernel.accessAllowed ? 'block' : 'none';\n",
              "    })();\n",
              "  </script>\n",
              "</div>\n",
              "\n",
              "    </div>\n",
              "  </div>\n"
            ],
            "application/vnd.google.colaboratory.intrinsic+json": {
              "type": "dataframe",
              "variable_name": "df"
            }
          },
          "metadata": {},
          "execution_count": 4
        }
      ],
      "source": [
        "df = pd.read_csv(io.BytesIO(uploaded['aguas_superficiales.csv']))\n",
        "df.head()"
      ]
    },
    {
      "cell_type": "markdown",
      "metadata": {
        "id": "YOME9zrJCr24"
      },
      "source": [
        "Observemos las columnas del dataset:"
      ]
    },
    {
      "cell_type": "code",
      "execution_count": null,
      "metadata": {
        "colab": {
          "base_uri": "https://localhost:8080/"
        },
        "id": "LTA1M5svbjQT",
        "outputId": "176c9c67-b8d6-4098-bd60-0469016458e9"
      },
      "outputs": [
        {
          "output_type": "execute_result",
          "data": {
            "text/plain": [
              "Index(['Unnamed: 0', 'CLAVE', 'SITIO', 'ORGANISMO_DE_CUENCA', 'ESTADO',\n",
              "       'MUNICIPIO', 'CUENCA', 'CUERPO DE AGUA', 'TIPO', 'SUBTIPO', 'LONGITUD',\n",
              "       'LATITUD', 'PERIODO', 'DBO_mg/L', 'DQO_mg/L', 'SST_mg/L',\n",
              "       'COLI_FEC_NMP_100mL', 'E_COLI_NMP_100mL', 'ENTEROC_NMP_100mL',\n",
              "       'OD_PORC', 'OD_PORC_SUP', 'OD_PORC_MED', 'OD_PORC_FON', 'TOX_D_48_UT',\n",
              "       'TOX_V_15_UT', 'TOX_D_48_SUP_UT', 'TOX_D_48_FON_UT',\n",
              "       'TOX_FIS_SUP_15_UT', 'TOX_FIS_FON_15_UT', 'SEMAFORO', 'GRUPO'],\n",
              "      dtype='object')"
            ]
          },
          "metadata": {},
          "execution_count": 5
        }
      ],
      "source": [
        "df.columns"
      ]
    },
    {
      "cell_type": "markdown",
      "metadata": {
        "id": "LYMxwGI5jldZ"
      },
      "source": [
        "Este contiene, además de la información geográfica de las estaciones de muestreo, resultados de ensayos de calidad del agua, siendo sus variables:\n",
        "- **Demanda Bioquímica de Oxígeno a cinco días: DBO**\n",
        "- **Demanda Química de Oxígeno: DQO**\n",
        "- **Sólidos Suspendidos Totales: SST**\n",
        "- **Coliformes fecales: CF**\n",
        "- **Escherichia coli: E_COLI**\n",
        "- **Enterococos fecales: ENTEROC_FEC**\n",
        "- **Porcentaje de saturación de Oxígeno Disuelto: OD**\n",
        "- **Toxicidad aguda: TOX**\n",
        "\n",
        "En base en estos indicadores, se clasifica el agua según su calidad, siguiendo una escala de tipo **semáforo** que considera 3 colores: **verde, amarillo y rojo**, correspondientes a buena calidad, aceptable y contaminada, respectivamente."
      ]
    },
    {
      "cell_type": "code",
      "execution_count": null,
      "metadata": {
        "colab": {
          "base_uri": "https://localhost:8080/"
        },
        "id": "1HPeXf-ubx3D",
        "outputId": "c3c53f5d-9ac5-4496-ef7c-874b2afd6ae0"
      },
      "outputs": [
        {
          "output_type": "execute_result",
          "data": {
            "text/plain": [
              "SEMAFORO\n",
              "Verde       2326\n",
              "Amarillo    2076\n",
              "Rojo        1823\n",
              "Name: count, dtype: int64"
            ]
          },
          "metadata": {},
          "execution_count": 6
        }
      ],
      "source": [
        "# Cantidad de aguas de cada categoría:\n",
        "df['SEMAFORO'].value_counts()"
      ]
    },
    {
      "cell_type": "markdown",
      "metadata": {
        "id": "7dw8UfMZ0iqn"
      },
      "source": [
        "### Análisis Exploratorio de Datos\n",
        "\n",
        "En primer lugar, vamos a analizar los datos y a limpiarlos, para luego desarrollar el modelo.\n",
        "\n",
        "Nosotros trabajaremos con las aguas de tipo **lótico**. Además, conservaremos únicamente las columnas relacionadas con la calidad de agua (no los datos geográficos)."
      ]
    },
    {
      "cell_type": "code",
      "execution_count": null,
      "metadata": {
        "id": "JRc86wgiat5L"
      },
      "outputs": [],
      "source": [
        "df = df[df['GRUPO'] == 'LOTICO']"
      ]
    },
    {
      "cell_type": "code",
      "execution_count": null,
      "metadata": {
        "id": "pDKtXhHkJGL1"
      },
      "outputs": [],
      "source": [
        "# Selección de variables sobre calidad del agua de tipo lotico\n",
        "df = df[['DBO_mg/L', 'DQO_mg/L', 'SST_mg/L', 'COLI_FEC_NMP_100mL','E_COLI_NMP_100mL',\n",
        "         'ENTEROC_NMP_100mL', 'OD_PORC', 'TOX_D_48_UT', 'TOX_V_15_UT', 'SEMAFORO']].copy()\n",
        "\n",
        "# Renombrar columnas\n",
        "df.rename(columns={'DBO_mg/L': 'DBO',\n",
        "                    'DQO_mg/L': 'DQO',\n",
        "                    'SST_mg/L': 'SST',\n",
        "                    'COLI_FEC_NMP_100mL': 'COLI',\n",
        "                    'E_COLI_NMP_100mL': 'E_COLI',\n",
        "                    'ENTEROC_NMP_100mL': 'ENTEROC',\n",
        "                    'OD_PORC': 'OD',\n",
        "                    'TOX_D_48_UT': 'TOX_D',\n",
        "                    'TOX_V_15_UT': 'TOX_V'\n",
        "                     },\n",
        "            inplace=True)"
      ]
    },
    {
      "cell_type": "markdown",
      "metadata": {
        "id": "SY937FEiGdX0"
      },
      "source": [
        "#### Actividad 1\n",
        "\n",
        "Utilizando `.info()`, vamos a analizar si el tipo de dato es el esperado: por ejemplo si la columna que deben contener textos, efectivamente sea de tipo `object` y las numéricas, `float` o `interger`, etc."
      ]
    },
    {
      "cell_type": "code",
      "execution_count": null,
      "metadata": {
        "colab": {
          "base_uri": "https://localhost:8080/"
        },
        "id": "to9DSOwGwPkn",
        "outputId": "08822104-b5c3-4763-f693-c4b469fcb1d1"
      },
      "outputs": [
        {
          "output_type": "stream",
          "name": "stdout",
          "text": [
            "<class 'pandas.core.frame.DataFrame'>\n",
            "Index: 3372 entries, 0 to 6224\n",
            "Data columns (total 10 columns):\n",
            " #   Column    Non-Null Count  Dtype \n",
            "---  ------    --------------  ----- \n",
            " 0   DBO       3230 non-null   object\n",
            " 1   DQO       3241 non-null   object\n",
            " 2   SST       3218 non-null   object\n",
            " 3   COLI      3234 non-null   object\n",
            " 4   E_COLI    3159 non-null   object\n",
            " 5   ENTEROC   43 non-null     object\n",
            " 6   OD        3227 non-null   object\n",
            " 7   TOX_D     3121 non-null   object\n",
            " 8   TOX_V     3112 non-null   object\n",
            " 9   SEMAFORO  3372 non-null   object\n",
            "dtypes: object(10)\n",
            "memory usage: 289.8+ KB\n"
          ]
        }
      ],
      "source": [
        "df.info()"
      ]
    },
    {
      "cell_type": "markdown",
      "metadata": {
        "id": "XwQ1hA_FHoOF"
      },
      "source": [
        "**Actividad**: Utilizando `replace()` haga las moficaciones que sean necesarias en los valores y convierta el tipo de dato.\n",
        "\n",
        "NOTA: A fines del trabajo práctico, si un dato es indicado como `menor a X` asuma que vale directamente X. Para ver una forma más compleja de considerar datos censurados puede ver los ejercicios resueltos en las clases prácticas."
      ]
    },
    {
      "cell_type": "code",
      "execution_count": null,
      "metadata": {
        "id": "nC8j70ZqGKtt"
      },
      "outputs": [],
      "source": [
        "# Limpieza\n",
        "# CODIGO DEL ALUMNO ############################################################\n",
        "\n",
        "\n",
        "\n",
        "\n",
        "\n",
        "\n",
        "\n",
        "\n",
        "################################################################################\n",
        "df.info()"
      ]
    },
    {
      "cell_type": "markdown",
      "source": [
        "**Pregunta:** ¿Existe una variable que no merece la pena incluir debido a la cantidad de datos?"
      ],
      "metadata": {
        "id": "xWDQ-utBR2QA"
      }
    },
    {
      "cell_type": "markdown",
      "metadata": {
        "id": "DNordMU2cm7D"
      },
      "source": [
        "**Respuesta:**"
      ]
    },
    {
      "cell_type": "markdown",
      "metadata": {
        "id": "kzdpzw4nGQyq"
      },
      "source": [
        "#### Actividad 2\n",
        "\n",
        "**Actividad**: Defina una lista llamada `feature_corr` con los headers de las variables de interés que han sobrevivido y realice un heatmap con su correlación."
      ]
    },
    {
      "cell_type": "code",
      "execution_count": null,
      "metadata": {
        "id": "N2-jQmHzLRb4"
      },
      "outputs": [],
      "source": [
        "# CODIGO DEL ALUMNO ############################################################\n",
        "feature_corr =\n",
        "\n",
        "################################################################################\n",
        "plt.show()"
      ]
    },
    {
      "cell_type": "markdown",
      "metadata": {
        "id": "ANkzKcpIM6VL"
      },
      "source": [
        "\n",
        "**Pregunta**: Observando el gráfico, ¿se quedaría con todas las variables para ajustar un modelo?"
      ]
    },
    {
      "cell_type": "markdown",
      "source": [
        "**Su Repuesta:**"
      ],
      "metadata": {
        "id": "YOgKi30TSsHs"
      }
    },
    {
      "cell_type": "markdown",
      "metadata": {
        "id": "jLX8twQuPWU2"
      },
      "source": [
        "#### Actividad 3\n",
        "\n",
        "**Actividad**: Para observar las relaciones entre variables en forma detallada, realice gráficos de puntos utilizando `sns.pairplot()`.\n",
        "\n",
        "Defina una lista `columns` con las variables a considerar en el pair plot. Verá que los resultados están mostrados en escala logarítmica."
      ]
    },
    {
      "cell_type": "code",
      "execution_count": null,
      "metadata": {
        "id": "cQY1O6zEftL_"
      },
      "outputs": [],
      "source": [
        "# CODIGO DEL ALUMNO ############################################################\n",
        "columns =\n",
        "################################################################################\n",
        "\n",
        "pairplot = sns.pairplot(df[columns], hue='SEMAFORO')\n",
        "\n",
        "for ax in pairplot.axes.flatten():\n",
        "    ax.set_xscale('log')\n",
        "    ax.set_yscale('log')\n",
        "\n",
        "plt.show()"
      ]
    },
    {
      "cell_type": "markdown",
      "metadata": {
        "id": "Jctnpt4DimpF"
      },
      "source": [
        "**Pregunta**: ¿Observa algo en particular?"
      ]
    },
    {
      "cell_type": "markdown",
      "source": [
        "**Su Respuesta**:"
      ],
      "metadata": {
        "id": "MgaCQdDxSmJd"
      }
    },
    {
      "cell_type": "markdown",
      "metadata": {
        "id": "hUGyoeiBNNJ3"
      },
      "source": [
        "#### Actividad 4\n",
        "\n",
        "**Actividad**: En el DataFrame `df_new` coloque los headers de las columnas que serán sus variables y remueva los valores nulos. Luego analice el resultado que muestra `.describe()`."
      ]
    },
    {
      "cell_type": "code",
      "execution_count": null,
      "metadata": {
        "id": "3tqdbKfTCKIr"
      },
      "outputs": [],
      "source": [
        "# Defina df_new\n",
        "# CODIGO DEL ALUMNO ############################################################\n",
        "df_new =\n",
        "################################################################################\n",
        "\n",
        "\n",
        "# Remueva valores nulos\n",
        "# CODIGO DEL ALUMNO ############################################################\n",
        "\n",
        "################################################################################\n",
        "\n",
        "df_new.describe()"
      ]
    },
    {
      "cell_type": "markdown",
      "metadata": {
        "id": "FzA-oGgvOSQI"
      },
      "source": [
        "**Pregunta**: ¿Qué puede decir de la tabla anterior? Analice dispersiones, valores medios y extremos entre las variables, y rangos de valores."
      ]
    },
    {
      "cell_type": "markdown",
      "metadata": {
        "id": "veUPE2PfOkxP"
      },
      "source": [
        "**Su Respuesta:**"
      ]
    },
    {
      "cell_type": "markdown",
      "metadata": {
        "id": "3xIK46E_PR99"
      },
      "source": [
        "#### Actividad 5\n",
        "\n",
        "Utilizando `sns.stripplot()` vamos a observar cómo se distribuyen las muestras según la categoría y la variable de calidad."
      ]
    },
    {
      "cell_type": "code",
      "execution_count": null,
      "metadata": {
        "colab": {
          "base_uri": "https://localhost:8080/",
          "height": 224
        },
        "id": "Wdt4nuYlkqcL",
        "outputId": "56b53611-e673-4fe2-f043-6cf2f09268b0"
      },
      "outputs": [
        {
          "output_type": "display_data",
          "data": {
            "text/plain": [
              "<Figure size 2100x300 with 6 Axes>"
            ],
            "image/png": "[encoded data removed]"
          },
          "metadata": {}
        }
      ],
      "source": [
        "# Gráficos\n",
        "fig, axes = plt.subplots(1, 6, figsize=(21,3))\n",
        "\n",
        "sns.stripplot(data=df_new, x='SEMAFORO', y='DQO', hue='SEMAFORO', ax=axes[0]).set(title='DQO')\n",
        "sns.stripplot(data=df_new, x='SEMAFORO', y='SST', hue='SEMAFORO', ax=axes[1]).set(title='SST:')\n",
        "sns.stripplot(data=df_new, x='SEMAFORO', y='COLI', hue='SEMAFORO', ax=axes[2]).set(title='Organismos biológicos COLI:')\n",
        "sns.stripplot(data=df_new, x='SEMAFORO', y='E_COLI', hue='SEMAFORO', ax=axes[3]).set(title='Organismos biológicos E COLI:')\n",
        "sns.stripplot(data=df_new, x='SEMAFORO', y='TOX_D', hue='SEMAFORO', ax=axes[4]).set(title='Toxicidad D:')\n",
        "sns.stripplot(data=df_new, x='SEMAFORO', y='TOX_V', hue='SEMAFORO', ax=axes[5]).set(title='Toxicidad V:')\n",
        "\n",
        "for ax in axes:\n",
        "    ax.set_yscale('log')\n",
        "\n",
        "fig.subplots_adjust(wspace=0.4)\n",
        "plt.show()"
      ]
    },
    {
      "cell_type": "markdown",
      "source": [
        "A continuación, construimos para ustedes una función par la eliminación de outliers del dataset, en particular estas responden a aguas altamente contaminadas que no queremos analizar en este momento (no necesitamos un modelo que nos lo diga)."
      ],
      "metadata": {
        "id": "NUPfdJTLTX9r"
      }
    },
    {
      "cell_type": "code",
      "execution_count": null,
      "metadata": {
        "id": "2Mp2_88hJ0AJ"
      },
      "outputs": [],
      "source": [
        "# Funcion para remover outliers superiores:\n",
        "\n",
        "def remove_outliers(columns, df, quantile_low=0.05, quantile_high=0.95, multiplier=1.5):\n",
        "\n",
        "    df_filtered = df.copy()\n",
        "\n",
        "    for col in columns:\n",
        "        Q1 = df_filtered[col].quantile(quantile_low)\n",
        "        Q3 = df_filtered[col].quantile(quantile_high)\n",
        "        IQR = Q3 - Q1\n",
        "\n",
        "        upper_bound = Q3 + multiplier * IQR\n",
        "        # Si quisieramos remover inferiores también\n",
        "        #lower_bound = Q1 - multiplier * IQR\n",
        "\n",
        "        df_filtered = df_filtered[(df_filtered[col] <= upper_bound)]\n",
        "        #df_filtered = df_filtered[(df_filtered[col] <= upper_bound) & (df_filtered[col] >= lower_bound)]\n",
        "\n",
        "    return df_filtered"
      ]
    },
    {
      "cell_type": "markdown",
      "metadata": {
        "id": "erEZPsGuTD8x"
      },
      "source": [
        "**Actividad**: Para eliminar valores extremos de aguas altamente contaminadas, defina `features` como una lista con los headers las columnas que serán sus variables.\n",
        "\n"
      ]
    },
    {
      "cell_type": "code",
      "execution_count": null,
      "metadata": {
        "id": "gBQHkn7DS_XB"
      },
      "outputs": [],
      "source": [
        "# Definimos la lista features con las variables explicativas del modelo\n",
        "# CODIGO DEL ALUMNO ############################################################\n",
        "features =\n",
        "################################################################################\n",
        "\n",
        "# Aplicamos la funcion recien definida\n",
        "df_new_filtered = remove_outliers(features, df_new)\n",
        "df_new_filtered.head()"
      ]
    },
    {
      "cell_type": "markdown",
      "metadata": {
        "id": "Sr3YbIgNzDbd"
      },
      "source": [
        "**Actividad**: A continuación, repetiremos los gráficos anteriores pero esta vez, con los datos filtrados."
      ]
    },
    {
      "cell_type": "code",
      "execution_count": null,
      "metadata": {
        "id": "zkVL5I8yv0Dm"
      },
      "outputs": [],
      "source": [
        "# Gráficos\n",
        "fig, axes = plt.subplots(1, 6, figsize=(21,3))\n",
        "\n",
        "# CODIGO DEL ALUMNO ############################################################\n",
        "\n",
        "\n",
        "\n",
        "\n",
        "\n",
        "\n",
        "\n",
        "\n",
        "################################################################################\n",
        "\n",
        "for ax in axes:\n",
        "    ax.set_yscale('log')\n",
        "\n",
        "fig.subplots_adjust(wspace=0.4)\n",
        "plt.show()"
      ]
    },
    {
      "cell_type": "markdown",
      "metadata": {
        "id": "woVr9HxLz6qN"
      },
      "source": [
        "#### Actividad 6\n",
        "\n",
        "**Actividad**: Utilice `.describe()` para observar los datos hasta el momento."
      ]
    },
    {
      "cell_type": "code",
      "execution_count": null,
      "metadata": {
        "id": "p2g2Jk13yj9-"
      },
      "outputs": [],
      "source": [
        "# CODIGO DEL ALUMNO ############################################################\n",
        "\n",
        "################################################################################"
      ]
    },
    {
      "cell_type": "markdown",
      "metadata": {
        "id": "bWKQM6Ug1oJT"
      },
      "source": [
        "**Pregunta**: En conjunto con los gráficos de la Actividad 5, ¿nota algo que podría llegar a perjudicar la convergencia o la velocidad de la corrida de los modelos que usted genere?"
      ]
    },
    {
      "cell_type": "markdown",
      "metadata": {
        "id": "SVLXOUsy1ot1"
      },
      "source": [
        "**Su Respuesta:**"
      ]
    },
    {
      "cell_type": "markdown",
      "metadata": {
        "id": "GYafa7oULFfA"
      },
      "source": [
        "### Datos de entrenamiento y de testeo\n",
        "\n",
        "Antes de desarrollar los modelos, vamos a separar los datos en 2: uno para entrenar el modelo y el otro, para testearlo:"
      ]
    },
    {
      "cell_type": "code",
      "execution_count": null,
      "metadata": {
        "id": "Vqa0T0IRRHVF"
      },
      "outputs": [],
      "source": [
        "import random\n",
        "\n",
        "def split_data(df, train_size=0.8, random_state=42):\n",
        "    random.seed(random_state)\n",
        "\n",
        "    data = df.values.tolist()\n",
        "    headers = df.columns.tolist()\n",
        "\n",
        "    random.shuffle(data)\n",
        "    index = int(len(data) * train_size)\n",
        "\n",
        "    data_train = data[:index]\n",
        "    data_test = data[index:]\n",
        "\n",
        "    df_train = pd.DataFrame(data_train, columns=headers)\n",
        "    df_test = pd.DataFrame(data_test, columns=headers)\n",
        "\n",
        "    return df_train, df_test\n",
        "\n",
        "# Corremos la función:\n",
        "df_train, df_test = split_data(df=df_new_filtered, train_size=0.8, random_state=42)\n",
        "\n",
        "df_train.head()"
      ]
    },
    {
      "cell_type": "markdown",
      "metadata": {
        "id": "_gxmousS11q-"
      },
      "source": [
        "### Propuesta y comparación de modelos de regresión\n",
        "\n",
        "En esta parte del trabajo, propondremos distintos modelos para clasificar las aguas superficiales de México. Estos modelos serán **categóricos** pero tendremos que seleccionar las variables explicativas.\n",
        "\n",
        "**El objetivo es encontrar el mejor modelo con una única variable, y el mejor modelo con la cantidad de variables deseadas.**\n",
        "\n",
        "Si bien nosotros les dejamos los bloques de código para que muestres 5 modelos, **esto no quiere decir que sólo hay que haber corrido 5 modelos y entregado el trabajo, sino que deben mostrarse los 5 mejores modelos que se obtuvieron.**\n"
      ]
    },
    {
      "cell_type": "markdown",
      "metadata": {
        "id": "qIi_vFlp6C_p"
      },
      "source": [
        "**Atención:** Recuerden verificar que las cadenas converjan, de lo contrario, deberás hacer los ajustes necesarios."
      ]
    },
    {
      "cell_type": "markdown",
      "metadata": {
        "id": "Ng-n0q3t6DIH"
      },
      "source": [
        "Por otro lado, para poder comparar la complejidad de los modelos, usaremos las funciones `time()` para registrar los tiempos de ejecución y la función `measure_resources()` para medir los recursos de la computadora."
      ]
    },
    {
      "cell_type": "code",
      "execution_count": null,
      "metadata": {
        "id": "FvhFrD85MbXO"
      },
      "outputs": [],
      "source": [
        "import time\n",
        "import psutil\n",
        "\n",
        "# Función para medir los recursos\n",
        "def measure_resources():\n",
        "    process = psutil.Process()\n",
        "    cpu_times = process.cpu_times()\n",
        "    memory_info = process.memory_info()\n",
        "    return cpu_times, memory_info"
      ]
    },
    {
      "cell_type": "markdown",
      "metadata": {
        "id": "HDJQEXKX6Sfu"
      },
      "source": [
        "#### Modelo 1\n",
        "\n",
        "A modo de ejemplo, a continuación se muetra un modelo simple con una única variable explicativa: **DQO**.\n",
        "\n",
        "Note que en el modelo se utiliza `log(DQO)` para hacer que los datos se ajusten mejor a lo que venimos haciendo en el EDA. Llamaremos `model_1` al modelo y `fitted_1` a los resultados"
      ]
    },
    {
      "cell_type": "code",
      "execution_count": null,
      "metadata": {
        "id": "s2coz4vy95wI"
      },
      "outputs": [],
      "source": [
        "# Definir el modelo\n",
        "model_1 = bmb.Model('SEMAFORO ~ log(DQO)', df_train, family=\"categorical\")"
      ]
    },
    {
      "cell_type": "code",
      "execution_count": null,
      "metadata": {
        "colab": {
          "base_uri": "https://localhost:8080/",
          "height": 109
        },
        "id": "YNXc4wSCMbdM",
        "outputId": "acfe8f6e-9051-424e-b5ef-ef7f52bf45f5"
      },
      "outputs": [
        {
          "output_type": "display_data",
          "data": {
            "text/plain": [
              "<IPython.core.display.HTML object>"
            ],
            "text/html": [
              "\n",
              "<style>\n",
              "    /* Turns off some styling */\n",
              "    progress {\n",
              "        /* gets rid of default border in Firefox and Opera. */\n",
              "        border: none;\n",
              "        /* Needs to be in here for Safari polyfill so background images work as expected. */\n",
              "        background-size: auto;\n",
              "    }\n",
              "    progress:not([value]), progress:not([value])::-webkit-progress-bar {\n",
              "        background: repeating-linear-gradient(45deg, #7e7e7e, #7e7e7e 10px, #5c5c5c 10px, #5c5c5c 20px);\n",
              "    }\n",
              "    .progress-bar-interrupted, .progress-bar-interrupted::-webkit-progress-bar {\n",
              "        background: #F44336;\n",
              "    }\n",
              "</style>\n"
            ]
          },
          "metadata": {}
        },
        {
          "output_type": "display_data",
          "data": {
            "text/plain": [
              "<IPython.core.display.HTML object>"
            ],
            "text/html": [
              "\n",
              "    <div>\n",
              "      <progress value='8000' class='' max='8000' style='width:300px; height:20px; vertical-align: middle;'></progress>\n",
              "      100.00% [8000/8000 00:58&lt;00:00 Sampling chain 0, 0 divergences]\n",
              "    </div>\n",
              "    "
            ]
          },
          "metadata": {}
        },
        {
          "output_type": "display_data",
          "data": {
            "text/plain": [
              "<IPython.core.display.HTML object>"
            ],
            "text/html": [
              "\n",
              "<style>\n",
              "    /* Turns off some styling */\n",
              "    progress {\n",
              "        /* gets rid of default border in Firefox and Opera. */\n",
              "        border: none;\n",
              "        /* Needs to be in here for Safari polyfill so background images work as expected. */\n",
              "        background-size: auto;\n",
              "    }\n",
              "    progress:not([value]), progress:not([value])::-webkit-progress-bar {\n",
              "        background: repeating-linear-gradient(45deg, #7e7e7e, #7e7e7e 10px, #5c5c5c 10px, #5c5c5c 20px);\n",
              "    }\n",
              "    .progress-bar-interrupted, .progress-bar-interrupted::-webkit-progress-bar {\n",
              "        background: #F44336;\n",
              "    }\n",
              "</style>\n"
            ]
          },
          "metadata": {}
        },
        {
          "output_type": "display_data",
          "data": {
            "text/plain": [
              "<IPython.core.display.HTML object>"
            ],
            "text/html": [
              "\n",
              "    <div>\n",
              "      <progress value='8000' class='' max='8000' style='width:300px; height:20px; vertical-align: middle;'></progress>\n",
              "      100.00% [8000/8000 00:57&lt;00:00 Sampling chain 1, 0 divergences]\n",
              "    </div>\n",
              "    "
            ]
          },
          "metadata": {}
        },
        {
          "output_type": "stream",
          "name": "stdout",
          "text": [
            "Tiempo de ejecución: 181.5718891620636 segundos\n",
            "Tiempo de CPU utilizado: 117.5 segundos\n",
            "Memoria utilizada: 184.3828125 MB\n"
          ]
        }
      ],
      "source": [
        "# Medir los recursos y el tiempo de inicio antes de ajustar el modelo\n",
        "cpu_times_start, memory_info_start = measure_resources()\n",
        "start_time = time.time()\n",
        "\n",
        "# Ajustar el modelo\n",
        "fitted_1 = model_1.fit(chains=2,\n",
        "                       draws=4000, tune=4000,\n",
        "                       random_seed=42,\n",
        "                       idata_kwargs={\"log_likelihood\": True},\n",
        "                       nuts={\"target_accept\":0.8})\n",
        "\n",
        "# Medir el tiempo y los recursos luego de ajustar el modelo\n",
        "end_time = time.time()\n",
        "cpu_times_end, memory_info_end = measure_resources()\n",
        "\n",
        "# Calcular la diferencia entre inicio y fin:\n",
        "execution_time = end_time - start_time\n",
        "cpu_time_used = cpu_times_end.user - cpu_times_start.user\n",
        "memory_used = memory_info_end.rss - memory_info_start.rss\n",
        "\n",
        "# Mostrar\n",
        "print(f\"Tiempo de ejecución: {execution_time} segundos\")\n",
        "print(f\"Tiempo de CPU utilizado: {cpu_time_used} segundos\")\n",
        "print(f\"Memoria utilizada: {memory_used / (1024 ** 2)} MB\")"
      ]
    },
    {
      "cell_type": "code",
      "execution_count": null,
      "metadata": {
        "colab": {
          "base_uri": "https://localhost:8080/",
          "height": 636
        },
        "id": "dec91VLQzSG6",
        "outputId": "310a6d13-eed2-40cf-da9d-b4d4b609ccdb"
      },
      "outputs": [
        {
          "output_type": "stream",
          "name": "stderr",
          "text": [
            "/usr/local/lib/python3.10/dist-packages/arviz/utils.py:184: NumbaDeprecationWarning: The 'nopython' keyword argument was not supplied to the 'numba.jit' decorator. The implicit default value for this argument is currently False, but it will be changed to True in Numba 0.59.0. See https://numba.readthedocs.io/en/stable/reference/deprecation.html#deprecation-of-object-mode-fall-back-behaviour-when-using-jit for details.\n",
            "  numba_fn = numba.jit(**self.kwargs)(self.function)\n"
          ]
        },
        {
          "output_type": "display_data",
          "data": {
            "text/plain": [
              "<Figure size 1200x400 with 4 Axes>"
            ],
            "image/png": "[encoded data removed]"
          },
          "metadata": {}
        },
        {
          "output_type": "stream",
          "name": "stderr",
          "text": [
            "/usr/local/lib/python3.10/dist-packages/arviz/utils.py:184: NumbaDeprecationWarning: The 'nopython' keyword argument was not supplied to the 'numba.jit' decorator. The implicit default value for this argument is currently False, but it will be changed to True in Numba 0.59.0. See https://numba.readthedocs.io/en/stable/reference/deprecation.html#deprecation-of-object-mode-fall-back-behaviour-when-using-jit for details.\n",
            "  numba_fn = numba.jit(**self.kwargs)(self.function)\n"
          ]
        },
        {
          "output_type": "execute_result",
          "data": {
            "text/plain": [
              "                    mean     sd  hdi_3%  hdi_97%  mcse_mean  mcse_sd  \\\n",
              "Intercept[Rojo]  -24.867  1.347 -27.422  -22.333      0.020    0.014   \n",
              "Intercept[Verde]  -0.310  0.363  -0.978    0.377      0.005    0.004   \n",
              "log(DQO)[Rojo]     6.849  0.372   6.169    7.567      0.005    0.004   \n",
              "log(DQO)[Verde]   -0.274  0.127  -0.520   -0.043      0.002    0.001   \n",
              "\n",
              "                  ess_bulk  ess_tail  r_hat  \n",
              "Intercept[Rojo]     4636.0    4314.0    1.0  \n",
              "Intercept[Verde]    5655.0    5394.0    1.0  \n",
              "log(DQO)[Rojo]      4782.0    4558.0    1.0  \n",
              "log(DQO)[Verde]     5148.0    5230.0    1.0  "
            ],
            "text/html": [
              "\n",
              "  <div id=\"df-b71eae20-c3a0-4269-bb2b-a6edfbafc081\" class=\"colab-df-container\">\n",
              "    <div>\n",
              "<style scoped>\n",
              "    .dataframe tbody tr th:only-of-type {\n",
              "        vertical-align: middle;\n",
              "    }\n",
              "\n",
              "    .dataframe tbody tr th {\n",
              "        vertical-align: top;\n",
              "    }\n",
              "\n",
              "    .dataframe thead th {\n",
              "        text-align: right;\n",
              "    }\n",
              "</style>\n",
              "<table border=\"1\" class=\"dataframe\">\n",
              "  <thead>\n",
              "    <tr style=\"text-align: right;\">\n",
              "      <th></th>\n",
              "      <th>mean</th>\n",
              "      <th>sd</th>\n",
              "      <th>hdi_3%</th>\n",
              "      <th>hdi_97%</th>\n",
              "      <th>mcse_mean</th>\n",
              "      <th>mcse_sd</th>\n",
              "      <th>ess_bulk</th>\n",
              "      <th>ess_tail</th>\n",
              "      <th>r_hat</th>\n",
              "    </tr>\n",
              "  </thead>\n",
              "  <tbody>\n",
              "    <tr>\n",
              "      <th>Intercept[Rojo]</th>\n",
              "      <td>-24.867</td>\n",
              "      <td>1.347</td>\n",
              "      <td>-27.422</td>\n",
              "      <td>-22.333</td>\n",
              "      <td>0.020</td>\n",
              "      <td>0.014</td>\n",
              "      <td>4636.0</td>\n",
              "      <td>4314.0</td>\n",
              "      <td>1.0</td>\n",
              "    </tr>\n",
              "    <tr>\n",
              "      <th>Intercept[Verde]</th>\n",
              "      <td>-0.310</td>\n",
              "      <td>0.363</td>\n",
              "      <td>-0.978</td>\n",
              "      <td>0.377</td>\n",
              "      <td>0.005</td>\n",
              "      <td>0.004</td>\n",
              "      <td>5655.0</td>\n",
              "      <td>5394.0</td>\n",
              "      <td>1.0</td>\n",
              "    </tr>\n",
              "    <tr>\n",
              "      <th>log(DQO)[Rojo]</th>\n",
              "      <td>6.849</td>\n",
              "      <td>0.372</td>\n",
              "      <td>6.169</td>\n",
              "      <td>7.567</td>\n",
              "      <td>0.005</td>\n",
              "      <td>0.004</td>\n",
              "      <td>4782.0</td>\n",
              "      <td>4558.0</td>\n",
              "      <td>1.0</td>\n",
              "    </tr>\n",
              "    <tr>\n",
              "      <th>log(DQO)[Verde]</th>\n",
              "      <td>-0.274</td>\n",
              "      <td>0.127</td>\n",
              "      <td>-0.520</td>\n",
              "      <td>-0.043</td>\n",
              "      <td>0.002</td>\n",
              "      <td>0.001</td>\n",
              "      <td>5148.0</td>\n",
              "      <td>5230.0</td>\n",
              "      <td>1.0</td>\n",
              "    </tr>\n",
              "  </tbody>\n",
              "</table>\n",
              "</div>\n",
              "    <div class=\"colab-df-buttons\">\n",
              "\n",
              "  <div class=\"colab-df-container\">\n",
              "    <button class=\"colab-df-convert\" onclick=\"convertToInteractive('df-b71eae20-c3a0-4269-bb2b-a6edfbafc081')\"\n",
              "            title=\"Convert this dataframe to an interactive table.\"\n",
              "            style=\"display:none;\">\n",
              "\n",
              "  <svg xmlns=\"http://www.w3.org/2000/svg\" height=\"24px\" viewBox=\"0 -960 960 960\">\n",
              "    <path d=\"M120-120v-720h720v720H120Zm60-500h600v-160H180v160Zm220 220h160v-160H400v160Zm0 220h160v-160H400v160ZM180-400h160v-160H180v160Zm440 0h160v-160H620v160ZM180-180h160v-160H180v160Zm440 0h160v-160H620v160Z\"/>\n",
              "  </svg>\n",
              "    </button>\n",
              "\n",
              "  <style>\n",
              "    .colab-df-container {\n",
              "      display:flex;\n",
              "      gap: 12px;\n",
              "    }\n",
              "\n",
              "    .colab-df-convert {\n",
              "      background-color: #E8F0FE;\n",
              "      border: none;\n",
              "      border-radius: 50%;\n",
              "      cursor: pointer;\n",
              "      display: none;\n",
              "      fill: #1967D2;\n",
              "      height: 32px;\n",
              "      padding: 0 0 0 0;\n",
              "      width: 32px;\n",
              "    }\n",
              "\n",
              "    .colab-df-convert:hover {\n",
              "      background-color: #E2EBFA;\n",
              "      box-shadow: 0px 1px 2px rgba(60, 64, 67, 0.3), 0px 1px 3px 1px rgba(60, 64, 67, 0.15);\n",
              "      fill: #174EA6;\n",
              "    }\n",
              "\n",
              "    .colab-df-buttons div {\n",
              "      margin-bottom: 4px;\n",
              "    }\n",
              "\n",
              "    [theme=dark] .colab-df-convert {\n",
              "      background-color: #3B4455;\n",
              "      fill: #D2E3FC;\n",
              "    }\n",
              "\n",
              "    [theme=dark] .colab-df-convert:hover {\n",
              "      background-color: #434B5C;\n",
              "      box-shadow: 0px 1px 3px 1px rgba(0, 0, 0, 0.15);\n",
              "      filter: drop-shadow(0px 1px 2px rgba(0, 0, 0, 0.3));\n",
              "      fill: #FFFFFF;\n",
              "    }\n",
              "  </style>\n",
              "\n",
              "    <script>\n",
              "      const buttonEl =\n",
              "        document.querySelector('#df-b71eae20-c3a0-4269-bb2b-a6edfbafc081 button.colab-df-convert');\n",
              "      buttonEl.style.display =\n",
              "        google.colab.kernel.accessAllowed ? 'block' : 'none';\n",
              "\n",
              "      async function convertToInteractive(key) {\n",
              "        const element = document.querySelector('#df-b71eae20-c3a0-4269-bb2b-a6edfbafc081');\n",
              "        const dataTable =\n",
              "          await google.colab.kernel.invokeFunction('convertToInteractive',\n",
              "                                                    [key], {});\n",
              "        if (!dataTable) return;\n",
              "\n",
              "        const docLinkHtml = 'Like what you see? Visit the ' +\n",
              "          '<a target=\"_blank\" href=https://colab.research.google.com/notebooks/data_table.ipynb>data table notebook</a>'\n",
              "          + ' to learn more about interactive tables.';\n",
              "        element.innerHTML = '';\n",
              "        dataTable['output_type'] = 'display_data';\n",
              "        await google.colab.output.renderOutput(dataTable, element);\n",
              "        const docLink = document.createElement('div');\n",
              "        docLink.innerHTML = docLinkHtml;\n",
              "        element.appendChild(docLink);\n",
              "      }\n",
              "    </script>\n",
              "  </div>\n",
              "\n",
              "\n",
              "<div id=\"df-be097dad-8b4b-43a3-a921-08333e096e5e\">\n",
              "  <button class=\"colab-df-quickchart\" onclick=\"quickchart('df-be097dad-8b4b-43a3-a921-08333e096e5e')\"\n",
              "            title=\"Suggest charts\"\n",
              "            style=\"display:none;\">\n",
              "\n",
              "<svg xmlns=\"http://www.w3.org/2000/svg\" height=\"24px\"viewBox=\"0 0 24 24\"\n",
              "     width=\"24px\">\n",
              "    <g>\n",
              "        <path d=\"M19 3H5c-1.1 0-2 .9-2 2v14c0 1.1.9 2 2 2h14c1.1 0 2-.9 2-2V5c0-1.1-.9-2-2-2zM9 17H7v-7h2v7zm4 0h-2V7h2v10zm4 0h-2v-4h2v4z\"/>\n",
              "    </g>\n",
              "</svg>\n",
              "  </button>\n",
              "\n",
              "<style>\n",
              "  .colab-df-quickchart {\n",
              "      --bg-color: #E8F0FE;\n",
              "      --fill-color: #1967D2;\n",
              "      --hover-bg-color: #E2EBFA;\n",
              "      --hover-fill-color: #174EA6;\n",
              "      --disabled-fill-color: #AAA;\n",
              "      --disabled-bg-color: #DDD;\n",
              "  }\n",
              "\n",
              "  [theme=dark] .colab-df-quickchart {\n",
              "      --bg-color: #3B4455;\n",
              "      --fill-color: #D2E3FC;\n",
              "      --hover-bg-color: #434B5C;\n",
              "      --hover-fill-color: #FFFFFF;\n",
              "      --disabled-bg-color: #3B4455;\n",
              "      --disabled-fill-color: #666;\n",
              "  }\n",
              "\n",
              "  .colab-df-quickchart {\n",
              "    background-color: var(--bg-color);\n",
              "    border: none;\n",
              "    border-radius: 50%;\n",
              "    cursor: pointer;\n",
              "    display: none;\n",
              "    fill: var(--fill-color);\n",
              "    height: 32px;\n",
              "    padding: 0;\n",
              "    width: 32px;\n",
              "  }\n",
              "\n",
              "  .colab-df-quickchart:hover {\n",
              "    background-color: var(--hover-bg-color);\n",
              "    box-shadow: 0 1px 2px rgba(60, 64, 67, 0.3), 0 1px 3px 1px rgba(60, 64, 67, 0.15);\n",
              "    fill: var(--button-hover-fill-color);\n",
              "  }\n",
              "\n",
              "  .colab-df-quickchart-complete:disabled,\n",
              "  .colab-df-quickchart-complete:disabled:hover {\n",
              "    background-color: var(--disabled-bg-color);\n",
              "    fill: var(--disabled-fill-color);\n",
              "    box-shadow: none;\n",
              "  }\n",
              "\n",
              "  .colab-df-spinner {\n",
              "    border: 2px solid var(--fill-color);\n",
              "    border-color: transparent;\n",
              "    border-bottom-color: var(--fill-color);\n",
              "    animation:\n",
              "      spin 1s steps(1) infinite;\n",
              "  }\n",
              "\n",
              "  @keyframes spin {\n",
              "    0% {\n",
              "      border-color: transparent;\n",
              "      border-bottom-color: var(--fill-color);\n",
              "      border-left-color: var(--fill-color);\n",
              "    }\n",
              "    20% {\n",
              "      border-color: transparent;\n",
              "      border-left-color: var(--fill-color);\n",
              "      border-top-color: var(--fill-color);\n",
              "    }\n",
              "    30% {\n",
              "      border-color: transparent;\n",
              "      border-left-color: var(--fill-color);\n",
              "      border-top-color: var(--fill-color);\n",
              "      border-right-color: var(--fill-color);\n",
              "    }\n",
              "    40% {\n",
              "      border-color: transparent;\n",
              "      border-right-color: var(--fill-color);\n",
              "      border-top-color: var(--fill-color);\n",
              "    }\n",
              "    60% {\n",
              "      border-color: transparent;\n",
              "      border-right-color: var(--fill-color);\n",
              "    }\n",
              "    80% {\n",
              "      border-color: transparent;\n",
              "      border-right-color: var(--fill-color);\n",
              "      border-bottom-color: var(--fill-color);\n",
              "    }\n",
              "    90% {\n",
              "      border-color: transparent;\n",
              "      border-bottom-color: var(--fill-color);\n",
              "    }\n",
              "  }\n",
              "</style>\n",
              "\n",
              "  <script>\n",
              "    async function quickchart(key) {\n",
              "      const quickchartButtonEl =\n",
              "        document.querySelector('#' + key + ' button');\n",
              "      quickchartButtonEl.disabled = true;  // To prevent multiple clicks.\n",
              "      quickchartButtonEl.classList.add('colab-df-spinner');\n",
              "      try {\n",
              "        const charts = await google.colab.kernel.invokeFunction(\n",
              "            'suggestCharts', [key], {});\n",
              "      } catch (error) {\n",
              "        console.error('Error during call to suggestCharts:', error);\n",
              "      }\n",
              "      quickchartButtonEl.classList.remove('colab-df-spinner');\n",
              "      quickchartButtonEl.classList.add('colab-df-quickchart-complete');\n",
              "    }\n",
              "    (() => {\n",
              "      let quickchartButtonEl =\n",
              "        document.querySelector('#df-be097dad-8b4b-43a3-a921-08333e096e5e button');\n",
              "      quickchartButtonEl.style.display =\n",
              "        google.colab.kernel.accessAllowed ? 'block' : 'none';\n",
              "    })();\n",
              "  </script>\n",
              "</div>\n",
              "\n",
              "    </div>\n",
              "  </div>\n"
            ],
            "application/vnd.google.colaboratory.intrinsic+json": {
              "type": "dataframe",
              "summary": "{\n  \"name\": \"az\",\n  \"rows\": 4,\n  \"fields\": [\n    {\n      \"column\": \"mean\",\n      \"properties\": {\n        \"dtype\": \"number\",\n        \"std\": 13.891712937335457,\n        \"min\": -24.867,\n        \"max\": 6.849,\n        \"num_unique_values\": 4,\n        \"samples\": [\n          -0.31,\n          -0.274,\n          -24.867\n        ],\n        \"semantic_type\": \"\",\n        \"description\": \"\"\n      }\n    },\n    {\n      \"column\": \"sd\",\n      \"properties\": {\n        \"dtype\": \"number\",\n        \"std\": 0.5418396903143955,\n        \"min\": 0.127,\n        \"max\": 1.347,\n        \"num_unique_values\": 4,\n        \"samples\": [\n          0.363,\n          0.127,\n          1.347\n        ],\n        \"semantic_type\": \"\",\n        \"description\": \"\"\n      }\n    },\n    {\n      \"column\": \"hdi_3%\",\n      \"properties\": {\n        \"dtype\": \"number\",\n        \"std\": 14.853142526639495,\n        \"min\": -27.422,\n        \"max\": 6.169,\n        \"num_unique_values\": 4,\n        \"samples\": [\n          -0.978,\n          -0.52,\n          -27.422\n        ],\n        \"semantic_type\": \"\",\n        \"description\": \"\"\n      }\n    },\n    {\n      \"column\": \"hdi_97%\",\n      \"properties\": {\n        \"dtype\": \"number\",\n        \"std\": 12.962711907621799,\n        \"min\": -22.333,\n        \"max\": 7.567,\n        \"num_unique_values\": 4,\n        \"samples\": [\n          0.377,\n          -0.043,\n          -22.333\n        ],\n        \"semantic_type\": \"\",\n        \"description\": \"\"\n      }\n    },\n    {\n      \"column\": \"mcse_mean\",\n      \"properties\": {\n        \"dtype\": \"number\",\n        \"std\": 0.00812403840463596,\n        \"min\": 0.002,\n        \"max\": 0.02,\n        \"num_unique_values\": 3,\n        \"samples\": [\n          0.02,\n          0.005,\n          0.002\n        ],\n        \"semantic_type\": \"\",\n        \"description\": \"\"\n      }\n    },\n    {\n      \"column\": \"mcse_sd\",\n      \"properties\": {\n        \"dtype\": \"number\",\n        \"std\": 0.005678908345800274,\n        \"min\": 0.001,\n        \"max\": 0.014,\n        \"num_unique_values\": 3,\n        \"samples\": [\n          0.014,\n          0.004,\n          0.001\n        ],\n        \"semantic_type\": \"\",\n        \"description\": \"\"\n      }\n    },\n    {\n      \"column\": \"ess_bulk\",\n      \"properties\": {\n        \"dtype\": \"number\",\n        \"std\": 454.14342448173795,\n        \"min\": 4636.0,\n        \"max\": 5655.0,\n        \"num_unique_values\": 4,\n        \"samples\": [\n          5655.0,\n          5148.0,\n          4636.0\n        ],\n        \"semantic_type\": \"\",\n        \"description\": \"\"\n      }\n    },\n    {\n      \"column\": \"ess_tail\",\n      \"properties\": {\n        \"dtype\": \"number\",\n        \"std\": 519.8050916769989,\n        \"min\": 4314.0,\n        \"max\": 5394.0,\n        \"num_unique_values\": 4,\n        \"samples\": [\n          5394.0,\n          5230.0,\n          4314.0\n        ],\n        \"semantic_type\": \"\",\n        \"description\": \"\"\n      }\n    },\n    {\n      \"column\": \"r_hat\",\n      \"properties\": {\n        \"dtype\": \"number\",\n        \"std\": 0.0,\n        \"min\": 1.0,\n        \"max\": 1.0,\n        \"num_unique_values\": 1,\n        \"samples\": [\n          1.0\n        ],\n        \"semantic_type\": \"\",\n        \"description\": \"\"\n      }\n    }\n  ]\n}"
            }
          },
          "metadata": {},
          "execution_count": 23
        }
      ],
      "source": [
        "# Diagnóstico de la Cadena\n",
        "az.plot_trace(fitted_1);\n",
        "plt.show()\n",
        "\n",
        "# Resumen de la inferencia\n",
        "az.summary(fitted_1)"
      ]
    },
    {
      "cell_type": "markdown",
      "metadata": {
        "id": "eN4EBsbc87T6"
      },
      "source": [
        "#### Modelo 2"
      ]
    },
    {
      "cell_type": "markdown",
      "metadata": {
        "id": "CH9kPa1I8_II"
      },
      "source": [
        "##### Actividad 7\n",
        "\n",
        "**Actividad**: Cargue en Bambi el modelo de regresión propuesto y muestre claramente la evaluación de la inferencia/convergencia. Llamaremos `model_2` al modelo y `fitted_2` a los resultados"
      ]
    },
    {
      "cell_type": "code",
      "execution_count": null,
      "metadata": {
        "id": "GkUgR7vu-IBq"
      },
      "outputs": [],
      "source": [
        "# Definir el modelo\n",
        "# CODIGO DEL ALUMNO ############################################################\n",
        "model_2 =\n",
        "################################################################################"
      ]
    },
    {
      "cell_type": "code",
      "execution_count": null,
      "metadata": {
        "id": "Afot0iHmxEe8"
      },
      "outputs": [],
      "source": [
        "# Medir los recursos y el tiempo de inicio antes de ajustar el modelo\n",
        "cpu_times_start, memory_info_start = measure_resources()\n",
        "start_time = time.time()\n",
        "\n",
        "# Ajustar el modelo\n",
        "# CODIGO DEL ALUMNO ############################################################\n",
        "fitted_2 =\n",
        "################################################################################\n",
        "\n",
        "# Medir el tiempo y los recursos luego de ajustar el modelo\n",
        "end_time = time.time()\n",
        "cpu_times_end, memory_info_end = measure_resources()\n",
        "\n",
        "# Calcular la diferencia entre inicio y fin:\n",
        "execution_time = end_time - start_time\n",
        "cpu_time_used = cpu_times_end.user - cpu_times_start.user\n",
        "memory_used = memory_info_end.rss - memory_info_start.rss\n",
        "\n",
        "print(f\"Tiempo de ejecución: {execution_time} segundos\")\n",
        "print(f\"Tiempo de CPU utilizado: {cpu_time_used} segundos\")\n",
        "print(f\"Memoria utilizada: {memory_used / (1024 ** 2)} MB\")"
      ]
    },
    {
      "cell_type": "code",
      "execution_count": null,
      "metadata": {
        "id": "coyn6vexxEl5"
      },
      "outputs": [],
      "source": [
        "# Diagnóstico de la Cadena\n",
        "# CODIGO DEL ALUMNO ############################################################\n",
        "\n",
        "################################################################################\n",
        "plt.show()\n",
        "\n",
        "# Resumen de la inferencia\n",
        "# CODIGO DEL ALUMNO ############################################################\n",
        "\n",
        "################################################################################"
      ]
    },
    {
      "cell_type": "markdown",
      "metadata": {
        "id": "qUqEYL0u9J05"
      },
      "source": [
        "#### Modelo 3"
      ]
    },
    {
      "cell_type": "markdown",
      "metadata": {
        "id": "O390pmkA9J06"
      },
      "source": [
        "##### Actividad 8\n",
        "**Actividad**:  Cargue en Bambi el modelo de regresión propuesto y muestre claramente la evaluación de la inferencia/convergencia. Llamaremos `model_3` al modelo y `fitted_3` a los resultados"
      ]
    },
    {
      "cell_type": "code",
      "execution_count": null,
      "metadata": {
        "id": "IXh8timX_5dX"
      },
      "outputs": [],
      "source": [
        "# Definir el modelo\n",
        "# CODIGO DEL ALUMNO ############################################################\n",
        "model_3 =\n",
        "################################################################################"
      ]
    },
    {
      "cell_type": "code",
      "execution_count": null,
      "metadata": {
        "id": "QmRkNxL-xEo7"
      },
      "outputs": [],
      "source": [
        "# Medir los recursos y el tiempo de inicio antes de ajustar el modelo\n",
        "cpu_times_start, memory_info_start = measure_resources()\n",
        "start_time = time.time()\n",
        "\n",
        "# Ajustar el modelo\n",
        "# CODIGO DEL ALUMNO ############################################################\n",
        "fitted_3 =\n",
        "################################################################################\n",
        "\n",
        "# Medir el tiempo y los recursos luego de ajustar el modelo\n",
        "end_time = time.time()\n",
        "cpu_times_end, memory_info_end = measure_resources()\n",
        "\n",
        "# Calcular la diferencia entre inicio y fin:\n",
        "execution_time = end_time - start_time\n",
        "cpu_time_used = cpu_times_end.user - cpu_times_start.user\n",
        "memory_used = memory_info_end.rss - memory_info_start.rss\n",
        "\n",
        "print(f\"Tiempo de ejecución: {execution_time} segundos\")\n",
        "print(f\"Tiempo de CPU utilizado: {cpu_time_used} segundos\")\n",
        "print(f\"Memoria utilizada: {memory_used / (1024 ** 2)} MB\")"
      ]
    },
    {
      "cell_type": "code",
      "execution_count": null,
      "metadata": {
        "id": "mli6uej3xEw2"
      },
      "outputs": [],
      "source": [
        "# Diagnóstico de la Cadena\n",
        "# CODIGO DEL ALUMNO ############################################################\n",
        "\n",
        "################################################################################\n",
        "plt.show()\n",
        "\n",
        "# Resumen de la inferencia\n",
        "# CODIGO DEL ALUMNO ############################################################\n",
        "\n",
        "################################################################################"
      ]
    },
    {
      "cell_type": "markdown",
      "metadata": {
        "id": "ibdEr8LC9LB4"
      },
      "source": [
        "#### Modelo 4"
      ]
    },
    {
      "cell_type": "markdown",
      "metadata": {
        "id": "sxRrrm9H9LB4"
      },
      "source": [
        "##### Actividad 9\n",
        "**Actividad**:  Cargue en Bambi el modelo de regresión propuesto y muestre claramente la evaluación de la inferencia/convergencia. Llamaremos `model_4` al modelo y `fitted_4` a los resultados"
      ]
    },
    {
      "cell_type": "code",
      "execution_count": null,
      "metadata": {
        "id": "sazfn-3SACfw"
      },
      "outputs": [],
      "source": [
        "# Definir el modelo\n",
        "# CODIGO DEL ALUMNO ############################################################\n",
        "model_4 =\n",
        "################################################################################"
      ]
    },
    {
      "cell_type": "code",
      "execution_count": null,
      "metadata": {
        "id": "6vlfFWbfyPb8"
      },
      "outputs": [],
      "source": [
        "# Medir los recursos y el tiempo de inicio antes de ajustar el modelo\n",
        "cpu_times_start, memory_info_start = measure_resources()\n",
        "start_time = time.time()\n",
        "\n",
        "# Ajustar el modelo\n",
        "# CODIGO DEL ALUMNO ############################################################\n",
        "fitted_4 =\n",
        "################################################################################\n",
        "\n",
        "# Medir el tiempo y los recursos luego de ajustar el modelo\n",
        "end_time = time.time()\n",
        "cpu_times_end, memory_info_end = measure_resources()\n",
        "\n",
        "# Calcular la diferencia entre inicio y fin:\n",
        "execution_time = end_time - start_time\n",
        "cpu_time_used = cpu_times_end.user - cpu_times_start.user\n",
        "memory_used = memory_info_end.rss - memory_info_start.rss\n",
        "\n",
        "print(f\"Tiempo de ejecución: {execution_time} segundos\")\n",
        "print(f\"Tiempo de CPU utilizado: {cpu_time_used} segundos\")\n",
        "print(f\"Memoria utilizada: {memory_used / (1024 ** 2)} MB\")"
      ]
    },
    {
      "cell_type": "code",
      "execution_count": null,
      "metadata": {
        "id": "Nddb1YNE_Z3x"
      },
      "outputs": [],
      "source": [
        "# Diagnóstico de la Cadena\n",
        "# CODIGO DEL ALUMNO ############################################################\n",
        "\n",
        "################################################################################\n",
        "plt.show()\n",
        "\n",
        "# Resumen de la inferencia\n",
        "# CODIGO DEL ALUMNO ############################################################\n",
        "\n",
        "################################################################################"
      ]
    },
    {
      "cell_type": "markdown",
      "metadata": {
        "id": "pYfVEQMU9MFM"
      },
      "source": [
        "#### Modelo 5"
      ]
    },
    {
      "cell_type": "markdown",
      "metadata": {
        "id": "wslwRsgc9MFS"
      },
      "source": [
        "##### Actividad 10\n",
        "\n",
        "**Actividad**:  Cargue en Bambi el modelo de regresión propuesto y muestre claramente la evaluación de la inferencia/convergencia. Llamaremos `model_5` al modelo y `fitted_5` a los resultados"
      ]
    },
    {
      "cell_type": "code",
      "execution_count": null,
      "metadata": {
        "id": "3LcKYy1mAOqz"
      },
      "outputs": [],
      "source": [
        "# Definir el modelo\n",
        "# CODIGO DEL ALUMNO ############################################################\n",
        "model_5 =\n",
        "################################################################################"
      ]
    },
    {
      "cell_type": "code",
      "execution_count": null,
      "metadata": {
        "id": "NO0nFSjxyPqB"
      },
      "outputs": [],
      "source": [
        "# Medir los recursos y el tiempo de inicio antes de ajustar el modelo\n",
        "cpu_times_start, memory_info_start = measure_resources()\n",
        "start_time = time.time()\n",
        "\n",
        "# Ajustar el modelo\n",
        "# CODIGO DEL ALUMNO ############################################################\n",
        "fitted_5 =\n",
        "################################################################################\n",
        "\n",
        "# Medir el tiempo y los recursos luego de ajustar el modelo\n",
        "end_time = time.time()\n",
        "cpu_times_end, memory_info_end = measure_resources()\n",
        "\n",
        "# Calcular la diferencia entre inicio y fin:\n",
        "execution_time = end_time - start_time\n",
        "cpu_time_used = cpu_times_end.user - cpu_times_start.user\n",
        "memory_used = memory_info_end.rss - memory_info_start.rss\n",
        "\n",
        "print(f\"Tiempo de ejecución: {execution_time} segundos\")\n",
        "print(f\"Tiempo de CPU utilizado: {cpu_time_used} segundos\")\n",
        "print(f\"Memoria utilizada: {memory_used / (1024 ** 2)} MB\")"
      ]
    },
    {
      "cell_type": "code",
      "execution_count": null,
      "metadata": {
        "id": "_dDgC-YUyPk3"
      },
      "outputs": [],
      "source": [
        "# Diagnóstico de la Cadena\n",
        "# CODIGO DEL ALUMNO ############################################################\n",
        "\n",
        "################################################################################\n",
        "plt.show()\n",
        "\n",
        "# Resumen de la inferencia\n",
        "# CODIGO DEL ALUMNO ############################################################\n",
        "\n",
        "################################################################################"
      ]
    },
    {
      "cell_type": "markdown",
      "metadata": {
        "id": "APelJ-OP9OE3"
      },
      "source": [
        "#### Comparación de Modelos"
      ]
    },
    {
      "cell_type": "markdown",
      "metadata": {
        "id": "5V-mz36F9OE-"
      },
      "source": [
        "##### Actividad 11\n",
        "\n",
        "**Actividad**: Compare los modelos mediante LOO-CV, y seleccione el que considera mejor en función de su diferencia de capacidad predictiva y otros conceptos que crea importantes (cantidad de parámetros, diagnóstico, etc.). Además, no olvide considerar el tiempo de ejecución, memoria y poder de cómputo requerido para entrenar los modelos."
      ]
    },
    {
      "cell_type": "code",
      "execution_count": null,
      "metadata": {
        "id": "PyeHy8NX3NH5"
      },
      "outputs": [],
      "source": [
        "# Comparación de modelos\n",
        "# CODIGO DEL ALUMNO ############################################################\n",
        "models_dict =\n",
        "az_comp_loo =\n",
        "################################################################################\n",
        "az_comp_loo"
      ]
    },
    {
      "cell_type": "code",
      "execution_count": null,
      "metadata": {
        "id": "ZRM86pyK3NRO"
      },
      "outputs": [],
      "source": [
        "# Gráfico\n",
        "# CODIGO DEL ALUMNO ############################################################\n",
        "\n",
        "################################################################################"
      ]
    },
    {
      "cell_type": "markdown",
      "metadata": {
        "id": "OC1rKUp7Cplc"
      },
      "source": [
        "**Pregunta**: ¿Cuál es el modelo más adecuado y por qué? Justifique su respuesta."
      ]
    },
    {
      "cell_type": "markdown",
      "source": [
        "**Su Respuesta**:"
      ],
      "metadata": {
        "id": "zICCZpwyWGWw"
      }
    },
    {
      "cell_type": "markdown",
      "metadata": {
        "id": "kUlo3tZHUJqh"
      },
      "source": [
        "### Análisis del modelo seleccionado"
      ]
    },
    {
      "cell_type": "markdown",
      "metadata": {
        "id": "SuneA9ZiC2DQ"
      },
      "source": [
        "#### Actividad 12\n",
        "\n",
        "A continuación, se mostrará el código para evaluar cómo funciona el modelo para el `model_1` propuesto por nosotros (ver la influencia de sus variables predictoras)."
      ]
    },
    {
      "cell_type": "code",
      "execution_count": null,
      "metadata": {
        "colab": {
          "base_uri": "https://localhost:8080/",
          "height": 449
        },
        "id": "SDRg2XPW2bdX",
        "outputId": "131e6ee6-6274-4464-b7fb-ad9c1609c0b8"
      },
      "outputs": [
        {
          "output_type": "display_data",
          "data": {
            "text/plain": [
              "<Figure size 640x480 with 1 Axes>"
            ],
            "image/png": "[encoded data removed]"
          },
          "metadata": {}
        }
      ],
      "source": [
        "# Gráfico para model_1\n",
        "bmb.interpret.plot_predictions(\n",
        "    model_1,\n",
        "    fitted_1,\n",
        "    ['DQO'],\n",
        "    subplot_kwargs={\"main\": \"DQO\", \"group\": \"estimate_dim\"}\n",
        "    )\n",
        "plt.show()"
      ]
    },
    {
      "cell_type": "markdown",
      "source": [
        "**Actividad**: Para su modelo seleccionado, grafique cómo el modelo seleccionado hace predicciones basadas en cada una de las variables y según cada categoría de SEMAFORO. Repita el bloque tantas veces como sea necesario para poder ver todas las variables."
      ],
      "metadata": {
        "id": "PaSU711aWYOC"
      }
    },
    {
      "cell_type": "code",
      "execution_count": null,
      "metadata": {
        "id": "gshaJ1MHSVDx"
      },
      "outputs": [],
      "source": [
        "# Gráfico para su modelo y para cada variable del mismo\n",
        "# CODIGO DEL ALUMNO ############################################################\n",
        "\n",
        "################################################################################\n",
        "plt.show()"
      ]
    },
    {
      "cell_type": "markdown",
      "metadata": {
        "id": "uLkleJBAQxlu"
      },
      "source": [
        "#### Actividad 13\n",
        "\n",
        "**Actividad**: Lea la explicación de la categorización por semáforos de la norma mexicana en el siguiente link: https://www.gob.mx/conagua/articulos/calidad-del-agua"
      ]
    },
    {
      "cell_type": "markdown",
      "metadata": {
        "id": "4TGqiRJKQ_4C"
      },
      "source": [
        "**Pregunta** ¿Pudo observar lo explicado en los gráficos anteriores? Es decir, ¿su modelo se comporta en forma similar a las definciones de las categorías? Justifique"
      ]
    },
    {
      "cell_type": "markdown",
      "metadata": {
        "id": "bgrZfG9Pk-Z-"
      },
      "source": [
        "**Su Respuesta:**"
      ]
    },
    {
      "cell_type": "markdown",
      "metadata": {
        "id": "pQgMNyj1QOsa"
      },
      "source": [
        "#### Actividad 14\n",
        "\n",
        "Con el modelo de una variable modelo_1, mostraremos cómo crear una matriz de confusión. Dentro de ese proceso crearemos un dataframe `df_results` con los datos de predicciones y valores reales de categorías para los datos de testeo."
      ]
    },
    {
      "cell_type": "code",
      "execution_count": null,
      "metadata": {
        "id": "TcUChb7ELPNL"
      },
      "outputs": [],
      "source": [
        "# Predicciones de modelo_1, usando los datos de df_test\n",
        "variable = ['DQO']\n",
        "y_pred = model_1.predict(fitted_1, data=df_test[variable],inplace=False,kind='pps')\n",
        "\n",
        "y_pps = []\n",
        "# Posterior Predictiva\n",
        "for i in range(y_pred.posterior_predictive['SEMAFORO'].shape[-1]):\n",
        "  y_pps.append(pd.value_counts(y_pred.posterior_predictive['SEMAFORO'][:,:,i].values.reshape((-1))).index[0])"
      ]
    },
    {
      "cell_type": "code",
      "execution_count": null,
      "metadata": {
        "id": "xS0FY3uBDmDn"
      },
      "outputs": [],
      "source": [
        "# Valores reales del DataFrame df_test\n",
        "y_true = df_test['SEMAFORO']"
      ]
    },
    {
      "cell_type": "code",
      "source": [
        "# Creamos un nuevo DataFrame\n",
        "df_results = pd.DataFrame({'Actual': y_true, 'Predicted': y_pps})\n",
        "df_results['Predicted']= df_results['Predicted'].astype(\"category\")\n",
        "df_results['Predicted'] =df_results['Predicted'].cat.rename_categories({0:'Amarillo',1:'Rojo',2:'Verde'})\n",
        "df_results.head()"
      ],
      "metadata": {
        "id": "S1w6n-vzqI9m",
        "colab": {
          "base_uri": "https://localhost:8080/",
          "height": 206
        },
        "outputId": "a64f86e8-62ac-46d7-d580-78055e5d9282"
      },
      "execution_count": null,
      "outputs": [
        {
          "output_type": "execute_result",
          "data": {
            "text/plain": [
              "     Actual Predicted\n",
              "0     Verde  Amarillo\n",
              "1  Amarillo  Amarillo\n",
              "2  Amarillo  Amarillo\n",
              "3      Rojo      Rojo\n",
              "4  Amarillo  Amarillo"
            ],
            "text/html": [
              "\n",
              "  <div id=\"df-c33731ae-d55a-4505-b806-7f3c79224053\" class=\"colab-df-container\">\n",
              "    <div>\n",
              "<style scoped>\n",
              "    .dataframe tbody tr th:only-of-type {\n",
              "        vertical-align: middle;\n",
              "    }\n",
              "\n",
              "    .dataframe tbody tr th {\n",
              "        vertical-align: top;\n",
              "    }\n",
              "\n",
              "    .dataframe thead th {\n",
              "        text-align: right;\n",
              "    }\n",
              "</style>\n",
              "<table border=\"1\" class=\"dataframe\">\n",
              "  <thead>\n",
              "    <tr style=\"text-align: right;\">\n",
              "      <th></th>\n",
              "      <th>Actual</th>\n",
              "      <th>Predicted</th>\n",
              "    </tr>\n",
              "  </thead>\n",
              "  <tbody>\n",
              "    <tr>\n",
              "      <th>0</th>\n",
              "      <td>Verde</td>\n",
              "      <td>Amarillo</td>\n",
              "    </tr>\n",
              "    <tr>\n",
              "      <th>1</th>\n",
              "      <td>Amarillo</td>\n",
              "      <td>Amarillo</td>\n",
              "    </tr>\n",
              "    <tr>\n",
              "      <th>2</th>\n",
              "      <td>Amarillo</td>\n",
              "      <td>Amarillo</td>\n",
              "    </tr>\n",
              "    <tr>\n",
              "      <th>3</th>\n",
              "      <td>Rojo</td>\n",
              "      <td>Rojo</td>\n",
              "    </tr>\n",
              "    <tr>\n",
              "      <th>4</th>\n",
              "      <td>Amarillo</td>\n",
              "      <td>Amarillo</td>\n",
              "    </tr>\n",
              "  </tbody>\n",
              "</table>\n",
              "</div>\n",
              "    <div class=\"colab-df-buttons\">\n",
              "\n",
              "  <div class=\"colab-df-container\">\n",
              "    <button class=\"colab-df-convert\" onclick=\"convertToInteractive('df-c33731ae-d55a-4505-b806-7f3c79224053')\"\n",
              "            title=\"Convert this dataframe to an interactive table.\"\n",
              "            style=\"display:none;\">\n",
              "\n",
              "  <svg xmlns=\"http://www.w3.org/2000/svg\" height=\"24px\" viewBox=\"0 -960 960 960\">\n",
              "    <path d=\"M120-120v-720h720v720H120Zm60-500h600v-160H180v160Zm220 220h160v-160H400v160Zm0 220h160v-160H400v160ZM180-400h160v-160H180v160Zm440 0h160v-160H620v160ZM180-180h160v-160H180v160Zm440 0h160v-160H620v160Z\"/>\n",
              "  </svg>\n",
              "    </button>\n",
              "\n",
              "  <style>\n",
              "    .colab-df-container {\n",
              "      display:flex;\n",
              "      gap: 12px;\n",
              "    }\n",
              "\n",
              "    .colab-df-convert {\n",
              "      background-color: #E8F0FE;\n",
              "      border: none;\n",
              "      border-radius: 50%;\n",
              "      cursor: pointer;\n",
              "      display: none;\n",
              "      fill: #1967D2;\n",
              "      height: 32px;\n",
              "      padding: 0 0 0 0;\n",
              "      width: 32px;\n",
              "    }\n",
              "\n",
              "    .colab-df-convert:hover {\n",
              "      background-color: #E2EBFA;\n",
              "      box-shadow: 0px 1px 2px rgba(60, 64, 67, 0.3), 0px 1px 3px 1px rgba(60, 64, 67, 0.15);\n",
              "      fill: #174EA6;\n",
              "    }\n",
              "\n",
              "    .colab-df-buttons div {\n",
              "      margin-bottom: 4px;\n",
              "    }\n",
              "\n",
              "    [theme=dark] .colab-df-convert {\n",
              "      background-color: #3B4455;\n",
              "      fill: #D2E3FC;\n",
              "    }\n",
              "\n",
              "    [theme=dark] .colab-df-convert:hover {\n",
              "      background-color: #434B5C;\n",
              "      box-shadow: 0px 1px 3px 1px rgba(0, 0, 0, 0.15);\n",
              "      filter: drop-shadow(0px 1px 2px rgba(0, 0, 0, 0.3));\n",
              "      fill: #FFFFFF;\n",
              "    }\n",
              "  </style>\n",
              "\n",
              "    <script>\n",
              "      const buttonEl =\n",
              "        document.querySelector('#df-c33731ae-d55a-4505-b806-7f3c79224053 button.colab-df-convert');\n",
              "      buttonEl.style.display =\n",
              "        google.colab.kernel.accessAllowed ? 'block' : 'none';\n",
              "\n",
              "      async function convertToInteractive(key) {\n",
              "        const element = document.querySelector('#df-c33731ae-d55a-4505-b806-7f3c79224053');\n",
              "        const dataTable =\n",
              "          await google.colab.kernel.invokeFunction('convertToInteractive',\n",
              "                                                    [key], {});\n",
              "        if (!dataTable) return;\n",
              "\n",
              "        const docLinkHtml = 'Like what you see? Visit the ' +\n",
              "          '<a target=\"_blank\" href=https://colab.research.google.com/notebooks/data_table.ipynb>data table notebook</a>'\n",
              "          + ' to learn more about interactive tables.';\n",
              "        element.innerHTML = '';\n",
              "        dataTable['output_type'] = 'display_data';\n",
              "        await google.colab.output.renderOutput(dataTable, element);\n",
              "        const docLink = document.createElement('div');\n",
              "        docLink.innerHTML = docLinkHtml;\n",
              "        element.appendChild(docLink);\n",
              "      }\n",
              "    </script>\n",
              "  </div>\n",
              "\n",
              "\n",
              "<div id=\"df-cb27650a-2ca4-46cf-933c-a882679ec689\">\n",
              "  <button class=\"colab-df-quickchart\" onclick=\"quickchart('df-cb27650a-2ca4-46cf-933c-a882679ec689')\"\n",
              "            title=\"Suggest charts\"\n",
              "            style=\"display:none;\">\n",
              "\n",
              "<svg xmlns=\"http://www.w3.org/2000/svg\" height=\"24px\"viewBox=\"0 0 24 24\"\n",
              "     width=\"24px\">\n",
              "    <g>\n",
              "        <path d=\"M19 3H5c-1.1 0-2 .9-2 2v14c0 1.1.9 2 2 2h14c1.1 0 2-.9 2-2V5c0-1.1-.9-2-2-2zM9 17H7v-7h2v7zm4 0h-2V7h2v10zm4 0h-2v-4h2v4z\"/>\n",
              "    </g>\n",
              "</svg>\n",
              "  </button>\n",
              "\n",
              "<style>\n",
              "  .colab-df-quickchart {\n",
              "      --bg-color: #E8F0FE;\n",
              "      --fill-color: #1967D2;\n",
              "      --hover-bg-color: #E2EBFA;\n",
              "      --hover-fill-color: #174EA6;\n",
              "      --disabled-fill-color: #AAA;\n",
              "      --disabled-bg-color: #DDD;\n",
              "  }\n",
              "\n",
              "  [theme=dark] .colab-df-quickchart {\n",
              "      --bg-color: #3B4455;\n",
              "      --fill-color: #D2E3FC;\n",
              "      --hover-bg-color: #434B5C;\n",
              "      --hover-fill-color: #FFFFFF;\n",
              "      --disabled-bg-color: #3B4455;\n",
              "      --disabled-fill-color: #666;\n",
              "  }\n",
              "\n",
              "  .colab-df-quickchart {\n",
              "    background-color: var(--bg-color);\n",
              "    border: none;\n",
              "    border-radius: 50%;\n",
              "    cursor: pointer;\n",
              "    display: none;\n",
              "    fill: var(--fill-color);\n",
              "    height: 32px;\n",
              "    padding: 0;\n",
              "    width: 32px;\n",
              "  }\n",
              "\n",
              "  .colab-df-quickchart:hover {\n",
              "    background-color: var(--hover-bg-color);\n",
              "    box-shadow: 0 1px 2px rgba(60, 64, 67, 0.3), 0 1px 3px 1px rgba(60, 64, 67, 0.15);\n",
              "    fill: var(--button-hover-fill-color);\n",
              "  }\n",
              "\n",
              "  .colab-df-quickchart-complete:disabled,\n",
              "  .colab-df-quickchart-complete:disabled:hover {\n",
              "    background-color: var(--disabled-bg-color);\n",
              "    fill: var(--disabled-fill-color);\n",
              "    box-shadow: none;\n",
              "  }\n",
              "\n",
              "  .colab-df-spinner {\n",
              "    border: 2px solid var(--fill-color);\n",
              "    border-color: transparent;\n",
              "    border-bottom-color: var(--fill-color);\n",
              "    animation:\n",
              "      spin 1s steps(1) infinite;\n",
              "  }\n",
              "\n",
              "  @keyframes spin {\n",
              "    0% {\n",
              "      border-color: transparent;\n",
              "      border-bottom-color: var(--fill-color);\n",
              "      border-left-color: var(--fill-color);\n",
              "    }\n",
              "    20% {\n",
              "      border-color: transparent;\n",
              "      border-left-color: var(--fill-color);\n",
              "      border-top-color: var(--fill-color);\n",
              "    }\n",
              "    30% {\n",
              "      border-color: transparent;\n",
              "      border-left-color: var(--fill-color);\n",
              "      border-top-color: var(--fill-color);\n",
              "      border-right-color: var(--fill-color);\n",
              "    }\n",
              "    40% {\n",
              "      border-color: transparent;\n",
              "      border-right-color: var(--fill-color);\n",
              "      border-top-color: var(--fill-color);\n",
              "    }\n",
              "    60% {\n",
              "      border-color: transparent;\n",
              "      border-right-color: var(--fill-color);\n",
              "    }\n",
              "    80% {\n",
              "      border-color: transparent;\n",
              "      border-right-color: var(--fill-color);\n",
              "      border-bottom-color: var(--fill-color);\n",
              "    }\n",
              "    90% {\n",
              "      border-color: transparent;\n",
              "      border-bottom-color: var(--fill-color);\n",
              "    }\n",
              "  }\n",
              "</style>\n",
              "\n",
              "  <script>\n",
              "    async function quickchart(key) {\n",
              "      const quickchartButtonEl =\n",
              "        document.querySelector('#' + key + ' button');\n",
              "      quickchartButtonEl.disabled = true;  // To prevent multiple clicks.\n",
              "      quickchartButtonEl.classList.add('colab-df-spinner');\n",
              "      try {\n",
              "        const charts = await google.colab.kernel.invokeFunction(\n",
              "            'suggestCharts', [key], {});\n",
              "      } catch (error) {\n",
              "        console.error('Error during call to suggestCharts:', error);\n",
              "      }\n",
              "      quickchartButtonEl.classList.remove('colab-df-spinner');\n",
              "      quickchartButtonEl.classList.add('colab-df-quickchart-complete');\n",
              "    }\n",
              "    (() => {\n",
              "      let quickchartButtonEl =\n",
              "        document.querySelector('#df-cb27650a-2ca4-46cf-933c-a882679ec689 button');\n",
              "      quickchartButtonEl.style.display =\n",
              "        google.colab.kernel.accessAllowed ? 'block' : 'none';\n",
              "    })();\n",
              "  </script>\n",
              "</div>\n",
              "\n",
              "    </div>\n",
              "  </div>\n"
            ],
            "application/vnd.google.colaboratory.intrinsic+json": {
              "type": "dataframe",
              "variable_name": "df_results",
              "summary": "{\n  \"name\": \"df_results\",\n  \"rows\": 554,\n  \"fields\": [\n    {\n      \"column\": \"Actual\",\n      \"properties\": {\n        \"dtype\": \"category\",\n        \"num_unique_values\": 3,\n        \"samples\": [\n          \"Verde\",\n          \"Amarillo\",\n          \"Rojo\"\n        ],\n        \"semantic_type\": \"\",\n        \"description\": \"\"\n      }\n    },\n    {\n      \"column\": \"Predicted\",\n      \"properties\": {\n        \"dtype\": \"category\",\n        \"num_unique_values\": 2,\n        \"samples\": [\n          \"Rojo\",\n          \"Amarillo\"\n        ],\n        \"semantic_type\": \"\",\n        \"description\": \"\"\n      }\n    }\n  ]\n}"
            }
          },
          "metadata": {},
          "execution_count": 46
        }
      ]
    },
    {
      "cell_type": "code",
      "execution_count": null,
      "metadata": {
        "id": "coJwIyGcuoBn",
        "colab": {
          "base_uri": "https://localhost:8080/",
          "height": 175
        },
        "outputId": "17ebd21f-e021-4ea4-f3ea-68408e351850"
      },
      "outputs": [
        {
          "output_type": "execute_result",
          "data": {
            "text/plain": [
              "Predicted  Amarillo  Rojo\n",
              "Actual                   \n",
              "Amarillo        255     6\n",
              "Rojo              8   180\n",
              "Verde           104     1"
            ],
            "text/html": [
              "\n",
              "  <div id=\"df-88c1aba8-1a45-4cbc-9909-ea8a65f29b48\" class=\"colab-df-container\">\n",
              "    <div>\n",
              "<style scoped>\n",
              "    .dataframe tbody tr th:only-of-type {\n",
              "        vertical-align: middle;\n",
              "    }\n",
              "\n",
              "    .dataframe tbody tr th {\n",
              "        vertical-align: top;\n",
              "    }\n",
              "\n",
              "    .dataframe thead th {\n",
              "        text-align: right;\n",
              "    }\n",
              "</style>\n",
              "<table border=\"1\" class=\"dataframe\">\n",
              "  <thead>\n",
              "    <tr style=\"text-align: right;\">\n",
              "      <th>Predicted</th>\n",
              "      <th>Amarillo</th>\n",
              "      <th>Rojo</th>\n",
              "    </tr>\n",
              "    <tr>\n",
              "      <th>Actual</th>\n",
              "      <th></th>\n",
              "      <th></th>\n",
              "    </tr>\n",
              "  </thead>\n",
              "  <tbody>\n",
              "    <tr>\n",
              "      <th>Amarillo</th>\n",
              "      <td>255</td>\n",
              "      <td>6</td>\n",
              "    </tr>\n",
              "    <tr>\n",
              "      <th>Rojo</th>\n",
              "      <td>8</td>\n",
              "      <td>180</td>\n",
              "    </tr>\n",
              "    <tr>\n",
              "      <th>Verde</th>\n",
              "      <td>104</td>\n",
              "      <td>1</td>\n",
              "    </tr>\n",
              "  </tbody>\n",
              "</table>\n",
              "</div>\n",
              "    <div class=\"colab-df-buttons\">\n",
              "\n",
              "  <div class=\"colab-df-container\">\n",
              "    <button class=\"colab-df-convert\" onclick=\"convertToInteractive('df-88c1aba8-1a45-4cbc-9909-ea8a65f29b48')\"\n",
              "            title=\"Convert this dataframe to an interactive table.\"\n",
              "            style=\"display:none;\">\n",
              "\n",
              "  <svg xmlns=\"http://www.w3.org/2000/svg\" height=\"24px\" viewBox=\"0 -960 960 960\">\n",
              "    <path d=\"M120-120v-720h720v720H120Zm60-500h600v-160H180v160Zm220 220h160v-160H400v160Zm0 220h160v-160H400v160ZM180-400h160v-160H180v160Zm440 0h160v-160H620v160ZM180-180h160v-160H180v160Zm440 0h160v-160H620v160Z\"/>\n",
              "  </svg>\n",
              "    </button>\n",
              "\n",
              "  <style>\n",
              "    .colab-df-container {\n",
              "      display:flex;\n",
              "      gap: 12px;\n",
              "    }\n",
              "\n",
              "    .colab-df-convert {\n",
              "      background-color: #E8F0FE;\n",
              "      border: none;\n",
              "      border-radius: 50%;\n",
              "      cursor: pointer;\n",
              "      display: none;\n",
              "      fill: #1967D2;\n",
              "      height: 32px;\n",
              "      padding: 0 0 0 0;\n",
              "      width: 32px;\n",
              "    }\n",
              "\n",
              "    .colab-df-convert:hover {\n",
              "      background-color: #E2EBFA;\n",
              "      box-shadow: 0px 1px 2px rgba(60, 64, 67, 0.3), 0px 1px 3px 1px rgba(60, 64, 67, 0.15);\n",
              "      fill: #174EA6;\n",
              "    }\n",
              "\n",
              "    .colab-df-buttons div {\n",
              "      margin-bottom: 4px;\n",
              "    }\n",
              "\n",
              "    [theme=dark] .colab-df-convert {\n",
              "      background-color: #3B4455;\n",
              "      fill: #D2E3FC;\n",
              "    }\n",
              "\n",
              "    [theme=dark] .colab-df-convert:hover {\n",
              "      background-color: #434B5C;\n",
              "      box-shadow: 0px 1px 3px 1px rgba(0, 0, 0, 0.15);\n",
              "      filter: drop-shadow(0px 1px 2px rgba(0, 0, 0, 0.3));\n",
              "      fill: #FFFFFF;\n",
              "    }\n",
              "  </style>\n",
              "\n",
              "    <script>\n",
              "      const buttonEl =\n",
              "        document.querySelector('#df-88c1aba8-1a45-4cbc-9909-ea8a65f29b48 button.colab-df-convert');\n",
              "      buttonEl.style.display =\n",
              "        google.colab.kernel.accessAllowed ? 'block' : 'none';\n",
              "\n",
              "      async function convertToInteractive(key) {\n",
              "        const element = document.querySelector('#df-88c1aba8-1a45-4cbc-9909-ea8a65f29b48');\n",
              "        const dataTable =\n",
              "          await google.colab.kernel.invokeFunction('convertToInteractive',\n",
              "                                                    [key], {});\n",
              "        if (!dataTable) return;\n",
              "\n",
              "        const docLinkHtml = 'Like what you see? Visit the ' +\n",
              "          '<a target=\"_blank\" href=https://colab.research.google.com/notebooks/data_table.ipynb>data table notebook</a>'\n",
              "          + ' to learn more about interactive tables.';\n",
              "        element.innerHTML = '';\n",
              "        dataTable['output_type'] = 'display_data';\n",
              "        await google.colab.output.renderOutput(dataTable, element);\n",
              "        const docLink = document.createElement('div');\n",
              "        docLink.innerHTML = docLinkHtml;\n",
              "        element.appendChild(docLink);\n",
              "      }\n",
              "    </script>\n",
              "  </div>\n",
              "\n",
              "\n",
              "<div id=\"df-ee1a4069-8617-4cd3-9f39-b644625fd3cf\">\n",
              "  <button class=\"colab-df-quickchart\" onclick=\"quickchart('df-ee1a4069-8617-4cd3-9f39-b644625fd3cf')\"\n",
              "            title=\"Suggest charts\"\n",
              "            style=\"display:none;\">\n",
              "\n",
              "<svg xmlns=\"http://www.w3.org/2000/svg\" height=\"24px\"viewBox=\"0 0 24 24\"\n",
              "     width=\"24px\">\n",
              "    <g>\n",
              "        <path d=\"M19 3H5c-1.1 0-2 .9-2 2v14c0 1.1.9 2 2 2h14c1.1 0 2-.9 2-2V5c0-1.1-.9-2-2-2zM9 17H7v-7h2v7zm4 0h-2V7h2v10zm4 0h-2v-4h2v4z\"/>\n",
              "    </g>\n",
              "</svg>\n",
              "  </button>\n",
              "\n",
              "<style>\n",
              "  .colab-df-quickchart {\n",
              "      --bg-color: #E8F0FE;\n",
              "      --fill-color: #1967D2;\n",
              "      --hover-bg-color: #E2EBFA;\n",
              "      --hover-fill-color: #174EA6;\n",
              "      --disabled-fill-color: #AAA;\n",
              "      --disabled-bg-color: #DDD;\n",
              "  }\n",
              "\n",
              "  [theme=dark] .colab-df-quickchart {\n",
              "      --bg-color: #3B4455;\n",
              "      --fill-color: #D2E3FC;\n",
              "      --hover-bg-color: #434B5C;\n",
              "      --hover-fill-color: #FFFFFF;\n",
              "      --disabled-bg-color: #3B4455;\n",
              "      --disabled-fill-color: #666;\n",
              "  }\n",
              "\n",
              "  .colab-df-quickchart {\n",
              "    background-color: var(--bg-color);\n",
              "    border: none;\n",
              "    border-radius: 50%;\n",
              "    cursor: pointer;\n",
              "    display: none;\n",
              "    fill: var(--fill-color);\n",
              "    height: 32px;\n",
              "    padding: 0;\n",
              "    width: 32px;\n",
              "  }\n",
              "\n",
              "  .colab-df-quickchart:hover {\n",
              "    background-color: var(--hover-bg-color);\n",
              "    box-shadow: 0 1px 2px rgba(60, 64, 67, 0.3), 0 1px 3px 1px rgba(60, 64, 67, 0.15);\n",
              "    fill: var(--button-hover-fill-color);\n",
              "  }\n",
              "\n",
              "  .colab-df-quickchart-complete:disabled,\n",
              "  .colab-df-quickchart-complete:disabled:hover {\n",
              "    background-color: var(--disabled-bg-color);\n",
              "    fill: var(--disabled-fill-color);\n",
              "    box-shadow: none;\n",
              "  }\n",
              "\n",
              "  .colab-df-spinner {\n",
              "    border: 2px solid var(--fill-color);\n",
              "    border-color: transparent;\n",
              "    border-bottom-color: var(--fill-color);\n",
              "    animation:\n",
              "      spin 1s steps(1) infinite;\n",
              "  }\n",
              "\n",
              "  @keyframes spin {\n",
              "    0% {\n",
              "      border-color: transparent;\n",
              "      border-bottom-color: var(--fill-color);\n",
              "      border-left-color: var(--fill-color);\n",
              "    }\n",
              "    20% {\n",
              "      border-color: transparent;\n",
              "      border-left-color: var(--fill-color);\n",
              "      border-top-color: var(--fill-color);\n",
              "    }\n",
              "    30% {\n",
              "      border-color: transparent;\n",
              "      border-left-color: var(--fill-color);\n",
              "      border-top-color: var(--fill-color);\n",
              "      border-right-color: var(--fill-color);\n",
              "    }\n",
              "    40% {\n",
              "      border-color: transparent;\n",
              "      border-right-color: var(--fill-color);\n",
              "      border-top-color: var(--fill-color);\n",
              "    }\n",
              "    60% {\n",
              "      border-color: transparent;\n",
              "      border-right-color: var(--fill-color);\n",
              "    }\n",
              "    80% {\n",
              "      border-color: transparent;\n",
              "      border-right-color: var(--fill-color);\n",
              "      border-bottom-color: var(--fill-color);\n",
              "    }\n",
              "    90% {\n",
              "      border-color: transparent;\n",
              "      border-bottom-color: var(--fill-color);\n",
              "    }\n",
              "  }\n",
              "</style>\n",
              "\n",
              "  <script>\n",
              "    async function quickchart(key) {\n",
              "      const quickchartButtonEl =\n",
              "        document.querySelector('#' + key + ' button');\n",
              "      quickchartButtonEl.disabled = true;  // To prevent multiple clicks.\n",
              "      quickchartButtonEl.classList.add('colab-df-spinner');\n",
              "      try {\n",
              "        const charts = await google.colab.kernel.invokeFunction(\n",
              "            'suggestCharts', [key], {});\n",
              "      } catch (error) {\n",
              "        console.error('Error during call to suggestCharts:', error);\n",
              "      }\n",
              "      quickchartButtonEl.classList.remove('colab-df-spinner');\n",
              "      quickchartButtonEl.classList.add('colab-df-quickchart-complete');\n",
              "    }\n",
              "    (() => {\n",
              "      let quickchartButtonEl =\n",
              "        document.querySelector('#df-ee1a4069-8617-4cd3-9f39-b644625fd3cf button');\n",
              "      quickchartButtonEl.style.display =\n",
              "        google.colab.kernel.accessAllowed ? 'block' : 'none';\n",
              "    })();\n",
              "  </script>\n",
              "</div>\n",
              "\n",
              "  <div id=\"id_c2458723-ab63-4b1d-8549-972d12d1c0c7\">\n",
              "    <style>\n",
              "      .colab-df-generate {\n",
              "        background-color: #E8F0FE;\n",
              "        border: none;\n",
              "        border-radius: 50%;\n",
              "        cursor: pointer;\n",
              "        display: none;\n",
              "        fill: #1967D2;\n",
              "        height: 32px;\n",
              "        padding: 0 0 0 0;\n",
              "        width: 32px;\n",
              "      }\n",
              "\n",
              "      .colab-df-generate:hover {\n",
              "        background-color: #E2EBFA;\n",
              "        box-shadow: 0px 1px 2px rgba(60, 64, 67, 0.3), 0px 1px 3px 1px rgba(60, 64, 67, 0.15);\n",
              "        fill: #174EA6;\n",
              "      }\n",
              "\n",
              "      [theme=dark] .colab-df-generate {\n",
              "        background-color: #3B4455;\n",
              "        fill: #D2E3FC;\n",
              "      }\n",
              "\n",
              "      [theme=dark] .colab-df-generate:hover {\n",
              "        background-color: #434B5C;\n",
              "        box-shadow: 0px 1px 3px 1px rgba(0, 0, 0, 0.15);\n",
              "        filter: drop-shadow(0px 1px 2px rgba(0, 0, 0, 0.3));\n",
              "        fill: #FFFFFF;\n",
              "      }\n",
              "    </style>\n",
              "    <button class=\"colab-df-generate\" onclick=\"generateWithVariable('confusion_matrix')\"\n",
              "            title=\"Generate code using this dataframe.\"\n",
              "            style=\"display:none;\">\n",
              "\n",
              "  <svg xmlns=\"http://www.w3.org/2000/svg\" height=\"24px\"viewBox=\"0 0 24 24\"\n",
              "       width=\"24px\">\n",
              "    <path d=\"M7,19H8.4L18.45,9,17,7.55,7,17.6ZM5,21V16.75L18.45,3.32a2,2,0,0,1,2.83,0l1.4,1.43a1.91,1.91,0,0,1,.58,1.4,1.91,1.91,0,0,1-.58,1.4L9.25,21ZM18.45,9,17,7.55Zm-12,3A5.31,5.31,0,0,0,4.9,8.1,5.31,5.31,0,0,0,1,6.5,5.31,5.31,0,0,0,4.9,4.9,5.31,5.31,0,0,0,6.5,1,5.31,5.31,0,0,0,8.1,4.9,5.31,5.31,0,0,0,12,6.5,5.46,5.46,0,0,0,6.5,12Z\"/>\n",
              "  </svg>\n",
              "    </button>\n",
              "    <script>\n",
              "      (() => {\n",
              "      const buttonEl =\n",
              "        document.querySelector('#id_c2458723-ab63-4b1d-8549-972d12d1c0c7 button.colab-df-generate');\n",
              "      buttonEl.style.display =\n",
              "        google.colab.kernel.accessAllowed ? 'block' : 'none';\n",
              "\n",
              "      buttonEl.onclick = () => {\n",
              "        google.colab.notebook.generateWithVariable('confusion_matrix');\n",
              "      }\n",
              "      })();\n",
              "    </script>\n",
              "  </div>\n",
              "\n",
              "    </div>\n",
              "  </div>\n"
            ],
            "application/vnd.google.colaboratory.intrinsic+json": {
              "type": "dataframe",
              "variable_name": "confusion_matrix",
              "summary": "{\n  \"name\": \"confusion_matrix\",\n  \"rows\": 3,\n  \"fields\": [\n    {\n      \"column\": \"Actual\",\n      \"properties\": {\n        \"dtype\": \"string\",\n        \"num_unique_values\": 3,\n        \"samples\": [\n          \"Amarillo\",\n          \"Rojo\",\n          \"Verde\"\n        ],\n        \"semantic_type\": \"\",\n        \"description\": \"\"\n      }\n    },\n    {\n      \"column\": \"Amarillo\",\n      \"properties\": {\n        \"dtype\": \"number\",\n        \"std\": 124,\n        \"min\": 8,\n        \"max\": 255,\n        \"num_unique_values\": 3,\n        \"samples\": [\n          255,\n          8,\n          104\n        ],\n        \"semantic_type\": \"\",\n        \"description\": \"\"\n      }\n    },\n    {\n      \"column\": \"Rojo\",\n      \"properties\": {\n        \"dtype\": \"number\",\n        \"std\": 101,\n        \"min\": 1,\n        \"max\": 180,\n        \"num_unique_values\": 3,\n        \"samples\": [\n          6,\n          180,\n          1\n        ],\n        \"semantic_type\": \"\",\n        \"description\": \"\"\n      }\n    }\n  ]\n}"
            }
          },
          "metadata": {},
          "execution_count": 47
        }
      ],
      "source": [
        "# Calculamos la matriz de confusión\n",
        "confusion_matrix = pd.crosstab(df_results['Actual'], df_results['Predicted'], rownames=['Actual'], colnames=['Predicted'])\n",
        "confusion_matrix"
      ]
    },
    {
      "cell_type": "markdown",
      "source": [
        "**Actividad**: Repita lo anterior para su modelo seleccionado"
      ],
      "metadata": {
        "id": "1mTqKj7xW5ZC"
      }
    },
    {
      "cell_type": "code",
      "source": [
        "# Predicciones\n",
        "# CODIGO DEL ALUMNO ############################################################\n",
        "\n",
        "\n",
        "\n",
        "\n",
        "\n",
        "\n",
        "\n",
        "\n",
        "################################################################################\n",
        "\n",
        "\n",
        "\n",
        "# Valores reales\n",
        "# CODIGO DEL ALUMNO ############################################################\n",
        "\n",
        "################################################################################\n",
        "\n",
        "\n",
        "\n",
        "# Creamos un nuevo DataFrame\n",
        "# CODIGO DEL ALUMNO ############################################################\n",
        "\n",
        "\n",
        "\n",
        "\n",
        "\n",
        "################################################################################\n",
        "\n",
        "\n",
        "\n",
        "# Calculamos la matriz de confusión\n",
        "# CODIGO DEL ALUMNO ############################################################\n",
        "confusion_matrix2 =\n",
        "################################################################################\n",
        "confusion_matrix2"
      ],
      "metadata": {
        "id": "eaDi5_W_qOgE"
      },
      "execution_count": null,
      "outputs": []
    },
    {
      "cell_type": "markdown",
      "metadata": {
        "id": "y4kXBYDkxM5K"
      },
      "source": [
        "#### Actividad 15\n",
        "\n",
        "**Actividad**: Utilizando la matriz de confusión (o la tablas `df_results`) calculada anteriormente con el modelo 1 y el de múltiples variables, calcule:\n",
        "\n",
        "- el porcentaje de muestras de aguas de tipo **verdes** que fueron clasificadas como **no verdes**, es decir, un Falso Negativo de verde (FN) o error de tipo 2.\n",
        "- el porcentaje de muestras que que efectivamente **no son verdes** pero se identificaron como tales, es decir, un Falso Positivo de verde (FP) o error de tipo 1.\n"
      ]
    },
    {
      "cell_type": "code",
      "execution_count": null,
      "metadata": {
        "colab": {
          "base_uri": "https://localhost:8080/"
        },
        "id": "odeHd6HuxXjt",
        "outputId": "8113ea90-d784-451e-e455-c35c52f3c225"
      },
      "outputs": [
        {
          "output_type": "stream",
          "name": "stdout",
          "text": [
            "Porcentaje de Falsos Negativos (Modelo 1) 100.0 %\n",
            "Porcentaje de Falsos Positivos (Modelo 1) 0.0 %\n"
          ]
        }
      ],
      "source": [
        "# Calculamos FN y FP\n",
        "# CODIGO DEL ALUMNO ############################################################\n",
        "fn =\n",
        "fp =\n",
        "################################################################################\n",
        "print('Porcentaje de Falsos Negativos (Modelo 1)',round(fn*100,2),'%')\n",
        "print('Porcentaje de Falsos Positivos (Modelo 1)',round(fp*100,2),'%')"
      ]
    },
    {
      "cell_type": "code",
      "source": [
        "# Calculamos FN y FP\n",
        "# CODIGO DEL ALUMNO ############################################################\n",
        "fn =\n",
        "fp =\n",
        "################################################################################\n",
        "print('Porcentaje de Falsos Negativos (Modelo X)',round(fn*100,2),'%')\n",
        "print('Porcentaje de Falsos Positivos (Modelo X)',round(fp*100,2),'%')"
      ],
      "metadata": {
        "id": "be5rZqUmlNjL"
      },
      "execution_count": null,
      "outputs": []
    },
    {
      "cell_type": "markdown",
      "source": [
        "**NOTA**: Intente obetener un error no mayor al 25% mejorando su mejor modelo de las Actividades 7 a 10"
      ],
      "metadata": {
        "id": "Ww4ziiV-lQ2u"
      }
    },
    {
      "cell_type": "markdown",
      "source": [
        "# Impresión del Archivo final (.html)\n",
        "\n",
        "Para la entrega del TP4, siga los siguientes pasos:\n",
        "1. Vuelva a correr el Colab desde 0 para asegurar que no haya ningún bug y todo funcione tal como se desea (`Restart session and run all`)\n",
        "2. Descarge el arcihvo .ipynb en su computadora\n",
        "3. Utilice el arhivo `ImpresionHTML.ipynb` del campus. Le pedirá subir el arhivo que quiere convertir a html y lo hará por ustedes.\n",
        "\n",
        "Revisé que está todo como les gusta y ¡ya está listo!"
      ],
      "metadata": {
        "id": "DyRwn5_EaVdM"
      }
    }
  ],
  "metadata": {
    "colab": {
      "provenance": [],
      "toc_visible": true,
      "include_colab_link": true
    },
    "kernelspec": {
      "display_name": "Python 3",
      "name": "python3"
    },
    "language_info": {
      "name": "python"
    }
  },
  "nbformat": 4,
  "nbformat_minor": 0
}