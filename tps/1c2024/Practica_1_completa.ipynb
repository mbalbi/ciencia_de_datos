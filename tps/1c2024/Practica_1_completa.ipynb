{
  "cells": [
    {
      "cell_type": "markdown",
      "metadata": {
        "id": "view-in-github",
        "colab_type": "text"
      },
      "source": [
        "<a href=\"https://colab.research.google.com/github/mbalbi/ciencia_de_datos/blob/main/tps/1c2024/Practica_1_completa.ipynb\" target=\"_parent\"><img src=\"https://colab.research.google.com/assets/colab-badge.svg\" alt=\"Open In Colab\"/></a>"
      ]
    },
    {
      "cell_type": "markdown",
      "metadata": {
        "id": "RWEpm8Ac5As4"
      },
      "source": [
        "# Clase 1: Introducción a Python\n",
        "\n",
        "El objetivo de la clase de hoy es amigarnos un poco con Python como lenguage de programación y cubrir ciertas operaciones básicas a partir de las cuales iremos construyendo a lo largo del cuatrimestre.\n",
        "\n",
        "Usamos Google Colab que nos permite programar y correr códigos de Python sin tener que preocuparnos por la instalación de python mismo o de programas específicos. A su vez, nos permite utilizar recursos de Google en la nube para el procesamiento, evitando así la necesidad de una computadora particularmente capaz.\n",
        "\n",
        "Google Colab, como se ve, permite combinar texto y código de forma tal de generar reportes o documentos, y aprovecharemos esto para el desarrollo de los trabajos prácticos."
      ]
    },
    {
      "cell_type": "markdown",
      "metadata": {
        "id": "0h0mpnim5K4p"
      },
      "source": [
        "## Versión de Python\n",
        "\n",
        "Una de las grandes ventajas de python es el número de librerías (por decirlo de alguna manera, paquetes de funciones) disponibles en forma libre que se ajustan a la medida del problema que tengamos que resolver. La contracara de esto es que se debe tener cuidado con la compatibilidad de estas librerías con la versión de python que se está corriendo.\n",
        "\n",
        "En Google Colab se puede elegir la versión de python yendo a `Runtime --> Change Runtime Type`. Para verificar la misma, se puede hacer:"
      ]
    },
    {
      "cell_type": "code",
      "execution_count": null,
      "metadata": {
        "colab": {
          "base_uri": "https://localhost:8080/"
        },
        "id": "2ICvwqk646Ap",
        "outputId": "5ac13afd-76e0-4aa2-8f2e-e7a731c15cf0"
      },
      "outputs": [
        {
          "output_type": "stream",
          "name": "stdout",
          "text": [
            "Python 3.10.12\n"
          ]
        }
      ],
      "source": [
        "!python --version"
      ]
    },
    {
      "cell_type": "markdown",
      "metadata": {
        "id": "PNN7PwXC8tX3"
      },
      "source": [
        "No esperamos que a lo largo del curso nos encontremos con problemas de compatibilidad, pero sepan que puede ocurrir y tengan la costumbre de verificarlo."
      ]
    },
    {
      "cell_type": "markdown",
      "source": [
        "Antes de empezar, sepan que tienen muchas herramientas a disposición para aprender. En el Campus, por ejemplo, hemos subido links a otros Notebooks de Google Colab para aprender con ejemplos.\n",
        "\n",
        "Después, muchos de nosotros hemos aprendido a base de chocar con una pared, leer la documentación (la encuentran en el Campus también) y para alguna cosa más díficil buscar en Stack Exchange (no importa lo que están haciendo, alguien ya lo preguntó y se lo contestaron).\n",
        "\n",
        "Además, si usan Google Colab desde su usuario personal (gmail), tienen acceso a `Colab AI`. ¡Pregúntenle algo y la inteligencia artificial te escribe código por vos! Puede llegar a halucinar un poco y tirarte código con bugs, pero es un buen punto de partida. A lo largo de esta clase iremos mostrando qué tipo de código entrega la IA."
      ],
      "metadata": {
        "id": "odNazOYS7YpR"
      }
    },
    {
      "cell_type": "markdown",
      "metadata": {
        "id": "CohllwOm89q0"
      },
      "source": [
        "## Introducción a Python"
      ]
    },
    {
      "cell_type": "markdown",
      "metadata": {
        "id": "hJ4WSRCA9d2C"
      },
      "source": [
        "### Tipos de datos\n",
        "Lo primero que tenemos que reconocer son los tipos de datos que podemos encontrarnos en Python."
      ]
    },
    {
      "cell_type": "markdown",
      "metadata": {
        "id": "8NjsP216G8me"
      },
      "source": [
        "#### Números\n",
        "\n",
        "Por un lado tenemos los números: Números naturales (`integer`) y números reales (`float`). A diferencia de otros lenguages, la diferencia entre ambos es explícita en Python:"
      ]
    },
    {
      "cell_type": "code",
      "execution_count": null,
      "metadata": {
        "id": "mIbRbDWN-JpS",
        "outputId": "b1a66d49-5456-4649-dae7-ed115e38e314",
        "colab": {
          "base_uri": "https://localhost:8080/"
        }
      },
      "outputs": [
        {
          "output_type": "stream",
          "name": "stdout",
          "text": [
            "4\n",
            "7.0\n"
          ]
        }
      ],
      "source": [
        "a = 4 # a es un integer\n",
        "b = 7. # b es un float\n",
        "\n",
        "print(a)\n",
        "print(b)"
      ]
    },
    {
      "cell_type": "markdown",
      "metadata": {
        "id": "6sCBBD5T-UGN"
      },
      "source": [
        "Podemos chequear el datatype de una variable con la función `type()`. Para ver el resultado que entrega la función, usaremos la función `print()`."
      ]
    },
    {
      "cell_type": "code",
      "execution_count": null,
      "metadata": {
        "colab": {
          "base_uri": "https://localhost:8080/"
        },
        "id": "ObI4uMQs-bSt",
        "outputId": "ad92a206-07c4-4cc5-b2ac-8daca5c5f1b0"
      },
      "outputs": [
        {
          "output_type": "stream",
          "name": "stdout",
          "text": [
            "<class 'int'>\n",
            "<class 'float'>\n"
          ]
        }
      ],
      "source": [
        "print(type(a)) # Imprime el type de a\n",
        "print(type(b)) # Imprime el type de b"
      ]
    },
    {
      "cell_type": "markdown",
      "metadata": {
        "id": "xmB9-7Wx_nOI"
      },
      "source": [
        "Con los números se pueden realizar las operaciones matemáticas típicas (sumas, restas, multiplicaciones y divisiones)."
      ]
    },
    {
      "cell_type": "code",
      "execution_count": null,
      "metadata": {
        "colab": {
          "base_uri": "https://localhost:8080/"
        },
        "id": "N2RixMSG_vwm",
        "outputId": "aa61f58f-f492-4631-eaf8-0366a6167b7c"
      },
      "outputs": [
        {
          "output_type": "stream",
          "name": "stdout",
          "text": [
            "5\n",
            "3\n",
            "8\n",
            "16\n",
            "2.0\n",
            "<class 'float'>\n",
            "8.0\n",
            "6.0\n",
            "14.0\n",
            "49.0\n",
            "3.5\n"
          ]
        }
      ],
      "source": [
        "print(a + 1)   # Suma\n",
        "print(a - 1)   # Resta\n",
        "print(a * 2)   # Multiplicación\n",
        "print(a ** 2)  # Potencia\n",
        "#print(a ^ 2)   # Tira error\n",
        "print(a / 2)   # División\n",
        "print(type(a/2))\n",
        "\n",
        "print(b + 1)   # Suma\n",
        "print(b - 1)   # Resta\n",
        "print(b * 2)   # Multiplicación\n",
        "print(b ** 2)  # Potencia\n",
        "print(b / 2)   # División"
      ]
    },
    {
      "cell_type": "markdown",
      "metadata": {
        "id": "4kBi5ub1AbFN"
      },
      "source": [
        "Noten que las operaciones aplican tanto para `integers` como `floats`. Sin embargo, la division de un `integer` da como resultado un `float`. Se debe tener cuidado con esto cuando este valor necesita ser un número natural (por ejemplo, para referirse a la columna de una matriz). Para convertir el valor, se puede usar la función `int()`, que trunca la variable al número entero."
      ]
    },
    {
      "cell_type": "code",
      "execution_count": null,
      "metadata": {
        "colab": {
          "base_uri": "https://localhost:8080/"
        },
        "id": "mF9ZX_YIBF3I",
        "outputId": "78d013d3-ad55-40d6-f953-007fc1c4e93b"
      },
      "outputs": [
        {
          "output_type": "stream",
          "name": "stdout",
          "text": [
            "2\n",
            "3\n"
          ]
        }
      ],
      "source": [
        "print(int(a/2))\n",
        "print(int(b/2))"
      ]
    },
    {
      "cell_type": "markdown",
      "metadata": {
        "id": "Ykg5CaYlEDHx"
      },
      "source": [
        "Otra opción es usar el operador `//`, que devuelve el mismo resultado que `int(x/y)` pero respeta el tipo de variable original."
      ]
    },
    {
      "cell_type": "code",
      "execution_count": null,
      "metadata": {
        "colab": {
          "base_uri": "https://localhost:8080/"
        },
        "id": "DnCIkzXKECfN",
        "outputId": "2dfbe1de-6a78-42d3-a4a1-3c6cc844861d"
      },
      "outputs": [
        {
          "output_type": "stream",
          "name": "stdout",
          "text": [
            "2\n",
            "2.0\n",
            "1.0\n",
            "1.0\n",
            "0.3999999999999999\n",
            "2.0\n"
          ]
        }
      ],
      "source": [
        "print(a // 2)\n",
        "print(a // 2.0)\n",
        "print(b // 5)\n",
        "print(b // 5.0)\n",
        "print((b/5)-(b//5)) #Quedarse con los decimales\n",
        "print(b % 5) #El resto de la division"
      ]
    },
    {
      "cell_type": "markdown",
      "metadata": {
        "id": "Kd_7DWg9B5v_"
      },
      "source": [
        "Los resultados de las operaciones vistas arriba podemos guardarlos ya sea en nuevas variables como sobreescribiendo una ya existente. Para esto último existen formatos más compactos como se muestra a continuación."
      ]
    },
    {
      "cell_type": "code",
      "execution_count": null,
      "metadata": {
        "colab": {
          "base_uri": "https://localhost:8080/"
        },
        "id": "mCmag23zCNhR",
        "outputId": "e9c07101-aa68-4c3f-dccb-b160d90b9f13"
      },
      "outputs": [
        {
          "output_type": "stream",
          "name": "stdout",
          "text": [
            "6\n",
            "5\n",
            "8.0\n",
            "16.0\n"
          ]
        }
      ],
      "source": [
        "c = a + 2 # Suma 2 en una nueva variable 'c'\n",
        "print(c)\n",
        "\n",
        "a = a + 1 # Suma 1 y reemplaza a 'a'\n",
        "print(a)\n",
        "\n",
        "b += 1 # Suma 1 y reemplaza a 'b'\n",
        "print(b)\n",
        "\n",
        "b *= 2 # Multiplica por 2 y reemplaza a 'b'\n",
        "print(b)"
      ]
    },
    {
      "cell_type": "markdown",
      "source": [
        "Honestamente, para empezar es preferible hacer la forma \"larga\", además es más legible."
      ],
      "metadata": {
        "id": "CYXDDtdc9iKB"
      }
    },
    {
      "cell_type": "markdown",
      "metadata": {
        "id": "1U4XWQo-K8x1"
      },
      "source": [
        "#### Texto\n",
        "\n",
        "El otro tipo de variable que nos encontramos seguido es el Texto (`string`). Si bien no solemos realizar muchas operaciones con variables de texto propiamente dichas, la suma de las mismas resulta en un concatenamiento."
      ]
    },
    {
      "cell_type": "code",
      "execution_count": null,
      "metadata": {
        "colab": {
          "base_uri": "https://localhost:8080/"
        },
        "id": "AyjCiHuxLl3Y",
        "outputId": "f84753f3-0159-4b84-b0ec-d8bfd555909a"
      },
      "outputs": [
        {
          "output_type": "stream",
          "name": "stdout",
          "text": [
            "hello world!\n"
          ]
        }
      ],
      "source": [
        "hello = 'hello' # ''\n",
        "world = \"world\" # \"\" es lo mismo, no importa\n",
        "Oracion = hello + ' ' + world + '!'\n",
        "print(Oracion)"
      ]
    },
    {
      "cell_type": "markdown",
      "metadata": {
        "id": "zvU3r-yQGooU"
      },
      "source": [
        "#### Variables lógicas\n",
        "Python permite a su vez trabajar con variables booleanas (`True` y `False`) para verificar si se cumplen ciertas condiciones:"
      ]
    },
    {
      "cell_type": "code",
      "execution_count": null,
      "metadata": {
        "colab": {
          "base_uri": "https://localhost:8080/"
        },
        "id": "pRv-QJQiIVMe",
        "outputId": "a47cd657-753a-4c65-f035-17261af4939e"
      },
      "outputs": [
        {
          "output_type": "stream",
          "name": "stdout",
          "text": [
            "<class 'bool'>\n"
          ]
        }
      ],
      "source": [
        "t, f = True, False\n",
        "print(type(t))"
      ]
    },
    {
      "cell_type": "markdown",
      "metadata": {
        "id": "QJWj46gZIbmi"
      },
      "source": [
        "Las distintas operaciones booleanas (AND, OR, NOT, XOR) se encuentran todas definidas. Como recordartorio, AND es `True` cuando ambas variables son `True`, OR es `True` si alguna de las variables es `True`, NOT es `True` cuando una variable es `False`, y XOR es `True` cuando dos variables son distintas."
      ]
    },
    {
      "cell_type": "code",
      "execution_count": null,
      "metadata": {
        "colab": {
          "base_uri": "https://localhost:8080/"
        },
        "id": "hNJVtYigJEqt",
        "outputId": "07e1309c-bb9d-4e63-a5e7-cb28cf0dc5c7"
      },
      "outputs": [
        {
          "output_type": "stream",
          "name": "stdout",
          "text": [
            "False\n",
            "True\n",
            "False\n",
            "False\n",
            "True\n"
          ]
        }
      ],
      "source": [
        "print(t and f) # AND\n",
        "print(t or f) # OR\n",
        "print(not t) # NOT\n",
        "print(t == f)\n",
        "print(t != f) # XOR"
      ]
    },
    {
      "cell_type": "markdown",
      "metadata": {
        "id": "rqJyHZ-iJpHY"
      },
      "source": [
        "Las variables lógicas se obienen también como resultado de comparaciones de otro tipos de datos. por ejemplo, números, y son muy útiles para explorar datos y generar filtros."
      ]
    },
    {
      "cell_type": "code",
      "execution_count": null,
      "metadata": {
        "colab": {
          "base_uri": "https://localhost:8080/"
        },
        "id": "W7t-UhNhJggg",
        "outputId": "af26a808-7189-44e1-dc93-b2dc94c6b8a5"
      },
      "outputs": [
        {
          "output_type": "stream",
          "name": "stdout",
          "text": [
            "False\n",
            "True\n",
            "True\n",
            "True\n",
            "False\n",
            "False\n"
          ]
        }
      ],
      "source": [
        "print(3 > 3)\n",
        "print(3 >= 3)\n",
        "print(5 != 3)\n",
        "print('hola' == 'hola')\n",
        "print('hola' == 'chau')\n",
        "print(5 > 3 and 3 < 1)"
      ]
    },
    {
      "cell_type": "markdown",
      "metadata": {
        "id": "rxU41SzwnnhH"
      },
      "source": [
        "### Listas\n",
        "\n",
        "Una lista es un conjunto arreglado de items, los cuales pueden ser cualquiera de los tipos de datos vistos anteriormente (incluso combinaciones)"
      ]
    },
    {
      "cell_type": "code",
      "execution_count": null,
      "metadata": {
        "colab": {
          "base_uri": "https://localhost:8080/"
        },
        "id": "bmjn8wS8o_Va",
        "outputId": "48c37f21-7f4f-48ea-9dcc-fe7435df15b1"
      },
      "outputs": [
        {
          "output_type": "stream",
          "name": "stdout",
          "text": [
            "[1, 2, 3, 4]\n",
            "[True, 'Perro', 5, 4.0]\n",
            "[[1, 2], [3, 4]]\n"
          ]
        }
      ],
      "source": [
        "a = [1, 2, 3, 4]\n",
        "b = [True, 'Perro', 5, 4.0]\n",
        "c = [[1, 2],[3, 4]]\n",
        "\n",
        "print(a)\n",
        "print(b)\n",
        "print(c)\n",
        "\n",
        "# a = [1, 3, 4, 5] #Me alcanza? Separen con coma"
      ]
    },
    {
      "cell_type": "markdown",
      "metadata": {
        "id": "0CH_jXgkpauQ"
      },
      "source": [
        "Los valores de una lista están indexados de 0 a la longitud de la lista. Esta última puede ser encontrada con la función `len()`. Noten que la longitud de c es dos ya que tiene dos listas dentro de la lista."
      ]
    },
    {
      "cell_type": "code",
      "execution_count": null,
      "metadata": {
        "colab": {
          "base_uri": "https://localhost:8080/"
        },
        "id": "q_35dyJRpZa9",
        "outputId": "9e71e0af-20ca-4f50-e824-064964057840"
      },
      "outputs": [
        {
          "output_type": "stream",
          "name": "stdout",
          "text": [
            "4\n",
            "4\n",
            "2\n"
          ]
        }
      ],
      "source": [
        "print(len(a))\n",
        "print(len(b))\n",
        "print(len(c))"
      ]
    },
    {
      "cell_type": "markdown",
      "metadata": {
        "id": "gu_TaipSqH1P"
      },
      "source": [
        "Valores específicos de la lista pueden ser extraídos refiriendose al índice requerido. Una ventaja de python es que números negativos comienzan el conteo desde el final (por ejemplo, -1 es el último lugar de la lista), lo que simplifica el código en algunas situaciones, y evita calcular la longitud de la lista."
      ]
    },
    {
      "cell_type": "code",
      "source": [
        "print(a[len(a)-1]) #El ultimo\n",
        "print(a[-2]) # el anteultimo"
      ],
      "metadata": {
        "id": "WzDnitDvWOUa",
        "outputId": "9584267e-9c00-41d2-8ce1-57de5379517e",
        "colab": {
          "base_uri": "https://localhost:8080/"
        }
      },
      "execution_count": null,
      "outputs": [
        {
          "output_type": "stream",
          "name": "stdout",
          "text": [
            "4\n",
            "3\n"
          ]
        }
      ]
    },
    {
      "cell_type": "code",
      "execution_count": null,
      "metadata": {
        "colab": {
          "base_uri": "https://localhost:8080/"
        },
        "id": "eJw-oajBqGMG",
        "outputId": "29557e25-e886-448a-8517-07761dabd872"
      },
      "outputs": [
        {
          "output_type": "stream",
          "name": "stdout",
          "text": [
            "4\n",
            "Perro\n",
            "[1, 2]\n",
            "2\n"
          ]
        }
      ],
      "source": [
        "print(a[-1]) # último lugar\n",
        "print(b[1])  # segundo lugar\n",
        "print(c[0])  # primer lugar\n",
        "print(c[0][1]) # toma el segundo valor de la primer lista"
      ]
    },
    {
      "cell_type": "markdown",
      "metadata": {
        "id": "vMN1AMR9q_ZZ"
      },
      "source": [
        "También puede tomarse un slice (un conjunto de la lista) de las siguientes formas:"
      ]
    },
    {
      "cell_type": "code",
      "execution_count": null,
      "metadata": {
        "colab": {
          "base_uri": "https://localhost:8080/"
        },
        "id": "0OpuHeGfrN3P",
        "outputId": "d96359c2-bc56-4d8c-d8e2-2de6fc4ffd32"
      },
      "outputs": [
        {
          "output_type": "stream",
          "name": "stdout",
          "text": [
            "[2, 3, 4]\n",
            "[True, 'Perro']\n"
          ]
        }
      ],
      "source": [
        "print(a[1:]) # toma todos los valores a partir del segundo\n",
        "print(b[0:2]) # toma los dos primeros valores (el tercero excluido)"
      ]
    },
    {
      "cell_type": "markdown",
      "metadata": {
        "id": "SHMLsXRMr5Z4"
      },
      "source": [
        "La indexación puede utilizarse cambiar valores de la lista:"
      ]
    },
    {
      "cell_type": "code",
      "execution_count": null,
      "metadata": {
        "colab": {
          "base_uri": "https://localhost:8080/"
        },
        "id": "ZjtVnMPesO9M",
        "outputId": "22cc9359-3761-4979-c249-f77b1bc7f71c"
      },
      "outputs": [
        {
          "output_type": "stream",
          "name": "stdout",
          "text": [
            "[1, 2, 3, '40']\n",
            "['Hello', 57, 5, 4.0]\n"
          ]
        }
      ],
      "source": [
        "a[3] = '40'\n",
        "print(a)\n",
        "\n",
        "b[:2] = ['Hello', 57] #tengan mucho cuidado con la compatibilidad de dimensiones\n",
        "# Prueben correr varias veces\n",
        "print(b)"
      ]
    },
    {
      "cell_type": "markdown",
      "metadata": {
        "id": "okgKfeo6txCu"
      },
      "source": [
        "Se debe tener cuidado en Python ya que las listas ocupan un mismo espacio en la memoria. Por ejemplo `a = b`hace que ambas variables se refieran al mismo lugar: si cambio una de ellas, ambas lo harán. Veamos el siguiente ejemplo, donde aprenderemos también a agregar items a una lista."
      ]
    },
    {
      "cell_type": "markdown",
      "source": [
        "CON NUMEROS"
      ],
      "metadata": {
        "id": "jKlh5DaEX1qx"
      }
    },
    {
      "cell_type": "code",
      "source": [
        "a = 5\n",
        "b = a\n",
        "\n",
        "a = 6\n",
        "print(b) # me va a dar 5, no cambio b"
      ],
      "metadata": {
        "id": "JFv5vAYUX3Fn",
        "outputId": "6a061a2b-fd61-4294-f219-7ad3121d7f26",
        "colab": {
          "base_uri": "https://localhost:8080/"
        }
      },
      "execution_count": null,
      "outputs": [
        {
          "output_type": "stream",
          "name": "stdout",
          "text": [
            "5\n"
          ]
        }
      ]
    },
    {
      "cell_type": "markdown",
      "source": [
        "CON LISTAS (son dos formas distintas de referir a la misma variable)"
      ],
      "metadata": {
        "id": "_OwOgE7iYA2g"
      }
    },
    {
      "cell_type": "code",
      "execution_count": null,
      "metadata": {
        "colab": {
          "base_uri": "https://localhost:8080/"
        },
        "id": "yrtRwifSt5C9",
        "outputId": "ab56da4d-378f-4c22-ab0f-d5e53a1256ad"
      },
      "outputs": [
        {
          "output_type": "stream",
          "name": "stdout",
          "text": [
            "[1, 2, 3, 4, 5]\n",
            "[1, 2, 3, 4, 5, 6]\n"
          ]
        }
      ],
      "source": [
        "a = [1, 2, 3, 4] # Defino a\n",
        "b = a            # b es igual a a\n",
        "a.append(5)      # Modifico a, agrego 5 al final\n",
        "print(b)         # b cambia!\n",
        "b.append(6)      # Modifico b, agrego 6 al final\n",
        "print(a)         # a cambia!"
      ]
    },
    {
      "cell_type": "markdown",
      "metadata": {
        "id": "5YEz1cZBt4g-"
      },
      "source": [
        "Si esto no es deseable, se debe usar la función `copy()`, que genera una copia de los valores en otro lugar de la memoria:"
      ]
    },
    {
      "cell_type": "code",
      "execution_count": null,
      "metadata": {
        "colab": {
          "base_uri": "https://localhost:8080/"
        },
        "id": "tyDyD-73vDS5",
        "outputId": "a3f98d56-0a9d-4fe8-f00b-21a2357d60bb"
      },
      "outputs": [
        {
          "output_type": "stream",
          "name": "stdout",
          "text": [
            "[1, 2, 3, 4]\n",
            "[1, 2, 3, 4, 5]\n",
            "[1, 2, 3, 4, 5, 1, 2, 3, 4, 6]\n"
          ]
        }
      ],
      "source": [
        "a = [1, 2, 3, 4] # Defino a\n",
        "b = a.copy()     # b es una copia de a\n",
        "a.append(5)      # Modifico a, agrego 5 al final\n",
        "print(b)         # b sigue igual!\n",
        "b.append(6)      # Modifico b, agrego 6 al final\n",
        "print(a)         # a sigue igual!\n",
        "\n",
        "# UNA LISTA NO ES MATRIZ\n",
        "print(a+b) # es una concatenacion"
      ]
    },
    {
      "cell_type": "markdown",
      "source": [
        "Como recomendación, en general en el curso vamos a trabajar con vectores y matrices. Por ello, les recomendamos evitar las listas en la medida de lo posible. En un rato vamos a ver como convertir las listas en algo más útil para nosotros."
      ],
      "metadata": {
        "id": "GbIR9sR2-XM5"
      }
    },
    {
      "cell_type": "markdown",
      "metadata": {
        "id": "NiyBlOp5vvFg"
      },
      "source": [
        "### Diccionarios\n",
        "\n",
        "Un diccionario es también un arreglo de items pero que, en vez de trabajar con indices, utiliza palabras clave (llaves/keys) y valores. Por ejemplo, si mi diccionario es un dataset de lluvias, podría tener información acerca de la latitud y longitud de la estación, su nombre, un registro de lluvias diarias, y un indicador de las unidades de trabajo:"
      ]
    },
    {
      "cell_type": "code",
      "execution_count": null,
      "metadata": {
        "id": "UiaBurdvwNJT"
      },
      "outputs": [],
      "source": [
        "Lluvias = {'estacion':[7.52, -14.4],'ID':'San Rafael', 'data':[3, 4, 0, 0, 5],\n",
        "           'unidades':'mm/dia'}"
      ]
    },
    {
      "cell_type": "markdown",
      "metadata": {
        "id": "7AtrFWAXxHPG"
      },
      "source": [
        "Se puede acceder a los datos del dicionario de varias formas:"
      ]
    },
    {
      "cell_type": "code",
      "execution_count": null,
      "metadata": {
        "colab": {
          "base_uri": "https://localhost:8080/"
        },
        "id": "joMCGpAWxU16",
        "outputId": "52614a9d-19eb-485d-ac4d-7263acf78c85"
      },
      "outputs": [
        {
          "output_type": "stream",
          "name": "stdout",
          "text": [
            "San Rafael\n",
            "[3, 4, 0, 0, 5]\n"
          ]
        }
      ],
      "source": [
        "print(Lluvias['ID'])\n",
        "print(Lluvias.get('data'))"
      ]
    },
    {
      "cell_type": "markdown",
      "metadata": {
        "id": "dNhp9VtFxPD6"
      },
      "source": [
        "Imaginemos que tenemos un nuevo dato de lluvia y queremos agregarlo, y además queremos agregar un listado de temperaturas. Para ello podemos hacer"
      ]
    },
    {
      "cell_type": "code",
      "execution_count": null,
      "metadata": {
        "colab": {
          "base_uri": "https://localhost:8080/"
        },
        "id": "7I3NwU5yyFJm",
        "outputId": "39a70b8e-6abf-4d73-ef52-82e8d9516f36"
      },
      "outputs": [
        {
          "output_type": "stream",
          "name": "stdout",
          "text": [
            "[3, 4, 0, 0, 5, 0, 1]\n",
            "[30, 20, 25, 10, 0]\n"
          ]
        }
      ],
      "source": [
        "Lluvias['data'] += [0, 1]\n",
        "print(Lluvias['data'])\n",
        "\n",
        "# crea nueva palabra clave en el diccionario\n",
        "Lluvias['Temp'] = [30, 20, 25, 10, 0]\n",
        "print(Lluvias['Temp'])"
      ]
    },
    {
      "cell_type": "markdown",
      "source": [
        "A lo largo del curso muchos datasets se van a parecer **mucho** a un diccionario, por lo que ir entendiendo este lenguaje es importante."
      ],
      "metadata": {
        "id": "9MO889u7-piW"
      }
    },
    {
      "cell_type": "markdown",
      "metadata": {
        "id": "NWwEekiG1Pqp"
      },
      "source": [
        "### Condicionales e iteraciones\n",
        "\n",
        "En el ejemplo anterior incorporamos valores o creamos una nueva entrada en el diccionario asumiendo que ya sabíamos que existía o no lo que necesitabamos. En el caso general, sería necesario revisar esto para no generar problemas. Podemos usar entonces `if` statements con ese fin, con el código realizando la operación conveniente en cada caso:"
      ]
    },
    {
      "cell_type": "code",
      "source": [
        "print('Amor' in Lluvias)\n",
        "print(5 in [1, 5, 3, 4])"
      ],
      "metadata": {
        "id": "sf1mHm_CaZ2F",
        "outputId": "9f70b07e-cc78-4c7f-8b22-5e2d37e1c365",
        "colab": {
          "base_uri": "https://localhost:8080/"
        }
      },
      "execution_count": null,
      "outputs": [
        {
          "output_type": "stream",
          "name": "stdout",
          "text": [
            "False\n",
            "True\n"
          ]
        }
      ]
    },
    {
      "cell_type": "code",
      "execution_count": null,
      "metadata": {
        "colab": {
          "base_uri": "https://localhost:8080/"
        },
        "id": "ZaxIP0gb16mh",
        "outputId": "db2b20bc-6a26-4db4-b7d7-5e3526cd517c"
      },
      "outputs": [
        {
          "output_type": "stream",
          "name": "stdout",
          "text": [
            "[3, 4, 0, 0, 5, 0, 1]\n",
            "[30, 20, 25, 10, 0]\n",
            "es cierto\n",
            "se imprime igual\n"
          ]
        }
      ],
      "source": [
        "Lluvias = {'estacion':[7.52, -14.4],'ID':'San Rafael', 'data':[3, 4, 0, 0, 5],\n",
        "           'unidades':'mm/dia'}\n",
        "\n",
        "\n",
        "if 'data' in Lluvias:       # Chequea si existe una llave data\n",
        "  Lluvias['data'] += [0, 1]  # Agrega valores\n",
        "else:                       # Caso contrario\n",
        "  Lluvias['data'] = [0, 1]   # Crea una nueva entrada\n",
        "\n",
        "print(Lluvias['data'])\n",
        "\n",
        "if 'temp' in Lluvias:       # Chequea si existe una llave data\n",
        "  Lluvias['temp'] += [30, 20, 25, 10, 0]  # Agrega valores\n",
        "else:                       # Caso contrario\n",
        "\n",
        "  Lluvias['temp'] = [30, 20, 25, 10, 0]   # Crea una nueva entrada\n",
        "\n",
        "print(Lluvias['temp'])\n",
        "\n",
        "if 'temp' in Lluvias:\n",
        "  print('es cierto')\n",
        "else:\n",
        "  print('no es cierto')\n",
        "print('se imprime igual') # distintas indentaciones"
      ]
    },
    {
      "cell_type": "markdown",
      "source": [
        "NOTA: No necesariamente debe incluirse un `else`. Acá aparece porque hay algo para hacer si el `if` es falso.\n",
        "\n",
        "También existe `elif`, que en forma jerárquica aplica un `if` **solo** sí el `if` anterior fue falso. Caso contrario no lo tiene en cuenta."
      ],
      "metadata": {
        "id": "ZuW87gQY_G9X"
      }
    },
    {
      "cell_type": "code",
      "source": [
        "a = 0\n",
        "if a>5:\n",
        "  print('Es mayor que 10')\n",
        "elif a>2:\n",
        "  print('Es mayor que 2')"
      ],
      "metadata": {
        "id": "h7ZEEEqQ_dYf"
      },
      "execution_count": null,
      "outputs": []
    },
    {
      "cell_type": "markdown",
      "metadata": {
        "id": "luJou9ff2xFk"
      },
      "source": [
        "Es importante notar que Python trabaja con indentaciones. Es decir, luego de colocar el statement `if` este se debe terminar con dos puntos, y luego TODO lo que se encuentre indentado (con la misma indentación) se lo considera dentro de ese bloque if. El final de bloque no se indica explicitiamente, sino simplemente terminando la indentación.\n",
        "\n",
        "Si quisieramos iterar a traves de los valores de una lista, podemos utilizar distintas estrategias, mostradas a continuación que muestran la eficiencia de Python para tomar valores y simplificar la notación:"
      ]
    },
    {
      "cell_type": "code",
      "execution_count": null,
      "metadata": {
        "colab": {
          "base_uri": "https://localhost:8080/"
        },
        "id": "XyQXrs-H2-LO",
        "outputId": "4b570281-fc5a-458c-ae40-c06090a696da"
      },
      "outputs": [
        {
          "output_type": "stream",
          "name": "stdout",
          "text": [
            "0 1\n",
            "1 3\n",
            "2 5\n",
            "3 7\n",
            " \n",
            "0 1\n",
            "1 3\n",
            "2 5\n",
            "3 7\n",
            " \n",
            "0 1\n",
            "1 3\n",
            "2 5\n",
            "3 7\n"
          ]
        }
      ],
      "source": [
        "a = [1, 3, 5, 7]\n",
        "\n",
        "i = 0 # Definir una variable para recorrer los indices\n",
        "while i < len(a): # Mientras la variable este dentro del rango\n",
        "  print(i, a[i]) # Imprimir indice y valor de la lista\n",
        "  i += 1\n",
        "\n",
        "print(' ')\n",
        "for i in range(len(a)): # Generar una iteracion entre los indices de la lista\n",
        "  print(i, a[i]) # Imprimir indice y valor\n",
        "\n",
        "print(' ')\n",
        "for idx,ai in enumerate(a): # Extraer los indices y valores de la lista\n",
        "  print(idx, ai) # Imprimir indice y valor"
      ]
    },
    {
      "cell_type": "markdown",
      "metadata": {
        "id": "5bIl5P0L5T7D"
      },
      "source": [
        "El último método mostrado es particularmente potente, y muy útil para diccionarios. Compare el código en estos dos ejemplos:"
      ]
    },
    {
      "cell_type": "code",
      "execution_count": null,
      "metadata": {
        "colab": {
          "base_uri": "https://localhost:8080/"
        },
        "id": "uDsLADYt5TnR",
        "outputId": "2bba76a8-de82-4f22-a167-78bf100e693f"
      },
      "outputs": [
        {
          "output_type": "stream",
          "name": "stdout",
          "text": [
            "estacion [7.52, -14.4]\n",
            "ID San Rafael\n",
            "data [3, 4, 0, 0, 5]\n",
            "unidades mm/dia\n",
            " \n",
            "estacion [7.52, -14.4]\n",
            "ID San Rafael\n",
            "data [3, 4, 0, 0, 5]\n",
            "unidades mm/dia\n"
          ]
        }
      ],
      "source": [
        "Lluvias = {'estacion':[7.52, -14.4],'ID':'San Rafael', 'data':[3, 4, 0, 0, 5],\n",
        "           'unidades':'mm/dia'}\n",
        "\n",
        "for i in range(len(Lluvias)):\n",
        "  print(list(Lluvias.keys())[i], Lluvias[list(Lluvias.keys())[i]])\n",
        "\n",
        "print(' ')\n",
        "# ASI SE HACE BIEN Y FACIL\n",
        "for keys in Lluvias:\n",
        "  print(keys, Lluvias[keys])"
      ]
    },
    {
      "cell_type": "markdown",
      "metadata": {
        "id": "eb2T6G367zpg"
      },
      "source": [
        "Esto solía ser más importante en versiones anteriores de Python cuando los diccionarios eran \"no ordenados\". En las últimas versiones los diccionarios son ordenados igual que las listas, por lo que la indexación funciona."
      ]
    },
    {
      "cell_type": "markdown",
      "metadata": {
        "id": "VlEUIyb78I3c"
      },
      "source": [
        "### Numpy\n",
        "\n",
        "Mencionamos antes que existen varias librerías de Python que incorporan funcionalides clave para la solución de problemas. La principal es Numpy, que incopora un nuevo tipo de data (`arrays`) y muchas herramientas de operación matricial. Para agregar una librería en su conjunto, se hace lo siguiente."
      ]
    },
    {
      "cell_type": "code",
      "execution_count": null,
      "metadata": {
        "id": "udmfRgmc-PSY"
      },
      "outputs": [],
      "source": [
        "import numpy as np"
      ]
    },
    {
      "cell_type": "markdown",
      "source": [
        "Numpy va a hacer **Clave**. Todo lo que hagamos vamos a tratar de que tenga forma de Numpy array prácticamente, evitando las listas. ¿Por qué? Porque trabajamos con números (vectores y matrices)"
      ],
      "metadata": {
        "id": "elhucxO0ACSX"
      }
    },
    {
      "cell_type": "markdown",
      "metadata": {
        "id": "4DZfAnD2-T0u"
      },
      "source": [
        "Un array se crea a partir de una lista de Python, y es a fin de cuentas una matriz. La principal diferencia con otros lenguajes es que, en python, los arrays 1-D no differencian entre vectores columna y vectores filas. Si se quiere especificar, se debe crear un array 2-D donde una de esas dimensiones es 1.\n",
        "\n",
        "Por ejemplo:"
      ]
    },
    {
      "cell_type": "code",
      "execution_count": null,
      "metadata": {
        "colab": {
          "base_uri": "https://localhost:8080/"
        },
        "id": "mFSaUtav-uae",
        "outputId": "435781f4-f20b-4d56-c351-f8be65f9b4fb"
      },
      "outputs": [
        {
          "output_type": "stream",
          "name": "stdout",
          "text": [
            "[1 2]\n",
            "[[1 2]]\n",
            "[[1]\n",
            " [2]]\n",
            "[[1 2]\n",
            " [3 4]]\n",
            "<class 'list'>\n",
            "<class 'numpy.ndarray'>\n"
          ]
        }
      ],
      "source": [
        "a = [1, 2] # lista 1-D\n",
        "b = [[1, 2]] # Lista de 1 item con una lista de 4 items contenida\n",
        "c = [[1], [2]] # Lista de 4 items, cada uno una lista de 1 item\n",
        "d = [[1,2],[3,4]] # Lista de 2 items, cada uno una lista de 2 items\n",
        "\n",
        "#Crear arrays\n",
        "A = np.array(a)\n",
        "B = np.array(b)\n",
        "C = np.array(c)\n",
        "D = np.array(d)\n",
        "\n",
        "print(A)\n",
        "print(B)\n",
        "print(C)\n",
        "print(D)\n",
        "\n",
        "# Comparar el tipo de a y A\n",
        "print(type(a))\n",
        "print(type(A))"
      ]
    },
    {
      "cell_type": "markdown",
      "metadata": {
        "id": "MjvRe7c9AB0f"
      },
      "source": [
        "Las dimensiones de los arrays se pueden verificar de la siguiente forma. Noten la diferencia entre un array 1-D contra uno 2-D. A su vez, vean que las dimensiones las da en forma de array, por lo que uno puede obtener el numero de filas y columnas por separado:"
      ]
    },
    {
      "cell_type": "code",
      "execution_count": null,
      "metadata": {
        "colab": {
          "base_uri": "https://localhost:8080/"
        },
        "id": "kvDPYQtyAGgg",
        "outputId": "13c13877-004b-41e3-e16c-bee12ac33841"
      },
      "outputs": [
        {
          "output_type": "stream",
          "name": "stdout",
          "text": [
            "(2,)\n",
            "(1, 2)\n",
            "(2, 1)\n",
            "(2, 2)\n",
            "numero de columnas  1\n",
            "[1]\n",
            "[2]\n"
          ]
        }
      ],
      "source": [
        "# Dimensiones\n",
        "print(A.shape)\n",
        "print(B.shape)\n",
        "print(C.shape)\n",
        "print(D.shape)\n",
        "\n",
        "# Chequear una dimensión específica\n",
        "print('numero de columnas ', C.shape[1])\n",
        "\n",
        "#iterar por todas las filas\n",
        "for x in range(B.shape[1]): #iterar por todas las columnas de B\n",
        "  print(B[:,x])"
      ]
    },
    {
      "cell_type": "markdown",
      "metadata": {
        "id": "b-FKMmpHA36C"
      },
      "source": [
        "Numpy incluye todas las operaciones de matrices típicas, incluyendo producto matricial, prodctos elemento a elemeno, transpuesta, inversa y demás.\n",
        "\n",
        "Noten que la transpuesta de un elemento 1-D no existe, devuelve el mismo array."
      ]
    },
    {
      "cell_type": "code",
      "execution_count": null,
      "metadata": {
        "colab": {
          "base_uri": "https://localhost:8080/"
        },
        "id": "2FNyUIBxBU8e",
        "outputId": "f31693b4-b569-46cb-a8bd-fefba4d78d6d"
      },
      "outputs": [
        {
          "output_type": "stream",
          "name": "stdout",
          "text": [
            "[1 2]\n",
            "[[1]\n",
            " [2]]\n",
            "[[1 2]]\n",
            "[[1 3]\n",
            " [2 4]]\n",
            " \n",
            "[[1]\n",
            " [4]]\n",
            "[[ 1  4]\n",
            " [ 9 16]]\n",
            " \n",
            "[[5]]\n",
            "[[ 5]\n",
            " [11]]\n",
            "[[ 7 10]\n",
            " [15 22]]\n",
            "[[27]]\n"
          ]
        }
      ],
      "source": [
        "# Transpuesta\n",
        "print(A.T)\n",
        "print(B.T)\n",
        "print(C.T)\n",
        "print(D.T)\n",
        "\n",
        "print(' ')\n",
        "# Producto elemento a elemento\n",
        "print(B.T*C)\n",
        "print(D*D)\n",
        "\n",
        "print(' ')\n",
        "# Producto Matricial\n",
        "print(B@C)\n",
        "print(D@C)\n",
        "print(D@D)\n",
        "print(B@D@C)"
      ]
    },
    {
      "cell_type": "markdown",
      "metadata": {
        "id": "TZmtWm2qD85z"
      },
      "source": [
        "La conversión de un array 1-D a uno 2-D (o cualquier cambio de dimensiones), puede realizarse mediante la función `reshape`"
      ]
    },
    {
      "cell_type": "code",
      "execution_count": null,
      "metadata": {
        "colab": {
          "base_uri": "https://localhost:8080/"
        },
        "id": "lNh8G0hLEFaP",
        "outputId": "4e5ca6b4-1496-4091-afef-76e91a925920"
      },
      "outputs": [
        {
          "output_type": "stream",
          "name": "stdout",
          "text": [
            "[[1]\n",
            " [2]]\n",
            " \n",
            "[[1 2]]\n"
          ]
        }
      ],
      "source": [
        "# convertir a vector columna\n",
        "Aprime = np.reshape(A,(-1,1)) # el -1 indica que queda libre (s/ necesario)\n",
        "print(Aprime)\n",
        "\n",
        "print(' ')\n",
        "# Convertir a vector fila\n",
        "Bprime = np.reshape(A,(1,-1)) # el -1 indica que queda libre (s/ necesario)\n",
        "print(Bprime)"
      ]
    },
    {
      "cell_type": "markdown",
      "metadata": {
        "id": "CT6ZnQrbCRPj"
      },
      "source": [
        "Numpy contiene además preseteadas ciertas matrices elementales, como la matriz constante, la matriz identidad y matrices de ceros:"
      ]
    },
    {
      "cell_type": "code",
      "execution_count": null,
      "metadata": {
        "colab": {
          "base_uri": "https://localhost:8080/"
        },
        "id": "UGJsF6lkCdIq",
        "outputId": "e425a778-6923-4d0a-fc6e-e180859ec21c"
      },
      "outputs": [
        {
          "output_type": "stream",
          "name": "stdout",
          "text": [
            "[[0. 0. 0.]\n",
            " [0. 0. 0.]]\n",
            "\n",
            "[[1. 0.]\n",
            " [0. 1.]]\n",
            " \n",
            "[[1.]\n",
            " [1.]\n",
            " [1.]\n",
            " [1.]]\n",
            " \n",
            "[ 0.   0.5  1.   1.5  2.   2.5  3.   3.5  4.   4.5  5.   5.5  6.   6.5\n",
            "  7.   7.5  8.   8.5  9.   9.5 10. ]\n",
            " \n",
            "[[0.97458033 0.71642686 0.74073625 0.70684173 0.81853545]\n",
            " [0.52573732 0.41496952 0.26838071 0.13686041 0.03015708]\n",
            " [0.7788166  0.02447294 0.16206211 0.23314641 0.92877672]]\n"
          ]
        }
      ],
      "source": [
        "# Matriz de 0's\n",
        "ZERO = np.zeros((2,3))\n",
        "print(ZERO)\n",
        "\n",
        "print('')\n",
        "# Matriz identidad\n",
        "EYE = np.eye(2)\n",
        "print(EYE)\n",
        "\n",
        "print(' ')\n",
        "# Matriz constante\n",
        "CTE = np.ones((4,1))\n",
        "print(CTE)\n",
        "\n",
        "print(' ')\n",
        "# Secuencia de numeros\n",
        "print(np.linspace(0,10,21)) # 21 numeros de 0 a 10\n",
        "\n",
        "print(' ')\n",
        "# Números random entre 0 y 1 (uniforme)\n",
        "print(np.random.random((3,5)))"
      ]
    },
    {
      "cell_type": "markdown",
      "source": [
        "¿Para qué preseteamos una matriz de un tamaño? Para pre-asignar memoria RAM a esa variable. Luego la iremos modificando (por ejemplo, en un `for` loop).\n",
        "\n",
        "Otra cosa útil es crear un array vacío, para casos donde el tamaño final del array no es conocido y e iremos agregandoles cosas (en un `for` loop, por ejemplo)."
      ],
      "metadata": {
        "id": "0UMe9x4qAS2a"
      }
    },
    {
      "cell_type": "code",
      "source": [
        "a = [] # lista vacia\n",
        "a_array = np.array(a) # ya convertir en vector/matriz\n",
        "\n",
        "print(a_array)\n",
        "print(type(a_array))"
      ],
      "metadata": {
        "colab": {
          "base_uri": "https://localhost:8080/"
        },
        "id": "tkChaobwAt9t",
        "outputId": "228e2b0a-fc21-48d3-b6d6-d1b0b65d9dcb"
      },
      "execution_count": null,
      "outputs": [
        {
          "output_type": "stream",
          "name": "stdout",
          "text": [
            "[]\n",
            "<class 'numpy.ndarray'>\n"
          ]
        }
      ]
    },
    {
      "cell_type": "markdown",
      "metadata": {
        "id": "gj9xtZhBF42Y"
      },
      "source": [
        "Una ventaja de trabajar con arrays es que es muy simple filtrar datos. La indexación es igual que para listas, pero se pueden aplicar criterios booleanos para la depuración.\n",
        "\n",
        "Por ejemplo, tomemos el siguiente array y quedemosnos con todos los números menores a 0.5:"
      ]
    },
    {
      "cell_type": "code",
      "execution_count": null,
      "metadata": {
        "colab": {
          "base_uri": "https://localhost:8080/"
        },
        "id": "FkFIIIQiGGyn",
        "outputId": "0bbfd068-fa17-4ea2-f159-304cfb14ee05"
      },
      "outputs": [
        {
          "output_type": "stream",
          "name": "stdout",
          "text": [
            "[[0.18679674 0.59219787 0.11369875 0.32383795 0.62159862 0.81727297\n",
            "  0.25827427 0.05970263 0.26367097 0.33331693]]\n",
            "[0.18679674 0.11369875 0.32383795 0.25827427 0.05970263 0.26367097\n",
            " 0.33331693]\n"
          ]
        }
      ],
      "source": [
        "array = np.random.random((1,10))\n",
        "print(array)\n",
        "\n",
        "subset = array[array < 0.5]\n",
        "print(subset)"
      ]
    },
    {
      "cell_type": "markdown",
      "source": [
        "Recuerdan que dijimos que los booleanos son `True` o `Falso`. Bueno, ¡también se comportan como 1 y 0!\n",
        "\n",
        "Esto es **clave** porque nos permite contar (lo vamos a usar mucho)."
      ],
      "metadata": {
        "id": "qZ86kBe9BEm8"
      }
    },
    {
      "cell_type": "code",
      "source": [
        "Ntrue = np.sum(array<0.5)\n",
        "print('Cantidad de ciertos',Ntrue)\n",
        "\n",
        "Ntot = array.shape[1] # Tomo el segundo valor porque es un vector fila\n",
        "print('Cantidad de datos',Ntot)\n",
        "\n",
        "print('Porcentaje de ciertos',Ntrue/Ntot)"
      ],
      "metadata": {
        "colab": {
          "base_uri": "https://localhost:8080/"
        },
        "id": "8_PqYpnpBSHd",
        "outputId": "5f1d5a47-0d78-4a8f-a9e1-32f1637e9ad0"
      },
      "execution_count": null,
      "outputs": [
        {
          "output_type": "stream",
          "name": "stdout",
          "text": [
            "Cantidad de ciertos 7\n",
            "Cantidad de datos 10\n",
            "Porcentaje de ciertos 0.7\n"
          ]
        }
      ]
    },
    {
      "cell_type": "markdown",
      "metadata": {
        "id": "waE5DK2EHMu_"
      },
      "source": [
        "#### Broadcasting\n",
        "\n",
        "Una de las grandes funcionalidades de Numpy es la capacidad de extender y generalizar operaciones sin necesidad de desarrollar loops o asegurar que todos los elementos tengan las mismas dimensiones, lo que ahorra tiempo y memoria.\n",
        "\n",
        "Por ejemplo, si a todos los elementos de un vector se les quiere sumar una constante, simplemente se puede escribir:"
      ]
    },
    {
      "cell_type": "code",
      "execution_count": null,
      "metadata": {
        "colab": {
          "base_uri": "https://localhost:8080/"
        },
        "id": "MX_SKIhPHMas",
        "outputId": "042e6206-5d69-47e5-cf0f-c460b5db6759"
      },
      "outputs": [
        {
          "output_type": "stream",
          "name": "stdout",
          "text": [
            "[2 3 4 5]\n",
            "[[ 2  4  6  8]\n",
            " [ 6  8 10 12]\n",
            " [10 12 14 16]]\n"
          ]
        }
      ],
      "source": [
        "a = np.array([1,2,3,4])\n",
        "b = np.array([[1, 2, 3, 4],[5, 6, 7, 8], [9, 10, 11, 12]])\n",
        "\n",
        "print(a+1) # Sumar una constante a un vector\n",
        "\n",
        "print(b+a) # Sumar un vector a cada fila de una matriz"
      ]
    },
    {
      "cell_type": "markdown",
      "metadata": {
        "id": "cjzIZRSzHzz0"
      },
      "source": [
        "Esta capacidad se puede utilizar para reducir enormemente el costo computacional de ciertas operaciones, como veremos más adelante"
      ]
    },
    {
      "cell_type": "markdown",
      "metadata": {
        "id": "DHLmY5-xIhqV"
      },
      "source": [
        "### Funciones\n",
        "\n",
        "A veces hay ciertas líneas de código que usamos repetidamente. En esos casos es conveniente generar un bloque función que puede ser llamado cuando sea necesario. Por ejemplo, podemos crear nuestra propia función para calcular la norma de un vector:"
      ]
    },
    {
      "cell_type": "code",
      "execution_count": null,
      "metadata": {
        "colab": {
          "base_uri": "https://localhost:8080/"
        },
        "id": "92DZvHU9I1Sd",
        "outputId": "98323693-bf8c-4550-f0b4-7d637d3d12ff"
      },
      "outputs": [
        {
          "output_type": "stream",
          "name": "stdout",
          "text": [
            "5.477225575051661 5.477225575051661\n"
          ]
        }
      ],
      "source": [
        "def norma(x):\n",
        "  temp = 0\n",
        "  for vals in x:\n",
        "    temp += vals**2\n",
        "  return np.sqrt(temp)\n",
        "\n",
        "a = np.array([1, 2, 3, 4])\n",
        "# Comparación entre nuestra función y la disponible en numpy\n",
        "print(norma(a), np.linalg.norm(a))"
      ]
    },
    {
      "cell_type": "markdown",
      "source": [
        "## Ejericio\n",
        "\n",
        "Cerremos con un mini-ejercicio. Se tiene el vector `a = [1, 2, 3, 4, 5]`. El objetivo es el siguiente:\n",
        "\n",
        "* Construya un vector `b` de igual dimensión que tenga en cada celda la sumatoria acumulada al momento de `a` (Es decir, les tiene que dar `[1, 3, 6, 10, 15]`). Utilice un `for` loop\n",
        "* Luego, encuentre cuántos valores son menores a 5, e imprimálos en pantalla."
      ],
      "metadata": {
        "id": "h7nuvqITDwsx"
      }
    },
    {
      "cell_type": "code",
      "source": [
        "# como hago un for loop donde recorro los valores de un vector y los voy sumando, poniendo el resultado en un nuevo vector\n",
        "\n",
        "a = np.array([1, 2, 3, 4, 5])\n",
        "\n",
        "b = np.zeros(a.shape)\n",
        "sum = 0\n",
        "for i in range(a.shape[0]):\n",
        "  sum = sum + a[i]\n",
        "  b[i] = sum\n",
        "\n",
        "print(b)\n",
        "print(np.sum(b<5))\n",
        "print(b[b<5])"
      ],
      "metadata": {
        "colab": {
          "base_uri": "https://localhost:8080/"
        },
        "id": "MlJRa1Y7Ew3y",
        "outputId": "43e7b0bf-96cf-4fa8-9e9b-4724273e13b1"
      },
      "execution_count": null,
      "outputs": [
        {
          "output_type": "stream",
          "name": "stdout",
          "text": [
            "[ 1.  3.  6. 10. 15.]\n",
            "2\n",
            "[1. 3.]\n"
          ]
        }
      ]
    },
    {
      "cell_type": "markdown",
      "source": [
        "Ahora, al `loop` anterior agregue lo siguiente.\n",
        "* Si el valor b(i) es mayor a 5, indique el valor e imprima cuánto mayor que 5 es: '7 es 2 mayor que 5'\n",
        "\n",
        "Esta es una herramiento de debugueo super útil."
      ],
      "metadata": {
        "id": "ioisLixAFaoe"
      }
    },
    {
      "cell_type": "code",
      "source": [
        "a = np.array([1, 2, 3, 4, 5])\n",
        "\n",
        "b = np.zeros(a.shape)\n",
        "sum = 0\n",
        "for i in range(a.shape[0]):\n",
        "  sum = sum + a[i]\n",
        "  b[i] = sum\n",
        "  if b[i]>5:\n",
        "    print(b[i],'es',b[i]-5,'mayor que 5')\n",
        "\n",
        "print(b)\n",
        "print(np.sum(b<5))\n",
        "print(b[b<5])"
      ],
      "metadata": {
        "colab": {
          "base_uri": "https://localhost:8080/"
        },
        "id": "viNQK4CbFwq7",
        "outputId": "d4048122-04f3-4fc9-c4ce-a702118a86be"
      },
      "execution_count": null,
      "outputs": [
        {
          "output_type": "stream",
          "name": "stdout",
          "text": [
            "6.0 es 1.0 mayor que 5\n",
            "10.0 es 5.0 mayor que 5\n",
            "15.0 es 10.0 mayor que 5\n",
            "[ 1.  3.  6. 10. 15.]\n",
            "2\n",
            "[1. 3.]\n"
          ]
        }
      ]
    },
    {
      "cell_type": "markdown",
      "source": [
        "Imprimiendo cosas parciales es mucho más fácil detectar errores. ¡Ténganlo en mente!"
      ],
      "metadata": {
        "id": "wzajEmHZGEAS"
      }
    }
  ],
  "metadata": {
    "colab": {
      "provenance": [],
      "toc_visible": true,
      "include_colab_link": true
    },
    "kernelspec": {
      "display_name": "Python 3.7.7 64-bit",
      "language": "python",
      "name": "python3"
    },
    "language_info": {
      "name": "python",
      "version": "3.7.7"
    },
    "vscode": {
      "interpreter": {
        "hash": "51fa0a07f6fd5e060b837a66c96d41582ff23df34b38f2e72cb4e3ebfbe13406"
      }
    },
    "gpuClass": "standard"
  },
  "nbformat": 4,
  "nbformat_minor": 0
}