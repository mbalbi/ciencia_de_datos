{
  "nbformat": 4,
  "nbformat_minor": 0,
  "metadata": {
    "colab": {
      "provenance": [],
      "include_colab_link": true
    },
    "kernelspec": {
      "name": "python3",
      "display_name": "Python 3"
    },
    "language_info": {
      "name": "python"
    }
  },
  "cells": [
    {
      "cell_type": "markdown",
      "metadata": {
        "id": "view-in-github",
        "colab_type": "text"
      },
      "source": [
        "<a href=\"https://colab.research.google.com/github/mbalbi/ciencia_de_datos/blob/main/tps/1c2024/Practica_0_completa.ipynb\" target=\"_parent\"><img src=\"https://colab.research.google.com/assets/colab-badge.svg\" alt=\"Open In Colab\"/></a>"
      ]
    },
    {
      "cell_type": "code",
      "execution_count": null,
      "metadata": {
        "id": "xb8Ae0HMZ1h8"
      },
      "outputs": [],
      "source": [
        "import numpy as np"
      ]
    },
    {
      "cell_type": "markdown",
      "source": [
        "#Listas y arrays\n",
        "\n",
        "\n"
      ],
      "metadata": {
        "id": "buIsTRi6svZ0"
      }
    },
    {
      "cell_type": "code",
      "source": [
        "# Una lista es una estructura de datos que aglomera cualquier tipo de elementos de manera ordenada, osea su posicion no varia. Permite modificar, agregar y eliminar datos.\n",
        "List_empty = [] # Crea una lista vacia. Util cuando sabemos que vamos a querer ir \"tirando\" datos a una lista mediante un for loop.\n",
        "\n",
        "A_empty = np.array([]) # Crea un array. Es similar a una lista pero permite almacenar una secuencia de elementos del mismo tipo (enteros, flotantes, etc)\n",
        "print('Array vacio')\n",
        "print(A_empty, type(A_empty))\n",
        "print(' ')\n",
        "\n",
        "# Crear un array de tamaño conocido 1D\n",
        "A_4 = np.zeros(4)\n",
        "print('Array de 4 (1D)')\n",
        "print(A_4, type(A_4))\n",
        "print(' ')\n",
        "\n",
        "# Crear un array de tamaño conocido 2D\n",
        "A_4= np.zeros((1,4))\n",
        "print('Array de 1x4 (2D)')\n",
        "print(A_4,type(A_4))\n",
        "print(' ')\n",
        "\n",
        "# Crear un array de tamaño conocido 2D\n",
        "A_4= np.zeros((4,1))\n",
        "print('Array de 4x1 (2D)')\n",
        "print(A_4,type(A_4))\n",
        "print(' ')\n",
        "\n",
        "# Se puede generar un array de valores randoms\n",
        "np.random.seed(0) #Al setearlo, genera siempre los mismos valores (aleatorios)\n",
        "A_ran = np.random.uniform(0,5,len(A_4))\n",
        "print('Array de 4 (1D)')\n",
        "print(A_ran, type(A_ran))\n",
        "print(' ')\n",
        "\n",
        "A_ran44 = np.random.uniform(0, 5, (4,4))\n",
        "print('Array de 4x4 (2D)')\n",
        "print(A_ran44, type(A_ran44))"
      ],
      "metadata": {
        "colab": {
          "base_uri": "https://localhost:8080/"
        },
        "id": "EzvPFokDb4_u",
        "outputId": "8c858e3c-4fa1-49d5-d368-b6f783bd6fac"
      },
      "execution_count": null,
      "outputs": [
        {
          "output_type": "stream",
          "name": "stdout",
          "text": [
            "Array vacio\n",
            "[] <class 'numpy.ndarray'>\n",
            " \n",
            "Array de 4 (1D)\n",
            "[0. 0. 0. 0.] <class 'numpy.ndarray'>\n",
            " \n",
            "Array de 1x4 (2D)\n",
            "[[0. 0. 0. 0.]] <class 'numpy.ndarray'>\n",
            " \n",
            "Array de 4x1 (2D)\n",
            "[[0.]\n",
            " [0.]\n",
            " [0.]\n",
            " [0.]] <class 'numpy.ndarray'>\n",
            " \n",
            "Array de 4 (1D)\n",
            "[2.74406752 3.57594683 3.01381688 2.72441591] <class 'numpy.ndarray'>\n",
            " \n",
            "Array de 4x4 (2D)\n",
            "[[2.118274   3.22947057 2.18793606 4.458865  ]\n",
            " [4.8183138  1.91720759 3.95862519 2.6444746 ]\n",
            " [2.84022281 4.62798319 0.35518029 0.4356465 ]\n",
            " [0.10109199 4.16309923 3.89078375 4.35006074]] <class 'numpy.ndarray'>\n"
          ]
        }
      ]
    },
    {
      "cell_type": "code",
      "source": [
        "#Como acceder a la informacion de un array\n",
        "\n",
        "#Si es 1D\n",
        "a_1D = np.array([7,8,9])\n",
        "print('Array 1D:\\n', a_1D)\n",
        "print('Acceder al segundo valor: a_1D[1]:\\n', a_1D[1])\n",
        "print(' ')\n",
        "\n",
        "#En una lista es exactamente igual.\n",
        "\n",
        "#Si es 2D cambia en funcion de su estructura\n",
        "a_3x1 = np.array([[7],[8],[9]])\n",
        "print('Vector columna 3x1:\\n', a_3x1)\n",
        "print('Acceder al segundo valor: a_3x1[1,0]:\\n', a_3x1[1,0])\n",
        "print(' ')\n",
        "\n",
        "a_1x3 = np.array([[7,8,9]])\n",
        "print('Vector fila 1x3:\\n', a_1x3)\n",
        "print('Acceder al segundo valor: a_1x3[0,1]:\\n', a_1x3[0,1])\n",
        "print(' ')\n",
        "\n",
        "#Tambien puedo acceder a una parte del array\n",
        "Jorge = np.array([np.linspace(2,40,20)]) #Esto crea un array que empieza en 2 y termina en 40, dividido en 20 elementos.\n",
        "print('Jorge es un array con 20 elementos:\\n', Jorge)\n",
        "print(' ')\n",
        "print('A Jorge le quiero pedir los valores a partir del elemento 4:\\n', Jorge[0,4:])\n",
        "#RECORDAR: Python cuenta desde 0!!!\n",
        "print(' ')\n",
        "print('Ahora le pido los valores HASTA el elemento 8:\\n', Jorge[0,:8])\n",
        "print(' ')\n",
        "print('Por ultimo, le pido los valores entre los elementos 4 y 8:\\n', Jorge[0,4:8])\n",
        "\n",
        "#Noten que no descarta el elemento ubicado en la posicion 4 y 8.\n",
        "\n",
        "\n",
        "\n",
        "\n"
      ],
      "metadata": {
        "colab": {
          "base_uri": "https://localhost:8080/"
        },
        "id": "OWggs_ac2WbJ",
        "outputId": "723d44fc-82bb-423a-e0e1-5743c16fb94c"
      },
      "execution_count": null,
      "outputs": [
        {
          "output_type": "stream",
          "name": "stdout",
          "text": [
            "Array 1D:\n",
            " [7 8 9]\n",
            "Acceder al segundo valor: a_1D[1]:\n",
            " 8\n",
            " \n",
            "Vector columna 3x1:\n",
            " [[7]\n",
            " [8]\n",
            " [9]]\n",
            "Acceder al segundo valor: a_3x1[1,0]:\n",
            " 8\n",
            " \n",
            "Vector fila 1x3:\n",
            " [[7 8 9]]\n",
            "Acceder al segundo valor: a_1x3[0,1]:\n",
            " 8\n",
            " \n",
            "Jorge es un array con 20 elementos:\n",
            " [[ 2.  4.  6.  8. 10. 12. 14. 16. 18. 20. 22. 24. 26. 28. 30. 32. 34. 36.\n",
            "  38. 40.]]\n",
            " \n",
            "A Jorge le quiero pedir los valores a partir del elemento 4:\n",
            " [10. 12. 14. 16. 18. 20. 22. 24. 26. 28. 30. 32. 34. 36. 38. 40.]\n",
            " \n",
            "Ahora le pido los valores HASTA el elemento 8:\n",
            " [ 2.  4.  6.  8. 10. 12. 14. 16.]\n",
            " \n",
            "Por ultimo, le pido los valores entre los elementos 4 y 8:\n",
            " [10. 12. 14. 16.]\n"
          ]
        }
      ]
    },
    {
      "cell_type": "markdown",
      "source": [
        "#Operaciones entre matrices\n",
        "\n",
        "\n",
        "*   Broadcasting\n",
        "*   Matriciales\n",
        "\n"
      ],
      "metadata": {
        "id": "YqWMmz8DszZs"
      }
    },
    {
      "cell_type": "code",
      "source": [
        "# Transponer una matriz\n",
        "AT = A_ran44.T\n",
        "print('A transpuesta:\\n', AT)\n",
        "\n",
        "\n",
        "#Python admite broadcasting, osea operaciones \"punto a punto\" cosa que el algebra pura no permite\n",
        "\n",
        "#Creamos dos array\n",
        "a = np.array([[1,2,3]])\n",
        "b = np.array([[4],[5],[6]])\n",
        "print('\\nArray de 1x3:\\n', a)\n",
        "print('\\nArray de 3x1:\\n', b)\n",
        "\n",
        "\n",
        "#Operaciones broadcasting\n",
        "\n",
        "print('\\nSuma punto a punto a + b\\n', a + b)\n",
        "\n",
        "print('\\nMultiplicacion punto a punto a * b\\n', a * b)\n",
        "\n",
        "print('\\nDivision punto a punto a / b\\n', a / b)\n",
        "\n",
        "\n",
        "# Operaciones matriciales\n",
        "\n",
        "print('\\nMultiplicacion entre matrices a@b\\n', a @ b)\n",
        "\n",
        "print('\\nb@a\\n', b@a)\n",
        "\n",
        "print('\\na + b^T\\n', a + b.T)\n"
      ],
      "metadata": {
        "colab": {
          "base_uri": "https://localhost:8080/"
        },
        "id": "LdajPGk_lo_A",
        "outputId": "dc70a559-9d8d-4e90-da65-9225918b1015"
      },
      "execution_count": null,
      "outputs": [
        {
          "output_type": "stream",
          "name": "stdout",
          "text": [
            "A transpuesta:\n",
            " [[2.118274   4.8183138  2.84022281 0.10109199]\n",
            " [3.22947057 1.91720759 4.62798319 4.16309923]\n",
            " [2.18793606 3.95862519 0.35518029 3.89078375]\n",
            " [4.458865   2.6444746  0.4356465  4.35006074]]\n",
            "\n",
            "Array de 1x3:\n",
            " [[1 2 3]]\n",
            "\n",
            "Array de 3x1:\n",
            " [[4]\n",
            " [5]\n",
            " [6]]\n",
            "\n",
            "Suma punto a punto a + b\n",
            " [[5 6 7]\n",
            " [6 7 8]\n",
            " [7 8 9]]\n",
            "\n",
            "Multiplicacion punto a punto a * b\n",
            " [[ 4  8 12]\n",
            " [ 5 10 15]\n",
            " [ 6 12 18]]\n",
            "\n",
            "Division punto a punto a / b\n",
            " [[0.25       0.5        0.75      ]\n",
            " [0.2        0.4        0.6       ]\n",
            " [0.16666667 0.33333333 0.5       ]]\n",
            "\n",
            "Multiplicacion entre matrices a@b\n",
            " [[32]]\n",
            "\n",
            "b@a\n",
            " [[ 4  8 12]\n",
            " [ 5 10 15]\n",
            " [ 6 12 18]]\n",
            "\n",
            "a + b^T\n",
            " [[5 7 9]]\n"
          ]
        }
      ]
    },
    {
      "cell_type": "markdown",
      "source": [
        "#Booleanos"
      ],
      "metadata": {
        "id": "aUqJEuOAtDdi"
      }
    },
    {
      "cell_type": "code",
      "source": [
        "boolean = np.array([[False, True, False]]) #Crea un array logico, donde indica que el segundo elemento es true, el resto false.\n",
        "print('Array logico:\\n', boolean)\n",
        "\n",
        "# Con este array puedo seleccionar valores de un array.\n",
        "print('\\nRecordemos que a = ', a)\n",
        "print('Seleccion de valores true de a: ', a[boolean])\n",
        "\n",
        "# Uso: Se puede elegir todos los valores de A menores a 3, por ejemplo.\n",
        "boolmax2 = a<3\n",
        "print('\\nIndice logico de a<3: \\n', boolmax2)\n",
        "print('Valores de a<3: \\n', a[boolmax2])\n",
        "# Se puede indicar mas limites logicos:\n",
        "boolnum1 = a<2\n",
        "boolnum2 = a>=3\n",
        "boolnum = boolnum1 | boolnum2 # | es el simbolo para un OR. El de AND es &\n",
        "print('\\nIndices logicos: ', boolnum)\n",
        "print('Seleccion de a: ', a[boolnum])\n",
        "\n",
        "\n",
        "#Supongamos que \"b\" es el vector tiempo y \"a\" es el vector datos.\n",
        "#Puedo pedir que me devuelva los datos de a cuando b<6:\n",
        "print('\\nQue valor tiene a cuando b<6:\\n', a[b.T<6]) #Recordar que son arrays 2D!!"
      ],
      "metadata": {
        "colab": {
          "base_uri": "https://localhost:8080/"
        },
        "id": "QLbami_StFKO",
        "outputId": "94759bd0-b3a3-4d41-a513-c7fa53f29dfd"
      },
      "execution_count": null,
      "outputs": [
        {
          "output_type": "stream",
          "name": "stdout",
          "text": [
            "Array logico:\n",
            " [[False  True False]]\n",
            "\n",
            "Recordemos que a =  [[1 2 3]]\n",
            "Seleccion de valores true de a:  [2]\n",
            "\n",
            "Indice logico de a<3: \n",
            " [[ True  True False]]\n",
            "Valores de a<3: \n",
            " [1 2]\n",
            "\n",
            "Indices logicos:  [[ True False  True]]\n",
            "Seleccion de a:  [1 3]\n",
            "\n",
            "Que valor tiene a cuando b<6:\n",
            " [1 2]\n"
          ]
        }
      ]
    },
    {
      "cell_type": "markdown",
      "source": [
        "#Datos utiles"
      ],
      "metadata": {
        "id": "zo5G48fg9OtB"
      }
    },
    {
      "cell_type": "code",
      "source": [
        "#Que es un range?\n",
        "n = 8\n",
        "j = range(2,8)\n",
        "print('Lista j:', list(j))\n",
        "print('Noten que va de 3 a 8. range NO incluye el ultimo valor')\n",
        "\n",
        "#Puedo crear un array\n",
        "\n",
        "j = np.array(range(2,8))\n",
        "print('\\narray j:', j)\n",
        "print('forma j:', j.shape)\n",
        "\n",
        "#Puede ser 2D\n",
        "j_2D = np.array([range(2,8)])\n",
        "print('\\narray 2D j:', j_2D)\n",
        "print('forma j:', j_2D.shape)\n",
        "\n",
        "#Division\n",
        "Div = n/j\n",
        "print('\\ndivision:', Div.round(2)) #redondea hasta el numero de cifras significativas indicado.\n",
        "\n",
        "#Chequeo logico\n",
        "resto = n%j\n",
        "print('\\nResto:', resto)\n",
        "\n",
        "#Numero entero\n",
        "\n",
        "check = resto == 0\n",
        "print('\\nCheck:', check)\n",
        "\n",
        "#Los divisores (propios)\n",
        "divprop = j[check]\n",
        "print('\\nDivisor propio:',divprop)\n",
        "print('Divisor propio:',j[n%j == 0])\n",
        "\n",
        "#Sumatoria de divisores\n",
        "sumdiv = np.sum(divprop)\n",
        "print('\\nSumatoria de divisores', sumdiv)"
      ],
      "metadata": {
        "colab": {
          "base_uri": "https://localhost:8080/"
        },
        "id": "m95luld89NwL",
        "outputId": "d01a61a8-908a-4cd1-9a86-c26d91556367"
      },
      "execution_count": null,
      "outputs": [
        {
          "output_type": "stream",
          "name": "stdout",
          "text": [
            "Lista j: [2, 3, 4, 5, 6, 7]\n",
            "Noten que va de 3 a 8. range NO incluye el ultimo valor\n",
            "\n",
            "array j: [2 3 4 5 6 7]\n",
            "forma j: (6,)\n",
            "\n",
            "array 2D j: [[2 3 4 5 6 7]]\n",
            "forma j: (1, 6)\n",
            "\n",
            "division: [4.   2.67 2.   1.6  1.33 1.14]\n",
            "\n",
            "Resto: [0 2 0 3 2 1]\n",
            "\n",
            "Check: [ True False  True False False False]\n",
            "\n",
            "Divisor propio: [2 4]\n",
            "Divisor propio: [2 4]\n",
            "\n",
            "Sumatoria de divisores 6\n"
          ]
        }
      ]
    },
    {
      "cell_type": "markdown",
      "source": [
        "#For loops e ifs"
      ],
      "metadata": {
        "id": "taEBUPAAvssM"
      }
    },
    {
      "cell_type": "code",
      "source": [
        "# un for loop facil:\n",
        "\n",
        "for i in range((a.shape[1])):\n",
        "  print(a[0,i])\n",
        "  print('Hola, sigo con el siguiente valor de i')\n",
        "print('Hola, terminé el for loop :)\\n')\n",
        "\n",
        "#Notar que la rutina no accede a las lineas posteriores al loop hasta que éste no termina.\n",
        "\n",
        "#Con esto podemos separar entre pares e impares\n",
        "for i in range(a.shape[1]):\n",
        "  if a[0,i] / 2 == a[0,i] // 2:\n",
        "    print('Es par:', a[0,i])\n",
        "  else:\n",
        "    print('Es impar:', a[0,i])\n",
        "\n",
        "# otro ejemplo: calcular con un for loop la suma acumulada de a[0,i]^2\n",
        "\n",
        " #Creo un array vacio. Veamos como llenarlo con los valores que quiero.\n",
        "asumb = np.array([])\n",
        "for i in range(a.shape[1]):\n",
        "  if i == 0:\n",
        "    asumb = np.append(asumb, a[0,i] ** 2)\n",
        "  else:\n",
        "    asumb = np.append(asumb, np.sum(a[0, 0:i+1] ** 2))\n",
        "print('\\nEJERCICIO:\\n')\n",
        "print('Array a:', a)\n",
        "print('Array de valores acumulados de a[0,i]^2:', asumb)\n",
        "\n",
        "#Puedo operar con mi nuevo array creado!! Cuanto valores son pares de asumb?\n",
        "\n",
        "boolcheck = asumb / 2 == asumb // 2\n",
        "print('\\nasumb = ',asumb)\n",
        "print('Vector logico:\\n',boolcheck)\n",
        "print('Cantidad de valores pares es:', np.sum(boolcheck)) #osea, cantidades de True.\n",
        "\n",
        "# otra forma: con dimensiones de array\n",
        "print('\\nCantidad de valores pares es:', len(asumb[boolcheck]))\n"
      ],
      "metadata": {
        "colab": {
          "base_uri": "https://localhost:8080/"
        },
        "id": "lk3Y_HCLvrZJ",
        "outputId": "061c64f3-d48c-4a49-8248-2da9f1a98132"
      },
      "execution_count": null,
      "outputs": [
        {
          "output_type": "stream",
          "name": "stdout",
          "text": [
            "1\n",
            "Hola, sigo con el siguiente valor de i\n",
            "2\n",
            "Hola, sigo con el siguiente valor de i\n",
            "3\n",
            "Hola, sigo con el siguiente valor de i\n",
            "Hola, terminé el for loop :)\n",
            "\n",
            "Es impar: 1\n",
            "Es par: 2\n",
            "Es impar: 3\n",
            "\n",
            "EJERCICIO:\n",
            "\n",
            "Array a: [[1 2 3]]\n",
            "Array de valores acumulados de a[0,i]^2: [ 1.  5. 14.]\n",
            "\n",
            "asumb =  [ 1.  5. 14.]\n",
            "Vector logico:\n",
            " [False False  True]\n",
            "Cantidad de valores pares es: 1\n",
            "\n",
            "Cantidad de valores pares es: 1\n"
          ]
        }
      ]
    },
    {
      "cell_type": "markdown",
      "source": [
        "#Diccionarios\n",
        "\n",
        "Estructura de datos que puede almacenar pares de elementos en forma de clave - valor. Esto quiere decir que puedo colocar dentro del diccionario arrays, listas, valores, etc. y a cada uno de ellos puedo acceder mediante una clave (key)"
      ],
      "metadata": {
        "id": "gDYa_wYa_9xK"
      }
    },
    {
      "cell_type": "code",
      "source": [
        "#Creo varios arrays\n",
        "a1 = np.array([[1,2,3,4]])\n",
        "b1 = np.array([[5],[6],[7],[8]])\n",
        "c1 = np.array([9,10,11,12])\n",
        "#Se crea un diccionario\n",
        "dicc = {\n",
        "    'tiempo': a1,\n",
        "    'desplazamiento': b1,\n",
        "    'Jorge': c1\n",
        "}\n",
        "#Noten que se le asigna un nombre a cada elemento. Esta dispuesto asi por prolijidad,\n",
        "#Es lo mismo que poner dicc = {'tiempo':a1,'desplazamiento':b1,'Jorge':c1}\n",
        "print('Que hay dentro del dicc?\\n',list(dicc))\n",
        "\n",
        "#Como puedo acceder ahora a los datos \"tiempo\"?\n",
        "\n",
        "tiempo = dicc['tiempo']\n",
        "print('\\ntiempo:', tiempo)\n",
        "\n",
        "#Se puede crear un dicc vacio\n",
        "dicc2 = {}\n",
        "par = np.array([])\n",
        "impar = np.array([])\n",
        "\n",
        "vec = np.array([np.linspace(1,20,20)])\n",
        "#Separemos en dos array los pares e impares, y guardemoslo en el diccionario vacio.\n",
        "\n",
        "for i in range(vec.shape[1]):\n",
        "  if vec[0,i] / 2 == vec[0,i] // 2:\n",
        "    par = np.append(par, vec[0,i])\n",
        "  else:\n",
        "    impar = np.append(impar, vec[0,i])\n",
        "dicc2['par'] = par\n",
        "dicc2['impar'] = impar\n",
        "\n",
        "print('\\nDiccionario con arrays de pares e impares',list(dicc2))\n",
        "print('Valores pares:', dicc2['par'])\n",
        "print('Valores impares:', dicc2['impar'])\n",
        "print('5to elemento del vector \"par\":', dicc2['par'][5])\n"
      ],
      "metadata": {
        "colab": {
          "base_uri": "https://localhost:8080/"
        },
        "id": "DRFhjyWJ_9Rs",
        "outputId": "9458bad1-5941-4eb2-952d-cc280982d867"
      },
      "execution_count": null,
      "outputs": [
        {
          "output_type": "stream",
          "name": "stdout",
          "text": [
            "Que hay dentro del dicc?\n",
            " ['tiempo', 'desplazamiento', 'Jorge']\n",
            "\n",
            "tiempo: [[1 2 3 4]]\n",
            "\n",
            "Diccionario con arrays de pares e impares ['par', 'impar']\n",
            "Valores pares: [ 2.  4.  6.  8. 10. 12. 14. 16. 18. 20.]\n",
            "Valores impares: [ 1.  3.  5.  7.  9. 11. 13. 15. 17. 19.]\n",
            "5to elemento del vector \"par\": 12.0\n"
          ]
        }
      ]
    },
    {
      "cell_type": "code",
      "source": [
        "vec = np.array([np.linspace(2,40,20)])\n",
        "vec.shape[1]"
      ],
      "metadata": {
        "colab": {
          "base_uri": "https://localhost:8080/"
        },
        "id": "OPwe3A6eDzlW",
        "outputId": "e77b71ff-6a27-4f3e-87dc-f998054c6081"
      },
      "execution_count": null,
      "outputs": [
        {
          "output_type": "execute_result",
          "data": {
            "text/plain": [
              "20"
            ]
          },
          "metadata": {},
          "execution_count": 130
        }
      ]
    },
    {
      "cell_type": "markdown",
      "source": [
        "#Ejercicio\n",
        "**Pongamos a prueba las herramientas de arriba**\n",
        "\n",
        "\n",
        "\n",
        "Un número abundante se lo define como:\n",
        "\n",
        "Un número cuya suma de divisores propios es mayor que el número mismo.\n",
        "Ejemplo: 12 es divisible por 1, 2, 3, 4 y 6. La suma da 16>12. Es abundante Ejemplo: 15 es divisible por 1, 2, 3 y 5. La suma da 11<=15. No es abundante.\n",
        "\n",
        "Actividad: Halle los el porcentaje de números abundantes entre 0 y 1000 y muestre los primeros 10. Indique el porcentaje de los que encontró que es par, y cuáles son los impares.\n",
        "\n",
        "Bonus: halle los primeros 5 números abundantes impares\n",
        "\n",
        "***Intenten hacerlo antes de mirar el resuelto***\n",
        "\n",
        "A continuacion se presentan varias formas de resolver lo mismo. Hay muchos caminos de llegar al mismo resultado!!"
      ],
      "metadata": {
        "id": "MULFvvIT7wpb"
      }
    },
    {
      "cell_type": "code",
      "source": [
        "# Empiezo a tomar el tiempo para ver cuanto tarda\n",
        "import time\n",
        "start = time.time()\n",
        "\n",
        "# Mi solucion\n",
        "N = 1000\n",
        "abundante = np.array([])\n",
        "for n in range(N+1):\n",
        "  num = np.array(range(n-1))+1\n",
        "  DIV = num[n/num==n//num]\n",
        "\n",
        "  if np.sum(DIV)>n:\n",
        "    abundante = np.append(abundante,n)\n",
        "\n",
        "\n",
        "end = time.time()\n",
        "print('Tiempo total: ',end - start,'s')\n",
        "\n",
        "print('los primeros 10 numeros abundantes son:',abundante[0:10])\n",
        "print('el porcentaje de numeros abundantes entre 0 y 1000 es:',len(abundante)/(N+1))\n",
        "print('el porcentaje de numeros pares abundantes entre 0 y 1000 es:',np.sum(abundante/2==abundante//2)/len(abundante))\n",
        "print('los numeros abundantes impares entre 0 y 1000 son:',abundante[abundante/2!=abundante//2])"
      ],
      "metadata": {
        "colab": {
          "base_uri": "https://localhost:8080/"
        },
        "id": "D6UyEF9z00xC",
        "outputId": "ed93d923-aa64-42fb-fd09-12c173b66c68"
      },
      "execution_count": null,
      "outputs": [
        {
          "output_type": "stream",
          "name": "stdout",
          "text": [
            "Tiempo total:  0.1441357135772705 s\n",
            "los primeros 10 numeros abundantes son: [12. 18. 20. 24. 30. 36. 40. 42. 48. 54.]\n",
            "el porcentaje de numeros abundantes entre 0 y 1000 es: 0.24575424575424576\n",
            "el porcentaje de numeros pares abundantes entre 0 y 1000 es: 0.9959349593495935\n",
            "los numeros abundantes impares entre 0 y 1000 son: [945.]\n"
          ]
        }
      ]
    },
    {
      "cell_type": "code",
      "source": [
        "# Empiezo a tomar el tiempo para ver cuanto tarda\n",
        "import time\n",
        "start = time.time()\n",
        "\n",
        "# Mi solucion\n",
        "abundante_impar = np.array([])\n",
        "i=3\n",
        "while len(abundante_impar)<5:\n",
        "  num = np.array(range(i-1))+1\n",
        "  DIV = num[i/num==i//num]\n",
        "  suma = np.sum(DIV)\n",
        "  check1 = suma>i\n",
        "  check2 = i/2!=i//2\n",
        "\n",
        "  if check1 & check2:\n",
        "    abundante_impar = np.append(abundante_impar,i)\n",
        "\n",
        "  i+=2\n",
        "\n",
        "end = time.time()\n",
        "print('Tiempo total: ',end - start,'s')\n",
        "\n",
        "print('los primeros 5 numeros abundantes impares son:',abundante_impar)"
      ],
      "metadata": {
        "colab": {
          "base_uri": "https://localhost:8080/"
        },
        "id": "ouCD3O8ZSgDV",
        "outputId": "88d04ec3-8a1b-46b4-e932-91a19fb51b81"
      },
      "execution_count": null,
      "outputs": [
        {
          "output_type": "stream",
          "name": "stdout",
          "text": [
            "Tiempo total:  0.984994649887085 s\n",
            "los primeros 5 numeros abundantes impares son: [ 945. 1575. 2205. 2835. 3465.]\n"
          ]
        }
      ]
    },
    {
      "cell_type": "code",
      "source": [
        "# prompt: encontrar los numeros abundantes entre 0 y 1000\n",
        "\n",
        "def is_abundant(n):\n",
        "  \"\"\"\n",
        "  Checks if a number is abundant.\n",
        "\n",
        "  Args:\n",
        "      n: The number to check.\n",
        "\n",
        "  Returns:\n",
        "      True if the number is abundant, False otherwise.\n",
        "  \"\"\"\n",
        "\n",
        "  # Find the divisors of n.\n",
        "  divisors = [i for i in range(1, n) if n % i == 0]\n",
        "\n",
        "  # Sum the divisors.\n",
        "  sum_of_divisors = sum(divisors)\n",
        "\n",
        "  # Check if the sum of the divisors is greater than n.\n",
        "  return sum_of_divisors > n\n",
        "\n",
        "# Find the abundant numbers between 0 and 1000.\n",
        "abundant_numbers = [n for n in range(1, 1001) if is_abundant(n)]\n",
        "\n",
        "# Print the abundant numbers.\n",
        "print(abundant_numbers)\n"
      ],
      "metadata": {
        "colab": {
          "base_uri": "https://localhost:8080/"
        },
        "id": "UaZcpoyIShzs",
        "outputId": "18661889-00d1-45f9-ef9a-7e436f2f0195"
      },
      "execution_count": null,
      "outputs": [
        {
          "output_type": "stream",
          "name": "stdout",
          "text": [
            "[12, 18, 20, 24, 30, 36, 40, 42, 48, 54, 56, 60, 66, 70, 72, 78, 80, 84, 88, 90, 96, 100, 102, 104, 108, 112, 114, 120, 126, 132, 138, 140, 144, 150, 156, 160, 162, 168, 174, 176, 180, 186, 192, 196, 198, 200, 204, 208, 210, 216, 220, 222, 224, 228, 234, 240, 246, 252, 258, 260, 264, 270, 272, 276, 280, 282, 288, 294, 300, 304, 306, 308, 312, 318, 320, 324, 330, 336, 340, 342, 348, 350, 352, 354, 360, 364, 366, 368, 372, 378, 380, 384, 390, 392, 396, 400, 402, 408, 414, 416, 420, 426, 432, 438, 440, 444, 448, 450, 456, 460, 462, 464, 468, 474, 476, 480, 486, 490, 492, 498, 500, 504, 510, 516, 520, 522, 528, 532, 534, 540, 544, 546, 550, 552, 558, 560, 564, 570, 572, 576, 580, 582, 588, 594, 600, 606, 608, 612, 616, 618, 620, 624, 630, 636, 640, 642, 644, 648, 650, 654, 660, 666, 672, 678, 680, 684, 690, 696, 700, 702, 704, 708, 714, 720, 726, 728, 732, 736, 738, 740, 744, 748, 750, 756, 760, 762, 768, 770, 774, 780, 784, 786, 792, 798, 800, 804, 810, 812, 816, 820, 822, 828, 832, 834, 836, 840, 846, 852, 858, 860, 864, 868, 870, 876, 880, 882, 888, 894, 896, 900, 906, 910, 912, 918, 920, 924, 928, 930, 936, 940, 942, 945, 948, 952, 954, 960, 966, 968, 972, 978, 980, 984, 990, 992, 996, 1000]\n"
          ]
        }
      ]
    },
    {
      "cell_type": "code",
      "source": [
        "# prompt: find the first five odd abundant numbers\n",
        "\n",
        "def is_abundant(n):\n",
        "    divisors = [i for i in range(1, n) if n % i == 0]\n",
        "    return sum(divisors) > n\n",
        "\n",
        "def is_odd(n):\n",
        "    return n % 2 != 0\n",
        "\n",
        "odd_abundant_numbers = []\n",
        "n = 1\n",
        "while len(odd_abundant_numbers) < 5:\n",
        "    if is_abundant(n) and is_odd(n):\n",
        "        odd_abundant_numbers.append(n)\n",
        "    n += 1\n",
        "\n",
        "print(odd_abundant_numbers)\n"
      ],
      "metadata": {
        "colab": {
          "base_uri": "https://localhost:8080/"
        },
        "id": "jNTS_YIKSjN-",
        "outputId": "753dd6c7-bd7c-4358-ce34-95cc682f8b9a"
      },
      "execution_count": null,
      "outputs": [
        {
          "output_type": "stream",
          "name": "stdout",
          "text": [
            "[945, 1575, 2205, 2835, 3465]\n"
          ]
        }
      ]
    },
    {
      "cell_type": "markdown",
      "source": [
        "Un alumno como ustedes (dia Lunes)"
      ],
      "metadata": {
        "id": "q_bfbhlFSrDr"
      }
    },
    {
      "cell_type": "code",
      "source": [
        "import numpy as np\n",
        "\n",
        "# Ejercicio\n",
        "# Números abundantes\n",
        "# Hallar los números abundantes entre 0 y 1000, mostar los primeros 10, porcentaje que es par, e impares\n",
        "\n",
        "#tenemos 1001 números n 0 al 1000\n",
        "#para cada número debo buscar los divisores\n",
        "#que es un divisor? m es divisor de n si n/m = n//m, es lo mismo que decir que no tiene resto\n",
        "#m va de (2:n) n exclusive\n",
        "\n",
        "a = np.array([])                            # Creo  un vector vacío para guardar los números abundantes\n",
        "\n",
        "n = 1001\n",
        "\n",
        "for i in range(n) :                         # Para cada i en el rango n (de 0 a 1000)\n",
        "  m = np.array(range(1,i))                  # El vector m son los números de 2 a i\n",
        "  m = m[i/m == i//m]                        # Me quedo con los números del vector m que cumplen la condición de ser divisores de i\n",
        "  suma = np.sum(m)                          # suma es el resultado de la suma de los números divisores de i, osea de los números del vector m\n",
        "  if suma > i :                             # Si la suma es mayor que i\n",
        "    a = np.append(a,i)                      # Agrego i al vector a\n",
        "\n",
        "print('Vector de primeros 10 números abundantes : ',a[0:10])\n",
        "print(' ')\n",
        "N = len(a) #Cantidad de números abundantes\n",
        "print('Cantidad de números abundantes entre 0 y 1000 : ',N)\n",
        "print(' ')\n",
        "print('Porcentaje de númros abundantes : ',np.round(N*100/n,3),'%')\n",
        "print(' ')\n",
        "\n",
        "pares = np.array([])                        # Creo un vector vacío para guardar los números abundantes pares\n",
        "impares = np.array([])                      # Creo un vector vacío para guardar los números abundantes impares\n",
        "\n",
        "for i in range(len(a)):                     # Para cada i en el rango N = len(a) (Cantidad de números abundantes)\n",
        "  if a[i]/2 == a[i]//2:                     # Si el valor ai del vector de números abundantes (a) al dividirlo por 2 no tiene resto\n",
        "    pares = np.append(pares,a[i])           # Agrego ai al vector pares\n",
        "  else:                                     # Si el valor ai al dividirlo por 2 tiene resto\n",
        "    impares = np.append(impares,a[i])       # Agrego ai al vector impares\n",
        "\n",
        "print(len(pares),' son abundantes pares')\n",
        "print(' ')\n",
        "print(np.round(len(pares)*100/N,3),'% de los abundantes son pares')\n",
        "print(' ')\n",
        "print(len(impares),' son abundantes impares')\n",
        "print(' ')\n",
        "print(np.round(len(impares)*100/N,3),'% de los abundantes son impares')"
      ],
      "metadata": {
        "colab": {
          "base_uri": "https://localhost:8080/"
        },
        "id": "kLs4j8OwSk2B",
        "outputId": "eb65ac07-33a0-409d-fb0b-9f4c7a1d56cc"
      },
      "execution_count": null,
      "outputs": [
        {
          "output_type": "stream",
          "name": "stdout",
          "text": [
            "Vector de primeros 10 números abundantes :  [12. 18. 20. 24. 30. 36. 40. 42. 48. 54.]\n",
            " \n",
            "Cantidad de números abundantes entre 0 y 1000 :  246\n",
            " \n",
            "Porcentaje de númros abundantes :  24.575 %\n",
            " \n",
            "245  son abundantes pares\n",
            " \n",
            "99.593 % de los abundantes son pares\n",
            " \n",
            "1  son abundantes impares\n",
            " \n",
            "0.407 % de los abundantes son impares\n"
          ]
        }
      ]
    },
    {
      "cell_type": "markdown",
      "source": [
        "Una alumna como ustedes (dia Martes)"
      ],
      "metadata": {
        "id": "KpCiBFV9SwOs"
      }
    },
    {
      "cell_type": "code",
      "source": [
        "import numpy as np\n",
        "#Defino función checkabun. Esta función selecciona los números abundantes de un array.\n",
        "#INPUT: número escalar, Abun np array\n",
        "#OUTPUT: Abun array\n",
        "\n",
        "def checkabun(n,Abun): #Def. función\n",
        "  a=np.array(range(1,n)) #a es un array con los posibles divisores de n\n",
        "  divisores=a[n%a==0] #divisores de n\n",
        "  if np.sum(divisores)>n: #si la suma de los divisores de n es mayor que n\n",
        "    Abun=np.append(Abun,n)  #agregar n a Abun\n",
        "  return Abun  #acá no sé por qué va Abun???? D:\n",
        "\n",
        "Abun20=np.array([])   #Defino Abun20 como un array vacío de tamaño desconocido\n",
        "m=np.array(range(0,1001)) #Genero un array con el rango de números a analizar con mi función checkabun\n",
        "for element in m: #para cada elemento de m\n",
        "  Abun20=checkabun(element, Abun20)  #Valúo mi función en cada elemento y lo agrego a Abun20\n",
        "#print(Abun20) #Imprimo mi lista de de números abundantes\n",
        "\n",
        "#Calculo el porcentaje de Abundantes\n",
        "porabun=len(Abun20)*100/1001\n",
        "print(\"El porcentaje de números abundantes entre el 0 y el 1000 es:\",porabun)\n",
        "\n",
        "#Selecciono los primeros 10 números abundantes\n",
        "print(\"Los primeros diez números abundantes son:\",Abun20[:10]) #con el [:10] tomo los primeros 10 elementos\n",
        "\n",
        "Abunpar=Abun20[Abun20%2==0] #array con los elementos pares de Abun20\n",
        "#print(Abunpar[:10])\n",
        "Abunimp=Abun20[Abun20%2!=0] #array con los elementos impares de Abun20\n",
        "#print(Abunimp)\n",
        "\n",
        "#Calculo el porcentaje de los abundantes pares e impares del 1 al 1000\n",
        "porpar=len(Abunpar)*100/len(Abun20)\n",
        "porimp=len(Abunimp)*100/len(Abun20)\n",
        "print(\"El porcentaje de pares es\", np.round(porpar,2), \"% y el de impares\", np.round(porimp,2),\"%.\") #imprimo y redondeo con 2 decimales\n",
        "\n",
        "#BONUS\n",
        "print(\"BONUS!!!\")\n",
        "\n",
        "Abunimp5=np.array([]) #defino array sin tamaño\n",
        "numero_actual=0 #numero de partida\n",
        "while len(Abunimp5) < 5: #mientras el tamano de Abunimp5 sea menor que 5\n",
        "    #if (len(checkabun(numero_actual,Abunimp5))>len(Abunimp5)) & (numero_actual%2!=0): #chequeo abundancia para numeros impares\n",
        "    if len(checkabun(numero_actual,Abunimp5))>len(Abunimp5) and numero_actual%2!=0: #es lo mismo de otra forma\n",
        "        Abunimp5 = np.append(Abunimp5,numero_actual) #agrego los numeros impares abundantes\n",
        "    numero_actual += 1  #sumo una unidad para pasar al siguiente numero\n",
        "print(\"Los primeros 5 números abundantes impares son\",Abunimp5,\"!\")"
      ],
      "metadata": {
        "colab": {
          "base_uri": "https://localhost:8080/"
        },
        "id": "d2PbG7e6SuKB",
        "outputId": "e5b1cfbb-b6a0-4e5c-c4bc-54068e7a5255"
      },
      "execution_count": null,
      "outputs": [
        {
          "output_type": "stream",
          "name": "stdout",
          "text": [
            "El porcentaje de números abundantes entre el 0 y el 1000 es: 24.575424575424574\n",
            "Los primeros diez números abundantes son: [12. 18. 20. 24. 30. 36. 40. 42. 48. 54.]\n",
            "El porcentaje de pares es 99.59 % y el de impares 0.41 %.\n",
            "BONUS!!!\n",
            "Los primeros 5 números abundantes impares son [ 945. 1575. 2205. 2835. 3465.] !\n"
          ]
        }
      ]
    },
    {
      "cell_type": "markdown",
      "source": [
        "Más ejemplos"
      ],
      "metadata": {
        "id": "q8Wodt7eSyvi"
      }
    },
    {
      "cell_type": "code",
      "source": [
        "import numpy as np # importo la libreria numpy\n",
        "Abun = np.array ([]) # creo vector vacio donde incluire los valores de numeros abundantes\n",
        "print (Abun)\n",
        "[]\n",
        "Div = np.array ([]) # creo vector vacio donde incluire los divisores de cada numero entre el 1 y el 1000\n",
        "print (Div)\n",
        "[]\n",
        "i = 1\n",
        "\n",
        "Abun = np.array ([])\n",
        "for i in range (1, 1001):         # defino un for el cual barre los numeros desde el 1 al 1001 (excluyente)\n",
        "  Div = np.array ([])\n",
        "  for n in range (1, i):          # defino un for el cual barre los numeros desde el 1 al numero analizado en el for anterior (excluyente)\n",
        "    if i//n == i/n:               # si la division redondea y la division con decimales es igual, n es divisor de i\n",
        "      Div = np.append (Div, n)    # entonces agrego n al vector de divisores\n",
        "  if np.sum(Div)>i:                  # si la suma de divisores es mayor que el numero, el numero es abundantes\n",
        "    Abun = np.append (Abun, i)     # entonces agrego i al vector de numeros abundantes\n",
        "\n",
        "AbunImp = Abun * (Abun/2 != Abun//2)   # busco los numeros impares multiplicando al vector por un vector del mismo tamaño que tiene la variable false en los lugares que hay numeros pares\n",
        "AbunImp = AbunImp [AbunImp != 0]       # elimino los ceros\n",
        "\n",
        "print ('Los numeros abundantes son', Abun)\n",
        "print ()\n",
        "print ('La cantidad de numeros abundantes entre el 0 y el 1000 es', len(Abun))\n",
        "print ()\n",
        "print ('Los numeros abundantes impares entre el 0 y el 1000 son', AbunImp)"
      ],
      "metadata": {
        "id": "M6tFjJLDSy_W"
      },
      "execution_count": null,
      "outputs": []
    },
    {
      "cell_type": "code",
      "source": [
        "import numpy as np\n",
        "n=1001\n",
        "NumAb =[]\n",
        "for i in range(n):\n",
        "  m=np.array(range(2,i))\n",
        "  m=m[i/m == i//m]\n",
        "  sum = np.sum(m)\n",
        "  if  sum > i:\n",
        "   NumAb.append(i)\n",
        "   i=i+1\n",
        "  else:\n",
        "    i=i+1\n",
        "print('')\n",
        "N=len(NumAb) #Cantidad de numeros abundantes\n",
        "print('El porcentaje de numeros abundantes es',N/n)\n",
        "print('Los primeros 10 valores son',NumAb[:10])\n",
        "#Busco que porcentaje es par\n",
        "Par=[] #me cree un vector de pares abundantes e impares abundantes\n",
        "Impar=[]\n",
        "\n",
        "for a in range(len(NumAb)):\n",
        "  if (NumAb[a])/2 == (NumAb[a])//2:\n",
        "    Par.append(NumAb[a])\n",
        "    a=a+1\n",
        "  else:\n",
        "    Impar.append(NumAb[a])\n",
        "    a=a+1\n",
        "P=len(Par) #Cantidad de pares abundantes\n",
        "I=len(Impar) #Cantidad de impares abundantes\n",
        "print('El porcentaje de pares es',P*100/N, '%')\n",
        "print('El porcentaje de impares es',(1-(P/N))*100 , '%')\n",
        "print('El numero impar Abundante es',Impar)"
      ],
      "metadata": {
        "colab": {
          "base_uri": "https://localhost:8080/"
        },
        "id": "jTxYMKJKS1-A",
        "outputId": "0b9895f1-24eb-4c0d-8343-0d24239ca783"
      },
      "execution_count": null,
      "outputs": [
        {
          "output_type": "stream",
          "name": "stdout",
          "text": [
            "\n",
            "El porcentaje de numeros abundantes es 0.24575424575424576\n",
            "Los primeros 10 valores son [12, 18, 20, 24, 30, 36, 40, 42, 48, 54]\n",
            "El porcentaje de pares es 99.59349593495935 %\n",
            "El porcentaje de impares es 0.40650406504064707 %\n",
            "El numero impar Abundante es [945]\n"
          ]
        }
      ]
    },
    {
      "cell_type": "code",
      "source": [
        "import numpy as np\n",
        "#Ejercicio numeros abundantes del 1 al 1000, se imprimen los primeros 10\n",
        "a = []\n",
        "for n in range(1001):\n",
        "  m = np.array(range(1,n)) #del 1 al n\n",
        "  mask = (n/m == n//m)\n",
        "  div = m[mask] #me quedo solamente con los divisores de n\n",
        "  sumdiv = np.sum(div)\n",
        "  if sumdiv > n:\n",
        "    a.append(n)\n",
        "a_10 = a[0:10]\n",
        "print(\"Los primeros 10 numeros abundantes son:\",a_10)\n",
        "\n",
        "cant = len(a)\n",
        "porcentaje_abundates = (cant/(n+1))*100\n",
        "print(\"El porcentaje de los numeros abundantes entre el 0 y el 1000 es:\",porcentaje_abundates)\n",
        "\n",
        "impares = []\n",
        "for n in a:\n",
        "  if n/2 != n//2:\n",
        "    \timpares.append(n)\n",
        "print(\"Los numeros abundantes impares entre el 0 y el 1000 son:\",impares)"
      ],
      "metadata": {
        "colab": {
          "base_uri": "https://localhost:8080/"
        },
        "id": "mCLEgoRfS2Xr",
        "outputId": "281ee320-d49f-41e9-991b-6de839dd5f27"
      },
      "execution_count": null,
      "outputs": [
        {
          "output_type": "stream",
          "name": "stdout",
          "text": [
            "Los primeros 10 numeros abundantes son: [12, 18, 20, 24, 30, 36, 40, 42, 48, 54]\n",
            "El porcentaje de los numeros abundantes entre el 0 y el 1000 es: 24.575424575424577\n",
            "Los numeros abundantes impares entre el 0 y el 1000 son: [945]\n"
          ]
        }
      ]
    }
  ]
}