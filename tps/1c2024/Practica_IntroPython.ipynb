{
  "nbformat": 4,
  "nbformat_minor": 0,
  "metadata": {
    "colab": {
      "provenance": [],
      "toc_visible": true,
      "include_colab_link": true
    },
    "kernelspec": {
      "name": "python3",
      "display_name": "Python 3"
    },
    "language_info": {
      "name": "python"
    }
  },
  "cells": [
    {
      "cell_type": "markdown",
      "metadata": {
        "id": "view-in-github",
        "colab_type": "text"
      },
      "source": [
        "<a href=\"https://colab.research.google.com/github/mbalbi/ciencia_de_datos/blob/main/tps/1c2024/Practica_IntroPython.ipynb\" target=\"_parent\"><img src=\"https://colab.research.google.com/assets/colab-badge.svg\" alt=\"Open In Colab\"/></a>"
      ]
    },
    {
      "cell_type": "markdown",
      "source": [
        "# Markdown"
      ],
      "metadata": {
        "id": "0xobhkxPscmM"
      }
    },
    {
      "cell_type": "markdown",
      "source": [
        "Celda para texto"
      ],
      "metadata": {
        "id": "9Equ1x__mini"
      }
    },
    {
      "cell_type": "code",
      "source": [
        "print('Hola Mundo')  # Celda Para código"
      ],
      "metadata": {
        "id": "xLJX4yCLiuTv",
        "colab": {
          "base_uri": "https://localhost:8080/"
        },
        "outputId": "f163f83e-5bbf-4de1-d26c-cc34c6a18a5f"
      },
      "execution_count": null,
      "outputs": [
        {
          "output_type": "stream",
          "name": "stdout",
          "text": [
            "Hola Mundo\n"
          ]
        }
      ]
    },
    {
      "cell_type": "markdown",
      "source": [
        "# Encabezado de nivel 1\n",
        "## Encabezado de nivel 2\n",
        "### Encabezado de nivel 3\n",
        "#### Encabezado de nivel 4"
      ],
      "metadata": {
        "id": "dJNpDGg7BeLw"
      }
    },
    {
      "cell_type": "markdown",
      "source": [],
      "metadata": {
        "id": "7R_IzlGJBnOJ"
      }
    },
    {
      "cell_type": "markdown",
      "source": [
        "**Este texto es en negrita**\n",
        "\n",
        "*Este texto es en cursiva*\n",
        "\n",
        "***Este texto es negrita y cursiva***"
      ],
      "metadata": {
        "id": "7vWo0lJIsX7k"
      }
    },
    {
      "cell_type": "markdown",
      "source": [
        "- Elemento 1\n",
        "- Elemento 2\n",
        "  - Sub-elemento\n",
        "- Elemento 3"
      ],
      "metadata": {
        "id": "lpnuDHcKsgsI"
      }
    },
    {
      "cell_type": "markdown",
      "source": [
        "1. Primer elemento\n",
        "2. Segundo elemento\n",
        "   1. Sub-elemento\n",
        "3. Tercer elemento"
      ],
      "metadata": {
        "id": "mmk3oIRssjjX"
      }
    },
    {
      "cell_type": "markdown",
      "source": [
        "[Visita el Campus](https://campusgrado.fi.uba.ar/enrol/index.php?id=1245)"
      ],
      "metadata": {
        "id": "ajA2LGV7tM8x"
      }
    },
    {
      "cell_type": "markdown",
      "source": [
        "![Texto alternativo](https://cms.fi.uba.ar/uploads/DSCN_2332_30b7bb2707.JPG)"
      ],
      "metadata": {
        "id": "VvhjaKEWsnk-"
      }
    },
    {
      "cell_type": "markdown",
      "source": [
        "# Python - Sintaxis básica"
      ],
      "metadata": {
        "id": "1hZDNsvhAO4i"
      }
    },
    {
      "cell_type": "code",
      "source": [
        "# Declaración de variables\n",
        "nombre = \"Ana\"         # Variable de tipo string (texto)\n",
        "edad = 25              # Variable de tipo entero (número)\n",
        "altura = 1.68          # Variable de tipo flotante (número decimal)\n",
        "es_estudiante = True   # Variable booleana (verdadero o falso)"
      ],
      "metadata": {
        "id": "_yJqvOfHGZVl"
      },
      "execution_count": null,
      "outputs": []
    },
    {
      "cell_type": "code",
      "source": [
        "condición = True"
      ],
      "metadata": {
        "id": "8qyKTogSAm0I"
      },
      "execution_count": null,
      "outputs": []
    },
    {
      "cell_type": "code",
      "source": [
        "if condición:\n",
        "    # Código si la condición es verdadera\n",
        "    print(\"La condición es verdadera\")\n",
        "else:\n",
        "    # Código si la condición es falsa\n",
        "    print(\"La condición es falsa\")"
      ],
      "metadata": {
        "id": "ixDPaffLAjoQ",
        "colab": {
          "base_uri": "https://localhost:8080/"
        },
        "outputId": "d979ea2e-c4a4-4b99-d4e2-d297e7919fbb"
      },
      "execution_count": null,
      "outputs": [
        {
          "output_type": "stream",
          "name": "stdout",
          "text": [
            "La condición es verdadera\n"
          ]
        }
      ]
    },
    {
      "cell_type": "code",
      "source": [
        "resistencia = 30  # MPa\n",
        "\n",
        "if resistencia >= 30:\n",
        "    print(\"Alta resistencia\")\n",
        "elif resistencia >= 25:\n",
        "    print(\"Resistencia media\")\n",
        "else:\n",
        "    print(\"Baja resistencia\")"
      ],
      "metadata": {
        "id": "UaE0pAj_BAoA",
        "colab": {
          "base_uri": "https://localhost:8080/"
        },
        "outputId": "2c0d860c-21e9-4105-8309-3b976ff92d79"
      },
      "execution_count": null,
      "outputs": [
        {
          "output_type": "stream",
          "name": "stdout",
          "text": [
            "Alta resistencia\n"
          ]
        }
      ]
    },
    {
      "cell_type": "code",
      "source": [
        "# Bucle while: repite hasta que la condición sea falsa\n",
        "contador = 0\n",
        "while contador < 5:\n",
        "    print(f\"Contador: {contador}\")\n",
        "    contador += 1  # Incremento del contador"
      ],
      "metadata": {
        "colab": {
          "base_uri": "https://localhost:8080/"
        },
        "id": "o_dGlE3uGtuQ",
        "outputId": "f16e14e5-fadf-48a6-fa69-d7b74da330ba"
      },
      "execution_count": null,
      "outputs": [
        {
          "output_type": "stream",
          "name": "stdout",
          "text": [
            "Contador: 0\n",
            "Contador: 1\n",
            "Contador: 2\n",
            "Contador: 3\n",
            "Contador: 4\n"
          ]
        }
      ]
    },
    {
      "cell_type": "code",
      "source": [
        "# Bucle for: recorre una lista\n",
        "frutas = [\"manzana\", \"mandarina\", \"naranja\"]\n",
        "for fruta in frutas:\n",
        "    print(f\"Me gusta la {fruta}\")"
      ],
      "metadata": {
        "colab": {
          "base_uri": "https://localhost:8080/"
        },
        "id": "TLcnlKRmGeSW",
        "outputId": "8a718cd9-47b1-4001-8148-fb6daa5555d5"
      },
      "execution_count": null,
      "outputs": [
        {
          "output_type": "stream",
          "name": "stdout",
          "text": [
            "Me gusta la manzana\n",
            "Me gusta la mandarina\n",
            "Me gusta la naranja\n"
          ]
        }
      ]
    },
    {
      "cell_type": "code",
      "source": [
        "# Definición de una función\n",
        "def saludar(nombre):\n",
        "    \"\"\"Esta función recibe un nombre y muestra un saludo.\"\"\"\n",
        "    print(f\"¡Hola, {nombre}!\")\n",
        "\n",
        "# Llamado a la función\n",
        "saludar(\"Carlos\")"
      ],
      "metadata": {
        "colab": {
          "base_uri": "https://localhost:8080/"
        },
        "id": "02Ga_npiGz4R",
        "outputId": "48105e6a-5ecd-4a6d-de5b-ff28f2a38d9c"
      },
      "execution_count": null,
      "outputs": [
        {
          "output_type": "stream",
          "name": "stdout",
          "text": [
            "¡Hola, Carlos!\n"
          ]
        }
      ]
    },
    {
      "cell_type": "code",
      "source": [
        "# Manejo de excepciones\n",
        "try:\n",
        "    resultado = 10 / 0  # Esto genera un error (división por cero)\n",
        "except ZeroDivisionError:\n",
        "    print(\"No se puede dividir por cero.\")"
      ],
      "metadata": {
        "colab": {
          "base_uri": "https://localhost:8080/"
        },
        "id": "n5cATRbuG145",
        "outputId": "51d30a72-7f2b-4cf8-a2cf-54f0545f0e4a"
      },
      "execution_count": null,
      "outputs": [
        {
          "output_type": "stream",
          "name": "stdout",
          "text": [
            "No se puede dividir por cero.\n"
          ]
        }
      ]
    },
    {
      "cell_type": "code",
      "source": [
        "# Uso de listas y comprensión de listas\n",
        "numeros = [1, 2, 3, 4, 5]\n",
        "cuadrados = [n ** 2 for n in numeros]  # Eleva al cuadrado cada número\n",
        "print(cuadrados)"
      ],
      "metadata": {
        "colab": {
          "base_uri": "https://localhost:8080/"
        },
        "id": "3nhk7QoDGYoV",
        "outputId": "c2aa388e-30d2-426d-81d0-fb4f099e0f40"
      },
      "execution_count": null,
      "outputs": [
        {
          "output_type": "stream",
          "name": "stdout",
          "text": [
            "[1, 4, 9, 16, 25]\n"
          ]
        }
      ]
    },
    {
      "cell_type": "markdown",
      "source": [
        "# scipy"
      ],
      "metadata": {
        "id": "LsUIyIWR_xE5"
      }
    },
    {
      "cell_type": "markdown",
      "source": [
        "¿Qué es la densidad puntual o probabilidad en una distribución?\n",
        "En estadística, cada distribución tiene una función de densidad de probabilidad (PDF), que indica qué tan probable es obtener un valor específico dentro de una distribución.\n",
        "\n",
        "*   Para distribuciones continuas (como la normal o la lognormal), usamos la función PDF (Probability Density Function).\n",
        "*   Para distribuciones discretas (como la binomial o Poisson), usamos la función PMF (Probability Mass Function)."
      ],
      "metadata": {
        "id": "e0kyU_HTm6SZ"
      }
    },
    {
      "cell_type": "code",
      "source": [
        "import numpy as np\n",
        "import matplotlib.pyplot as plt\n",
        "from scipy.stats import norm, binom, poisson"
      ],
      "metadata": {
        "id": "pA39N62vrizI"
      },
      "execution_count": null,
      "outputs": []
    },
    {
      "cell_type": "markdown",
      "source": [
        "### Ejemplo: Distribución Normal\n",
        "\n",
        "En muchas aplicaciones, la resistencia del hormigon sigue una distribución normal con una media μ y desviación estándar σ.\n",
        "\n",
        "Problema: La resistencia de un lote de hormigon sigue una distribución normal con:\n",
        "Media = 30 MPa\n",
        "Desviación estándar = 5 MPa\n",
        "\n",
        "Queremos calcular la probabilidad de obtener una probeta con una resistencia específica, por ejemplo, 25 MPa."
      ],
      "metadata": {
        "id": "3_h4RIAjnKIW"
      }
    },
    {
      "cell_type": "code",
      "source": [
        "# Parámetros de la distribución\n",
        "media = 30  # MPa\n",
        "desvio = 5  # MPa\n",
        "\n",
        "# Calcular la densidad de probabilidad para 25 MPa\n",
        "probabilidad = norm.pdf(25, loc=media, scale=desvio)\n",
        "\n",
        "print(f\"Densidad de probabilidad para 25 MPa: {probabilidad:.4f}\")"
      ],
      "metadata": {
        "colab": {
          "base_uri": "https://localhost:8080/"
        },
        "id": "7biGtsLL_w3t",
        "outputId": "764a883a-bbaf-4418-b54b-89ae6b855cac"
      },
      "execution_count": null,
      "outputs": [
        {
          "output_type": "stream",
          "name": "stdout",
          "text": [
            "Densidad de probabilidad para 25 MPa: 0.0484\n"
          ]
        }
      ]
    },
    {
      "cell_type": "code",
      "source": [
        "x_continua = np.linspace(10, 50, 100)\n",
        "pdf_normal = norm.pdf(x_continua, loc=media, scale=desvio)\n",
        "cdf_normal = norm.cdf(x_continua, loc=media, scale=desvio)\n",
        "\n",
        "plt.figure(figsize=(8, 5))\n",
        "\n",
        "plt.subplot(2, 1, 1)\n",
        "plt.plot(x_continua, pdf_normal, label='Normal PDF (Densidad)', color='blue')\n",
        "plt.title('Distribución Normal')\n",
        "plt.legend()\n",
        "\n",
        "plt.subplot(2, 1, 2)\n",
        "plt.plot(x_continua, cdf_normal, label='Normal CDF (Acumulada)', color='orange')\n",
        "plt.legend()\n",
        "\n",
        "plt.tight_layout()\n",
        "plt.show()"
      ],
      "metadata": {
        "colab": {
          "base_uri": "https://localhost:8080/",
          "height": 526
        },
        "id": "clOM05S5n0dK",
        "outputId": "000078d6-2a23-4330-c556-e4f1acd3293e"
      },
      "execution_count": null,
      "outputs": [
        {
          "output_type": "display_data",
          "data": {
            "text/plain": [
              "<Figure size 800x500 with 2 Axes>"
            ],
            "image/png": "[encoded data removed]"
          },
          "metadata": {}
        }
      ]
    },
    {
      "cell_type": "code",
      "source": [
        "# Calcular la probabilidad de que la resistencia sea menor a 25 MPa\n",
        "prob_menor_25 = norm.cdf(25, loc=media, scale=desvio)\n",
        "\n",
        "print(f\"Probabilidad de obtener menos de 25 MPa: {prob_menor_25:.4%}\")"
      ],
      "metadata": {
        "colab": {
          "base_uri": "https://localhost:8080/"
        },
        "id": "wLUFYWWLocoQ",
        "outputId": "56edd4f4-1be0-495e-c0d4-a812476863bf"
      },
      "execution_count": null,
      "outputs": [
        {
          "output_type": "stream",
          "name": "stdout",
          "text": [
            "Probabilidad de obtener menos de 25 MPa: 15.8655%\n"
          ]
        }
      ]
    },
    {
      "cell_type": "markdown",
      "source": [
        "### Ejemplo: Distribución de Poisson\n",
        "\n",
        "Se podria modelar la cantidad de accidentes por mes en una obra grande con una tasa promedio de 2 fallas por mes, usamos la distribución Poisson:"
      ],
      "metadata": {
        "id": "elK738lmovG6"
      }
    },
    {
      "cell_type": "code",
      "source": [
        "# Parámetro lambda (promedio de accidentes por mes)\n",
        "lambda_accidentes = 2\n",
        "\n",
        "# Probabilidad de que ocurran exactamente 3 accidentes en un mes\n",
        "prob_3_accidentes = poisson.pmf(3, mu=lambda_accidentes)\n",
        "\n",
        "print(f\"Probabilidad de 3 accidentes en un mes: {prob_3_accidentes:.4%}\")"
      ],
      "metadata": {
        "colab": {
          "base_uri": "https://localhost:8080/"
        },
        "id": "PzKsxdA_ou8U",
        "outputId": "c01ecda1-d94b-46a8-b093-2fd29bb5014a"
      },
      "execution_count": null,
      "outputs": [
        {
          "output_type": "stream",
          "name": "stdout",
          "text": [
            "Probabilidad de 3 accidentes en un mes: 18.0447%\n"
          ]
        }
      ]
    },
    {
      "cell_type": "code",
      "source": [
        "# Distribución de Poisson (discreta)\n",
        "x_poisson = np.arange(0, 10)\n",
        "pmf_poisson = poisson.pmf(x_poisson, lambda_accidentes)\n",
        "cdf_poisson = poisson.cdf(x_poisson, lambda_accidentes)\n",
        "\n",
        "plt.subplot(2, 1, 1)\n",
        "plt.bar(x_poisson, pmf_poisson, alpha=0.6, label='Poisson PMF (Densidad puntual)', color='purple')\n",
        "plt.title('Distribución de Poisson')\n",
        "plt.legend()\n",
        "\n",
        "plt.subplot(2, 1, 2)\n",
        "plt.step(x_poisson, cdf_poisson, where='mid', label='Poisson CDF (Acumulada)', color='brown')\n",
        "plt.legend()\n",
        "\n",
        "plt.tight_layout()\n",
        "plt.show()"
      ],
      "metadata": {
        "colab": {
          "base_uri": "https://localhost:8080/",
          "height": 486
        },
        "id": "b-GjZIEAo6Gg",
        "outputId": "b8e6ad9d-2169-4615-a324-97910ac1d440"
      },
      "execution_count": null,
      "outputs": [
        {
          "output_type": "display_data",
          "data": {
            "text/plain": [
              "<Figure size 640x480 with 2 Axes>"
            ],
            "image/png": "[encoded data removed]"
          },
          "metadata": {}
        }
      ]
    }
  ]
}