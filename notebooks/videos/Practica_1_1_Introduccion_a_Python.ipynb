{
  "nbformat": 4,
  "nbformat_minor": 0,
  "metadata": {
    "colab": {
      "provenance": [],
      "toc_visible": true,
      "collapsed_sections": [
        "N3EiPuLxuWlT",
        "OodUku_XuZkA",
        "ypBmr3LNudav",
        "4twQwLkUshFv",
        "jH6s7Mt7urGp",
        "PeO7HeJEuwGd",
        "elK738lmovG6"
      ],
      "include_colab_link": true
    },
    "kernelspec": {
      "name": "python3",
      "display_name": "Python 3"
    },
    "language_info": {
      "name": "python"
    }
  },
  "cells": [
    {
      "cell_type": "markdown",
      "metadata": {
        "id": "view-in-github",
        "colab_type": "text"
      },
      "source": [
        "<a href=\"https://colab.research.google.com/github/mbalbi/ciencia_de_datos/blob/main/notebooks/videos/Practica_1_1_Introduccion_a_Python.ipynb\" target=\"_parent\"><img src=\"https://colab.research.google.com/assets/colab-badge.svg\" alt=\"Open In Colab\"/></a>"
      ]
    },
    {
      "cell_type": "markdown",
      "source": [
        "# ICDIC: Práctica 1.1 - Introducción a Python\n",
        "\n",
        "En esta clase presentaremos el lenguaje de programación Python, que será nuestra herramienta principal a lo largo de la materia.\n",
        "\n",
        "El objetivo es que empiecen a familiarizarse con sus conceptos más básicos, en especial quienes todavía no hayan tenido experiencia previa con la programación."
      ],
      "metadata": {
        "id": "2ixlB263Cjjj"
      }
    },
    {
      "cell_type": "markdown",
      "source": [
        "## Ejemplo Script"
      ],
      "metadata": {
        "id": "kpm9aIG5Wd1r"
      }
    },
    {
      "cell_type": "code",
      "source": [
        "fechas = [\"2023-01-01\", \"2023-01-02\", \"2023-01-03\", \"2023-01-04\"]\n",
        "temperaturas = [29.5, 31.2, 33.1, 27.0]\n",
        "\n",
        "# Calcular temperatura media\n",
        "suma = sum(temperaturas)\n",
        "cantidad = len(temperaturas)\n",
        "media = round(suma / cantidad,2)\n",
        "print(\"\\nTemperatura media:\", media)"
      ],
      "metadata": {
        "colab": {
          "base_uri": "https://localhost:8080/"
        },
        "id": "KyC4wdkWPYP7",
        "outputId": "953f3fc9-a107-4546-af15-a3f1d55c528d"
      },
      "execution_count": null,
      "outputs": [
        {
          "output_type": "stream",
          "name": "stdout",
          "text": [
            "\n",
            "Temperatura media: 30.2\n"
          ]
        }
      ]
    },
    {
      "cell_type": "markdown",
      "source": [
        "## Sintaxis básica"
      ],
      "metadata": {
        "id": "UrVD9NxfuRGp"
      }
    },
    {
      "cell_type": "markdown",
      "source": [
        "### Indentación"
      ],
      "metadata": {
        "id": "N3EiPuLxuWlT"
      }
    },
    {
      "cell_type": "code",
      "source": [
        "temperatura = 35\n",
        "\n",
        "if temperatura > 30:\n",
        "    print(\"Hace calor\")\n",
        "print(\"Fin del programa\")"
      ],
      "metadata": {
        "id": "ZVHBvkWFl2rF",
        "colab": {
          "base_uri": "https://localhost:8080/"
        },
        "outputId": "8c1ef3b9-766c-40b8-d0e3-a1450ad1211d"
      },
      "execution_count": null,
      "outputs": [
        {
          "output_type": "stream",
          "name": "stdout",
          "text": [
            "Hace calor\n",
            "Fin del programa\n"
          ]
        }
      ]
    },
    {
      "cell_type": "markdown",
      "source": [
        "### Comentarios"
      ],
      "metadata": {
        "id": "OodUku_XuZkA"
      }
    },
    {
      "cell_type": "code",
      "source": [
        "# Esto es un comentario de una línea\n",
        "print(\"Hola\")  # También puedo comentar al final de la línea"
      ],
      "metadata": {
        "id": "zwudmwZrmL3O"
      },
      "execution_count": null,
      "outputs": []
    },
    {
      "cell_type": "markdown",
      "source": [
        "### Variables y Asignación"
      ],
      "metadata": {
        "id": "ypBmr3LNudav"
      }
    },
    {
      "cell_type": "code",
      "source": [
        "nombre = \"Lucía\"     # tipo str (texto)\n",
        "edad = 28            # tipo int (entero)\n",
        "pi = 3.14            # tipo float (decimal)\n",
        "activo = True        # tipo bool (lógico)"
      ],
      "metadata": {
        "id": "pDKlmtdFmMdE"
      },
      "execution_count": null,
      "outputs": []
    },
    {
      "cell_type": "markdown",
      "source": [
        "## Tipos de datos\n"
      ],
      "metadata": {
        "id": "4twQwLkUshFv"
      }
    },
    {
      "cell_type": "code",
      "source": [
        "# Declaración de variables\n",
        "nombre = \"Ana\"         # Variable de tipo string (texto)\n",
        "edad = 25              # Variable de tipo entero (número)\n",
        "altura = 1.68          # Variable de tipo flotante (número decimal)\n",
        "es_estudiante = True   # Variable booleana (verdadero o falso)"
      ],
      "metadata": {
        "id": "3KACX3dIsheG"
      },
      "execution_count": null,
      "outputs": []
    },
    {
      "cell_type": "code",
      "source": [
        "type(nombre)"
      ],
      "metadata": {
        "colab": {
          "base_uri": "https://localhost:8080/"
        },
        "id": "Lc_hZEeNwFkL",
        "outputId": "ebcf853b-683f-4eab-8b0c-bd2271166382"
      },
      "execution_count": null,
      "outputs": [
        {
          "output_type": "execute_result",
          "data": {
            "text/plain": [
              "str"
            ]
          },
          "metadata": {},
          "execution_count": 8
        }
      ]
    },
    {
      "cell_type": "code",
      "source": [
        "type(edad)"
      ],
      "metadata": {
        "colab": {
          "base_uri": "https://localhost:8080/"
        },
        "id": "n3DUwL-zwKBa",
        "outputId": "88e259d8-fe26-4e1c-ceea-507aa0a72bea"
      },
      "execution_count": null,
      "outputs": [
        {
          "output_type": "execute_result",
          "data": {
            "text/plain": [
              "int"
            ]
          },
          "metadata": {},
          "execution_count": 9
        }
      ]
    },
    {
      "cell_type": "markdown",
      "source": [
        "## Operaciones básicas"
      ],
      "metadata": {
        "id": "au70IVvyunhA"
      }
    },
    {
      "cell_type": "markdown",
      "source": [
        "### Aritméticas"
      ],
      "metadata": {
        "id": "jH6s7Mt7urGp"
      }
    },
    {
      "cell_type": "code",
      "source": [
        "a = 10\n",
        "b = 3\n",
        "print(a + b)   # 13\n",
        "print(a / b)   # 3.333...\n",
        "print(a ** b)  # 1000 (potencia)\n",
        "print(a // b)  # 3 (división entera)\n",
        "print(a % b)   # 1 (resto)"
      ],
      "metadata": {
        "id": "gTsSamp6sch_"
      },
      "execution_count": null,
      "outputs": []
    },
    {
      "cell_type": "markdown",
      "source": [
        "### Comparaciones"
      ],
      "metadata": {
        "id": "PeO7HeJEuwGd"
      }
    },
    {
      "cell_type": "code",
      "source": [
        "print(a == b)   # False\n",
        "print(a > b)    # True\n",
        "print(a != b)   # True"
      ],
      "metadata": {
        "colab": {
          "base_uri": "https://localhost:8080/"
        },
        "id": "f67Naj_Qu1nx",
        "outputId": "5752f27e-ba65-4237-cd44-863339f2c3f9"
      },
      "execution_count": null,
      "outputs": [
        {
          "output_type": "stream",
          "name": "stdout",
          "text": [
            "False\n",
            "True\n",
            "True\n"
          ]
        }
      ]
    },
    {
      "cell_type": "markdown",
      "source": [
        "### Operadores lógicos (booleanos)"
      ],
      "metadata": {
        "id": "ypPV63zcvS2e"
      }
    },
    {
      "cell_type": "code",
      "source": [
        "x = True\n",
        "y = False\n",
        "\n",
        "print(x and y)   # False\n",
        "print(x or y)    # True\n",
        "print(not x)     # False"
      ],
      "metadata": {
        "colab": {
          "base_uri": "https://localhost:8080/"
        },
        "id": "ejyL22FTvYAq",
        "outputId": "130e0bbd-b973-4aea-ba8e-7fc7854fba62"
      },
      "execution_count": null,
      "outputs": [
        {
          "output_type": "stream",
          "name": "stdout",
          "text": [
            "False\n",
            "True\n",
            "False\n"
          ]
        }
      ]
    },
    {
      "cell_type": "code",
      "source": [
        "edad = 20\n",
        "print(edad >= 18 and edad <= 30)"
      ],
      "metadata": {
        "colab": {
          "base_uri": "https://localhost:8080/"
        },
        "id": "uG1M77AwxP9N",
        "outputId": "a1afc35d-85cd-4d2c-ff31-750f8cb00872"
      },
      "execution_count": null,
      "outputs": [
        {
          "output_type": "stream",
          "name": "stdout",
          "text": [
            "True\n"
          ]
        }
      ]
    },
    {
      "cell_type": "markdown",
      "source": [
        "## Funciones incorporadas"
      ],
      "metadata": {
        "id": "vshs1t9i66mP"
      }
    },
    {
      "cell_type": "code",
      "source": [
        "nombre_obra = \"Puente Zárate - Brazo Largo\"\n",
        "longitud = 550  # metros\n",
        "\n",
        "print(\"Longitud total del\", nombre_obra, \":\", longitud, \"m\")"
      ],
      "metadata": {
        "colab": {
          "base_uri": "https://localhost:8080/"
        },
        "id": "EjzROGs466_a",
        "outputId": "9f8376a6-44ea-49ad-a4cd-7f04d89daee4"
      },
      "execution_count": null,
      "outputs": [
        {
          "output_type": "stream",
          "name": "stdout",
          "text": [
            "Longitud total del Puente Zárate - Brazo Largo : 550 m\n"
          ]
        }
      ]
    },
    {
      "cell_type": "code",
      "source": [
        "materiales = [\"Arena\", \"Acero\",\"Cemento\", \"Grava\",\n",
        "              \"Madera\",\"Ladrillos\",\"Geotextil\"]\n",
        "print(\"Materiales utilizados:\", len(materiales))"
      ],
      "metadata": {
        "colab": {
          "base_uri": "https://localhost:8080/"
        },
        "id": "FWwShD8s9DSl",
        "outputId": "72761666-43b6-4742-da0b-1e2bf024bb3c"
      },
      "execution_count": null,
      "outputs": [
        {
          "output_type": "stream",
          "name": "stdout",
          "text": [
            "Materiales utilizados: 7\n"
          ]
        }
      ]
    },
    {
      "cell_type": "code",
      "source": [
        "caudal_str = \"48.7\"         # Dato ingresado como texto\n",
        "caudal = float(caudal_str)  # Convertir texto a número\n",
        "print(type(caudal))\n",
        "\n",
        "# Convertir número a texto\n",
        "longitud = 300\n",
        "linea = \"Longitud del conducto: \" + str(longitud) + \" m\"\n",
        "print(linea)"
      ],
      "metadata": {
        "colab": {
          "base_uri": "https://localhost:8080/"
        },
        "id": "r0BG1VtL9Swz",
        "outputId": "c7f37fe1-bc17-49a4-ff89-a93c00947f41"
      },
      "execution_count": null,
      "outputs": [
        {
          "output_type": "stream",
          "name": "stdout",
          "text": [
            "<class 'float'>\n",
            "Longitud del conducto: 300 m\n"
          ]
        }
      ]
    },
    {
      "cell_type": "code",
      "source": [
        "pendiente = 0.036278\n",
        "pendiente_redondeada = round(pendiente, 3)\n",
        "\n",
        "print(\"Pendiente:\", pendiente_redondeada)"
      ],
      "metadata": {
        "colab": {
          "base_uri": "https://localhost:8080/"
        },
        "id": "q9m9aH_4A-7E",
        "outputId": "eb8cd6bf-b572-49a7-c14b-b04a7d124b21"
      },
      "execution_count": null,
      "outputs": [
        {
          "output_type": "stream",
          "name": "stdout",
          "text": [
            "Pendiente: 0.036\n"
          ]
        }
      ]
    },
    {
      "cell_type": "markdown",
      "source": [
        "## Lisas"
      ],
      "metadata": {
        "id": "b4ro-eE-PnS5"
      }
    },
    {
      "cell_type": "code",
      "source": [
        "# estaciones hidrométricas\n",
        "estaciones = [\"Rosario\", \"Santa Fé\", \"La Paz\",\"Colón\"]\n",
        "print(type(estaciones))\n",
        "print(estaciones[0])\n",
        "print(estaciones[2])\n",
        "print(estaciones[-1])  # Último elemento"
      ],
      "metadata": {
        "colab": {
          "base_uri": "https://localhost:8080/"
        },
        "id": "PmisKl_fBKp1",
        "outputId": "df6cea36-b6f0-473b-daab-bff98b070c73"
      },
      "execution_count": null,
      "outputs": [
        {
          "output_type": "stream",
          "name": "stdout",
          "text": [
            "<class 'list'>\n",
            "Rosario\n",
            "La Paz\n",
            "Colón\n"
          ]
        }
      ]
    },
    {
      "cell_type": "code",
      "source": [
        "estaciones.remove(\"Colón\")\n",
        "estaciones.append(\"Corrientes\")\n",
        "print(estaciones)"
      ],
      "metadata": {
        "colab": {
          "base_uri": "https://localhost:8080/"
        },
        "id": "AKNjQy7tQZwz",
        "outputId": "8f8f9188-abc8-4a6e-e83c-4ff17f00c616"
      },
      "execution_count": null,
      "outputs": [
        {
          "output_type": "stream",
          "name": "stdout",
          "text": [
            "['Rosario', 'Santa Fé', 'La Paz', 'Corrientes']\n"
          ]
        }
      ]
    },
    {
      "cell_type": "code",
      "source": [
        "print(len(estaciones))      # Cantidad de estaciones"
      ],
      "metadata": {
        "colab": {
          "base_uri": "https://localhost:8080/"
        },
        "id": "ih4KArh8QiNI",
        "outputId": "930aa308-2733-45ef-be0b-2749888aa9f3"
      },
      "execution_count": null,
      "outputs": [
        {
          "output_type": "stream",
          "name": "stdout",
          "text": [
            "4\n"
          ]
        }
      ]
    },
    {
      "cell_type": "code",
      "source": [
        "print(estaciones[1:3])"
      ],
      "metadata": {
        "colab": {
          "base_uri": "https://localhost:8080/"
        },
        "id": "xTCY_kd8Ug0e",
        "outputId": "b888817a-bdd7-43de-8a59-f89515702e70"
      },
      "execution_count": null,
      "outputs": [
        {
          "output_type": "stream",
          "name": "stdout",
          "text": [
            "['Santa Fé', 'La Paz']\n"
          ]
        }
      ]
    },
    {
      "cell_type": "code",
      "source": [
        "# Precipitaciones diarias en mm (del lunes al domingo)\n",
        "precipitaciones = [12.5, 0.0, 8.2, 3.0, 0.0, 14.1, 6.3]\n",
        "\n",
        "# Calcular la suma total\n",
        "acumulado = sum(precipitaciones)\n",
        "print(\"Precipitación acumulada:\", round(acumulado, 2), \"mm\")\n",
        "\n",
        "# Máxima de las lista\n",
        "maxima = max(precipitaciones)\n",
        "print(\"Precipitación máxima:\", maxima, \"mm\")\n"
      ],
      "metadata": {
        "colab": {
          "base_uri": "https://localhost:8080/"
        },
        "id": "x_Q9yasJShue",
        "outputId": "4dbe8dcf-aefb-489e-89db-ed1095803664"
      },
      "execution_count": null,
      "outputs": [
        {
          "output_type": "stream",
          "name": "stdout",
          "text": [
            "Precipitación acumulada: 44.1 mm\n",
            "Precipitación máxima: 14.1 mm\n"
          ]
        }
      ]
    },
    {
      "cell_type": "code",
      "source": [
        "# Usar pop para remover el último elemento\n",
        "ultima_precipitacion = precipitaciones.pop()\n",
        "print(f\"Última precipitación removida: {ultima_precipitacion} mm\")\n",
        "print(\"Lista después de pop:\", precipitaciones)"
      ],
      "metadata": {
        "colab": {
          "base_uri": "https://localhost:8080/"
        },
        "id": "Zcfy06FEWe0C",
        "outputId": "b0c95c56-39c4-41cf-9878-534fb78d3ccb"
      },
      "execution_count": null,
      "outputs": [
        {
          "output_type": "stream",
          "name": "stdout",
          "text": [
            "Última precipitación removida: 6.3 mm\n",
            "Lista después de pop: [12.5, 0.0, 8.2, 3.0, 0.0, 14.1]\n"
          ]
        }
      ]
    },
    {
      "cell_type": "code",
      "source": [
        "# Usar sort para ordenar la lista de menor a mayor\n",
        "precipitaciones.sort()\n",
        "print(\"Lista después de sort:\", precipitaciones)"
      ],
      "metadata": {
        "colab": {
          "base_uri": "https://localhost:8080/"
        },
        "id": "I3a-Poz2WgYN",
        "outputId": "2fc4ea38-0986-44e9-8fc3-b9195ffe6360"
      },
      "execution_count": null,
      "outputs": [
        {
          "output_type": "stream",
          "name": "stdout",
          "text": [
            "Lista después de sort: [0.0, 0.0, 3.0, 8.2, 12.5, 14.1]\n"
          ]
        }
      ]
    },
    {
      "cell_type": "code",
      "source": [
        "# Usar reverse para invertir el orden de la lista\n",
        "precipitaciones.reverse()\n",
        "print(\"Lista después de reverse:\", precipitaciones)"
      ],
      "metadata": {
        "colab": {
          "base_uri": "https://localhost:8080/"
        },
        "id": "OoBM51XSWYnC",
        "outputId": "4ab054ab-2361-40ad-c932-750fbb78d3ed"
      },
      "execution_count": null,
      "outputs": [
        {
          "output_type": "stream",
          "name": "stdout",
          "text": [
            "Lista después de reverse: [14.1, 12.5, 8.2, 3.0, 0.0]\n"
          ]
        }
      ]
    },
    {
      "cell_type": "markdown",
      "source": [
        "## Diccionarios"
      ],
      "metadata": {
        "id": "gtj6iqjPzRBv"
      }
    },
    {
      "cell_type": "code",
      "source": [
        "sensor = {\n",
        "    \"estación\": \"Río Tercero\",\n",
        "    \"variable\": \"Caudal\",\n",
        "    \"unidad\": \"m3/s\",\n",
        "    \"último_valor\": 82.4 }\n",
        "\n",
        "print(type(sensor))"
      ],
      "metadata": {
        "colab": {
          "base_uri": "https://localhost:8080/"
        },
        "id": "6iSvsO2L8a8R",
        "outputId": "1ad6ab08-f07d-4c27-d964-697961499067"
      },
      "execution_count": null,
      "outputs": [
        {
          "output_type": "stream",
          "name": "stdout",
          "text": [
            "<class 'dict'>\n"
          ]
        }
      ]
    },
    {
      "cell_type": "code",
      "source": [
        "# Acceder a los datos\n",
        "print(sensor[\"estación\"])\n",
        "print(sensor.get(\"variable\"))"
      ],
      "metadata": {
        "colab": {
          "base_uri": "https://localhost:8080/"
        },
        "id": "BdcYNJUb54ra",
        "outputId": "82e95621-89ff-48f5-8144-4e2ef18c85cd"
      },
      "execution_count": null,
      "outputs": [
        {
          "output_type": "stream",
          "name": "stdout",
          "text": [
            "Río Tercero\n",
            "Caudal\n"
          ]
        }
      ]
    },
    {
      "cell_type": "code",
      "source": [
        "print(sensor.keys())\n",
        "print(sensor.values())"
      ],
      "metadata": {
        "colab": {
          "base_uri": "https://localhost:8080/"
        },
        "id": "tdcrQRJF6Cst",
        "outputId": "c84c4d7d-1720-4bd1-865c-4e396a89f41f"
      },
      "execution_count": null,
      "outputs": [
        {
          "output_type": "stream",
          "name": "stdout",
          "text": [
            "dict_keys(['estación', 'variable', 'último_valor'])\n",
            "dict_values(['Río Tercero', 'Caudal', 82.4])\n"
          ]
        }
      ]
    },
    {
      "cell_type": "code",
      "source": [
        "# Modificar y agregar datos\n",
        "serie = [80.2, 80.6, 82.0, 83.6, 84.9, 85.3]\n",
        "sensor[\"valores\"] = serie               # agrega nueva clave\n",
        "sensor[\"último_valor\"] = 87.3           # modifica valor existente\n",
        "sensor[\"valores\"] += [sensor[\"último_valor\"],]\n",
        "print(sensor[\"último_valor\"])\n",
        "print(sensor[\"valores\"])"
      ],
      "metadata": {
        "colab": {
          "base_uri": "https://localhost:8080/"
        },
        "id": "p5my9dML58re",
        "outputId": "37ae0341-262b-4656-8354-e7c3ad2be4cb"
      },
      "execution_count": null,
      "outputs": [
        {
          "output_type": "stream",
          "name": "stdout",
          "text": [
            "87.3\n",
            "[80.2, 80.6, 82.0, 83.6, 84.9, 85.3, 87.3]\n"
          ]
        }
      ]
    },
    {
      "cell_type": "markdown",
      "source": [
        "## Estructuras de control\n"
      ],
      "metadata": {
        "id": "FmsyWV-j1nwP"
      }
    },
    {
      "cell_type": "code",
      "source": [
        "condición = True"
      ],
      "metadata": {
        "id": "8qyKTogSAm0I"
      },
      "execution_count": null,
      "outputs": []
    },
    {
      "cell_type": "code",
      "source": [
        "if condición:\n",
        "    # Código si la condición es verdadera\n",
        "    print(\"La condición es verdadera\")\n",
        "else:\n",
        "    # Código si la condición es falsa\n",
        "    print(\"La condición es falsa\")"
      ],
      "metadata": {
        "id": "ixDPaffLAjoQ",
        "colab": {
          "base_uri": "https://localhost:8080/"
        },
        "outputId": "d979ea2e-c4a4-4b99-d4e2-d297e7919fbb"
      },
      "execution_count": null,
      "outputs": [
        {
          "output_type": "stream",
          "name": "stdout",
          "text": [
            "La condición es verdadera\n"
          ]
        }
      ]
    },
    {
      "cell_type": "code",
      "source": [
        "resistencia = 30  # MPa\n",
        "\n",
        "if resistencia >= 30:\n",
        "    print(\"Alta resistencia\")\n",
        "elif resistencia >= 25:\n",
        "    print(\"Resistencia media\")\n",
        "else:\n",
        "    print(\"Baja resistencia\")"
      ],
      "metadata": {
        "id": "UaE0pAj_BAoA",
        "colab": {
          "base_uri": "https://localhost:8080/"
        },
        "outputId": "d77c6b45-25ef-40ef-be22-d465c35fd244"
      },
      "execution_count": null,
      "outputs": [
        {
          "output_type": "stream",
          "name": "stdout",
          "text": [
            "Alta resistencia\n"
          ]
        }
      ]
    },
    {
      "cell_type": "code",
      "source": [
        "pendientes = [0.012, 0.008, 0.015, 0.010]\n",
        "for p in pendientes:\n",
        "    porcentaje = p * 100\n",
        "    print(\"Pendiente:\", round(porcentaje, 2), \"%\")"
      ],
      "metadata": {
        "colab": {
          "base_uri": "https://localhost:8080/"
        },
        "id": "Q9rEtWzm6-Zo",
        "outputId": "c3cd6a50-e6fa-40ad-ba99-22d5f3899d5f"
      },
      "execution_count": null,
      "outputs": [
        {
          "output_type": "stream",
          "name": "stdout",
          "text": [
            "Pendiente: 1.2 %\n",
            "Pendiente: 0.8 %\n",
            "Pendiente: 1.5 %\n",
            "Pendiente: 1.0 %\n"
          ]
        }
      ]
    },
    {
      "cell_type": "code",
      "source": [
        "for i in range(3):\n",
        "    print(\"Tramo\", i + 1)"
      ],
      "metadata": {
        "colab": {
          "base_uri": "https://localhost:8080/"
        },
        "id": "3xwRP-8i7RoY",
        "outputId": "46c68d52-3ae5-47d5-84d6-32c4ef59fa1e"
      },
      "execution_count": null,
      "outputs": [
        {
          "output_type": "stream",
          "name": "stdout",
          "text": [
            "Tramo 1\n",
            "Tramo 2\n",
            "Tramo 3\n"
          ]
        }
      ]
    },
    {
      "cell_type": "code",
      "source": [
        "# Bucle while: repite hasta que la condición sea falsa\n",
        "contador = 0\n",
        "while contador < 5:\n",
        "    print(f\"Contador: {contador}\")\n",
        "    contador += 1  # Incremento del contador"
      ],
      "metadata": {
        "colab": {
          "base_uri": "https://localhost:8080/"
        },
        "id": "o_dGlE3uGtuQ",
        "outputId": "f16e14e5-fadf-48a6-fa69-d7b74da330ba"
      },
      "execution_count": null,
      "outputs": [
        {
          "output_type": "stream",
          "name": "stdout",
          "text": [
            "Contador: 0\n",
            "Contador: 1\n",
            "Contador: 2\n",
            "Contador: 3\n",
            "Contador: 4\n"
          ]
        }
      ]
    },
    {
      "cell_type": "markdown",
      "source": [
        "## Funciones"
      ],
      "metadata": {
        "id": "o3FxtGRO9iiW"
      }
    },
    {
      "cell_type": "code",
      "source": [
        "def area_rectangular(base, altura):\n",
        "    return base * altura\n",
        "\n",
        "# Ejemplo de uso:\n",
        "A = area_rectangular(2.5, 1.2)\n",
        "print(\"Área de la sección:\", A, \"m²\")\n"
      ],
      "metadata": {
        "colab": {
          "base_uri": "https://localhost:8080/"
        },
        "id": "yXBmuDkyBfkZ",
        "outputId": "0481def9-5503-4e19-d4ee-896dc338109f"
      },
      "execution_count": null,
      "outputs": [
        {
          "output_type": "stream",
          "name": "stdout",
          "text": [
            "Área de la sección: 3.0 m²\n"
          ]
        }
      ]
    },
    {
      "cell_type": "markdown",
      "source": [
        "## OOP"
      ],
      "metadata": {
        "id": "q2qs-0D4UHKC"
      }
    },
    {
      "cell_type": "code",
      "source": [
        "import math\n",
        "\n",
        "class ProbetaHormigon:\n",
        "    def __init__(self, id, diametro, altura, resistencia):\n",
        "        self.id = id\n",
        "        self.diametro = diametro  # en metros\n",
        "        self.altura = altura      # en metros\n",
        "        self.resistencia = resistencia  # en MPa\n",
        "\n",
        "    def calcular_volumen(self):                 # Calcula el volumen en metros cúbicos\n",
        "        radio = self.diametro / 2\n",
        "        volumen = math.pi * (radio ** 2) * self.altura\n",
        "        return volumen\n",
        "\n",
        "    def cumple_norma(self, resistencia_minima): # Verifica si cumple resistencia mínima\n",
        "        if self.resistencia >= resistencia_minima:\n",
        "            return f\"La probeta {self.id} Cumple con la norma (≥ {resistencia_minima} MPa)\"\n",
        "        else:\n",
        "            return f\"La probeta {self.id} No cumple con la norma (< {resistencia_minima} MPa)\"\n"
      ],
      "metadata": {
        "id": "uwfdTySoUJnJ"
      },
      "execution_count": null,
      "outputs": []
    },
    {
      "cell_type": "code",
      "source": [
        "# Crear una probeta con diámetro 0.15 m, altura 0.3 m y resistencia 25 MPa\n",
        "Probeta_1 = ProbetaHormigon(1, 0.15, 0.3, 25)\n",
        "\n",
        "# Calcular volumen\n",
        "volumen = Probeta_1.calcular_volumen()\n",
        "print(f\"Volumen de la probeta {Probeta_1.id}: {volumen:.4f} m³\")\n",
        "\n",
        "# Verificar si cumple la norma de 20 MPa\n",
        "print(Probeta_1.cumple_norma(20))"
      ],
      "metadata": {
        "colab": {
          "base_uri": "https://localhost:8080/"
        },
        "id": "Fc8PvqhEUwP_",
        "outputId": "d2b16af9-8bfe-478e-ab3e-ebbebab63d17"
      },
      "execution_count": null,
      "outputs": [
        {
          "output_type": "stream",
          "name": "stdout",
          "text": [
            "Volumen de la probeta 1: 0.0053 m³\n",
            "La probeta 1 Cumple con la norma (≥ 20 MPa)\n"
          ]
        }
      ]
    },
    {
      "cell_type": "code",
      "source": [
        "# Crear segunda probeta\n",
        "Probeta_2 = ProbetaHormigon(2, 0.15, 0.3, 19)\n",
        "print(Probeta_2.cumple_norma(20))"
      ],
      "metadata": {
        "colab": {
          "base_uri": "https://localhost:8080/"
        },
        "id": "sWa_-tZsUO2o",
        "outputId": "de72e63e-f767-4687-f480-d01eda7aeff8"
      },
      "execution_count": null,
      "outputs": [
        {
          "output_type": "stream",
          "name": "stdout",
          "text": [
            "La probeta 2 No cumple con la norma (< 20 MPa)\n"
          ]
        }
      ]
    },
    {
      "cell_type": "markdown",
      "source": [
        "## Librerias"
      ],
      "metadata": {
        "id": "9HR31HYzaeyC"
      }
    },
    {
      "cell_type": "markdown",
      "source": [
        "### Numpy"
      ],
      "metadata": {
        "id": "5tXBnWzfn5kl"
      }
    },
    {
      "cell_type": "code",
      "source": [
        "import numpy as np\n",
        "\n",
        "a = [1, 2, 3, 4, 5]           # lista 1-D\n",
        "b = [[1, 2, 3], [4, 5, 6]]    # Lista de 2 items, c/u con una lista de 3 items\n",
        "\n",
        "# Crear un array unidimensional\n",
        "array_1d = np.array(a)\n",
        "\n",
        "# Crear un array bidimensional (matriz)\n",
        "array_2d = np.array(b)\n",
        "\n",
        "print(type(a))         # <class 'list'>\n",
        "print(type(array_1d))  # <class 'numpy.ndarray'>\n",
        "\n",
        "# Realizar operaciones matemáticas\n",
        "suma = np.sum(array_1d)         # Suma de todos los elementos: 15\n",
        "promedio = np.mean(array_2d)    # Promedio de los elementos: 3.5\n",
        "\n",
        "print(\"Suma:\", suma)\n",
        "print(\"Promedio:\", promedio)"
      ],
      "metadata": {
        "colab": {
          "base_uri": "https://localhost:8080/"
        },
        "id": "gNmXefXszf3C",
        "outputId": "bccf304e-ec46-43a2-ffbe-dba0195e8c81"
      },
      "execution_count": null,
      "outputs": [
        {
          "output_type": "stream",
          "name": "stdout",
          "text": [
            "<class 'list'>\n",
            "<class 'numpy.ndarray'>\n",
            "Suma: 15\n",
            "Promedio: 3.5\n"
          ]
        }
      ]
    },
    {
      "cell_type": "code",
      "source": [
        "valores = np.random.random((1,10))\n",
        "valores"
      ],
      "metadata": {
        "colab": {
          "base_uri": "https://localhost:8080/"
        },
        "id": "0j3WvUCk0K-S",
        "outputId": "d34f666e-d0ce-4e11-fe49-e2e14934ab9c"
      },
      "execution_count": null,
      "outputs": [
        {
          "output_type": "execute_result",
          "data": {
            "text/plain": [
              "array([[0.94943461, 0.69261694, 0.66764784, 0.32025897, 0.93994009,\n",
              "        0.76800065, 0.28192812, 0.22848188, 0.50875408, 0.28484497]])"
            ]
          },
          "metadata": {},
          "execution_count": 17
        }
      ]
    },
    {
      "cell_type": "code",
      "source": [
        "import numpy as np\n",
        "\n",
        "# Generar 10 valores aleatorios entre 0 y 1\n",
        "valores = np.random.random(10)\n",
        "print(\"Valores generados:\", valores)"
      ],
      "metadata": {
        "colab": {
          "base_uri": "https://localhost:8080/"
        },
        "id": "GygU_CvP1bIH",
        "outputId": "400a1431-7bbd-4d70-d2d8-236b8ff58105"
      },
      "execution_count": null,
      "outputs": [
        {
          "output_type": "stream",
          "name": "stdout",
          "text": [
            "Valores generados: [0.95160804 0.02601524 0.39397064 0.76489714 0.75217281 0.8380913\n",
            " 0.07317146 0.12884389 0.09678385 0.20693586]\n"
          ]
        }
      ]
    },
    {
      "cell_type": "code",
      "source": [
        "# Filtrar los menores a 0.5\n",
        "menores = valores[valores < 0.5]\n",
        "print(\"Menores a 0.5:\", menores)"
      ],
      "metadata": {
        "colab": {
          "base_uri": "https://localhost:8080/"
        },
        "id": "yqBhmgs41oBm",
        "outputId": "9c9ee0d2-ba76-467c-bf7b-5cf424e4a803"
      },
      "execution_count": null,
      "outputs": [
        {
          "output_type": "stream",
          "name": "stdout",
          "text": [
            "Menores a 0.5: [0.02601524 0.39397064 0.07317146 0.12884389 0.09678385 0.20693586]\n"
          ]
        }
      ]
    },
    {
      "cell_type": "code",
      "source": [
        "# Contar cuántos cumplen la condición\n",
        "cantidad = np.sum(valores < 0.5)\n",
        "print(\"Cantidad de valores < 0.5:\", cantidad)"
      ],
      "metadata": {
        "colab": {
          "base_uri": "https://localhost:8080/"
        },
        "id": "8sU0iU5Mz7Ma",
        "outputId": "75c79501-4574-4386-9b87-c0c4db7bcb33"
      },
      "execution_count": null,
      "outputs": [
        {
          "output_type": "stream",
          "name": "stdout",
          "text": [
            "Cantidad de valores < 0.5: 6\n"
          ]
        }
      ]
    },
    {
      "cell_type": "code",
      "source": [
        "# Lista de valores de ejemplo\n",
        "valores = [22, 36, 41, 58, 63]"
      ],
      "metadata": {
        "id": "reWhqgEjN8Yi"
      },
      "execution_count": null,
      "outputs": []
    },
    {
      "cell_type": "code",
      "source": [
        "def calcular_media(valores):\n",
        "    return sum(valores) / len(valores)\n",
        "\n",
        "def calcular_desvio_estandar(valores):\n",
        "    media = calcular_media(valores)\n",
        "    varianza = sum((x - media) ** 2 for x in valores) / len(valores)\n",
        "    return varianza ** 0.5  # Raíz cuadrada de la varianza\n",
        "\n",
        "# Cálculos con funciones propias\n",
        "media_usuario = calcular_media(valores)\n",
        "desvio_usuario = calcular_desvio_estandar(valores)\n",
        "\n",
        "print(\"Usando funciones definidas por el usuario:\")\n",
        "print(f\"Media: {media_usuario}\")\n",
        "print(f\"Desvío Estándar: {desvio_usuario}\")\n"
      ],
      "metadata": {
        "colab": {
          "base_uri": "https://localhost:8080/"
        },
        "id": "N1AY5WKCMziQ",
        "outputId": "b59d04bc-4b36-4605-98eb-aae016d6f998"
      },
      "execution_count": null,
      "outputs": [
        {
          "output_type": "stream",
          "name": "stdout",
          "text": [
            "Usando funciones definidas por el usuario:\n",
            "Media: 44.0\n",
            "Desvío Estándar: 14.926486525636232\n"
          ]
        }
      ]
    },
    {
      "cell_type": "code",
      "source": [
        "import numpy as np\n",
        "\n",
        "# Cálculos con NumPy\n",
        "media_numpy = np.mean(valores)\n",
        "desvio_numpy = np.std(valores)\n",
        "\n",
        "print(\"Usando NumPy:\")\n",
        "print(f\"Media: {media_numpy}\")\n",
        "print(f\"Desvío Estándar: {desvio_numpy}\\n\")"
      ],
      "metadata": {
        "colab": {
          "base_uri": "https://localhost:8080/"
        },
        "id": "1gMD-WY-M0h2",
        "outputId": "5a6b6095-1216-4feb-fb7f-af0678b42452"
      },
      "execution_count": null,
      "outputs": [
        {
          "output_type": "stream",
          "name": "stdout",
          "text": [
            "Usando NumPy:\n",
            "Media: 44.0\n",
            "Desvío Estándar: 14.926486525636232\n",
            "\n"
          ]
        }
      ]
    },
    {
      "cell_type": "markdown",
      "source": [
        "### Matplotlib"
      ],
      "metadata": {
        "id": "jG7i8kQ7n83y"
      }
    },
    {
      "cell_type": "code",
      "source": [
        "import matplotlib.pyplot as plt  # Importa la librería para graficar\n",
        "\n",
        "horas = [0, 1, 2, 3, 4, 5]                    # Eje X: horas del día\n",
        "caudal = [12.5, 13.8, 16.2, 17.3, 16.0, 13.2] # Eje Y: caudal en m³/s\n",
        "\n",
        "plt.plot(horas, caudal)         # Crea el gráfico de línea con los datos\n",
        "plt.xlabel(\"Hora\")              # Etiqueta del eje X\n",
        "plt.ylabel(\"Caudal (m³/s)\")     # Etiqueta del eje Y\n",
        "plt.title(\"Serie de Caudales\")  # Título del gráfico\n",
        "plt.grid(True)                  # Activa la grilla para facilitar la lectura\n",
        "plt.show()                      # Muestra el gráfico en pantalla\n"
      ],
      "metadata": {
        "id": "axjPAUU7n9dT",
        "colab": {
          "base_uri": "https://localhost:8080/",
          "height": 472
        },
        "outputId": "e5eefc7b-6756-431c-acc2-ba48a40dace2"
      },
      "execution_count": null,
      "outputs": [
        {
          "output_type": "display_data",
          "data": {
            "text/plain": [
              "<Figure size 640x480 with 1 Axes>"
            ],
            "image/png": "[encoded data removed]"
          },
          "metadata": {}
        }
      ]
    },
    {
      "cell_type": "code",
      "source": [
        "turnos = [\"Mañana\", \"Tarde\", \"Noche\"]\n",
        "vehiculos = [320, 450, 280]\n",
        "\n",
        "plt.bar(turnos, vehiculos, color=\"steelblue\")\n",
        "plt.xlabel(\"Turno\")\n",
        "plt.ylabel(\"Cantidad de vehículos\")\n",
        "plt.title(\"Tráfico diario en obra\")\n",
        "plt.show()\n"
      ],
      "metadata": {
        "colab": {
          "base_uri": "https://localhost:8080/",
          "height": 472
        },
        "id": "1-cMq-bE4vEM",
        "outputId": "9d13b2fd-6c64-409e-8186-0a8261e52904"
      },
      "execution_count": null,
      "outputs": [
        {
          "output_type": "display_data",
          "data": {
            "text/plain": [
              "<Figure size 640x480 with 1 Axes>"
            ],
            "image/png": "[encoded data removed]"
          },
          "metadata": {}
        }
      ]
    },
    {
      "cell_type": "markdown",
      "source": [
        "### scipy"
      ],
      "metadata": {
        "id": "LsUIyIWR_xE5"
      }
    },
    {
      "cell_type": "markdown",
      "source": [
        "#### Ejemplo: Distribución Normal"
      ],
      "metadata": {
        "id": "njUW88VOEOy6"
      }
    },
    {
      "cell_type": "code",
      "source": [
        "import numpy as np\n",
        "import matplotlib.pyplot as plt\n",
        "from scipy.stats import norm\n",
        "\n",
        "# Parámetros\n",
        "media = 30\n",
        "desvio = 5\n",
        "\n",
        "# Rango de valores para el eje x (resistencia)\n",
        "x = np.linspace(10, 50, 100)\n",
        "# Genera 100 valos espaciados uniformemente entr 10 y 50\n",
        "\n",
        "# Función de densidad de probabilidad (PDF)\n",
        "pdf = norm.pdf(x, loc=media, scale=desvio)\n",
        "\n",
        "# Graficar\n",
        "plt.plot(x, pdf, label='Distribución Normal')\n",
        "plt.xlabel(\"Resistencia (MPa)\")\n",
        "plt.ylabel(\"Densidad de probabilidad\")\n",
        "plt.title(\"Distribución de resistencia del hormigón\")\n",
        "plt.axvline(25, color='red', linestyle='--', label='25 MPa')\n",
        "plt.legend()\n",
        "plt.grid(True)\n",
        "plt.show()"
      ],
      "metadata": {
        "colab": {
          "base_uri": "https://localhost:8080/",
          "height": 472
        },
        "id": "feL0G82l8kf2",
        "outputId": "29ef821d-8b00-4907-e507-de85eeaf20ea"
      },
      "execution_count": null,
      "outputs": [
        {
          "output_type": "display_data",
          "data": {
            "text/plain": [
              "<Figure size 640x480 with 1 Axes>"
            ],
            "image/png": "[encoded data removed]"
          },
          "metadata": {}
        }
      ]
    },
    {
      "cell_type": "code",
      "source": [
        "# Función de distribución acumulada (CDF)\n",
        "probabilidad = norm.cdf(25, loc=media, scale=desvio)\n",
        "print(f\"P(R ≤ 25 MPa) = {probabilidad:.4f}\")"
      ],
      "metadata": {
        "colab": {
          "base_uri": "https://localhost:8080/"
        },
        "id": "Sfh1e9t_-6iq",
        "outputId": "43999fce-6959-43ff-9c09-81675ad67ff3"
      },
      "execution_count": null,
      "outputs": [
        {
          "output_type": "stream",
          "name": "stdout",
          "text": [
            "P(R ≤ 25 MPa) = 0.1587\n"
          ]
        }
      ]
    },
    {
      "cell_type": "code",
      "source": [
        "# Devuelve un array con la probabilidad acumulada hasta cada valor de x.\n",
        "cdf_normal = norm.cdf(x, loc=media, scale=desvio)"
      ],
      "metadata": {
        "id": "2IW6Pl29_2Nz"
      },
      "execution_count": null,
      "outputs": []
    },
    {
      "cell_type": "code",
      "source": [
        "# Graficar la función de distribución acumulada (CDF)\n",
        "plt.figure(figsize=(8, 5))\n",
        "plt.plot(x, cdf_normal, label='Normal CDF (Acumulada)', color='orange')\n",
        "\n",
        "# Marcar la probabilidad acumulada en un punto específico (ej. 25 MPa)\n",
        "probabilidad_en_25 = norm.cdf(25, loc=media, scale=desvio)\n",
        "plt.axvline(25, color='red', linestyle='--', label='25 MPa')\n",
        "plt.axhline(probabilidad_en_25, color='green', linestyle='--',\n",
        "            label=f'P(R <= 25) = {probabilidad_en_25:.4f}')\n",
        "plt.scatter(25, probabilidad_en_25, color='red', zorder=5) # Punto en la curva\n",
        "\n",
        "plt.xlabel(\"Resistencia (MPa)\")\n",
        "plt.ylabel(\"Probabilidad acumulada\")\n",
        "plt.title(\"Distribución Acumulada de Resistencia del Hormigón\")\n",
        "plt.legend()\n",
        "plt.grid(True)\n",
        "plt.show()"
      ],
      "metadata": {
        "colab": {
          "base_uri": "https://localhost:8080/",
          "height": 488
        },
        "id": "9uAWCKJv_Nrl",
        "outputId": "d52f6565-1944-46e1-a884-0aff0d2d025d"
      },
      "execution_count": null,
      "outputs": [
        {
          "output_type": "display_data",
          "data": {
            "text/plain": [
              "<Figure size 800x500 with 1 Axes>"
            ],
            "image/png": "[encoded data removed]"
          },
          "metadata": {}
        }
      ]
    },
    {
      "cell_type": "markdown",
      "source": [
        "#### Ejemplo: Distribución de Poisson\n",
        "\n",
        "Se podria modelar la cantidad de accidentes por mes en una obra grande con una tasa promedio de 2 fallas por mes, usamos la distribución Poisson:"
      ],
      "metadata": {
        "id": "elK738lmovG6"
      }
    },
    {
      "cell_type": "code",
      "source": [
        "from scipy.stats import poisson\n",
        "\n",
        "# Parámetros del modelo\n",
        "tasa_promedio = 2   # λ = 2 accidentes por mes\n",
        "k = 3               # cantidad de accidentes\n",
        "\n",
        "# Calcular probabilidad exacta con la PMF (Probability Mass Function)\n",
        "probabilidad = poisson.pmf(k, mu=tasa_promedio)\n",
        "\n",
        "print(f\"P(ocurran 3 accidentes en un mes) = {probabilidad:.4f}\")"
      ],
      "metadata": {
        "colab": {
          "base_uri": "https://localhost:8080/"
        },
        "id": "PzKsxdA_ou8U",
        "outputId": "79ef692a-ebce-493d-8b53-2f0a5ce0f4d1"
      },
      "execution_count": null,
      "outputs": [
        {
          "output_type": "stream",
          "name": "stdout",
          "text": [
            "P(ocurran 3 accidentes en un mes) = 0.1804\n"
          ]
        }
      ]
    },
    {
      "cell_type": "code",
      "source": [
        "# Distribución de Poisson (discreta)\n",
        "x_poisson = np.arange(0, 10)\n",
        "pmf_poisson = poisson.pmf(x_poisson, tasa_promedio)\n",
        "cdf_poisson = poisson.cdf(x_poisson, tasa_promedio)\n",
        "\n",
        "plt.subplot(2, 1, 1)\n",
        "plt.bar(x_poisson, pmf_poisson, alpha=0.6,\n",
        "        label='Poisson PMF (Densidad puntual)', color='purple')\n",
        "plt.axvline(k, color='red', linestyle='--',\n",
        "            label='3 accidentes')\n",
        "plt.title('Distribución de Poisson')\n",
        "plt.legend()\n",
        "\n",
        "plt.subplot(2, 1, 2)\n",
        "plt.step(x_poisson, cdf_poisson, where='mid',\n",
        "         label='Poisson CDF (Acumulada)', color='brown')\n",
        "plt.legend()\n",
        "\n",
        "plt.tight_layout()\n",
        "plt.show()"
      ],
      "metadata": {
        "colab": {
          "base_uri": "https://localhost:8080/",
          "height": 486
        },
        "id": "b-GjZIEAo6Gg",
        "outputId": "8be12cef-f4fa-4272-a978-42c97c8b2e15"
      },
      "execution_count": null,
      "outputs": [
        {
          "output_type": "display_data",
          "data": {
            "text/plain": [
              "<Figure size 640x480 with 2 Axes>"
            ],
            "image/png": "[encoded data removed]"
          },
          "metadata": {}
        }
      ]
    }
  ]
}